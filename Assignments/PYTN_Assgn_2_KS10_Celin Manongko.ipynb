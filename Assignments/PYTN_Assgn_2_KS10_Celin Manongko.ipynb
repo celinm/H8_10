{
 "cells": [
  {
   "cell_type": "markdown",
   "metadata": {},
   "source": [
    "# __New York Property Sales__"
   ]
  },
  {
   "cell_type": "markdown",
   "metadata": {},
   "source": [
    "Import Libraries yang dibutuhkan"
   ]
  },
  {
   "cell_type": "code",
   "execution_count": 33,
   "metadata": {},
   "outputs": [],
   "source": [
    "import math\n",
    "import scipy.stats as stats\n",
    "import numpy as np\n",
    "import pandas as pd\n",
    "import seaborn as sns\n",
    "import statsmodels.api as sm\n",
    "import matplotlib.pyplot as plt\n",
    "%matplotlib inline"
   ]
  },
  {
   "cell_type": "markdown",
   "metadata": {},
   "source": [
    "## Dataset"
   ]
  },
  {
   "cell_type": "markdown",
   "metadata": {},
   "source": [
    "Baca dataset"
   ]
  },
  {
   "cell_type": "code",
   "execution_count": 34,
   "metadata": {},
   "outputs": [
    {
     "data": {
      "text/html": [
       "<div>\n",
       "<style scoped>\n",
       "    .dataframe tbody tr th:only-of-type {\n",
       "        vertical-align: middle;\n",
       "    }\n",
       "\n",
       "    .dataframe tbody tr th {\n",
       "        vertical-align: top;\n",
       "    }\n",
       "\n",
       "    .dataframe thead th {\n",
       "        text-align: right;\n",
       "    }\n",
       "</style>\n",
       "<table border=\"1\" class=\"dataframe\">\n",
       "  <thead>\n",
       "    <tr style=\"text-align: right;\">\n",
       "      <th></th>\n",
       "      <th>Unnamed: 0</th>\n",
       "      <th>BOROUGH</th>\n",
       "      <th>NEIGHBORHOOD</th>\n",
       "      <th>BUILDING CLASS CATEGORY</th>\n",
       "      <th>TAX CLASS AT PRESENT</th>\n",
       "      <th>BLOCK</th>\n",
       "      <th>LOT</th>\n",
       "      <th>EASE-MENT</th>\n",
       "      <th>BUILDING CLASS AT PRESENT</th>\n",
       "      <th>ADDRESS</th>\n",
       "      <th>...</th>\n",
       "      <th>RESIDENTIAL UNITS</th>\n",
       "      <th>COMMERCIAL UNITS</th>\n",
       "      <th>TOTAL UNITS</th>\n",
       "      <th>LAND SQUARE FEET</th>\n",
       "      <th>GROSS SQUARE FEET</th>\n",
       "      <th>YEAR BUILT</th>\n",
       "      <th>TAX CLASS AT TIME OF SALE</th>\n",
       "      <th>BUILDING CLASS AT TIME OF SALE</th>\n",
       "      <th>SALE PRICE</th>\n",
       "      <th>SALE DATE</th>\n",
       "    </tr>\n",
       "  </thead>\n",
       "  <tbody>\n",
       "    <tr>\n",
       "      <th>0</th>\n",
       "      <td>4</td>\n",
       "      <td>1</td>\n",
       "      <td>ALPHABET CITY</td>\n",
       "      <td>07 RENTALS - WALKUP APARTMENTS</td>\n",
       "      <td>2A</td>\n",
       "      <td>392</td>\n",
       "      <td>6</td>\n",
       "      <td></td>\n",
       "      <td>C2</td>\n",
       "      <td>153 AVENUE B</td>\n",
       "      <td>...</td>\n",
       "      <td>5</td>\n",
       "      <td>0</td>\n",
       "      <td>5</td>\n",
       "      <td>1633</td>\n",
       "      <td>6440</td>\n",
       "      <td>1900</td>\n",
       "      <td>2</td>\n",
       "      <td>C2</td>\n",
       "      <td>6625000</td>\n",
       "      <td>2017-07-19 00:00:00</td>\n",
       "    </tr>\n",
       "    <tr>\n",
       "      <th>1</th>\n",
       "      <td>5</td>\n",
       "      <td>1</td>\n",
       "      <td>ALPHABET CITY</td>\n",
       "      <td>07 RENTALS - WALKUP APARTMENTS</td>\n",
       "      <td>2</td>\n",
       "      <td>399</td>\n",
       "      <td>26</td>\n",
       "      <td></td>\n",
       "      <td>C7</td>\n",
       "      <td>234 EAST 4TH   STREET</td>\n",
       "      <td>...</td>\n",
       "      <td>28</td>\n",
       "      <td>3</td>\n",
       "      <td>31</td>\n",
       "      <td>4616</td>\n",
       "      <td>18690</td>\n",
       "      <td>1900</td>\n",
       "      <td>2</td>\n",
       "      <td>C7</td>\n",
       "      <td>-</td>\n",
       "      <td>2016-12-14 00:00:00</td>\n",
       "    </tr>\n",
       "    <tr>\n",
       "      <th>2</th>\n",
       "      <td>6</td>\n",
       "      <td>1</td>\n",
       "      <td>ALPHABET CITY</td>\n",
       "      <td>07 RENTALS - WALKUP APARTMENTS</td>\n",
       "      <td>2</td>\n",
       "      <td>399</td>\n",
       "      <td>39</td>\n",
       "      <td></td>\n",
       "      <td>C7</td>\n",
       "      <td>197 EAST 3RD   STREET</td>\n",
       "      <td>...</td>\n",
       "      <td>16</td>\n",
       "      <td>1</td>\n",
       "      <td>17</td>\n",
       "      <td>2212</td>\n",
       "      <td>7803</td>\n",
       "      <td>1900</td>\n",
       "      <td>2</td>\n",
       "      <td>C7</td>\n",
       "      <td>-</td>\n",
       "      <td>2016-12-09 00:00:00</td>\n",
       "    </tr>\n",
       "    <tr>\n",
       "      <th>3</th>\n",
       "      <td>7</td>\n",
       "      <td>1</td>\n",
       "      <td>ALPHABET CITY</td>\n",
       "      <td>07 RENTALS - WALKUP APARTMENTS</td>\n",
       "      <td>2B</td>\n",
       "      <td>402</td>\n",
       "      <td>21</td>\n",
       "      <td></td>\n",
       "      <td>C4</td>\n",
       "      <td>154 EAST 7TH STREET</td>\n",
       "      <td>...</td>\n",
       "      <td>10</td>\n",
       "      <td>0</td>\n",
       "      <td>10</td>\n",
       "      <td>2272</td>\n",
       "      <td>6794</td>\n",
       "      <td>1913</td>\n",
       "      <td>2</td>\n",
       "      <td>C4</td>\n",
       "      <td>3936272</td>\n",
       "      <td>2016-09-23 00:00:00</td>\n",
       "    </tr>\n",
       "    <tr>\n",
       "      <th>4</th>\n",
       "      <td>8</td>\n",
       "      <td>1</td>\n",
       "      <td>ALPHABET CITY</td>\n",
       "      <td>07 RENTALS - WALKUP APARTMENTS</td>\n",
       "      <td>2A</td>\n",
       "      <td>404</td>\n",
       "      <td>55</td>\n",
       "      <td></td>\n",
       "      <td>C2</td>\n",
       "      <td>301 EAST 10TH   STREET</td>\n",
       "      <td>...</td>\n",
       "      <td>6</td>\n",
       "      <td>0</td>\n",
       "      <td>6</td>\n",
       "      <td>2369</td>\n",
       "      <td>4615</td>\n",
       "      <td>1900</td>\n",
       "      <td>2</td>\n",
       "      <td>C2</td>\n",
       "      <td>8000000</td>\n",
       "      <td>2016-11-17 00:00:00</td>\n",
       "    </tr>\n",
       "  </tbody>\n",
       "</table>\n",
       "<p>5 rows × 22 columns</p>\n",
       "</div>"
      ],
      "text/plain": [
       "   Unnamed: 0  BOROUGH   NEIGHBORHOOD  \\\n",
       "0           4        1  ALPHABET CITY   \n",
       "1           5        1  ALPHABET CITY   \n",
       "2           6        1  ALPHABET CITY   \n",
       "3           7        1  ALPHABET CITY   \n",
       "4           8        1  ALPHABET CITY   \n",
       "\n",
       "                       BUILDING CLASS CATEGORY TAX CLASS AT PRESENT  BLOCK  \\\n",
       "0  07 RENTALS - WALKUP APARTMENTS                                2A    392   \n",
       "1  07 RENTALS - WALKUP APARTMENTS                                 2    399   \n",
       "2  07 RENTALS - WALKUP APARTMENTS                                 2    399   \n",
       "3  07 RENTALS - WALKUP APARTMENTS                                2B    402   \n",
       "4  07 RENTALS - WALKUP APARTMENTS                                2A    404   \n",
       "\n",
       "   LOT EASE-MENT BUILDING CLASS AT PRESENT                 ADDRESS  ...  \\\n",
       "0    6                                  C2            153 AVENUE B  ...   \n",
       "1   26                                  C7   234 EAST 4TH   STREET  ...   \n",
       "2   39                                  C7   197 EAST 3RD   STREET  ...   \n",
       "3   21                                  C4     154 EAST 7TH STREET  ...   \n",
       "4   55                                  C2  301 EAST 10TH   STREET  ...   \n",
       "\n",
       "  RESIDENTIAL UNITS  COMMERCIAL UNITS  TOTAL UNITS  LAND SQUARE FEET  \\\n",
       "0                 5                 0            5              1633   \n",
       "1                28                 3           31              4616   \n",
       "2                16                 1           17              2212   \n",
       "3                10                 0           10              2272   \n",
       "4                 6                 0            6              2369   \n",
       "\n",
       "   GROSS SQUARE FEET YEAR BUILT TAX CLASS AT TIME OF SALE  \\\n",
       "0               6440       1900                         2   \n",
       "1              18690       1900                         2   \n",
       "2               7803       1900                         2   \n",
       "3               6794       1913                         2   \n",
       "4               4615       1900                         2   \n",
       "\n",
       "   BUILDING CLASS AT TIME OF SALE  SALE PRICE            SALE DATE  \n",
       "0                              C2     6625000  2017-07-19 00:00:00  \n",
       "1                              C7         -    2016-12-14 00:00:00  \n",
       "2                              C7         -    2016-12-09 00:00:00  \n",
       "3                              C4     3936272  2016-09-23 00:00:00  \n",
       "4                              C2     8000000  2016-11-17 00:00:00  \n",
       "\n",
       "[5 rows x 22 columns]"
      ]
     },
     "execution_count": 34,
     "metadata": {},
     "output_type": "execute_result"
    }
   ],
   "source": [
    "df_nyc = pd.read_csv(\"nyc rolling sales.csv\")\n",
    "df_nyc.head()"
   ]
  },
  {
   "cell_type": "markdown",
   "metadata": {},
   "source": [
    "# Data preprocessing"
   ]
  },
  {
   "cell_type": "markdown",
   "metadata": {},
   "source": [
    "Memeriksa tipe data dan jumlah data non-null setiap kolom"
   ]
  },
  {
   "cell_type": "code",
   "execution_count": 35,
   "metadata": {},
   "outputs": [
    {
     "name": "stdout",
     "output_type": "stream",
     "text": [
      "<class 'pandas.core.frame.DataFrame'>\n",
      "RangeIndex: 84548 entries, 0 to 84547\n",
      "Data columns (total 22 columns):\n",
      " #   Column                          Non-Null Count  Dtype \n",
      "---  ------                          --------------  ----- \n",
      " 0   Unnamed: 0                      84548 non-null  int64 \n",
      " 1   BOROUGH                         84548 non-null  int64 \n",
      " 2   NEIGHBORHOOD                    84548 non-null  object\n",
      " 3   BUILDING CLASS CATEGORY         84548 non-null  object\n",
      " 4   TAX CLASS AT PRESENT            84548 non-null  object\n",
      " 5   BLOCK                           84548 non-null  int64 \n",
      " 6   LOT                             84548 non-null  int64 \n",
      " 7   EASE-MENT                       84548 non-null  object\n",
      " 8   BUILDING CLASS AT PRESENT       84548 non-null  object\n",
      " 9   ADDRESS                         84548 non-null  object\n",
      " 10  APARTMENT NUMBER                84548 non-null  object\n",
      " 11  ZIP CODE                        84548 non-null  int64 \n",
      " 12  RESIDENTIAL UNITS               84548 non-null  int64 \n",
      " 13  COMMERCIAL UNITS                84548 non-null  int64 \n",
      " 14  TOTAL UNITS                     84548 non-null  int64 \n",
      " 15  LAND SQUARE FEET                84548 non-null  object\n",
      " 16  GROSS SQUARE FEET               84548 non-null  object\n",
      " 17  YEAR BUILT                      84548 non-null  int64 \n",
      " 18  TAX CLASS AT TIME OF SALE       84548 non-null  int64 \n",
      " 19  BUILDING CLASS AT TIME OF SALE  84548 non-null  object\n",
      " 20  SALE PRICE                      84548 non-null  object\n",
      " 21  SALE DATE                       84548 non-null  object\n",
      "dtypes: int64(10), object(12)\n",
      "memory usage: 14.2+ MB\n"
     ]
    }
   ],
   "source": [
    "df_nyc.info()"
   ]
  },
  {
   "cell_type": "markdown",
   "metadata": {},
   "source": [
    "Mengubah kolom object menjadi category"
   ]
  },
  {
   "cell_type": "code",
   "execution_count": 36,
   "metadata": {},
   "outputs": [],
   "source": [
    "categorical = ['BOROUGH', 'NEIGHBORHOOD', 'BUILDING CLASS CATEGORY', 'TAX CLASS AT PRESENT', 'ZIP CODE', \n",
    "               'YEAR BUILT', 'TAX CLASS AT TIME OF SALE', 'BUILDING CLASS AT TIME OF SALE', 'BUILDING CLASS AT PRESENT']\n",
    "\n",
    "for col in categorical:\n",
    "    df_nyc[col] = df_nyc[col].astype('category')"
   ]
  },
  {
   "cell_type": "markdown",
   "metadata": {},
   "source": [
    "Mengubah kolom SALE PRICE, LAND SQUARE FEET, GROSS SQUARE FEET menjadi numerik"
   ]
  },
  {
   "cell_type": "code",
   "execution_count": 37,
   "metadata": {},
   "outputs": [],
   "source": [
    "floats = ['SALE PRICE', 'LAND SQUARE FEET', 'GROSS SQUARE FEET']\n",
    "\n",
    "for col in floats:\n",
    "    df_nyc[col]=pd.to_numeric(df_nyc[col], errors='coerce')"
   ]
  },
  {
   "cell_type": "markdown",
   "metadata": {},
   "source": [
    "Mengubah SALE DATE menjadi tipe data datetime"
   ]
  },
  {
   "cell_type": "code",
   "execution_count": 38,
   "metadata": {},
   "outputs": [],
   "source": [
    "df_nyc['SALE DATE']= pd.to_datetime(df_nyc['SALE DATE'], errors='coerce')"
   ]
  },
  {
   "cell_type": "markdown",
   "metadata": {},
   "source": [
    "Memeriksa kembali tipe data yang telah diubah"
   ]
  },
  {
   "cell_type": "code",
   "execution_count": 39,
   "metadata": {},
   "outputs": [
    {
     "name": "stdout",
     "output_type": "stream",
     "text": [
      "<class 'pandas.core.frame.DataFrame'>\n",
      "RangeIndex: 84548 entries, 0 to 84547\n",
      "Data columns (total 22 columns):\n",
      " #   Column                          Non-Null Count  Dtype         \n",
      "---  ------                          --------------  -----         \n",
      " 0   Unnamed: 0                      84548 non-null  int64         \n",
      " 1   BOROUGH                         84548 non-null  category      \n",
      " 2   NEIGHBORHOOD                    84548 non-null  category      \n",
      " 3   BUILDING CLASS CATEGORY         84548 non-null  category      \n",
      " 4   TAX CLASS AT PRESENT            84548 non-null  category      \n",
      " 5   BLOCK                           84548 non-null  int64         \n",
      " 6   LOT                             84548 non-null  int64         \n",
      " 7   EASE-MENT                       84548 non-null  object        \n",
      " 8   BUILDING CLASS AT PRESENT       84548 non-null  category      \n",
      " 9   ADDRESS                         84548 non-null  object        \n",
      " 10  APARTMENT NUMBER                84548 non-null  object        \n",
      " 11  ZIP CODE                        84548 non-null  category      \n",
      " 12  RESIDENTIAL UNITS               84548 non-null  int64         \n",
      " 13  COMMERCIAL UNITS                84548 non-null  int64         \n",
      " 14  TOTAL UNITS                     84548 non-null  int64         \n",
      " 15  LAND SQUARE FEET                58296 non-null  float64       \n",
      " 16  GROSS SQUARE FEET               56936 non-null  float64       \n",
      " 17  YEAR BUILT                      84548 non-null  category      \n",
      " 18  TAX CLASS AT TIME OF SALE       84548 non-null  category      \n",
      " 19  BUILDING CLASS AT TIME OF SALE  84548 non-null  category      \n",
      " 20  SALE PRICE                      69987 non-null  float64       \n",
      " 21  SALE DATE                       84548 non-null  datetime64[ns]\n",
      "dtypes: category(9), datetime64[ns](1), float64(3), int64(6), object(3)\n",
      "memory usage: 9.5+ MB\n"
     ]
    }
   ],
   "source": [
    "df_nyc.info()"
   ]
  },
  {
   "cell_type": "markdown",
   "metadata": {},
   "source": [
    "Menghapus kolom yang tidak diperlukan"
   ]
  },
  {
   "cell_type": "code",
   "execution_count": 40,
   "metadata": {},
   "outputs": [],
   "source": [
    "df_nyc.drop(columns = ['Unnamed: 0', 'EASE-MENT', 'APARTMENT NUMBER', 'ADDRESS'], inplace=True)"
   ]
  },
  {
   "cell_type": "markdown",
   "metadata": {},
   "source": [
    "Menghitung missing value pada tiap kolom"
   ]
  },
  {
   "cell_type": "code",
   "execution_count": 41,
   "metadata": {},
   "outputs": [
    {
     "data": {
      "text/plain": [
       "BOROUGH                               0\n",
       "NEIGHBORHOOD                          0\n",
       "BUILDING CLASS CATEGORY               0\n",
       "TAX CLASS AT PRESENT                  0\n",
       "BLOCK                                 0\n",
       "LOT                                   0\n",
       "BUILDING CLASS AT PRESENT             0\n",
       "ZIP CODE                              0\n",
       "RESIDENTIAL UNITS                     0\n",
       "COMMERCIAL UNITS                      0\n",
       "TOTAL UNITS                           0\n",
       "LAND SQUARE FEET                  26252\n",
       "GROSS SQUARE FEET                 27612\n",
       "YEAR BUILT                            0\n",
       "TAX CLASS AT TIME OF SALE             0\n",
       "BUILDING CLASS AT TIME OF SALE        0\n",
       "SALE PRICE                        14561\n",
       "SALE DATE                             0\n",
       "dtype: int64"
      ]
     },
     "execution_count": 41,
     "metadata": {},
     "output_type": "execute_result"
    }
   ],
   "source": [
    "df_nyc.isnull().sum()"
   ]
  },
  {
   "cell_type": "markdown",
   "metadata": {},
   "source": [
    "Mengidentifikasi kolom yang masih memiliki missing value dan mengetahui presentase missing value pada tiap kolom"
   ]
  },
  {
   "cell_type": "code",
   "execution_count": 42,
   "metadata": {},
   "outputs": [
    {
     "data": {
      "text/plain": [
       "BOROUGH                            0.000000\n",
       "NEIGHBORHOOD                       0.000000\n",
       "BUILDING CLASS CATEGORY            0.000000\n",
       "TAX CLASS AT PRESENT               0.872877\n",
       "BLOCK                              0.000000\n",
       "LOT                                0.000000\n",
       "BUILDING CLASS AT PRESENT          0.872877\n",
       "ZIP CODE                           0.000000\n",
       "RESIDENTIAL UNITS                  0.000000\n",
       "COMMERCIAL UNITS                   0.000000\n",
       "TOTAL UNITS                        0.000000\n",
       "LAND SQUARE FEET                  31.049818\n",
       "GROSS SQUARE FEET                 32.658372\n",
       "YEAR BUILT                         0.000000\n",
       "TAX CLASS AT TIME OF SALE          0.000000\n",
       "BUILDING CLASS AT TIME OF SALE     0.000000\n",
       "SALE PRICE                        17.222170\n",
       "SALE DATE                          0.000000\n",
       "dtype: float64"
      ]
     },
     "execution_count": 42,
     "metadata": {},
     "output_type": "execute_result"
    }
   ],
   "source": [
    "df_nyc.replace(' ', np.nan, inplace=True)\n",
    "df_nyc.isnull().sum() /len(df_nyc) *100"
   ]
  },
  {
   "cell_type": "markdown",
   "metadata": {},
   "source": [
    "Mengganti missing value pada kolom TAX CLASS AT PRESENT dan BUILDING CLASS AT PRESENT dengan nilai modusnya"
   ]
  },
  {
   "cell_type": "code",
   "execution_count": 43,
   "metadata": {},
   "outputs": [],
   "source": [
    "category_col = ['TAX CLASS AT PRESENT', 'BUILDING CLASS AT PRESENT']\n",
    "for cat in category_col:\n",
    "    df_nyc[cat].fillna(df_nyc[cat].mode()[0], inplace=True)"
   ]
  },
  {
   "cell_type": "markdown",
   "metadata": {},
   "source": [
    "Mengganti missing value pada kolom numerik dengan nilai mediannya"
   ]
  },
  {
   "cell_type": "code",
   "execution_count": 44,
   "metadata": {},
   "outputs": [],
   "source": [
    "float_col = ['LAND SQUARE FEET', 'GROSS SQUARE FEET']\n",
    "for flo in float_col:\n",
    "    df_nyc[flo].fillna(df_nyc[flo].median(), inplace=True)"
   ]
  },
  {
   "cell_type": "markdown",
   "metadata": {},
   "source": [
    "Membuang semua sisa missing value"
   ]
  },
  {
   "cell_type": "code",
   "execution_count": 45,
   "metadata": {},
   "outputs": [],
   "source": [
    "df_nyc.dropna(inplace=True)"
   ]
  },
  {
   "cell_type": "markdown",
   "metadata": {},
   "source": [
    "Memeriksa jumlah data yang duplikat"
   ]
  },
  {
   "cell_type": "code",
   "execution_count": 46,
   "metadata": {},
   "outputs": [
    {
     "data": {
      "text/plain": [
       "469"
      ]
     },
     "execution_count": 46,
     "metadata": {},
     "output_type": "execute_result"
    }
   ],
   "source": [
    "sum(df_nyc.duplicated())"
   ]
  },
  {
   "cell_type": "markdown",
   "metadata": {},
   "source": [
    "Membuang data yang duplikat"
   ]
  },
  {
   "cell_type": "code",
   "execution_count": 47,
   "metadata": {},
   "outputs": [],
   "source": [
    "df_nyc.drop_duplicates(subset=df_nyc.columns, keep='first', inplace=True)"
   ]
  },
  {
   "cell_type": "markdown",
   "metadata": {},
   "source": [
    "Memeriksa kembali jumlah data non-null dan tipe data setiap kolom"
   ]
  },
  {
   "cell_type": "code",
   "execution_count": 48,
   "metadata": {},
   "outputs": [
    {
     "name": "stdout",
     "output_type": "stream",
     "text": [
      "<class 'pandas.core.frame.DataFrame'>\n",
      "Int64Index: 69518 entries, 0 to 84547\n",
      "Data columns (total 18 columns):\n",
      " #   Column                          Non-Null Count  Dtype         \n",
      "---  ------                          --------------  -----         \n",
      " 0   BOROUGH                         69518 non-null  category      \n",
      " 1   NEIGHBORHOOD                    69518 non-null  category      \n",
      " 2   BUILDING CLASS CATEGORY         69518 non-null  category      \n",
      " 3   TAX CLASS AT PRESENT            69518 non-null  category      \n",
      " 4   BLOCK                           69518 non-null  int64         \n",
      " 5   LOT                             69518 non-null  int64         \n",
      " 6   BUILDING CLASS AT PRESENT       69518 non-null  category      \n",
      " 7   ZIP CODE                        69518 non-null  category      \n",
      " 8   RESIDENTIAL UNITS               69518 non-null  int64         \n",
      " 9   COMMERCIAL UNITS                69518 non-null  int64         \n",
      " 10  TOTAL UNITS                     69518 non-null  int64         \n",
      " 11  LAND SQUARE FEET                69518 non-null  float64       \n",
      " 12  GROSS SQUARE FEET               69518 non-null  float64       \n",
      " 13  YEAR BUILT                      69518 non-null  category      \n",
      " 14  TAX CLASS AT TIME OF SALE       69518 non-null  category      \n",
      " 15  BUILDING CLASS AT TIME OF SALE  69518 non-null  category      \n",
      " 16  SALE PRICE                      69518 non-null  float64       \n",
      " 17  SALE DATE                       69518 non-null  datetime64[ns]\n",
      "dtypes: category(9), datetime64[ns](1), float64(3), int64(5)\n",
      "memory usage: 6.3 MB\n"
     ]
    }
   ],
   "source": [
    "df_nyc.info()"
   ]
  },
  {
   "cell_type": "markdown",
   "metadata": {},
   "source": [
    "Mengubah kolom BOROUGH dengan nama kategori"
   ]
  },
  {
   "cell_type": "code",
   "execution_count": 49,
   "metadata": {},
   "outputs": [],
   "source": [
    "df_nyc['BOROUGH'].replace({1:'Manhattan', 2:'Bronx', 3:'Brooklyn', 4:'Queens', 5:'Staten Island'}, inplace=True)"
   ]
  },
  {
   "cell_type": "markdown",
   "metadata": {},
   "source": [
    "Mengatur kembali index dataframe"
   ]
  },
  {
   "cell_type": "code",
   "execution_count": 50,
   "metadata": {},
   "outputs": [],
   "source": [
    "df_nyc.index = range(0,len(df_nyc))"
   ]
  },
  {
   "cell_type": "code",
   "execution_count": 51,
   "metadata": {},
   "outputs": [
    {
     "data": {
      "text/html": [
       "<div>\n",
       "<style scoped>\n",
       "    .dataframe tbody tr th:only-of-type {\n",
       "        vertical-align: middle;\n",
       "    }\n",
       "\n",
       "    .dataframe tbody tr th {\n",
       "        vertical-align: top;\n",
       "    }\n",
       "\n",
       "    .dataframe thead th {\n",
       "        text-align: right;\n",
       "    }\n",
       "</style>\n",
       "<table border=\"1\" class=\"dataframe\">\n",
       "  <thead>\n",
       "    <tr style=\"text-align: right;\">\n",
       "      <th></th>\n",
       "      <th>BOROUGH</th>\n",
       "      <th>NEIGHBORHOOD</th>\n",
       "      <th>BUILDING CLASS CATEGORY</th>\n",
       "      <th>TAX CLASS AT PRESENT</th>\n",
       "      <th>BLOCK</th>\n",
       "      <th>LOT</th>\n",
       "      <th>BUILDING CLASS AT PRESENT</th>\n",
       "      <th>ZIP CODE</th>\n",
       "      <th>RESIDENTIAL UNITS</th>\n",
       "      <th>COMMERCIAL UNITS</th>\n",
       "      <th>TOTAL UNITS</th>\n",
       "      <th>LAND SQUARE FEET</th>\n",
       "      <th>GROSS SQUARE FEET</th>\n",
       "      <th>YEAR BUILT</th>\n",
       "      <th>TAX CLASS AT TIME OF SALE</th>\n",
       "      <th>BUILDING CLASS AT TIME OF SALE</th>\n",
       "      <th>SALE PRICE</th>\n",
       "      <th>SALE DATE</th>\n",
       "    </tr>\n",
       "  </thead>\n",
       "  <tbody>\n",
       "    <tr>\n",
       "      <th>0</th>\n",
       "      <td>Manhattan</td>\n",
       "      <td>ALPHABET CITY</td>\n",
       "      <td>07 RENTALS - WALKUP APARTMENTS</td>\n",
       "      <td>2A</td>\n",
       "      <td>392</td>\n",
       "      <td>6</td>\n",
       "      <td>C2</td>\n",
       "      <td>10009</td>\n",
       "      <td>5</td>\n",
       "      <td>0</td>\n",
       "      <td>5</td>\n",
       "      <td>1633.0</td>\n",
       "      <td>6440.0</td>\n",
       "      <td>1900</td>\n",
       "      <td>2</td>\n",
       "      <td>C2</td>\n",
       "      <td>6625000.0</td>\n",
       "      <td>2017-07-19</td>\n",
       "    </tr>\n",
       "    <tr>\n",
       "      <th>1</th>\n",
       "      <td>Manhattan</td>\n",
       "      <td>ALPHABET CITY</td>\n",
       "      <td>07 RENTALS - WALKUP APARTMENTS</td>\n",
       "      <td>2B</td>\n",
       "      <td>402</td>\n",
       "      <td>21</td>\n",
       "      <td>C4</td>\n",
       "      <td>10009</td>\n",
       "      <td>10</td>\n",
       "      <td>0</td>\n",
       "      <td>10</td>\n",
       "      <td>2272.0</td>\n",
       "      <td>6794.0</td>\n",
       "      <td>1913</td>\n",
       "      <td>2</td>\n",
       "      <td>C4</td>\n",
       "      <td>3936272.0</td>\n",
       "      <td>2016-09-23</td>\n",
       "    </tr>\n",
       "    <tr>\n",
       "      <th>2</th>\n",
       "      <td>Manhattan</td>\n",
       "      <td>ALPHABET CITY</td>\n",
       "      <td>07 RENTALS - WALKUP APARTMENTS</td>\n",
       "      <td>2A</td>\n",
       "      <td>404</td>\n",
       "      <td>55</td>\n",
       "      <td>C2</td>\n",
       "      <td>10009</td>\n",
       "      <td>6</td>\n",
       "      <td>0</td>\n",
       "      <td>6</td>\n",
       "      <td>2369.0</td>\n",
       "      <td>4615.0</td>\n",
       "      <td>1900</td>\n",
       "      <td>2</td>\n",
       "      <td>C2</td>\n",
       "      <td>8000000.0</td>\n",
       "      <td>2016-11-17</td>\n",
       "    </tr>\n",
       "    <tr>\n",
       "      <th>3</th>\n",
       "      <td>Manhattan</td>\n",
       "      <td>ALPHABET CITY</td>\n",
       "      <td>07 RENTALS - WALKUP APARTMENTS</td>\n",
       "      <td>2B</td>\n",
       "      <td>406</td>\n",
       "      <td>32</td>\n",
       "      <td>C4</td>\n",
       "      <td>10009</td>\n",
       "      <td>8</td>\n",
       "      <td>0</td>\n",
       "      <td>8</td>\n",
       "      <td>1750.0</td>\n",
       "      <td>4226.0</td>\n",
       "      <td>1920</td>\n",
       "      <td>2</td>\n",
       "      <td>C4</td>\n",
       "      <td>3192840.0</td>\n",
       "      <td>2016-09-23</td>\n",
       "    </tr>\n",
       "    <tr>\n",
       "      <th>4</th>\n",
       "      <td>Manhattan</td>\n",
       "      <td>ALPHABET CITY</td>\n",
       "      <td>08 RENTALS - ELEVATOR APARTMENTS</td>\n",
       "      <td>2</td>\n",
       "      <td>387</td>\n",
       "      <td>153</td>\n",
       "      <td>D9</td>\n",
       "      <td>10009</td>\n",
       "      <td>24</td>\n",
       "      <td>0</td>\n",
       "      <td>24</td>\n",
       "      <td>4489.0</td>\n",
       "      <td>18523.0</td>\n",
       "      <td>1920</td>\n",
       "      <td>2</td>\n",
       "      <td>D9</td>\n",
       "      <td>16232000.0</td>\n",
       "      <td>2016-11-07</td>\n",
       "    </tr>\n",
       "  </tbody>\n",
       "</table>\n",
       "</div>"
      ],
      "text/plain": [
       "     BOROUGH   NEIGHBORHOOD                      BUILDING CLASS CATEGORY  \\\n",
       "0  Manhattan  ALPHABET CITY  07 RENTALS - WALKUP APARTMENTS                \n",
       "1  Manhattan  ALPHABET CITY  07 RENTALS - WALKUP APARTMENTS                \n",
       "2  Manhattan  ALPHABET CITY  07 RENTALS - WALKUP APARTMENTS                \n",
       "3  Manhattan  ALPHABET CITY  07 RENTALS - WALKUP APARTMENTS                \n",
       "4  Manhattan  ALPHABET CITY  08 RENTALS - ELEVATOR APARTMENTS              \n",
       "\n",
       "  TAX CLASS AT PRESENT  BLOCK  LOT BUILDING CLASS AT PRESENT ZIP CODE  \\\n",
       "0                   2A    392    6                        C2    10009   \n",
       "1                   2B    402   21                        C4    10009   \n",
       "2                   2A    404   55                        C2    10009   \n",
       "3                   2B    406   32                        C4    10009   \n",
       "4                    2    387  153                        D9    10009   \n",
       "\n",
       "   RESIDENTIAL UNITS  COMMERCIAL UNITS  TOTAL UNITS  LAND SQUARE FEET  \\\n",
       "0                  5                 0            5            1633.0   \n",
       "1                 10                 0           10            2272.0   \n",
       "2                  6                 0            6            2369.0   \n",
       "3                  8                 0            8            1750.0   \n",
       "4                 24                 0           24            4489.0   \n",
       "\n",
       "   GROSS SQUARE FEET YEAR BUILT TAX CLASS AT TIME OF SALE  \\\n",
       "0             6440.0       1900                         2   \n",
       "1             6794.0       1913                         2   \n",
       "2             4615.0       1900                         2   \n",
       "3             4226.0       1920                         2   \n",
       "4            18523.0       1920                         2   \n",
       "\n",
       "  BUILDING CLASS AT TIME OF SALE  SALE PRICE  SALE DATE  \n",
       "0                             C2   6625000.0 2017-07-19  \n",
       "1                             C4   3936272.0 2016-09-23  \n",
       "2                             C2   8000000.0 2016-11-17  \n",
       "3                             C4   3192840.0 2016-09-23  \n",
       "4                             D9  16232000.0 2016-11-07  "
      ]
     },
     "execution_count": 51,
     "metadata": {},
     "output_type": "execute_result"
    }
   ],
   "source": [
    "df_nyc.head()"
   ]
  },
  {
   "cell_type": "markdown",
   "metadata": {},
   "source": [
    "# Measure of Central Tendency"
   ]
  },
  {
   "cell_type": "markdown",
   "metadata": {},
   "source": [
    "### Mean"
   ]
  },
  {
   "cell_type": "code",
   "execution_count": 52,
   "metadata": {},
   "outputs": [
    {
     "name": "stdout",
     "output_type": "stream",
     "text": [
      "Mean dari SALE PRICE adalah 1281949.7081475302\n"
     ]
    }
   ],
   "source": [
    "print(f\"Mean dari SALE PRICE adalah {df_nyc['SALE PRICE'].mean()}\")"
   ]
  },
  {
   "cell_type": "markdown",
   "metadata": {},
   "source": [
    "### Median"
   ]
  },
  {
   "cell_type": "code",
   "execution_count": 53,
   "metadata": {},
   "outputs": [
    {
     "name": "stdout",
     "output_type": "stream",
     "text": [
      "Median dari LAND SQUARE FEET adalah 2325.0\n",
      "Median dari GROSS SQUARE FEET adalah 1680.0\n"
     ]
    }
   ],
   "source": [
    "for col in float_col:\n",
    "    median = df_nyc[col].median()\n",
    "    print(\"Median dari \" + col + \" adalah\", median)"
   ]
  },
  {
   "cell_type": "markdown",
   "metadata": {},
   "source": [
    "### Modus"
   ]
  },
  {
   "cell_type": "code",
   "execution_count": 54,
   "metadata": {},
   "outputs": [
    {
     "name": "stdout",
     "output_type": "stream",
     "text": [
      "Modus dari TAX CLASS AT PRESENT adalah 1\n",
      "Modus dari BUILDING CLASS AT PRESENT adalah D4\n"
     ]
    }
   ],
   "source": [
    "for col in category_col:\n",
    "    modus = df_nyc[col].mode()[0]\n",
    "    print(\"Modus dari \" + col + \" adalah\", modus)"
   ]
  },
  {
   "cell_type": "markdown",
   "metadata": {},
   "source": [
    "---"
   ]
  },
  {
   "cell_type": "markdown",
   "metadata": {},
   "source": [
    "# Measure of Spread"
   ]
  },
  {
   "cell_type": "markdown",
   "metadata": {},
   "source": [
    "### Range"
   ]
  },
  {
   "cell_type": "code",
   "execution_count": 55,
   "metadata": {},
   "outputs": [
    {
     "name": "stdout",
     "output_type": "stream",
     "text": [
      "Range dari LAND SQUARE FEET adalah 4252327.0\n",
      "Range dari GROSS SQUARE FEET adalah 3750565.0\n",
      "Range dari SALE PRICE adalah 2210000000.0\n"
     ]
    }
   ],
   "source": [
    "lgs = ['LAND SQUARE FEET', 'GROSS SQUARE FEET', 'SALE PRICE']\n",
    "for col in lgs:\n",
    "    maximum = df_nyc[col].max()\n",
    "    minumum = df_nyc[col].min()\n",
    "    rangelgs = maximum - minumum\n",
    "    print(\"Range dari \" + col + \" adalah\", rangelgs)"
   ]
  },
  {
   "cell_type": "markdown",
   "metadata": {},
   "source": [
    "### Variance"
   ]
  },
  {
   "cell_type": "code",
   "execution_count": 56,
   "metadata": {},
   "outputs": [
    {
     "name": "stdout",
     "output_type": "stream",
     "text": [
      "Variance dari LAND SQUARE FEET adalah 1099860342.6057487\n",
      "Variance dari GROSS SQUARE FEET adalah 579474045.8459406\n",
      "Variance dari SALE PRICE adalah 130818550284552.52\n"
     ]
    }
   ],
   "source": [
    "for col in lgs:\n",
    "    variance = df_nyc[col].var()\n",
    "    print(\"Variance dari \" + col + \" adalah\", variance)"
   ]
  },
  {
   "cell_type": "markdown",
   "metadata": {},
   "source": [
    "### Standard Deviasi"
   ]
  },
  {
   "cell_type": "code",
   "execution_count": 57,
   "metadata": {},
   "outputs": [
    {
     "name": "stdout",
     "output_type": "stream",
     "text": [
      "Standard Deviasi dari LAND SQUARE FEET adalah 33164.14242228719\n",
      "Standard Deviasi dari GROSS SQUARE FEET adalah 24072.26715218034\n",
      "Standard Deviasi dari SALE PRICE adalah 11437593.727902409\n"
     ]
    }
   ],
   "source": [
    "for col in lgs:\n",
    "    stdeviasi = df_nyc[col].std()\n",
    "    print(\"Standard Deviasi dari \" + col + \" adalah\", stdeviasi)"
   ]
  },
  {
   "cell_type": "markdown",
   "metadata": {},
   "source": [
    "---"
   ]
  },
  {
   "cell_type": "markdown",
   "metadata": {},
   "source": [
    "# Probability Distribution"
   ]
  },
  {
   "cell_type": "markdown",
   "metadata": {},
   "source": [
    "Normal Distribution"
   ]
  },
  {
   "cell_type": "code",
   "execution_count": 58,
   "metadata": {},
   "outputs": [
    {
     "name": "stderr",
     "output_type": "stream",
     "text": [
      "c:\\Users\\user\\anaconda3\\lib\\site-packages\\seaborn\\distributions.py:2619: FutureWarning: `distplot` is a deprecated function and will be removed in a future version. Please adapt your code to use either `displot` (a figure-level function with similar flexibility) or `histplot` (an axes-level function for histograms).\n",
      "  warnings.warn(msg, FutureWarning)\n"
     ]
    },
    {
     "data": {
      "text/plain": [
       "[Text(0.5, 0, 'Distribusi'), Text(0, 0.5, 'Frequency')]"
      ]
     },
     "execution_count": 58,
     "metadata": {},
     "output_type": "execute_result"
    },
    {
     "data": {
      "image/png": "[encoded data removed]",
      "text/plain": [
       "<Figure size 432x288 with 1 Axes>"
      ]
     },
     "metadata": {
      "needs_background": "light"
     },
     "output_type": "display_data"
    }
   ],
   "source": [
    "df_sale_price = df_nyc['SALE PRICE']\n",
    "ax = sns.distplot(df_sale_price,\n",
    "                 bins=15,\n",
    "                 kde=True,\n",
    "                 hist_kws={\"linewidth\": 15, 'alpha':1})\n",
    "ax.set(xlabel='Distribusi', ylabel='Frequency')"
   ]
  },
  {
   "cell_type": "markdown",
   "metadata": {},
   "source": [
    "Dari grafik ini dapat diketahui data SALE PRICE belum berdistribusi normal"
   ]
  },
  {
   "cell_type": "markdown",
   "metadata": {},
   "source": [
    "---"
   ]
  },
  {
   "cell_type": "markdown",
   "metadata": {},
   "source": [
    "# Confidence Intervals"
   ]
  },
  {
   "cell_type": "code",
   "execution_count": 59,
   "metadata": {},
   "outputs": [],
   "source": [
    "sample_means = []\n",
    "n = 1000\n",
    "for sample in range(0,3000):\n",
    "    sample_values = np.random.choice(a=df_sale_price, size=n)\n",
    "    sample_mean = np.mean(sample_values)\n",
    "    sample_means.append(sample_mean)"
   ]
  },
  {
   "cell_type": "code",
   "execution_count": 60,
   "metadata": {},
   "outputs": [
    {
     "data": {
      "image/png": "[encoded data removed]",
      "text/plain": [
       "<Figure size 360x360 with 1 Axes>"
      ]
     },
     "metadata": {
      "needs_background": "light"
     },
     "output_type": "display_data"
    }
   ],
   "source": [
    "sns.displot(sample_means, kde=True, bins=50)\n",
    "plt.title(\"Distribusi Sampel Sale Price ($n=1000$)\", y=1.015, fontsize=12)\n",
    "plt.xlabel(\"Rata-rata Sampel Sale Price\", labelpad=14)\n",
    "plt.ylabel(\"Frekuensi\", labelpad=14);"
   ]
  },
  {
   "cell_type": "markdown",
   "metadata": {},
   "source": [
    "Dengan menggunakan Confidence Intervals, data SALE PRICE berdistribusi lebih baik walaupun belum juga berdistribusi normal."
   ]
  },
  {
   "cell_type": "code",
   "execution_count": 61,
   "metadata": {},
   "outputs": [
    {
     "data": {
      "text/plain": [
       "1194330.0735"
      ]
     },
     "execution_count": 61,
     "metadata": {},
     "output_type": "execute_result"
    }
   ],
   "source": [
    "# menghitung median dari sampel\n",
    "median_sample_means = np.median(sample_means)\n",
    "median_sample_means"
   ]
  },
  {
   "cell_type": "code",
   "execution_count": 62,
   "metadata": {},
   "outputs": [
    {
     "data": {
      "text/plain": [
       "1288107.2059253333"
      ]
     },
     "execution_count": 62,
     "metadata": {},
     "output_type": "execute_result"
    }
   ],
   "source": [
    "# menghitung rata-rata dari sampel\n",
    "mean_sample_means = np.mean(sample_means)\n",
    "mean_sample_means"
   ]
  },
  {
   "cell_type": "code",
   "execution_count": 63,
   "metadata": {},
   "outputs": [
    {
     "data": {
      "text/plain": [
       "1281949.7081475302"
      ]
     },
     "execution_count": 63,
     "metadata": {},
     "output_type": "execute_result"
    }
   ],
   "source": [
    "# menghitung rata-rata dari kolom SALE PRICE\n",
    "sale_price_mean = df_nyc['SALE PRICE'].mean()\n",
    "sale_price_mean"
   ]
  },
  {
   "cell_type": "code",
   "execution_count": 64,
   "metadata": {},
   "outputs": [
    {
     "data": {
      "text/plain": [
       "391591.88269129896"
      ]
     },
     "execution_count": 64,
     "metadata": {},
     "output_type": "execute_result"
    }
   ],
   "source": [
    "# menghitung standar deviasi dari sampel\n",
    "stdev_sample_means = np.std(sample_means)\n",
    "stdev_sample_means"
   ]
  },
  {
   "cell_type": "code",
   "execution_count": 65,
   "metadata": {},
   "outputs": [
    {
     "data": {
      "text/plain": [
       "361688.4713182776"
      ]
     },
     "execution_count": 65,
     "metadata": {},
     "output_type": "execute_result"
    }
   ],
   "source": [
    "# menghitung standard error dari kolom SALE PRICE\n",
    "sale_price_stdev = df_nyc['SALE PRICE'].std()\n",
    "standard_error = sale_price_stdev/np.sqrt(n)\n",
    "standard_error"
   ]
  },
  {
   "cell_type": "markdown",
   "metadata": {},
   "source": [
    "Critical Z-Score"
   ]
  },
  {
   "cell_type": "code",
   "execution_count": 66,
   "metadata": {},
   "outputs": [
    {
     "data": {
      "text/plain": [
       "0.024997895148220484"
      ]
     },
     "execution_count": 66,
     "metadata": {},
     "output_type": "execute_result"
    }
   ],
   "source": [
    "tail = 1 - stats.norm.cdf(1.96)\n",
    "tail"
   ]
  },
  {
   "cell_type": "code",
   "execution_count": 67,
   "metadata": {},
   "outputs": [
    {
     "data": {
      "text/plain": [
       "0.950004209703559"
      ]
     },
     "execution_count": 67,
     "metadata": {},
     "output_type": "execute_result"
    }
   ],
   "source": [
    "1 - (tail * 2)"
   ]
  },
  {
   "cell_type": "code",
   "execution_count": 68,
   "metadata": {},
   "outputs": [
    {
     "data": {
      "text/plain": [
       "579197.8021415093"
      ]
     },
     "execution_count": 68,
     "metadata": {},
     "output_type": "execute_result"
    }
   ],
   "source": [
    "lower_95_perc_bound = mean_sample_means - 1.96*standard_error\n",
    "lower_95_perc_bound"
   ]
  },
  {
   "cell_type": "code",
   "execution_count": 69,
   "metadata": {},
   "outputs": [
    {
     "data": {
      "text/plain": [
       "1997016.6097091574"
      ]
     },
     "execution_count": 69,
     "metadata": {},
     "output_type": "execute_result"
    }
   ],
   "source": [
    "upper_95_perc_bound = mean_sample_means + 1.96*standard_error\n",
    "upper_95_perc_bound"
   ]
  },
  {
   "cell_type": "code",
   "execution_count": 70,
   "metadata": {},
   "outputs": [
    {
     "data": {
      "image/png": "[encoded data removed]",
      "text/plain": [
       "<Figure size 432x288 with 1 Axes>"
      ]
     },
     "metadata": {
      "needs_background": "light"
     },
     "output_type": "display_data"
    }
   ],
   "source": [
    "kde = stats.gaussian_kde(sample_means)\n",
    "pos = np.linspace(np.min(sample_means), np.max(sample_means))\n",
    "plt.plot(pos, kde(pos), color='teal')\n",
    "shade = np.linspace(lower_95_perc_bound, upper_95_perc_bound)\n",
    "plt.fill_between(shade, kde(shade), alpha=0.45, color='teal',)\n",
    "plt.title(\"Distribusi Rata-rata Sampel Sale Price\", y=1.015, fontsize=13)\n",
    "plt.xlabel(\"Rata-rata sampel sale price\", labelpad=14)\n",
    "plt.ylabel(\"Frekuensi\", labelpad=14);"
   ]
  },
  {
   "cell_type": "markdown",
   "metadata": {},
   "source": [
    "---"
   ]
  },
  {
   "cell_type": "markdown",
   "metadata": {},
   "source": [
    "# Hypotesis Testing"
   ]
  },
  {
   "cell_type": "markdown",
   "metadata": {},
   "source": [
    "__Pertanyaan__ : Apakah rata-rata harga jual bangunan di Manhattan berbeda secara signifikan daripada rata-rata harga jual bangunan di Brooklyn? <br>\n",
    "<br>\n",
    "population: Harga jual bangunan di Manhattan dan Brooklyn dari New York Property Sale <br>\n",
    "\n",
    "Parameter of interest: <br>\n",
    "μ1 : harga jual bangunan di Brooklyn <br>\n",
    "μ2 : harga jual bangunan di Manhattan\n",
    "\n",
    "Null Hypotesis: μ1 = μ2 <br>\n",
    "Alternative Hypothesis: μ1 ≠ μ2"
   ]
  },
  {
   "cell_type": "code",
   "execution_count": 71,
   "metadata": {},
   "outputs": [],
   "source": [
    "# ambil data Borough Brooklyn dan Manhattan\n",
    "brooklyn = df_nyc[df_nyc['BOROUGH'] == 'Brooklyn']\n",
    "manhattan = df_nyc[df_nyc['BOROUGH'] == 'Manhattan']"
   ]
  },
  {
   "cell_type": "code",
   "execution_count": 72,
   "metadata": {},
   "outputs": [
    {
     "data": {
      "text/plain": [
       "(23808, 842238.7791078629, 3954696.992774047)"
      ]
     },
     "execution_count": 72,
     "metadata": {},
     "output_type": "execute_result"
    }
   ],
   "source": [
    "n1 = len(brooklyn)\n",
    "mu1 = brooklyn['SALE PRICE'].mean()\n",
    "sd1 = brooklyn['SALE PRICE'].std()\n",
    "\n",
    "(n1,mu1,sd1)"
   ]
  },
  {
   "cell_type": "code",
   "execution_count": 73,
   "metadata": {},
   "outputs": [
    {
     "data": {
      "text/plain": [
       "(14342, 3350579.923232464, 24167011.421004914)"
      ]
     },
     "execution_count": 73,
     "metadata": {},
     "output_type": "execute_result"
    }
   ],
   "source": [
    "n2 = len(manhattan)\n",
    "mu2 = manhattan['SALE PRICE'].mean()\n",
    "sd2 = manhattan['SALE PRICE'].std()\n",
    "\n",
    "(n2,mu2,sd2)"
   ]
  },
  {
   "cell_type": "code",
   "execution_count": 74,
   "metadata": {},
   "outputs": [
    {
     "data": {
      "text/plain": [
       "(-15.670552827599447, 2.4047859376584673e-55)"
      ]
     },
     "execution_count": 74,
     "metadata": {},
     "output_type": "execute_result"
    }
   ],
   "source": [
    "sm.stats.ztest(brooklyn['SALE PRICE'], manhattan['SALE PRICE'], alternative='two-sided')"
   ]
  },
  {
   "cell_type": "markdown",
   "metadata": {},
   "source": [
    "Karena p-value adalah 2.4047859376584673e-55 lebih kecil dari alpha 0.05 maka menolak null hypothesis yang menyatakan bahwa rata-rata harga jual bangunan di Manhattan sama dengan harga jual bangunan di Brooklyn. Jadi, Alternative Hypothesis diterima yaitu rata-rata harga jual bangunan di Manhattan dan Brooklyn berbeda secara signifikan."
   ]
  },
  {
   "cell_type": "markdown",
   "metadata": {},
   "source": [
    "# Kesimpulan"
   ]
  },
  {
   "cell_type": "markdown",
   "metadata": {},
   "source": [
    "Berdasarkan analisis yang telah dilakukan, dapat disimpulkan bahwa:<br>\n",
    "- Rata-rata dari harga jual bangunan di New York adalah 1281949.7081475302\n",
    "- Data harga jual bangunan di New York belum berdistribusi normal\n",
    "- 95% Confidence Interval menyatakan bahwa nilai rata-rata dari harga jual bangunan di New York berada di antara 579197.8021415093 dan 1997016.6097091574\n",
    "- Rata-rata harga jual bangunan di Manhattan dan Brooklyn berbeda secara signifikan."
   ]
  }
 ],
 "metadata": {
  "kernelspec": {
   "display_name": "Python 3.9.12 ('base')",
   "language": "python",
   "name": "python3"
  },
  "language_info": {
   "codemirror_mode": {
    "name": "ipython",
    "version": 3
   },
   "file_extension": ".py",
   "mimetype": "text/x-python",
   "name": "python",
   "nbconvert_exporter": "python",
   "pygments_lexer": "ipython3",
   "version": "3.9.12"
  },
  "orig_nbformat": 4,
  "vscode": {
   "interpreter": {
    "hash": "a077222d77dfe082b8f1dd562ad70e458ac2ab76993a0b248ab0476e32e9e8dd"
   }
  }
 },
 "nbformat": 4,
 "nbformat_minor": 2
}
