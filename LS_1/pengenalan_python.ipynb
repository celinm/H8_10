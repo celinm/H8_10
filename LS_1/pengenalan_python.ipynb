{
  "cells": [
    {
      "cell_type": "markdown",
      "metadata": {
        "id": "UT1ESEfA-2Sw"
      },
      "source": [
        "Ini adalah noteboook pertama saya"
      ]
    },
    {
      "cell_type": "code",
      "execution_count": null,
      "metadata": {
        "colab": {
          "base_uri": "https://localhost:8080/"
        },
        "id": "HgcXQ3cc6o1b",
        "outputId": "627ecb09-fc4c-498e-d038-9289f0202f07"
      },
      "outputs": [
        {
          "name": "stdout",
          "output_type": "stream",
          "text": [
            "Hello World\n"
          ]
        }
      ],
      "source": [
        "print('Hello World')"
      ]
    },
    {
      "cell_type": "markdown",
      "metadata": {
        "id": "zVBQkHpP_FBr"
      },
      "source": [
        "Untuk menjalankan kode pada cell, dapat menggunakan shift+enter"
      ]
    },
    {
      "cell_type": "markdown",
      "metadata": {
        "id": "0LvvCUSsAIkj"
      },
      "source": [
        "# Tipe data"
      ]
    },
    {
      "cell_type": "code",
      "execution_count": null,
      "metadata": {
        "colab": {
          "base_uri": "https://localhost:8080/"
        },
        "id": "Dn5GgHIV--rh",
        "outputId": "e448930b-d482-4ae7-8bf8-b70ce86ebd8f"
      },
      "outputs": [
        {
          "name": "stdout",
          "output_type": "stream",
          "text": [
            "3512\n"
          ]
        }
      ],
      "source": [
        "#tipe data tunggal\n",
        "print(3512)"
      ]
    },
    {
      "cell_type": "code",
      "execution_count": null,
      "metadata": {
        "colab": {
          "base_uri": "https://localhost:8080/"
        },
        "id": "gqAfY_sGAW2x",
        "outputId": "3cd9000a-49db-4378-de88-b76c345d2127"
      },
      "outputs": [
        {
          "data": {
            "text/plain": [
              "int"
            ]
          },
          "execution_count": 4,
          "metadata": {},
          "output_type": "execute_result"
        }
      ],
      "source": [
        "type(3512)"
      ]
    },
    {
      "cell_type": "code",
      "execution_count": null,
      "metadata": {
        "colab": {
          "base_uri": "https://localhost:8080/"
        },
        "id": "N_MUAlj0AZTr",
        "outputId": "1ce0ea12-3913-4a5c-ff08-50c5c4f56f33"
      },
      "outputs": [
        {
          "name": "stdout",
          "output_type": "stream",
          "text": [
            "3.1415\n"
          ]
        }
      ],
      "source": [
        "print(3.1415)"
      ]
    },
    {
      "cell_type": "code",
      "execution_count": null,
      "metadata": {
        "colab": {
          "base_uri": "https://localhost:8080/"
        },
        "id": "mYFQV36NAdK5",
        "outputId": "c4e8643e-85b0-4036-bf35-12e0b1e78ab3"
      },
      "outputs": [
        {
          "data": {
            "text/plain": [
              "float"
            ]
          },
          "execution_count": 6,
          "metadata": {},
          "output_type": "execute_result"
        }
      ],
      "source": [
        "type(3.1415)"
      ]
    },
    {
      "cell_type": "code",
      "execution_count": null,
      "metadata": {
        "colab": {
          "base_uri": "https://localhost:8080/"
        },
        "id": "bD4al2YSAfgK",
        "outputId": "59604cb5-f88c-41a1-de50-63384abb1ca1"
      },
      "outputs": [
        {
          "name": "stdout",
          "output_type": "stream",
          "text": [
            "(3+2j)\n"
          ]
        }
      ],
      "source": [
        "print(3+2j)"
      ]
    },
    {
      "cell_type": "code",
      "execution_count": null,
      "metadata": {
        "colab": {
          "base_uri": "https://localhost:8080/"
        },
        "id": "Mv0qHz5gAlVs",
        "outputId": "9aa87686-62ee-4be4-8b26-3a56a6dab2b5"
      },
      "outputs": [
        {
          "data": {
            "text/plain": [
              "complex"
            ]
          },
          "execution_count": 8,
          "metadata": {},
          "output_type": "execute_result"
        }
      ],
      "source": [
        "type(3+2j)"
      ]
    },
    {
      "cell_type": "code",
      "execution_count": null,
      "metadata": {
        "colab": {
          "base_uri": "https://localhost:8080/"
        },
        "id": "AixdX4OzApUl",
        "outputId": "9b58cad4-c6d7-4bb1-9a59-fc9aa7d7e7b5"
      },
      "outputs": [
        {
          "name": "stdout",
          "output_type": "stream",
          "text": [
            "True\n"
          ]
        },
        {
          "data": {
            "text/plain": [
              "bool"
            ]
          },
          "execution_count": 10,
          "metadata": {},
          "output_type": "execute_result"
        }
      ],
      "source": [
        "print(True)\n",
        "type(True)"
      ]
    },
    {
      "cell_type": "code",
      "execution_count": null,
      "metadata": {
        "colab": {
          "base_uri": "https://localhost:8080/"
        },
        "id": "n2_L36ZkBD6P",
        "outputId": "554f5220-380f-4f8b-ab6f-5805d65a0d89"
      },
      "outputs": [
        {
          "name": "stdout",
          "output_type": "stream",
          "text": [
            "Annyeonghaseyo\n"
          ]
        },
        {
          "data": {
            "text/plain": [
              "str"
            ]
          },
          "execution_count": 11,
          "metadata": {},
          "output_type": "execute_result"
        }
      ],
      "source": [
        "print(\"Annyeonghaseyo\")\n",
        "type(\"Annyeonghaseyo\")"
      ]
    },
    {
      "cell_type": "code",
      "execution_count": null,
      "metadata": {
        "colab": {
          "base_uri": "https://localhost:8080/"
        },
        "id": "zsx44S7ACDSN",
        "outputId": "84242298-2998-4a1d-a257-b25308a4f51e"
      },
      "outputs": [
        {
          "name": "stdout",
          "output_type": "stream",
          "text": [
            "Nama saya Celin\n"
          ]
        },
        {
          "data": {
            "text/plain": [
              "str"
            ]
          },
          "execution_count": 12,
          "metadata": {},
          "output_type": "execute_result"
        }
      ],
      "source": [
        "print('Nama saya Celin')\n",
        "type('Nama saya Celin')"
      ]
    },
    {
      "cell_type": "markdown",
      "metadata": {
        "id": "lJ9G5bqtEKxi"
      },
      "source": [
        "# Variabel"
      ]
    },
    {
      "cell_type": "code",
      "execution_count": null,
      "metadata": {
        "id": "x2hQGDjnCNRS"
      },
      "outputs": [],
      "source": [
        "a = 12"
      ]
    },
    {
      "cell_type": "code",
      "execution_count": null,
      "metadata": {
        "colab": {
          "base_uri": "https://localhost:8080/"
        },
        "id": "XUrMkYpdEf1v",
        "outputId": "a7265414-0e92-4f08-bb59-1f815ba4b502"
      },
      "outputs": [
        {
          "name": "stdout",
          "output_type": "stream",
          "text": [
            "12\n"
          ]
        },
        {
          "data": {
            "text/plain": [
              "int"
            ]
          },
          "execution_count": 15,
          "metadata": {},
          "output_type": "execute_result"
        }
      ],
      "source": [
        "print(a)\n",
        "type(a)"
      ]
    },
    {
      "cell_type": "code",
      "execution_count": null,
      "metadata": {
        "id": "p7AE5xK0Eha4"
      },
      "outputs": [],
      "source": [
        "angka_1, angka_2 = 7, 15.2"
      ]
    },
    {
      "cell_type": "code",
      "execution_count": null,
      "metadata": {
        "colab": {
          "base_uri": "https://localhost:8080/"
        },
        "id": "6O5JK5nbFObV",
        "outputId": "e3d35641-662a-4eab-9720-bcafee0a4851"
      },
      "outputs": [
        {
          "data": {
            "text/plain": [
              "1"
            ]
          },
          "execution_count": 19,
          "metadata": {},
          "output_type": "execute_result"
        }
      ],
      "source": [
        "a = 5\n",
        "b = 4\n",
        "a//b"
      ]
    },
    {
      "cell_type": "code",
      "execution_count": null,
      "metadata": {
        "colab": {
          "base_uri": "https://localhost:8080/"
        },
        "id": "_-K9PphWITJl",
        "outputId": "5b500371-4bc2-4853-c863-89f44cf75975"
      },
      "outputs": [
        {
          "name": "stdout",
          "output_type": "stream",
          "text": [
            "9\n",
            "20\n"
          ]
        }
      ],
      "source": [
        "#aritmatika\n",
        "print(a + b)\n",
        "print(a * b)"
      ]
    },
    {
      "cell_type": "code",
      "execution_count": null,
      "metadata": {
        "colab": {
          "base_uri": "https://localhost:8080/"
        },
        "id": "P9xpb8edIat1",
        "outputId": "af769e92-cd95-41b6-cd44-ac90e08938a3"
      },
      "outputs": [
        {
          "name": "stdout",
          "output_type": "stream",
          "text": [
            "KimTaehyung\n"
          ]
        }
      ],
      "source": [
        "#string\n",
        "nama_depan = \"Kim\"\n",
        "nama_belakang = \"Taehyung\"\n",
        "\n",
        "print(nama_depan + nama_belakang)"
      ]
    },
    {
      "cell_type": "code",
      "execution_count": null,
      "metadata": {
        "colab": {
          "base_uri": "https://localhost:8080/"
        },
        "id": "GqjPzDRHIpjS",
        "outputId": "a7090fd6-bec7-447e-c76e-0864427e4d7d"
      },
      "outputs": [
        {
          "name": "stdout",
          "output_type": "stream",
          "text": [
            "TaehyungTaehyungTaehyung\n"
          ]
        }
      ],
      "source": [
        "print(nama_belakang  * 3)"
      ]
    },
    {
      "cell_type": "code",
      "execution_count": null,
      "metadata": {
        "colab": {
          "base_uri": "https://localhost:8080/"
        },
        "id": "7v_yGqIaJIc-",
        "outputId": "34b18abb-36a2-404e-af5b-fc04af8cb044"
      },
      "outputs": [
        {
          "name": "stdout",
          "output_type": "stream",
          "text": [
            "False\n"
          ]
        }
      ],
      "source": [
        "# perbandingan\n",
        "c = 10\n",
        "d = 5\n",
        "print(c == d)"
      ]
    },
    {
      "cell_type": "code",
      "execution_count": null,
      "metadata": {
        "colab": {
          "base_uri": "https://localhost:8080/"
        },
        "id": "m1KtPlh9Jy3j",
        "outputId": "d044666f-1a05-4c62-c224-eba73393e791"
      },
      "outputs": [
        {
          "name": "stdout",
          "output_type": "stream",
          "text": [
            "True\n"
          ]
        }
      ],
      "source": [
        "# logika\n",
        "print(False or True)"
      ]
    },
    {
      "cell_type": "code",
      "execution_count": null,
      "metadata": {
        "colab": {
          "base_uri": "https://localhost:8080/"
        },
        "id": "Zoe2sBa_Lz-Q",
        "outputId": "0f59fb01-b2c5-4c1b-e969-c49521d99110"
      },
      "outputs": [
        {
          "name": "stdout",
          "output_type": "stream",
          "text": [
            "Kimtaehyung\n",
            "KIMTAEHYUNG\n",
            "kimtaehyung\n",
            "Kimtaehyung\n"
          ]
        }
      ],
      "source": [
        "nama = 'KimTaehyung'\n",
        "print(nama.capitalize())\n",
        "print(nama.upper())\n",
        "print(nama.lower())\n",
        "print(nama.title())"
      ]
    },
    {
      "cell_type": "code",
      "execution_count": null,
      "metadata": {
        "colab": {
          "base_uri": "https://localhost:8080/"
        },
        "id": "x4olhFxJMMqn",
        "outputId": "b7bfbedb-8492-4810-947c-a75b1f081428"
      },
      "outputs": [
        {
          "name": "stdout",
          "output_type": "stream",
          "text": [
            "(53, 45.2, True, 'Celin', (1, 2, 3))\n"
          ]
        },
        {
          "data": {
            "text/plain": [
              "tuple"
            ]
          },
          "execution_count": 26,
          "metadata": {},
          "output_type": "execute_result"
        }
      ],
      "source": [
        "# tuple dan list\n",
        "my_tuple = (53, 45.2, True, \"Celin\", (1, 2, 3))\n",
        "print(my_tuple)\n",
        "type(my_tuple)"
      ]
    },
    {
      "cell_type": "code",
      "execution_count": null,
      "metadata": {
        "colab": {
          "base_uri": "https://localhost:8080/"
        },
        "id": "7CcvICa0M9wx",
        "outputId": "37c6ac84-d468-498d-9e80-952472c186c4"
      },
      "outputs": [
        {
          "name": "stdout",
          "output_type": "stream",
          "text": [
            "[53, 45.2, True, 'Celin', (1, 2, 3)]\n"
          ]
        },
        {
          "data": {
            "text/plain": [
              "list"
            ]
          },
          "execution_count": 27,
          "metadata": {},
          "output_type": "execute_result"
        }
      ],
      "source": [
        "my_list = [53, 45.2, True, \"Celin\", (1, 2, 3)]\n",
        "print(my_list)\n",
        "type(my_list)"
      ]
    },
    {
      "cell_type": "code",
      "execution_count": null,
      "metadata": {
        "colab": {
          "base_uri": "https://localhost:8080/"
        },
        "id": "IZys8dLsNO_F",
        "outputId": "1573e921-6080-4270-da18-07601264b625"
      },
      "outputs": [
        {
          "name": "stdout",
          "output_type": "stream",
          "text": [
            "Celin\n"
          ]
        }
      ],
      "source": [
        "print(my_tuple[3])"
      ]
    },
    {
      "cell_type": "code",
      "execution_count": null,
      "metadata": {
        "colab": {
          "base_uri": "https://localhost:8080/"
        },
        "id": "4GdUjtl8Pmrf",
        "outputId": "e3b968bc-b09c-46ee-f6d6-eda6b965f959"
      },
      "outputs": [
        {
          "name": "stdout",
          "output_type": "stream",
          "text": [
            "Celin\n"
          ]
        }
      ],
      "source": [
        "print(my_list[-2])"
      ]
    },
    {
      "cell_type": "code",
      "execution_count": null,
      "metadata": {
        "colab": {
          "base_uri": "https://localhost:8080/"
        },
        "id": "mbo5E018PJyd",
        "outputId": "c209b5d7-3839-41ee-e485-700e133a21c0"
      },
      "outputs": [
        {
          "name": "stdout",
          "output_type": "stream",
          "text": [
            "[True, 'Celin']\n"
          ]
        }
      ],
      "source": [
        "print(my_list[2:4])"
      ]
    },
    {
      "cell_type": "code",
      "execution_count": null,
      "metadata": {
        "colab": {
          "base_uri": "https://localhost:8080/"
        },
        "id": "LXrgPLhAPWXb",
        "outputId": "d106f733-d9c0-4d64-8711-31c1075de90f"
      },
      "outputs": [
        {
          "data": {
            "text/plain": [
              "True"
            ]
          },
          "execution_count": 34,
          "metadata": {},
          "output_type": "execute_result"
        }
      ],
      "source": [
        "\"Celin\" in my_tuple"
      ]
    },
    {
      "cell_type": "code",
      "execution_count": null,
      "metadata": {
        "id": "bvWox-WkP1Ja"
      },
      "outputs": [],
      "source": [
        "# perbedaan\n",
        "#pengubahan data\n",
        "my_list = [30, \"KimTaehyung\"]"
      ]
    },
    {
      "cell_type": "code",
      "execution_count": null,
      "metadata": {
        "colab": {
          "base_uri": "https://localhost:8080/"
        },
        "id": "lC2O3x7lQuKS",
        "outputId": "48bfa199-2d3a-46ae-e9fd-dd2df624f694"
      },
      "outputs": [
        {
          "data": {
            "text/plain": [
              "[30, 'KimTaehyung']"
            ]
          },
          "execution_count": 42,
          "metadata": {},
          "output_type": "execute_result"
        }
      ],
      "source": [
        "my_list"
      ]
    },
    {
      "cell_type": "code",
      "execution_count": null,
      "metadata": {
        "id": "-pSNQ6OQQwXc"
      },
      "outputs": [],
      "source": [
        "# append\n",
        "my_list.append(\"BTS\")"
      ]
    },
    {
      "cell_type": "code",
      "execution_count": null,
      "metadata": {
        "colab": {
          "base_uri": "https://localhost:8080/"
        },
        "id": "abPdNmW9RFAM",
        "outputId": "eb052767-af1e-4a47-9522-16c9af9881c0"
      },
      "outputs": [
        {
          "data": {
            "text/plain": [
              "[30, 'KimTaehyung', 'BTS']"
            ]
          },
          "execution_count": 44,
          "metadata": {},
          "output_type": "execute_result"
        }
      ],
      "source": [
        "my_list"
      ]
    },
    {
      "cell_type": "code",
      "execution_count": null,
      "metadata": {
        "id": "kqLJsJPZTAKN"
      },
      "outputs": [],
      "source": []
    }
  ],
  "metadata": {
    "colab": {
      "name": "pengenalan python.ipynb",
      "provenance": []
    },
    "kernelspec": {
      "display_name": "Python 3.8.10 64-bit",
      "language": "python",
      "name": "python3"
    },
    "language_info": {
      "name": "python",
      "version": "3.8.10"
    },
    "vscode": {
      "interpreter": {
        "hash": "6a926afa313b26ae1264fdcf81c726a97e69f6ba2ba780f6aa901948710f8d6e"
      }
    }
  },
  "nbformat": 4,
  "nbformat_minor": 0
}
