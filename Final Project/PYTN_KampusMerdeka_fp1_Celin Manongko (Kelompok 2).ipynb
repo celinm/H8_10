{
 "cells": [
  {
   "cell_type": "markdown",
   "metadata": {},
   "source": [
    "# Final Project 1 : Linear Regression"
   ]
  },
  {
   "cell_type": "markdown",
   "metadata": {},
   "source": [
    "- Celin Manongko - PYTN-KS10-018\n",
    "- Alina Florencia Karuniawati - PYTN-KS10-001\n",
    "- Nine Alvariqati Varqa Ansori - PYTN-KS10-010"
   ]
  },
  {
   "cell_type": "markdown",
   "metadata": {},
   "source": [
    "## Import Package"
   ]
  },
  {
   "cell_type": "code",
   "execution_count": 1,
   "metadata": {},
   "outputs": [],
   "source": [
    "import numpy as np\n",
    "import pandas as pd\n",
    "import matplotlib.pyplot as plt\n",
    "import seaborn as sns\n",
    "\n",
    "from statsmodels.stats.diagnostic import normal_ad\n",
    "from sklearn.linear_model import LinearRegression\n",
    "import statsmodels.api as sm\n",
    "from sklearn.model_selection import train_test_split\n",
    "from sklearn.preprocessing import StandardScaler\n",
    "from sklearn import preprocessing\n",
    "from statsmodels.stats.outliers_influence import variance_inflation_factor\n",
    "\n",
    "import sys\n",
    "\n",
    "if not sys.warnoptions:\n",
    "    import warnings\n",
    "    warnings.simplefilter(\"ignore\")"
   ]
  },
  {
   "cell_type": "markdown",
   "metadata": {},
   "source": [
    "## Data Loading"
   ]
  },
  {
   "cell_type": "code",
   "execution_count": 2,
   "metadata": {},
   "outputs": [
    {
     "data": {
      "text/html": [
       "<div>\n",
       "<style scoped>\n",
       "    .dataframe tbody tr th:only-of-type {\n",
       "        vertical-align: middle;\n",
       "    }\n",
       "\n",
       "    .dataframe tbody tr th {\n",
       "        vertical-align: top;\n",
       "    }\n",
       "\n",
       "    .dataframe thead th {\n",
       "        text-align: right;\n",
       "    }\n",
       "</style>\n",
       "<table border=\"1\" class=\"dataframe\">\n",
       "  <thead>\n",
       "    <tr style=\"text-align: right;\">\n",
       "      <th></th>\n",
       "      <th>id</th>\n",
       "      <th>timestamp</th>\n",
       "      <th>hour</th>\n",
       "      <th>day</th>\n",
       "      <th>month</th>\n",
       "      <th>datetime</th>\n",
       "      <th>timezone</th>\n",
       "      <th>source</th>\n",
       "      <th>destination</th>\n",
       "      <th>cab_type</th>\n",
       "      <th>...</th>\n",
       "      <th>precipIntensityMax</th>\n",
       "      <th>uvIndexTime</th>\n",
       "      <th>temperatureMin</th>\n",
       "      <th>temperatureMinTime</th>\n",
       "      <th>temperatureMax</th>\n",
       "      <th>temperatureMaxTime</th>\n",
       "      <th>apparentTemperatureMin</th>\n",
       "      <th>apparentTemperatureMinTime</th>\n",
       "      <th>apparentTemperatureMax</th>\n",
       "      <th>apparentTemperatureMaxTime</th>\n",
       "    </tr>\n",
       "  </thead>\n",
       "  <tbody>\n",
       "    <tr>\n",
       "      <th>0</th>\n",
       "      <td>424553bb-7174-41ea-aeb4-fe06d4f4b9d7</td>\n",
       "      <td>1.544953e+09</td>\n",
       "      <td>9</td>\n",
       "      <td>16</td>\n",
       "      <td>12</td>\n",
       "      <td>2018-12-16 09:30:07</td>\n",
       "      <td>America/New_York</td>\n",
       "      <td>Haymarket Square</td>\n",
       "      <td>North Station</td>\n",
       "      <td>Lyft</td>\n",
       "      <td>...</td>\n",
       "      <td>0.1276</td>\n",
       "      <td>1544979600</td>\n",
       "      <td>39.89</td>\n",
       "      <td>1545012000</td>\n",
       "      <td>43.68</td>\n",
       "      <td>1544968800</td>\n",
       "      <td>33.73</td>\n",
       "      <td>1545012000</td>\n",
       "      <td>38.07</td>\n",
       "      <td>1544958000</td>\n",
       "    </tr>\n",
       "    <tr>\n",
       "      <th>1</th>\n",
       "      <td>4bd23055-6827-41c6-b23b-3c491f24e74d</td>\n",
       "      <td>1.543284e+09</td>\n",
       "      <td>2</td>\n",
       "      <td>27</td>\n",
       "      <td>11</td>\n",
       "      <td>2018-11-27 02:00:23</td>\n",
       "      <td>America/New_York</td>\n",
       "      <td>Haymarket Square</td>\n",
       "      <td>North Station</td>\n",
       "      <td>Lyft</td>\n",
       "      <td>...</td>\n",
       "      <td>0.1300</td>\n",
       "      <td>1543251600</td>\n",
       "      <td>40.49</td>\n",
       "      <td>1543233600</td>\n",
       "      <td>47.30</td>\n",
       "      <td>1543251600</td>\n",
       "      <td>36.20</td>\n",
       "      <td>1543291200</td>\n",
       "      <td>43.92</td>\n",
       "      <td>1543251600</td>\n",
       "    </tr>\n",
       "    <tr>\n",
       "      <th>2</th>\n",
       "      <td>981a3613-77af-4620-a42a-0c0866077d1e</td>\n",
       "      <td>1.543367e+09</td>\n",
       "      <td>1</td>\n",
       "      <td>28</td>\n",
       "      <td>11</td>\n",
       "      <td>2018-11-28 01:00:22</td>\n",
       "      <td>America/New_York</td>\n",
       "      <td>Haymarket Square</td>\n",
       "      <td>North Station</td>\n",
       "      <td>Lyft</td>\n",
       "      <td>...</td>\n",
       "      <td>0.1064</td>\n",
       "      <td>1543338000</td>\n",
       "      <td>35.36</td>\n",
       "      <td>1543377600</td>\n",
       "      <td>47.55</td>\n",
       "      <td>1543320000</td>\n",
       "      <td>31.04</td>\n",
       "      <td>1543377600</td>\n",
       "      <td>44.12</td>\n",
       "      <td>1543320000</td>\n",
       "    </tr>\n",
       "    <tr>\n",
       "      <th>3</th>\n",
       "      <td>c2d88af2-d278-4bfd-a8d0-29ca77cc5512</td>\n",
       "      <td>1.543554e+09</td>\n",
       "      <td>4</td>\n",
       "      <td>30</td>\n",
       "      <td>11</td>\n",
       "      <td>2018-11-30 04:53:02</td>\n",
       "      <td>America/New_York</td>\n",
       "      <td>Haymarket Square</td>\n",
       "      <td>North Station</td>\n",
       "      <td>Lyft</td>\n",
       "      <td>...</td>\n",
       "      <td>0.0000</td>\n",
       "      <td>1543507200</td>\n",
       "      <td>34.67</td>\n",
       "      <td>1543550400</td>\n",
       "      <td>45.03</td>\n",
       "      <td>1543510800</td>\n",
       "      <td>30.30</td>\n",
       "      <td>1543550400</td>\n",
       "      <td>38.53</td>\n",
       "      <td>1543510800</td>\n",
       "    </tr>\n",
       "    <tr>\n",
       "      <th>4</th>\n",
       "      <td>e0126e1f-8ca9-4f2e-82b3-50505a09db9a</td>\n",
       "      <td>1.543463e+09</td>\n",
       "      <td>3</td>\n",
       "      <td>29</td>\n",
       "      <td>11</td>\n",
       "      <td>2018-11-29 03:49:20</td>\n",
       "      <td>America/New_York</td>\n",
       "      <td>Haymarket Square</td>\n",
       "      <td>North Station</td>\n",
       "      <td>Lyft</td>\n",
       "      <td>...</td>\n",
       "      <td>0.0001</td>\n",
       "      <td>1543420800</td>\n",
       "      <td>33.10</td>\n",
       "      <td>1543402800</td>\n",
       "      <td>42.18</td>\n",
       "      <td>1543420800</td>\n",
       "      <td>29.11</td>\n",
       "      <td>1543392000</td>\n",
       "      <td>35.75</td>\n",
       "      <td>1543420800</td>\n",
       "    </tr>\n",
       "    <tr>\n",
       "      <th>...</th>\n",
       "      <td>...</td>\n",
       "      <td>...</td>\n",
       "      <td>...</td>\n",
       "      <td>...</td>\n",
       "      <td>...</td>\n",
       "      <td>...</td>\n",
       "      <td>...</td>\n",
       "      <td>...</td>\n",
       "      <td>...</td>\n",
       "      <td>...</td>\n",
       "      <td>...</td>\n",
       "      <td>...</td>\n",
       "      <td>...</td>\n",
       "      <td>...</td>\n",
       "      <td>...</td>\n",
       "      <td>...</td>\n",
       "      <td>...</td>\n",
       "      <td>...</td>\n",
       "      <td>...</td>\n",
       "      <td>...</td>\n",
       "      <td>...</td>\n",
       "    </tr>\n",
       "    <tr>\n",
       "      <th>693066</th>\n",
       "      <td>616d3611-1820-450a-9845-a9ff304a4842</td>\n",
       "      <td>1.543708e+09</td>\n",
       "      <td>23</td>\n",
       "      <td>1</td>\n",
       "      <td>12</td>\n",
       "      <td>2018-12-01 23:53:05</td>\n",
       "      <td>America/New_York</td>\n",
       "      <td>West End</td>\n",
       "      <td>North End</td>\n",
       "      <td>Uber</td>\n",
       "      <td>...</td>\n",
       "      <td>0.0000</td>\n",
       "      <td>1543683600</td>\n",
       "      <td>31.42</td>\n",
       "      <td>1543658400</td>\n",
       "      <td>44.76</td>\n",
       "      <td>1543690800</td>\n",
       "      <td>27.77</td>\n",
       "      <td>1543658400</td>\n",
       "      <td>44.09</td>\n",
       "      <td>1543690800</td>\n",
       "    </tr>\n",
       "    <tr>\n",
       "      <th>693067</th>\n",
       "      <td>633a3fc3-1f86-4b9e-9d48-2b7132112341</td>\n",
       "      <td>1.543708e+09</td>\n",
       "      <td>23</td>\n",
       "      <td>1</td>\n",
       "      <td>12</td>\n",
       "      <td>2018-12-01 23:53:05</td>\n",
       "      <td>America/New_York</td>\n",
       "      <td>West End</td>\n",
       "      <td>North End</td>\n",
       "      <td>Uber</td>\n",
       "      <td>...</td>\n",
       "      <td>0.0000</td>\n",
       "      <td>1543683600</td>\n",
       "      <td>31.42</td>\n",
       "      <td>1543658400</td>\n",
       "      <td>44.76</td>\n",
       "      <td>1543690800</td>\n",
       "      <td>27.77</td>\n",
       "      <td>1543658400</td>\n",
       "      <td>44.09</td>\n",
       "      <td>1543690800</td>\n",
       "    </tr>\n",
       "    <tr>\n",
       "      <th>693068</th>\n",
       "      <td>64d451d0-639f-47a4-9b7c-6fd92fbd264f</td>\n",
       "      <td>1.543708e+09</td>\n",
       "      <td>23</td>\n",
       "      <td>1</td>\n",
       "      <td>12</td>\n",
       "      <td>2018-12-01 23:53:05</td>\n",
       "      <td>America/New_York</td>\n",
       "      <td>West End</td>\n",
       "      <td>North End</td>\n",
       "      <td>Uber</td>\n",
       "      <td>...</td>\n",
       "      <td>0.0000</td>\n",
       "      <td>1543683600</td>\n",
       "      <td>31.42</td>\n",
       "      <td>1543658400</td>\n",
       "      <td>44.76</td>\n",
       "      <td>1543690800</td>\n",
       "      <td>27.77</td>\n",
       "      <td>1543658400</td>\n",
       "      <td>44.09</td>\n",
       "      <td>1543690800</td>\n",
       "    </tr>\n",
       "    <tr>\n",
       "      <th>693069</th>\n",
       "      <td>727e5f07-a96b-4ad1-a2c7-9abc3ad55b4e</td>\n",
       "      <td>1.543708e+09</td>\n",
       "      <td>23</td>\n",
       "      <td>1</td>\n",
       "      <td>12</td>\n",
       "      <td>2018-12-01 23:53:05</td>\n",
       "      <td>America/New_York</td>\n",
       "      <td>West End</td>\n",
       "      <td>North End</td>\n",
       "      <td>Uber</td>\n",
       "      <td>...</td>\n",
       "      <td>0.0000</td>\n",
       "      <td>1543683600</td>\n",
       "      <td>31.42</td>\n",
       "      <td>1543658400</td>\n",
       "      <td>44.76</td>\n",
       "      <td>1543690800</td>\n",
       "      <td>27.77</td>\n",
       "      <td>1543658400</td>\n",
       "      <td>44.09</td>\n",
       "      <td>1543690800</td>\n",
       "    </tr>\n",
       "    <tr>\n",
       "      <th>693070</th>\n",
       "      <td>e7fdc087-fe86-40a5-a3c3-3b2a8badcbda</td>\n",
       "      <td>1.543708e+09</td>\n",
       "      <td>23</td>\n",
       "      <td>1</td>\n",
       "      <td>12</td>\n",
       "      <td>2018-12-01 23:53:05</td>\n",
       "      <td>America/New_York</td>\n",
       "      <td>West End</td>\n",
       "      <td>North End</td>\n",
       "      <td>Uber</td>\n",
       "      <td>...</td>\n",
       "      <td>0.0000</td>\n",
       "      <td>1543683600</td>\n",
       "      <td>31.42</td>\n",
       "      <td>1543658400</td>\n",
       "      <td>44.76</td>\n",
       "      <td>1543690800</td>\n",
       "      <td>27.77</td>\n",
       "      <td>1543658400</td>\n",
       "      <td>44.09</td>\n",
       "      <td>1543690800</td>\n",
       "    </tr>\n",
       "  </tbody>\n",
       "</table>\n",
       "<p>693071 rows × 57 columns</p>\n",
       "</div>"
      ],
      "text/plain": [
       "                                          id     timestamp  hour  day  month  \\\n",
       "0       424553bb-7174-41ea-aeb4-fe06d4f4b9d7  1.544953e+09     9   16     12   \n",
       "1       4bd23055-6827-41c6-b23b-3c491f24e74d  1.543284e+09     2   27     11   \n",
       "2       981a3613-77af-4620-a42a-0c0866077d1e  1.543367e+09     1   28     11   \n",
       "3       c2d88af2-d278-4bfd-a8d0-29ca77cc5512  1.543554e+09     4   30     11   \n",
       "4       e0126e1f-8ca9-4f2e-82b3-50505a09db9a  1.543463e+09     3   29     11   \n",
       "...                                      ...           ...   ...  ...    ...   \n",
       "693066  616d3611-1820-450a-9845-a9ff304a4842  1.543708e+09    23    1     12   \n",
       "693067  633a3fc3-1f86-4b9e-9d48-2b7132112341  1.543708e+09    23    1     12   \n",
       "693068  64d451d0-639f-47a4-9b7c-6fd92fbd264f  1.543708e+09    23    1     12   \n",
       "693069  727e5f07-a96b-4ad1-a2c7-9abc3ad55b4e  1.543708e+09    23    1     12   \n",
       "693070  e7fdc087-fe86-40a5-a3c3-3b2a8badcbda  1.543708e+09    23    1     12   \n",
       "\n",
       "                   datetime          timezone            source  \\\n",
       "0       2018-12-16 09:30:07  America/New_York  Haymarket Square   \n",
       "1       2018-11-27 02:00:23  America/New_York  Haymarket Square   \n",
       "2       2018-11-28 01:00:22  America/New_York  Haymarket Square   \n",
       "3       2018-11-30 04:53:02  America/New_York  Haymarket Square   \n",
       "4       2018-11-29 03:49:20  America/New_York  Haymarket Square   \n",
       "...                     ...               ...               ...   \n",
       "693066  2018-12-01 23:53:05  America/New_York          West End   \n",
       "693067  2018-12-01 23:53:05  America/New_York          West End   \n",
       "693068  2018-12-01 23:53:05  America/New_York          West End   \n",
       "693069  2018-12-01 23:53:05  America/New_York          West End   \n",
       "693070  2018-12-01 23:53:05  America/New_York          West End   \n",
       "\n",
       "          destination cab_type  ... precipIntensityMax uvIndexTime  \\\n",
       "0       North Station     Lyft  ...             0.1276  1544979600   \n",
       "1       North Station     Lyft  ...             0.1300  1543251600   \n",
       "2       North Station     Lyft  ...             0.1064  1543338000   \n",
       "3       North Station     Lyft  ...             0.0000  1543507200   \n",
       "4       North Station     Lyft  ...             0.0001  1543420800   \n",
       "...               ...      ...  ...                ...         ...   \n",
       "693066      North End     Uber  ...             0.0000  1543683600   \n",
       "693067      North End     Uber  ...             0.0000  1543683600   \n",
       "693068      North End     Uber  ...             0.0000  1543683600   \n",
       "693069      North End     Uber  ...             0.0000  1543683600   \n",
       "693070      North End     Uber  ...             0.0000  1543683600   \n",
       "\n",
       "        temperatureMin  temperatureMinTime  temperatureMax  \\\n",
       "0                39.89          1545012000           43.68   \n",
       "1                40.49          1543233600           47.30   \n",
       "2                35.36          1543377600           47.55   \n",
       "3                34.67          1543550400           45.03   \n",
       "4                33.10          1543402800           42.18   \n",
       "...                ...                 ...             ...   \n",
       "693066           31.42          1543658400           44.76   \n",
       "693067           31.42          1543658400           44.76   \n",
       "693068           31.42          1543658400           44.76   \n",
       "693069           31.42          1543658400           44.76   \n",
       "693070           31.42          1543658400           44.76   \n",
       "\n",
       "        temperatureMaxTime  apparentTemperatureMin  \\\n",
       "0               1544968800                   33.73   \n",
       "1               1543251600                   36.20   \n",
       "2               1543320000                   31.04   \n",
       "3               1543510800                   30.30   \n",
       "4               1543420800                   29.11   \n",
       "...                    ...                     ...   \n",
       "693066          1543690800                   27.77   \n",
       "693067          1543690800                   27.77   \n",
       "693068          1543690800                   27.77   \n",
       "693069          1543690800                   27.77   \n",
       "693070          1543690800                   27.77   \n",
       "\n",
       "        apparentTemperatureMinTime  apparentTemperatureMax  \\\n",
       "0                       1545012000                   38.07   \n",
       "1                       1543291200                   43.92   \n",
       "2                       1543377600                   44.12   \n",
       "3                       1543550400                   38.53   \n",
       "4                       1543392000                   35.75   \n",
       "...                            ...                     ...   \n",
       "693066                  1543658400                   44.09   \n",
       "693067                  1543658400                   44.09   \n",
       "693068                  1543658400                   44.09   \n",
       "693069                  1543658400                   44.09   \n",
       "693070                  1543658400                   44.09   \n",
       "\n",
       "       apparentTemperatureMaxTime  \n",
       "0                      1544958000  \n",
       "1                      1543251600  \n",
       "2                      1543320000  \n",
       "3                      1543510800  \n",
       "4                      1543420800  \n",
       "...                           ...  \n",
       "693066                 1543690800  \n",
       "693067                 1543690800  \n",
       "693068                 1543690800  \n",
       "693069                 1543690800  \n",
       "693070                 1543690800  \n",
       "\n",
       "[693071 rows x 57 columns]"
      ]
     },
     "execution_count": 2,
     "metadata": {},
     "output_type": "execute_result"
    }
   ],
   "source": [
    "df = pd.read_csv(\"rideshare_kaggle.csv\")\n",
    "df"
   ]
  },
  {
   "cell_type": "markdown",
   "metadata": {},
   "source": [
    "## Background Analysis"
   ]
  },
  {
   "cell_type": "markdown",
   "metadata": {},
   "source": [
    "Uber dan Lyft merupakan dua jenis transportasi online yang banyak digunakan oleh masyarakat Boston, America. Untuk mengetahui bagaimana persaingan dari kedua jenis transportasi tersebut, kita akan melakukan analisis terkait dengan permintaan dan harga dari Uber dan Lyft untuk mengetahui transportasi mana yang lebih diminati oleh masyarakat setempat. Selain itu, pada analisis ini juga akan dianalisis faktor-faktor yang memengaruhi harga dari kedua jenis transportasi tersebut guna melakukan prediksi harga dari Uber dan Lyft menggunakan regresi linear."
   ]
  },
  {
   "cell_type": "markdown",
   "metadata": {},
   "source": [
    "## Data Shape"
   ]
  },
  {
   "cell_type": "code",
   "execution_count": 3,
   "metadata": {},
   "outputs": [
    {
     "data": {
      "text/plain": [
       "(693071, 57)"
      ]
     },
     "execution_count": 3,
     "metadata": {},
     "output_type": "execute_result"
    }
   ],
   "source": [
    "df.shape"
   ]
  },
  {
   "cell_type": "markdown",
   "metadata": {},
   "source": [
    "Data ini terdiri dari 693.071 baris dan 57 kolom"
   ]
  },
  {
   "cell_type": "markdown",
   "metadata": {},
   "source": [
    "## Data Information"
   ]
  },
  {
   "cell_type": "code",
   "execution_count": 4,
   "metadata": {},
   "outputs": [
    {
     "name": "stdout",
     "output_type": "stream",
     "text": [
      "<class 'pandas.core.frame.DataFrame'>\n",
      "RangeIndex: 693071 entries, 0 to 693070\n",
      "Data columns (total 57 columns):\n",
      " #   Column                       Non-Null Count   Dtype  \n",
      "---  ------                       --------------   -----  \n",
      " 0   id                           693071 non-null  object \n",
      " 1   timestamp                    693071 non-null  float64\n",
      " 2   hour                         693071 non-null  int64  \n",
      " 3   day                          693071 non-null  int64  \n",
      " 4   month                        693071 non-null  int64  \n",
      " 5   datetime                     693071 non-null  object \n",
      " 6   timezone                     693071 non-null  object \n",
      " 7   source                       693071 non-null  object \n",
      " 8   destination                  693071 non-null  object \n",
      " 9   cab_type                     693071 non-null  object \n",
      " 10  product_id                   693071 non-null  object \n",
      " 11  name                         693071 non-null  object \n",
      " 12  price                        637976 non-null  float64\n",
      " 13  distance                     693071 non-null  float64\n",
      " 14  surge_multiplier             693071 non-null  float64\n",
      " 15  latitude                     693071 non-null  float64\n",
      " 16  longitude                    693071 non-null  float64\n",
      " 17  temperature                  693071 non-null  float64\n",
      " 18  apparentTemperature          693071 non-null  float64\n",
      " 19  short_summary                693071 non-null  object \n",
      " 20  long_summary                 693071 non-null  object \n",
      " 21  precipIntensity              693071 non-null  float64\n",
      " 22  precipProbability            693071 non-null  float64\n",
      " 23  humidity                     693071 non-null  float64\n",
      " 24  windSpeed                    693071 non-null  float64\n",
      " 25  windGust                     693071 non-null  float64\n",
      " 26  windGustTime                 693071 non-null  int64  \n",
      " 27  visibility                   693071 non-null  float64\n",
      " 28  temperatureHigh              693071 non-null  float64\n",
      " 29  temperatureHighTime          693071 non-null  int64  \n",
      " 30  temperatureLow               693071 non-null  float64\n",
      " 31  temperatureLowTime           693071 non-null  int64  \n",
      " 32  apparentTemperatureHigh      693071 non-null  float64\n",
      " 33  apparentTemperatureHighTime  693071 non-null  int64  \n",
      " 34  apparentTemperatureLow       693071 non-null  float64\n",
      " 35  apparentTemperatureLowTime   693071 non-null  int64  \n",
      " 36  icon                         693071 non-null  object \n",
      " 37  dewPoint                     693071 non-null  float64\n",
      " 38  pressure                     693071 non-null  float64\n",
      " 39  windBearing                  693071 non-null  int64  \n",
      " 40  cloudCover                   693071 non-null  float64\n",
      " 41  uvIndex                      693071 non-null  int64  \n",
      " 42  visibility.1                 693071 non-null  float64\n",
      " 43  ozone                        693071 non-null  float64\n",
      " 44  sunriseTime                  693071 non-null  int64  \n",
      " 45  sunsetTime                   693071 non-null  int64  \n",
      " 46  moonPhase                    693071 non-null  float64\n",
      " 47  precipIntensityMax           693071 non-null  float64\n",
      " 48  uvIndexTime                  693071 non-null  int64  \n",
      " 49  temperatureMin               693071 non-null  float64\n",
      " 50  temperatureMinTime           693071 non-null  int64  \n",
      " 51  temperatureMax               693071 non-null  float64\n",
      " 52  temperatureMaxTime           693071 non-null  int64  \n",
      " 53  apparentTemperatureMin       693071 non-null  float64\n",
      " 54  apparentTemperatureMinTime   693071 non-null  int64  \n",
      " 55  apparentTemperatureMax       693071 non-null  float64\n",
      " 56  apparentTemperatureMaxTime   693071 non-null  int64  \n",
      "dtypes: float64(29), int64(17), object(11)\n",
      "memory usage: 301.4+ MB\n"
     ]
    }
   ],
   "source": [
    "df.info()"
   ]
  },
  {
   "cell_type": "markdown",
   "metadata": {},
   "source": [
    "Dari informasi di atas, dapat diketahui fitur yang numerical (hour, day, month, price, distance, dsb) dan categorical (cab_type, name, short_summary, dsb). "
   ]
  },
  {
   "cell_type": "markdown",
   "metadata": {},
   "source": [
    "## Data Cleaning"
   ]
  },
  {
   "cell_type": "markdown",
   "metadata": {},
   "source": [
    "### Check Duplicated Data"
   ]
  },
  {
   "cell_type": "code",
   "execution_count": 5,
   "metadata": {},
   "outputs": [
    {
     "data": {
      "text/plain": [
       "0"
      ]
     },
     "execution_count": 5,
     "metadata": {},
     "output_type": "execute_result"
    }
   ],
   "source": [
    "df.duplicated().sum()"
   ]
  },
  {
   "cell_type": "markdown",
   "metadata": {},
   "source": [
    "Berdasarkan hasil di atas, tidak ada data yang duplikat"
   ]
  },
  {
   "cell_type": "markdown",
   "metadata": {},
   "source": [
    "### Remove Unnecessary Column"
   ]
  },
  {
   "cell_type": "markdown",
   "metadata": {},
   "source": [
    "Pada tahap ini, kami hanya mengambil beberapa kolom saja yang akan digunakan untuk analisis dan pemodelan menggunakan regresi linear"
   ]
  },
  {
   "cell_type": "markdown",
   "metadata": {},
   "source": [
    "Kolom yang di drop:\n",
    "- id: tidak digunakan karena tidak relevan dengan analisis yang dilakukan terhadap harga uber dan lyft\n",
    "- timestamp: tidak digunakan karena tidak relevan dengan analisis yang dilakukan terhadap harga uber dan lyft\n",
    "- datetime: tidak digunakan karena sudah ada penjabaran di kolom day, hour, dan month \n",
    "- timezone: tidak digunakan karena hanya ada berisikan data yang homogen (America/New York)\n",
    "- product_id: tidak digunakan karena tidak relevan dengan analisis yang dilakukan terhadap harga uber dan lyft\n",
    "- latitude dan longitude: tidak digunakan karena tidak ada keterangan jelas terkait latitude & longitude itu merupakan latitude & longitude source atau destination\n",
    "- temperatureHigh, temperatureLow, apparentTemperatureLow, apparentTemperature, apparentTemperatureHigh, apparentTemperatureMin, apparentTemperatureMax: : tidak digunakan karena kita memutuskan untuk mengambil rata-rata temperature yang tercermin dari kolom temperature\n",
    "- precipIntensity: tidak digunakan karena tidak relevan dengan analisis yang dilakukan terhadap harga uber dan lyft\n",
    "- precipProbability: tidak digunakan karena tidak relevan dengan analisis yang dilakukan terhadap harga uber dan lyft\n",
    "- windGust: tidak digunakan karena tidak relevan dengan analisis yang dilakukan terhadap harga uber dan lyft\n",
    "- windGustTime: tidak digunakan karena tidak relevan dengan analisis yang dilakukan terhadap harga uber dan lyft\n",
    "- icon: tidak digunakan karena isi dari kolomnya telah terwakili oleh short_summary\n",
    "- dewpoint: tidak digunakan karena tidak relevan dengan analisis yang dilakukan terhadap harga uber dan lyft\n",
    "- windBearing: tidak digunakan karena tidak relevan dengan analisis yang dilakukan terhadap harga uber dan lyft\n",
    "- long_summary: tidak digunakan karena isi dari kolomnya telah terwakili oleh short_summary\n",
    "- humidity: tidak digunakan karena tidak relevan dengan analisis yang dilakukan terhadap harga uber dan lyft\n",
    "- windSpeed: tidak digunakan karena tidak relevan dengan analisis yang dilakukan terhadap harga uber dan lyft\n",
    "- visibility dan visibility.1: tidak digunakan karena tidak relevan dengan analisis yang dilakukan terhadap harga uber dan lyft\n",
    "- pressure: tidak digunakan karena tidak relevan dengan analisis yang dilakukan terhadap harga uber dan lyft\n",
    "- cloudCover: tidak digunakan karena tidak relevan dengan analisis yang dilakukan terhadap harga uber dan lyft\n",
    "- uvIndex: tidak digunakan karena tidak relevan dengan analisis yang dilakukan terhadap harga uber dan lyft\n",
    "- ozone: tidak digunakan karena tidak relevan dengan analisis yang dilakukan terhadap harga uber dan lyft\n",
    "- sunriseTime: tidak digunakan karena tidak relevan dengan analisis yang dilakukan terhadap harga uber dan lyft\n",
    "- moonPhase: tidak digunakan karena tidak relevan dengan analisis yang dilakukan terhadap harga uber dan lyft\n",
    "- precipIntensityMax: tidak digunakan karena tidak relevan dengan analisis yang dilakukan terhadap harga uber dan lyft\n",
    "- uvIndexTime: tidak digunakan karena tidak relevan dengan analisis yang dilakukan terhadap harga uber dan lyft\n",
    "- temperatureHighTime, temperatureLowTime, apparentTemperatureHighTime, apparentTemperatureLowTime, apparentTemperatureMaxTime, apparentTemperatureMinTime: tidak digunakan karena tidak relevan dengan analisis yang dilakukan terhadap harga uber dan lyft"
   ]
  },
  {
   "cell_type": "markdown",
   "metadata": {},
   "source": [
    "Karena kolom-kolom yang tidak relevan dengan analisis yang akan dilakukan didrop, maka kolom yang akan kami gunakan adalah sebagai berikut:\n",
    "1. hour: merupakan jam ketika pemesanan uber dan lyft dilakukan oleh customer (digunakan karena dugaan awal pada jam-jam tertentu harga dari uber dan lyft akan mengalami peningkatan, seperti pada saat pulang kerja)\n",
    "2. month: merupakan bulan ketika pemesanan uber dan lyft dilakukan oleh customer (digunakan karena dugaan awal pada bulan-bulan tertentu harga dari uber dan lyft terjadi penurunan atau peningkatan)\n",
    "3. source: merupakan lokasi dimana customer melakukan pemesanan uber dan lyft (digunakan untuk melakukan analisis lokasi-lokasi yang memiliki demand tinggi terkait dengan tempat pemesanan uber dan lyft)\n",
    "4. destination: merupakan tujuan dari customer uber dan lyft (digunakan untuk melakukan analisis terhadap lokasi-lokasi yang sering dituju oleh customer uber dan lyft)\n",
    "5. cab_type: merupakan jenis taxi yang digunakan, yaitu uber atau lyft (digunakan karena dugaan awal kedua jenis taxi ini memiliki harga yang berbeda sehingga dapat memengaruhi harga dari taxi yang dipesan)\n",
    "6. price: merupakan harga \n",
    "7. distance: merupakan jarang dari source ke destination (digunakan karena secara umum jarak memengaruhi fare dari taxi)\n",
    "8. surge_multiplier: pengali untuk harga standar (digunakan karena multiplier berpengaruh terhadap harga)\n",
    "9. temperature: suhu (digunakan karena dugaan awal temperature memengaruhi harga dari uber atau lyft)\n",
    "10. short_summary: cuaca (digunakan karena dugaan awal cuaca memengaruhi harga dari uber atau lyft)\n",
    "11. name: jenis mobil yang digunakan (digunakan karena jenis mobil dapat memengaruhi harga dari uber atau lyft)\n",
    "12. day: merupakan tanggal dari pemesanan uber dan lyft yang dilakukan oleh customer (digunakan karena dugaan awal tanggal dapat memengaruhi harga dari Uber dan Lyft)"
   ]
  },
  {
   "cell_type": "code",
   "execution_count": 6,
   "metadata": {},
   "outputs": [
    {
     "data": {
      "text/html": [
       "<div>\n",
       "<style scoped>\n",
       "    .dataframe tbody tr th:only-of-type {\n",
       "        vertical-align: middle;\n",
       "    }\n",
       "\n",
       "    .dataframe tbody tr th {\n",
       "        vertical-align: top;\n",
       "    }\n",
       "\n",
       "    .dataframe thead th {\n",
       "        text-align: right;\n",
       "    }\n",
       "</style>\n",
       "<table border=\"1\" class=\"dataframe\">\n",
       "  <thead>\n",
       "    <tr style=\"text-align: right;\">\n",
       "      <th></th>\n",
       "      <th>name</th>\n",
       "      <th>day</th>\n",
       "      <th>hour</th>\n",
       "      <th>month</th>\n",
       "      <th>source</th>\n",
       "      <th>destination</th>\n",
       "      <th>cab_type</th>\n",
       "      <th>price</th>\n",
       "      <th>distance</th>\n",
       "      <th>surge_multiplier</th>\n",
       "      <th>temperature</th>\n",
       "      <th>short_summary</th>\n",
       "    </tr>\n",
       "  </thead>\n",
       "  <tbody>\n",
       "    <tr>\n",
       "      <th>0</th>\n",
       "      <td>Shared</td>\n",
       "      <td>16</td>\n",
       "      <td>9</td>\n",
       "      <td>12</td>\n",
       "      <td>Haymarket Square</td>\n",
       "      <td>North Station</td>\n",
       "      <td>Lyft</td>\n",
       "      <td>5.0</td>\n",
       "      <td>0.44</td>\n",
       "      <td>1.0</td>\n",
       "      <td>42.34</td>\n",
       "      <td>Mostly Cloudy</td>\n",
       "    </tr>\n",
       "    <tr>\n",
       "      <th>1</th>\n",
       "      <td>Lux</td>\n",
       "      <td>27</td>\n",
       "      <td>2</td>\n",
       "      <td>11</td>\n",
       "      <td>Haymarket Square</td>\n",
       "      <td>North Station</td>\n",
       "      <td>Lyft</td>\n",
       "      <td>11.0</td>\n",
       "      <td>0.44</td>\n",
       "      <td>1.0</td>\n",
       "      <td>43.58</td>\n",
       "      <td>Rain</td>\n",
       "    </tr>\n",
       "    <tr>\n",
       "      <th>2</th>\n",
       "      <td>Lyft</td>\n",
       "      <td>28</td>\n",
       "      <td>1</td>\n",
       "      <td>11</td>\n",
       "      <td>Haymarket Square</td>\n",
       "      <td>North Station</td>\n",
       "      <td>Lyft</td>\n",
       "      <td>7.0</td>\n",
       "      <td>0.44</td>\n",
       "      <td>1.0</td>\n",
       "      <td>38.33</td>\n",
       "      <td>Clear</td>\n",
       "    </tr>\n",
       "    <tr>\n",
       "      <th>3</th>\n",
       "      <td>Lux Black XL</td>\n",
       "      <td>30</td>\n",
       "      <td>4</td>\n",
       "      <td>11</td>\n",
       "      <td>Haymarket Square</td>\n",
       "      <td>North Station</td>\n",
       "      <td>Lyft</td>\n",
       "      <td>26.0</td>\n",
       "      <td>0.44</td>\n",
       "      <td>1.0</td>\n",
       "      <td>34.38</td>\n",
       "      <td>Clear</td>\n",
       "    </tr>\n",
       "    <tr>\n",
       "      <th>4</th>\n",
       "      <td>Lyft XL</td>\n",
       "      <td>29</td>\n",
       "      <td>3</td>\n",
       "      <td>11</td>\n",
       "      <td>Haymarket Square</td>\n",
       "      <td>North Station</td>\n",
       "      <td>Lyft</td>\n",
       "      <td>9.0</td>\n",
       "      <td>0.44</td>\n",
       "      <td>1.0</td>\n",
       "      <td>37.44</td>\n",
       "      <td>Partly Cloudy</td>\n",
       "    </tr>\n",
       "    <tr>\n",
       "      <th>...</th>\n",
       "      <td>...</td>\n",
       "      <td>...</td>\n",
       "      <td>...</td>\n",
       "      <td>...</td>\n",
       "      <td>...</td>\n",
       "      <td>...</td>\n",
       "      <td>...</td>\n",
       "      <td>...</td>\n",
       "      <td>...</td>\n",
       "      <td>...</td>\n",
       "      <td>...</td>\n",
       "      <td>...</td>\n",
       "    </tr>\n",
       "    <tr>\n",
       "      <th>693066</th>\n",
       "      <td>UberXL</td>\n",
       "      <td>1</td>\n",
       "      <td>23</td>\n",
       "      <td>12</td>\n",
       "      <td>West End</td>\n",
       "      <td>North End</td>\n",
       "      <td>Uber</td>\n",
       "      <td>13.0</td>\n",
       "      <td>1.00</td>\n",
       "      <td>1.0</td>\n",
       "      <td>37.05</td>\n",
       "      <td>Partly Cloudy</td>\n",
       "    </tr>\n",
       "    <tr>\n",
       "      <th>693067</th>\n",
       "      <td>UberX</td>\n",
       "      <td>1</td>\n",
       "      <td>23</td>\n",
       "      <td>12</td>\n",
       "      <td>West End</td>\n",
       "      <td>North End</td>\n",
       "      <td>Uber</td>\n",
       "      <td>9.5</td>\n",
       "      <td>1.00</td>\n",
       "      <td>1.0</td>\n",
       "      <td>37.05</td>\n",
       "      <td>Partly Cloudy</td>\n",
       "    </tr>\n",
       "    <tr>\n",
       "      <th>693068</th>\n",
       "      <td>Taxi</td>\n",
       "      <td>1</td>\n",
       "      <td>23</td>\n",
       "      <td>12</td>\n",
       "      <td>West End</td>\n",
       "      <td>North End</td>\n",
       "      <td>Uber</td>\n",
       "      <td>NaN</td>\n",
       "      <td>1.00</td>\n",
       "      <td>1.0</td>\n",
       "      <td>37.05</td>\n",
       "      <td>Partly Cloudy</td>\n",
       "    </tr>\n",
       "    <tr>\n",
       "      <th>693069</th>\n",
       "      <td>Black SUV</td>\n",
       "      <td>1</td>\n",
       "      <td>23</td>\n",
       "      <td>12</td>\n",
       "      <td>West End</td>\n",
       "      <td>North End</td>\n",
       "      <td>Uber</td>\n",
       "      <td>27.0</td>\n",
       "      <td>1.00</td>\n",
       "      <td>1.0</td>\n",
       "      <td>37.05</td>\n",
       "      <td>Partly Cloudy</td>\n",
       "    </tr>\n",
       "    <tr>\n",
       "      <th>693070</th>\n",
       "      <td>UberPool</td>\n",
       "      <td>1</td>\n",
       "      <td>23</td>\n",
       "      <td>12</td>\n",
       "      <td>West End</td>\n",
       "      <td>North End</td>\n",
       "      <td>Uber</td>\n",
       "      <td>10.0</td>\n",
       "      <td>1.00</td>\n",
       "      <td>1.0</td>\n",
       "      <td>37.05</td>\n",
       "      <td>Partly Cloudy</td>\n",
       "    </tr>\n",
       "  </tbody>\n",
       "</table>\n",
       "<p>693071 rows × 12 columns</p>\n",
       "</div>"
      ],
      "text/plain": [
       "                name  day  hour  month            source    destination  \\\n",
       "0             Shared   16     9     12  Haymarket Square  North Station   \n",
       "1                Lux   27     2     11  Haymarket Square  North Station   \n",
       "2               Lyft   28     1     11  Haymarket Square  North Station   \n",
       "3       Lux Black XL   30     4     11  Haymarket Square  North Station   \n",
       "4            Lyft XL   29     3     11  Haymarket Square  North Station   \n",
       "...              ...  ...   ...    ...               ...            ...   \n",
       "693066        UberXL    1    23     12          West End      North End   \n",
       "693067         UberX    1    23     12          West End      North End   \n",
       "693068          Taxi    1    23     12          West End      North End   \n",
       "693069     Black SUV    1    23     12          West End      North End   \n",
       "693070      UberPool    1    23     12          West End      North End   \n",
       "\n",
       "       cab_type  price  distance  surge_multiplier  temperature  \\\n",
       "0          Lyft    5.0      0.44               1.0        42.34   \n",
       "1          Lyft   11.0      0.44               1.0        43.58   \n",
       "2          Lyft    7.0      0.44               1.0        38.33   \n",
       "3          Lyft   26.0      0.44               1.0        34.38   \n",
       "4          Lyft    9.0      0.44               1.0        37.44   \n",
       "...         ...    ...       ...               ...          ...   \n",
       "693066     Uber   13.0      1.00               1.0        37.05   \n",
       "693067     Uber    9.5      1.00               1.0        37.05   \n",
       "693068     Uber    NaN      1.00               1.0        37.05   \n",
       "693069     Uber   27.0      1.00               1.0        37.05   \n",
       "693070     Uber   10.0      1.00               1.0        37.05   \n",
       "\n",
       "          short_summary  \n",
       "0        Mostly Cloudy   \n",
       "1                 Rain   \n",
       "2                Clear   \n",
       "3                Clear   \n",
       "4        Partly Cloudy   \n",
       "...                 ...  \n",
       "693066   Partly Cloudy   \n",
       "693067   Partly Cloudy   \n",
       "693068   Partly Cloudy   \n",
       "693069   Partly Cloudy   \n",
       "693070   Partly Cloudy   \n",
       "\n",
       "[693071 rows x 12 columns]"
      ]
     },
     "execution_count": 6,
     "metadata": {},
     "output_type": "execute_result"
    }
   ],
   "source": [
    "df1 = df[['name','day','hour', 'month', 'source', 'destination', 'cab_type', 'price', 'distance','surge_multiplier','temperature','short_summary']]\n",
    "df1"
   ]
  },
  {
   "cell_type": "markdown",
   "metadata": {},
   "source": [
    "### Check Missing Value"
   ]
  },
  {
   "cell_type": "code",
   "execution_count": 7,
   "metadata": {},
   "outputs": [
    {
     "data": {
      "text/plain": [
       "name                    0\n",
       "day                     0\n",
       "hour                    0\n",
       "month                   0\n",
       "source                  0\n",
       "destination             0\n",
       "cab_type                0\n",
       "price               55095\n",
       "distance                0\n",
       "surge_multiplier        0\n",
       "temperature             0\n",
       "short_summary           0\n",
       "dtype: int64"
      ]
     },
     "execution_count": 7,
     "metadata": {},
     "output_type": "execute_result"
    }
   ],
   "source": [
    "df1.isnull().sum()"
   ]
  },
  {
   "cell_type": "markdown",
   "metadata": {},
   "source": [
    "Dari pengecekan di atas masih terdapat missing values pada kolom price"
   ]
  },
  {
   "cell_type": "code",
   "execution_count": 8,
   "metadata": {
    "scrolled": false
   },
   "outputs": [
    {
     "name": "stdout",
     "output_type": "stream",
     "text": [
      "Nilai unik dalam kolom:  NAME\n",
      "['Shared' 'Lux' 'Lyft' 'Lux Black XL' 'Lyft XL' 'Lux Black' 'UberXL'\n",
      " 'Black' 'UberX' 'WAV' 'Black SUV' 'UberPool' 'Taxi']\n",
      "Nilai unik dalam kolom:  DAY\n",
      "[16 27 28 30 29 17 26  2  3 13 14  1 18 15  4 10  9]\n",
      "Nilai unik dalam kolom:  HOUR\n",
      "[ 9  2  1  4  3 18  5 19  6 10 16 22 23  0 14 11  7 20 13  8 12 21 17 15]\n",
      "Nilai unik dalam kolom:  MONTH\n",
      "[12 11]\n",
      "Nilai unik dalam kolom:  SOURCE\n",
      "['Haymarket Square' 'Back Bay' 'North End' 'North Station' 'Beacon Hill'\n",
      " 'Boston University' 'Fenway' 'South Station' 'Theatre District'\n",
      " 'West End' 'Financial District' 'Northeastern University']\n",
      "Nilai unik dalam kolom:  DESTINATION\n",
      "['North Station' 'Northeastern University' 'West End' 'Haymarket Square'\n",
      " 'South Station' 'Fenway' 'Theatre District' 'Beacon Hill' 'Back Bay'\n",
      " 'North End' 'Financial District' 'Boston University']\n",
      "Nilai unik dalam kolom:  CAB_TYPE\n",
      "['Lyft' 'Uber']\n",
      "Nilai unik dalam kolom:  PRICE\n",
      "[ 5.   11.    7.   26.    9.   16.5  10.5   3.   27.5  13.5  12.   16.\n",
      "  7.5   5.5    nan  3.5   8.5  15.   20.5  19.5  29.5   9.5  22.   13.\n",
      " 17.   10.   34.   18.5  36.   22.5  32.5  25.   27.   35.    8.   23.5\n",
      " 14.   26.5  38.5  23.   30.5  17.5  30.   36.5  12.5  33.5  21.5  38.\n",
      " 18.   33.   32.    6.5  11.5  31.5  28.5  24.   29.   31.   42.5  41.\n",
      " 19.   52.5  67.5  15.5  21.   45.5  28.   37.5  14.5  47.5   4.5  40.5\n",
      " 55.   42.   46.5  50.5  24.5  41.5  56.   25.5  39.   57.5  20.   39.5\n",
      "  6.   35.5  48.5  37.   45.   44.   34.5   2.5  46.   48.   47.   54.\n",
      " 52.   62.   43.   43.5  80.   65.   51.5  40.   49.5  58.   75.   62.5\n",
      " 92.   87.   64.5  87.5  73.5  44.5  80.5  89.   53.   81.5  60.5  49.\n",
      " 53.5  51.   55.5  37.85 59.   18.35 54.5  76.   57.   89.5  68.5  58.5\n",
      " 63.   61.5  68.   28.35 10.6   7.98 59.5  56.5   8.35 11.6  64.   67.\n",
      "  9.35 97.5  45.35 19.35]\n",
      "Nilai unik dalam kolom:  DISTANCE\n",
      "[0.44 1.08 1.11 0.72 2.48 3.24 2.94 1.76 0.71 1.23 1.16 2.67 3.39 2.82\n",
      " 2.49 3.07 1.57 3.2  3.61 3.05 1.75 2.36 2.32 1.02 1.17 4.43 1.4  1.01\n",
      " 2.84 1.3  1.81 2.44 3.04 2.59 3.25 2.66 3.26 2.39 3.28 2.81 3.18 2.63\n",
      " 3.14 1.79 2.16 1.39 1.97 2.92 2.14 0.91 2.58 3.23 3.02 0.64 2.38 0.8\n",
      " 2.07 2.61 3.45 1.35 2.8  1.03 3.35 2.93 1.07 3.17 1.2  7.46 1.58 1.71\n",
      " 1.21 1.61 3.3  4.39 0.55 4.42 1.45 0.61 0.49 0.39 3.8  2.46 2.34 2.56\n",
      " 4.23 1.56 2.35 3.37 1.52 2.05 2.15 1.26 1.5  4.76 1.34 3.41 1.33 2.19\n",
      " 1.04 1.22 1.09 0.54 2.09 3.68 1.66 1.92 2.33 2.25 2.88 3.42 0.63 1.41\n",
      " 4.51 0.56 3.47 4.09 2.73 3.19 0.65 2.78 1.   2.62 2.77 2.47 1.43 3.1\n",
      " 1.89 2.3  4.31 1.06 1.64 1.86 4.1  1.74 2.31 2.83 3.48 1.78 4.44 0.52\n",
      " 0.92 3.08 0.43 5.33 4.5  0.46 2.91 1.14 3.22 1.69 0.81 1.36 1.73 4.61\n",
      " 2.68 2.03 4.73 2.27 1.25 3.43 2.72 3.15 0.59 0.53 3.44 2.17 2.96 0.76\n",
      " 3.79 2.43 2.5  4.55 2.12 2.   5.32 0.42 1.47 2.86 3.12 2.85 1.49 4.35\n",
      " 0.3  1.59 1.46 3.06 5.56 2.37 2.41 1.37 3.16 0.73 3.03 4.48 1.7  2.29\n",
      " 2.79 0.74 2.24 7.34 4.3  1.19 1.55 0.62 2.4  4.54 2.54 0.99 2.74 2.42\n",
      " 3.52 3.53 2.98 1.1  0.88 2.75 4.59 1.8  1.72 1.05 1.91 4.69 1.28 1.54\n",
      " 2.9  2.13 3.21 0.86 2.1  2.57 3.5  2.45 1.38 1.53 1.44 1.42 2.99 0.57\n",
      " 2.04 3.01 0.68 3.59 2.53 4.32 4.15 2.01 2.21 1.15 5.4  1.12 1.24 5.41\n",
      " 4.57 3.55 2.89 2.28 3.75 2.7  1.9  2.65 3.31 2.87 5.38 4.68 0.5  3.36\n",
      " 0.48 2.51 0.79 0.94 4.46 2.97 4.13 5.35 4.72 3.32 3.29 5.31 2.22 3.11\n",
      " 1.93 1.99 1.94 0.98 1.87 1.65 0.75 3.46 4.4  4.53 2.2  0.95 1.51 6.26\n",
      " 2.08 0.84 2.11 1.27 3.96 1.13 0.9  2.06 1.32 1.98 1.67 0.58 1.31 4.74\n",
      " 2.02 0.67 4.17 4.01 1.77 0.78 4.47 0.45 4.56 7.2  1.88 0.66 4.58 3.\n",
      " 0.97 1.85 3.49 1.96 1.48 0.77 2.26 0.89 5.34 4.94 1.63 2.18 0.6  3.13\n",
      " 3.27 2.23 4.45 2.52 4.33 2.69 2.55 2.95 3.98 4.19 5.28 5.46 4.   4.52\n",
      " 1.82 5.44 3.99 0.02 1.95 1.18 1.68 3.4  5.7  1.84 3.09 4.2  4.8  3.58\n",
      " 5.2  3.66 3.7  0.87 4.49 3.51 5.21 2.6  0.4  5.14 4.77 4.11 0.7  4.37\n",
      " 3.71 4.6  4.41 4.12 3.77 4.25 3.91 4.14 0.03 2.76 5.42 4.08 4.78 4.75\n",
      " 4.26 0.12 4.36 4.18 0.82 0.69 3.33 4.16 2.71 1.62 0.47 4.34 6.97 0.93\n",
      " 3.9  3.89 3.95 5.23 4.22 3.54 3.97 5.45 2.64 4.03 0.51 4.96 1.83 4.93\n",
      " 6.83 3.64 4.38 6.27 4.62 4.66 3.69 6.91 5.39 7.19 3.76 5.3  0.85 3.63\n",
      " 3.34 5.29 5.36 3.72 3.65 4.7  1.29 7.04 3.93 4.21 3.78 4.29 5.27 4.67\n",
      " 0.83 5.22 3.74 4.28 5.13 4.86 4.65 4.06 5.24 4.79 5.37 4.98 3.67 4.64\n",
      " 5.25 5.15 4.05 0.96 3.85 5.69 4.24 3.82 7.24 3.84 4.27 6.33 4.95 3.57\n",
      " 3.83 0.04 5.1  6.03 4.82 5.09 5.04 5.12 4.97 3.73 3.38 0.35 5.43 1.6\n",
      " 7.5  0.38 4.81 5.17 5.11 5.16 7.18 7.25 4.63 3.88 4.02 5.02 5.26 4.71\n",
      " 4.91 4.9  4.04 4.07 7.45 3.94 3.56 4.84 3.62 0.29 0.17 0.27 3.81 7.38\n",
      " 3.87 5.18 4.83 3.6  3.86 5.19 6.09 7.62 3.92 6.04 6.   6.13 5.47 5.05\n",
      " 6.14 5.86 5.66 6.12 4.89 4.85 5.01 5.08 0.41 5.95 5.   5.06 7.36 5.03\n",
      " 4.87 4.99 7.86]\n",
      "Nilai unik dalam kolom:  SURGE_MULTIPLIER\n",
      "[1.   1.25 2.5  2.   1.75 1.5  3.  ]\n",
      "Nilai unik dalam kolom:  TEMPERATURE\n",
      "[42.34 43.58 38.33 34.38 37.44 38.75 41.99 49.88 45.58 45.45 40.13 41.47\n",
      " 20.38 32.85 41.29 31.25 43.49 36.99 40.36 42.95 24.71 37.11 42.42 42.02\n",
      " 40.4  40.68 44.94 39.75 45.35 48.83 43.73 48.23 45.82 38.54 34.81 39.02\n",
      " 38.95 42.5  27.93 45.84 34.4  41.09 43.96 47.95 41.16 32.07 43.51 36.5\n",
      " 43.65 47.27 41.3  48.12 39.35 43.61 57.22 33.15 18.97 40.43 46.66 40.92\n",
      " 38.74 25.21 31.8  48.43 52.1  37.83 35.98 49.7  47.56 38.61 40.38 20.01\n",
      " 40.47 37.95 37.28 18.91 41.6  40.29 24.61 34.26 42.81 37.26 41.35 46.3\n",
      " 54.62 31.87 37.92 45.69 41.   46.36 26.21 42.27 25.55 29.05 38.41 50.43\n",
      " 46.78 19.28 43.91 41.91 42.25 48.45 35.54 32.31 46.23 54.38 39.13 43.99\n",
      " 30.8  27.71 53.51 44.15 33.71 34.87 44.34 20.07 42.21 20.42 42.11 42.01\n",
      " 45.16 44.93 41.19 38.19 35.95 29.36 43.02 43.64 31.74 40.77 36.89 38.18\n",
      " 38.42 49.11 35.68 41.24 30.58 40.33 40.39 41.94 53.34 45.78 38.6  46.62\n",
      " 49.34 42.08 40.7  40.86 40.78 41.82 40.08 37.71 31.24 46.91 41.43 26.47\n",
      " 36.27 43.38 40.88 40.61 52.9  42.23 41.34 48.11 31.57 32.05 45.46 37.45\n",
      " 39.41 42.38 52.45 40.49 40.19 45.8  36.95 44.52 41.77 30.64 42.85 40.3\n",
      " 45.12 46.52 32.34 43.   28.58 30.46 44.95 38.68 40.9  28.42 46.81 37.06\n",
      " 37.05 39.27 39.19 30.87 51.15 34.59 47.93 29.63 43.57 40.55 40.1  39.67\n",
      " 31.41 37.4  35.19 30.09 50.71 23.26 36.45 31.98 41.53 43.03 38.62 40.2\n",
      " 36.53 52.68 44.89 31.71 28.2  42.82 27.77 47.25 37.79 38.35 47.21 27.83\n",
      " 34.62 30.04 45.18 40.01 29.68 37.62 41.4  37.75 43.29 27.41 44.29 45.83\n",
      " 22.18 42.19 39.33 40.45 38.72 23.19 43.06 41.97 20.23 43.14 40.67 40.87\n",
      " 41.39 29.39 30.78 46.15 47.87 32.6  49.5  38.8  33.78 31.54 30.42 32.67\n",
      " 38.92 35.45 41.83 41.89 38.96 53.1  37.21 45.32 45.96 39.79 35.52 30.26\n",
      " 45.4  36.08 45.07 47.34 29.22 48.63 44.88 41.46 34.37 42.91 41.59 29.09\n",
      " 37.93 46.59 35.84 35.01 47.71 54.59 36.87 42.84 37.97 41.22 37.96 29.35\n",
      " 43.94 51.84 49.65 35.22 31.1  40.93 34.51 41.52]\n",
      "Nilai unik dalam kolom:  SHORT_SUMMARY\n",
      "[' Mostly Cloudy ' ' Rain ' ' Clear ' ' Partly Cloudy ' ' Overcast '\n",
      " ' Light Rain ' ' Foggy ' ' Possible Drizzle ' ' Drizzle ']\n"
     ]
    }
   ],
   "source": [
    "for col in df1:\n",
    "    print(\"Nilai unik dalam kolom: \", col.upper())\n",
    "    print(df1[col].unique())"
   ]
  },
  {
   "cell_type": "markdown",
   "metadata": {},
   "source": [
    "Dari pengecekan di atas, terdapat nan pada kolom price. Kemudian, untuk kolom-kolom lain tidak terdapat nilai yang aneh."
   ]
  },
  {
   "cell_type": "markdown",
   "metadata": {},
   "source": [
    "### Persentase Missing Value"
   ]
  },
  {
   "cell_type": "code",
   "execution_count": 9,
   "metadata": {},
   "outputs": [
    {
     "data": {
      "text/plain": [
       "7.949402009317948"
      ]
     },
     "execution_count": 9,
     "metadata": {},
     "output_type": "execute_result"
    }
   ],
   "source": [
    "100*55095/len(df1)"
   ]
  },
  {
   "cell_type": "markdown",
   "metadata": {},
   "source": [
    "Persentase missing value hanya sebesar 7.949%. Olehh karena itu, kami memutuskan untuk langsung membuang missing value tersebut karena data yang bersifat missing value persentasenya tidak besar"
   ]
  },
  {
   "cell_type": "markdown",
   "metadata": {},
   "source": [
    "## Remove Missing Values"
   ]
  },
  {
   "cell_type": "code",
   "execution_count": 10,
   "metadata": {},
   "outputs": [],
   "source": [
    "df1.dropna(inplace=True)"
   ]
  },
  {
   "cell_type": "code",
   "execution_count": 11,
   "metadata": {},
   "outputs": [
    {
     "data": {
      "text/plain": [
       "name                0\n",
       "day                 0\n",
       "hour                0\n",
       "month               0\n",
       "source              0\n",
       "destination         0\n",
       "cab_type            0\n",
       "price               0\n",
       "distance            0\n",
       "surge_multiplier    0\n",
       "temperature         0\n",
       "short_summary       0\n",
       "dtype: int64"
      ]
     },
     "execution_count": 11,
     "metadata": {},
     "output_type": "execute_result"
    }
   ],
   "source": [
    "df1.isnull().sum()"
   ]
  },
  {
   "cell_type": "markdown",
   "metadata": {},
   "source": [
    "Dapat dilihat bahwa missing value di kolom price telah berhasil dibuang"
   ]
  },
  {
   "cell_type": "markdown",
   "metadata": {},
   "source": [
    "## Central Tendency"
   ]
  },
  {
   "cell_type": "markdown",
   "metadata": {},
   "source": [
    "Pada analisis statistik ini, kami ingin mengetahui persebaran data dari kolom distance karena secara umum distance dapat dikatakan sebagai faktor yang memengaruhi harga dari sebuah taxi online. Seperti yang diketahui bahwa semakin dekat jarak ke tempat tujuan, maka tarif dari taxi online pun juga semakin murah, begitu juga sebaliknya."
   ]
  },
  {
   "cell_type": "markdown",
   "metadata": {},
   "source": [
    "### Mean"
   ]
  },
  {
   "cell_type": "code",
   "execution_count": 12,
   "metadata": {},
   "outputs": [
    {
     "name": "stdout",
     "output_type": "stream",
     "text": [
      "Rata-rata distance: 2.189261100730992\n"
     ]
    }
   ],
   "source": [
    "print('Rata-rata distance:',df1.distance.mean())"
   ]
  },
  {
   "cell_type": "markdown",
   "metadata": {},
   "source": [
    "### Median "
   ]
  },
  {
   "cell_type": "code",
   "execution_count": 13,
   "metadata": {},
   "outputs": [
    {
     "name": "stdout",
     "output_type": "stream",
     "text": [
      "Median dari distance: 2.16\n"
     ]
    }
   ],
   "source": [
    "print('Median dari distance:',df1.distance.median())"
   ]
  },
  {
   "cell_type": "markdown",
   "metadata": {},
   "source": [
    "### Mode"
   ]
  },
  {
   "cell_type": "code",
   "execution_count": 14,
   "metadata": {},
   "outputs": [
    {
     "name": "stdout",
     "output_type": "stream",
     "text": [
      "Mode dari distance: 2.66\n"
     ]
    }
   ],
   "source": [
    "print('Mode dari distance:',df1.distance.mode()[0])"
   ]
  },
  {
   "cell_type": "markdown",
   "metadata": {},
   "source": [
    "## Measure of Spread"
   ]
  },
  {
   "cell_type": "markdown",
   "metadata": {},
   "source": [
    "### Range"
   ]
  },
  {
   "cell_type": "code",
   "execution_count": 15,
   "metadata": {},
   "outputs": [
    {
     "name": "stdout",
     "output_type": "stream",
     "text": [
      "Range dari distance: 7.840000000000001\n"
     ]
    }
   ],
   "source": [
    "print('Range dari distance:',df1.distance.max()-df1.distance.min())"
   ]
  },
  {
   "cell_type": "markdown",
   "metadata": {},
   "source": [
    "### Standard Deviation"
   ]
  },
  {
   "cell_type": "code",
   "execution_count": 16,
   "metadata": {},
   "outputs": [
    {
     "name": "stdout",
     "output_type": "stream",
     "text": [
      "Standard deviation dari distance: 1.1354130181864042\n"
     ]
    }
   ],
   "source": [
    "print('Standard deviation dari distance:',df1.distance.std())"
   ]
  },
  {
   "cell_type": "markdown",
   "metadata": {},
   "source": [
    "### Variance"
   ]
  },
  {
   "cell_type": "code",
   "execution_count": 17,
   "metadata": {},
   "outputs": [
    {
     "name": "stdout",
     "output_type": "stream",
     "text": [
      "Variance dari distance: 1.28916272186716\n"
     ]
    }
   ],
   "source": [
    "print('Variance dari distance:',df1.distance.var())"
   ]
  },
  {
   "cell_type": "markdown",
   "metadata": {},
   "source": [
    "## Exploratory Data Analysis"
   ]
  },
  {
   "cell_type": "markdown",
   "metadata": {},
   "source": [
    "### Demand Analysis"
   ]
  },
  {
   "cell_type": "code",
   "execution_count": 18,
   "metadata": {},
   "outputs": [],
   "source": [
    "plt.style.use(\"fivethirtyeight\")"
   ]
  },
  {
   "cell_type": "code",
   "execution_count": 19,
   "metadata": {},
   "outputs": [
    {
     "data": {
      "image/png": "[encoded data removed]",
      "text/plain": [
       "<Figure size 720x360 with 1 Axes>"
      ]
     },
     "metadata": {},
     "output_type": "display_data"
    }
   ],
   "source": [
    "df1gr = df1[['month']].groupby(['month']).agg({'month':'count'})\n",
    "df1gr.plot(kind='bar', legend=False, figsize=(10,5))\n",
    "plt.title(\"Demand of Uber and Lyft's Ride based on Month\", bbox={'facecolor':'1', 'pad':5})\n",
    "plt.show()"
   ]
  },
  {
   "cell_type": "markdown",
   "metadata": {},
   "source": [
    "Berdasarkan visualisasi di atas dapat dilihat bahwa demand untuk Uber and Lyft lebih banyak pada bulan December apabila dibandingkan dengan bulan November. Hal ini dapat disebabkan karena pada bulan December sudah memasuki winter holidays, sehingga banyak masyarakat Boston yang bepergian ke luar."
   ]
  },
  {
   "cell_type": "code",
   "execution_count": 20,
   "metadata": {},
   "outputs": [
    {
     "data": {
      "image/png": "[encoded data removed]",
      "text/plain": [
       "<Figure size 720x360 with 1 Axes>"
      ]
     },
     "metadata": {},
     "output_type": "display_data"
    }
   ],
   "source": [
    "df2gr = df1[['hour']].groupby(['hour']).agg({'hour':'count'})\n",
    "df2gr.plot(kind='bar', legend=False, figsize=(10,5))\n",
    "plt.title(\"Demand of Uber and Lyft's Ride based on Hour\", bbox={'facecolor':'1', 'pad':5})\n",
    "plt.show()"
   ]
  },
  {
   "cell_type": "markdown",
   "metadata": {},
   "source": [
    "Berdasarkan visualisasi di atas permintaan terhadap Uber dan Lyft lebih banyak di sekitar jam 00:00 (12 malam). Selain itu, dari bar chart di atas juga dapat dilihat bahwa pada jam 10:00 hingga 18:00 jumlah permintaan dari customer cenderung sama"
   ]
  },
  {
   "cell_type": "code",
   "execution_count": 21,
   "metadata": {},
   "outputs": [
    {
     "data": {
      "image/png": "[encoded data removed]",
      "text/plain": [
       "<Figure size 720x360 with 1 Axes>"
      ]
     },
     "metadata": {},
     "output_type": "display_data"
    }
   ],
   "source": [
    "df77gr = df1[['day']].groupby(['day']).agg({'day':'count'})\n",
    "df77gr.plot(kind='bar', legend=False, figsize=(10,5))\n",
    "plt.title(\"Demand of Uber and Lyft's Ride based on Day\", bbox={'facecolor':'1', 'pad':5})\n",
    "plt.show()"
   ]
  },
  {
   "cell_type": "markdown",
   "metadata": {},
   "source": [
    "Permintaan pada pemesanan Uber dan Lyft yang paling tinggi pada bulan November dan Desember ada di akhir bulan, yaitu setiap tanggal 27 hingga 29."
   ]
  },
  {
   "cell_type": "markdown",
   "metadata": {},
   "source": [
    "### Price Analysis"
   ]
  },
  {
   "cell_type": "markdown",
   "metadata": {},
   "source": [
    "$H_0$ : **`The Prices of Uber and Lyft are normally distributed`** <br>\n",
    "$H_1$ : **`The Prices of Uber and Lyft are not normally distributed`** <br>"
   ]
  },
  {
   "cell_type": "code",
   "execution_count": 22,
   "metadata": {},
   "outputs": [
    {
     "name": "stdout",
     "output_type": "stream",
     "text": [
      "p-value from the test Anderson-Darling test below 0.05 generally means non-normal: 0.0\n",
      "Prices of Uber and Lyft are not normally distributed\n"
     ]
    }
   ],
   "source": [
    "p_value = normal_ad(df1['price'])[1]\n",
    "print('p-value from the test Anderson-Darling test below 0.05 generally means non-normal:', p_value)\n",
    "\n",
    "if p_value < 0.05:\n",
    "    print('Prices of Uber and Lyft are not normally distributed')\n",
    "else:\n",
    "    print('Prices of Uber and Lyft are  normally distributed')"
   ]
  },
  {
   "cell_type": "markdown",
   "metadata": {},
   "source": [
    "$H_0$ ditolak karena p-value dari Anderson Darling test di bawah 0.05, sehingga dapat disimpulkan bahwa harga dari Uber dan Lyft tidak berdistribusi normal"
   ]
  },
  {
   "cell_type": "code",
   "execution_count": 23,
   "metadata": {},
   "outputs": [
    {
     "data": {
      "image/png": "[encoded data removed]",
      "text/plain": [
       "<Figure size 576x288 with 1 Axes>"
      ]
     },
     "metadata": {},
     "output_type": "display_data"
    }
   ],
   "source": [
    "plt.subplots(figsize=(8, 4))\n",
    "plt.title('Distribution of the Price', fontsize=12)\n",
    "sns.distplot(df1['price'])\n",
    "plt.show()"
   ]
  },
  {
   "cell_type": "code",
   "execution_count": 24,
   "metadata": {},
   "outputs": [
    {
     "name": "stdout",
     "output_type": "stream",
     "text": [
      "Average price: 16.545125490614065\n",
      "Standart deviation price: 9.324358581419423\n"
     ]
    }
   ],
   "source": [
    "print('Average price:', df1.price.mean())\n",
    "print('Standart deviation price:', df1.price.std())"
   ]
  },
  {
   "cell_type": "markdown",
   "metadata": {},
   "source": [
    "Berdasarkan plot di atas dapat dilihat bahwa distribusi harga dari Uber dan Lyft tergolong sebagai right skewed dengan rata-rata sebesar 16.545 dan standard deviasi sebesar 9.324. Oleh karena itu dapat dikatakan bahwa harga dari Uber dan Lyft berada pada range [7.221,25.869] (didapatkan melalui [Mean - std, Mean + std])"
   ]
  },
  {
   "cell_type": "code",
   "execution_count": 25,
   "metadata": {},
   "outputs": [
    {
     "data": {
      "image/png": "[encoded data removed]",
      "text/plain": [
       "<Figure size 432x288 with 1 Axes>"
      ]
     },
     "metadata": {},
     "output_type": "display_data"
    }
   ],
   "source": [
    "df5gr = df1[['hour','price']].groupby(['hour']).agg({'price':'mean'})\n",
    "df5gr.plot(kind='line', legend=False)\n",
    "plt.title(\"Average Price of Uber and Lyft based on Hour\", fontsize=10)\n",
    "plt.show()"
   ]
  },
  {
   "cell_type": "markdown",
   "metadata": {},
   "source": [
    "Berdasarkan line chart di atas, rata-rata harga tertinggi Uber dan Lyft berada saat jam 17.00 dengan rata-rata harga sebesar 16.607996. Sedangkan harga dengan rata-rata terendah, yaitu pada jam 23:00"
   ]
  },
  {
   "cell_type": "code",
   "execution_count": 26,
   "metadata": {},
   "outputs": [
    {
     "name": "stdout",
     "output_type": "stream",
     "text": [
      "                                                     price\n",
      "source                  destination                       \n",
      "Back Bay                Boston University        14.039392\n",
      "                        Fenway                   13.658752\n",
      "                        Haymarket Square         17.987384\n",
      "                        North End                19.473019\n",
      "                        Northeastern University  13.151040\n",
      "                        South Station            17.700711\n",
      "Beacon Hill             Boston University        16.376737\n",
      "                        Fenway                   16.158840\n",
      "                        Haymarket Square         13.799137\n",
      "                        North End                15.270942\n",
      "                        Northeastern University  16.471792\n",
      "                        South Station            15.950661\n",
      "Boston University       Back Bay                 13.992801\n",
      "                        Beacon Hill              17.315535\n",
      "                        Financial District       24.146085\n",
      "                        North Station            20.185338\n",
      "                        Theatre District         18.689557\n",
      "                        West End                 18.611766\n",
      "Fenway                  Back Bay                 13.802155\n",
      "                        Beacon Hill              16.796674\n",
      "                        Financial District       23.438818\n",
      "                        North Station            19.701839\n",
      "                        Theatre District         18.232722\n",
      "                        West End                 18.161806\n",
      "Financial District      Boston University        25.498434\n",
      "                        Fenway                   23.404850\n",
      "                        Haymarket Square         13.188209\n",
      "                        North End                13.179635\n",
      "                        Northeastern University  21.918584\n",
      "                        South Station            12.349066\n",
      "Haymarket Square        Back Bay                 16.860489\n",
      "                        Beacon Hill              13.338559\n",
      "                        Financial District       12.731618\n",
      "                        North Station            12.332545\n",
      "                        Theatre District         13.677272\n",
      "                        West End                 12.529855\n",
      "North End               Back Bay                 19.550935\n",
      "                        Beacon Hill              15.982630\n",
      "                        Financial District       13.417597\n",
      "                        North Station            12.824092\n",
      "                        Theatre District         15.169406\n",
      "                        West End                 13.494873\n",
      "North Station           Boston University        18.931558\n",
      "                        Fenway                   18.547603\n",
      "                        Haymarket Square         12.571791\n",
      "                        North End                13.106641\n",
      "                        Northeastern University  19.537848\n",
      "                        South Station            15.374198\n",
      "Northeastern University Back Bay                 13.698923\n",
      "                        Beacon Hill              16.842433\n",
      "                        Financial District       22.582094\n",
      "                        North Station            19.910939\n",
      "                        Theatre District         16.144805\n",
      "                        West End                 18.204155\n",
      "South Station           Back Bay                 19.103822\n",
      "                        Beacon Hill              17.276304\n",
      "                        Financial District       12.436910\n",
      "                        North Station            15.746736\n",
      "                        Theatre District         13.952579\n",
      "                        West End                 15.881172\n",
      "Theatre District        Boston University        20.360662\n",
      "                        Fenway                   19.069278\n",
      "                        Haymarket Square         15.204973\n",
      "                        North End                15.159646\n",
      "                        Northeastern University  16.910751\n",
      "                        South Station            12.888926\n",
      "West End                Boston University        18.157165\n",
      "                        Fenway                   17.932692\n",
      "                        Haymarket Square         12.771290\n",
      "                        North End                13.370017\n",
      "                        Northeastern University  18.964969\n",
      "                        South Station            15.018255\n"
     ]
    }
   ],
   "source": [
    "df7gr = df1[['price','source','destination']].groupby(['source','destination']).agg({'price':'mean'})\n",
    "with pd.option_context('display.max_rows', None,):\n",
    "    print(df7gr)"
   ]
  },
  {
   "cell_type": "code",
   "execution_count": 27,
   "metadata": {},
   "outputs": [
    {
     "data": {
      "text/plain": [
       "25.498434004474273"
      ]
     },
     "execution_count": 27,
     "metadata": {},
     "output_type": "execute_result"
    }
   ],
   "source": [
    "df7gr.price.max()"
   ]
  },
  {
   "cell_type": "markdown",
   "metadata": {},
   "source": [
    "Rute dengan rata-rata harga termahal adalah dari Financial District menuju Boston University dengan rata-rata harga sebesar 25.498"
   ]
  },
  {
   "cell_type": "markdown",
   "metadata": {},
   "source": [
    "### Source and Destination Analysis"
   ]
  },
  {
   "cell_type": "markdown",
   "metadata": {},
   "source": [
    "#### Source"
   ]
  },
  {
   "cell_type": "code",
   "execution_count": 28,
   "metadata": {},
   "outputs": [
    {
     "data": {
      "text/plain": [
       "Financial District    54197\n",
       "Back Bay              53201\n",
       "Theatre District      53201\n",
       "Boston University     53172\n",
       "North End             53171\n",
       "Name: source, dtype: int64"
      ]
     },
     "execution_count": 28,
     "metadata": {},
     "output_type": "execute_result"
    }
   ],
   "source": [
    "df1.source.value_counts().head(5)"
   ]
  },
  {
   "cell_type": "code",
   "execution_count": 29,
   "metadata": {},
   "outputs": [
    {
     "data": {
      "image/png": "[encoded data removed]",
      "text/plain": [
       "<Figure size 432x288 with 1 Axes>"
      ]
     },
     "metadata": {},
     "output_type": "display_data"
    }
   ],
   "source": [
    "label = ['Financial District','Back Bay','Theatre District','Boston University','North End']\n",
    "\n",
    "plt.pie(df1.source.value_counts().head(5), labels = label, autopct='%1.1f%%', pctdistance=0.75)\n",
    "\n",
    "center_circle = plt.Circle((0,0),0.70, fc='white')\n",
    "\n",
    "fig = plt.gcf()\n",
    "\n",
    "fig.gca().add_artist(center_circle)\n",
    "\n",
    "plt.title(\"Top 5 Source\")\n",
    "\n",
    "plt.show()"
   ]
  },
  {
   "cell_type": "markdown",
   "metadata": {},
   "source": [
    "Berdasarkan data di atas sebagian customer naik Uber dan Lyft dari Financial District dengan persentase sebesar 20.3%."
   ]
  },
  {
   "cell_type": "markdown",
   "metadata": {},
   "source": [
    "#### Destination"
   ]
  },
  {
   "cell_type": "code",
   "execution_count": 30,
   "metadata": {},
   "outputs": [
    {
     "data": {
      "text/plain": [
       "Financial District    54192\n",
       "Back Bay              53190\n",
       "Theatre District      53189\n",
       "Haymarket Square      53171\n",
       "Boston University     53171\n",
       "Name: destination, dtype: int64"
      ]
     },
     "execution_count": 30,
     "metadata": {},
     "output_type": "execute_result"
    }
   ],
   "source": [
    "df1.destination.value_counts().head(5)"
   ]
  },
  {
   "cell_type": "code",
   "execution_count": 31,
   "metadata": {},
   "outputs": [
    {
     "data": {
      "image/png": "[encoded data removed]",
      "text/plain": [
       "<Figure size 432x288 with 1 Axes>"
      ]
     },
     "metadata": {},
     "output_type": "display_data"
    }
   ],
   "source": [
    "label = ['Financial District','Back Bay','Theatre District','Haymarket Square','Boston University']\n",
    "\n",
    "plt.pie(df1.destination.value_counts().head(5), labels = label, autopct='%1.1f%%', pctdistance=0.75)\n",
    "\n",
    "center_circle = plt.Circle((0,0),0.70, fc='white')\n",
    "\n",
    "fig = plt.gcf()\n",
    "\n",
    "fig.gca().add_artist(center_circle)\n",
    "\n",
    "plt.title(\"Top 5 Destination\")\n",
    "\n",
    "plt.show()"
   ]
  },
  {
   "cell_type": "markdown",
   "metadata": {},
   "source": [
    "Secara umum, banyak customer dari uber dan lyft yang melakukan pemesanan dengan tujuan ke Financial District dengan persentase sebesar 20.3%"
   ]
  },
  {
   "cell_type": "markdown",
   "metadata": {},
   "source": [
    "Setelah mengetahui tujuan dari customer uber dan lyft secara keseluruhan, selanjutnya, kita akan melakukan analisis terhadap destination yang paling banyak dituju oleh customer yang naik Uber dan Lyft dari Financial District (destinasi awal yang paling banyak)."
   ]
  },
  {
   "cell_type": "code",
   "execution_count": 32,
   "metadata": {},
   "outputs": [],
   "source": [
    "df_fd = df1[df1['source']=='Financial District']"
   ]
  },
  {
   "cell_type": "code",
   "execution_count": 33,
   "metadata": {},
   "outputs": [
    {
     "data": {
      "text/plain": [
       "South Station              9534\n",
       "Haymarket Square           9329\n",
       "Boston University          8940\n",
       "Fenway                     8928\n",
       "Northeastern University    8868\n",
       "North End                  8598\n",
       "Name: destination, dtype: int64"
      ]
     },
     "execution_count": 33,
     "metadata": {},
     "output_type": "execute_result"
    }
   ],
   "source": [
    "df_fd.destination.value_counts()"
   ]
  },
  {
   "cell_type": "code",
   "execution_count": 34,
   "metadata": {},
   "outputs": [
    {
     "data": {
      "image/png": "[encoded data removed]",
      "text/plain": [
       "<Figure size 432x288 with 1 Axes>"
      ]
     },
     "metadata": {},
     "output_type": "display_data"
    }
   ],
   "source": [
    "label = ['South Station','Haymarket Square','Boston University','Fenway','Northeastern University','North End']\n",
    "\n",
    "plt.pie(df_fd.destination.value_counts(), labels = label, autopct='%1.1f%%')\n",
    "\n",
    "center_circle = plt.Circle((0,0),0.70, fc='white')\n",
    "\n",
    "fig = plt.gcf()\n",
    "\n",
    "fig.gca().add_artist(center_circle)\n",
    "\n",
    "plt.title(\"The Destination of People Taking Uber and Lyft from the Financial District\")\n",
    "\n",
    "plt.show()"
   ]
  },
  {
   "cell_type": "markdown",
   "metadata": {},
   "source": [
    "Destinasi yang paling banyak dituju oleh orang yang naik Uber dan Lyft dari Financial District adalah South Station"
   ]
  },
  {
   "cell_type": "markdown",
   "metadata": {},
   "source": [
    "### Uber vs Lyft"
   ]
  },
  {
   "cell_type": "markdown",
   "metadata": {},
   "source": [
    "#### Demand"
   ]
  },
  {
   "cell_type": "code",
   "execution_count": 35,
   "metadata": {},
   "outputs": [
    {
     "data": {
      "image/png": "[encoded data removed]",
      "text/plain": [
       "<Figure size 432x288 with 1 Axes>"
      ]
     },
     "metadata": {},
     "output_type": "display_data"
    }
   ],
   "source": [
    "df1.cab_type.value_counts().plot(kind='pie', autopct='%.2f')\n",
    "plt.title(\"Uber vs Lyft\", fontsize=15)\n",
    "plt.ylabel('')\n",
    "plt.show()"
   ]
  },
  {
   "cell_type": "markdown",
   "metadata": {},
   "source": [
    "Berdasarkan pie chart di atas Uber memiliki demand yang lebih tinggi daripada lyft"
   ]
  },
  {
   "cell_type": "code",
   "execution_count": 36,
   "metadata": {},
   "outputs": [
    {
     "data": {
      "text/plain": [
       "Text(0.5, 1.0, 'Demand Uber vs Lyft based on Month')"
      ]
     },
     "execution_count": 36,
     "metadata": {},
     "output_type": "execute_result"
    },
    {
     "data": {
      "image/png": "[encoded data removed]",
      "text/plain": [
       "<Figure size 432x288 with 1 Axes>"
      ]
     },
     "metadata": {},
     "output_type": "display_data"
    }
   ],
   "source": [
    "df3gr = df1[['cab_type','month']].groupby(['cab_type','month']).agg({'month':'count'})\n",
    "df3gr.unstack(level=0).plot(kind='bar')\n",
    "plt.legend(['Lyft','Uber'], loc='center left', bbox_to_anchor=(1, 0.5))\n",
    "plt.title('Demand Uber vs Lyft based on Month',fontsize=15,bbox={'facecolor':'1', 'pad':5})"
   ]
  },
  {
   "cell_type": "markdown",
   "metadata": {},
   "source": [
    "Uber memiliki demand yang lebih tinggi daripada Lyft baik di bulan November maupun di bulan Desember"
   ]
  },
  {
   "cell_type": "code",
   "execution_count": 37,
   "metadata": {},
   "outputs": [
    {
     "data": {
      "image/png": "[encoded data removed]",
      "text/plain": [
       "<Figure size 432x288 with 1 Axes>"
      ]
     },
     "metadata": {},
     "output_type": "display_data"
    }
   ],
   "source": [
    "df4gr = df1[['cab_type','hour']].groupby(['cab_type','hour']).agg({'hour':'count'})\n",
    "df4gr.unstack(level=0).plot(kind='bar')\n",
    "plt.legend(['Lyft','Uber'], loc='center left', bbox_to_anchor=(1, 0.5))\n",
    "plt.title('Demand Uber vs Lyft based on Hour',fontsize=15,bbox={'facecolor':'1', 'pad':5})\n",
    "plt.show()"
   ]
  },
  {
   "cell_type": "markdown",
   "metadata": {},
   "source": [
    "Di setiap jamnya, Uber memiliki permintaan yang lebih tinggi daripada Lyft. Permintaan Uber paling banyak di jam 23:00, sedangkan untuk permintaan Lyft paling banyak di jam 00:00 (12 malam)"
   ]
  },
  {
   "cell_type": "markdown",
   "metadata": {},
   "source": [
    "#### Price"
   ]
  },
  {
   "cell_type": "code",
   "execution_count": 38,
   "metadata": {},
   "outputs": [],
   "source": [
    "df8 = df1[df1['cab_type']=='Uber']\n",
    "df9 = df1[df1['cab_type']=='Lyft']"
   ]
  },
  {
   "cell_type": "code",
   "execution_count": 39,
   "metadata": {},
   "outputs": [
    {
     "data": {
      "image/png": "[encoded data removed]",
      "text/plain": [
       "<Figure size 720x720 with 2 Axes>"
      ]
     },
     "metadata": {},
     "output_type": "display_data"
    }
   ],
   "source": [
    "fig = plt.figure(figsize=(10, 10))\n",
    "fig.subplots_adjust(hspace=.5, wspace=.5)\n",
    "\n",
    "ax = fig.add_subplot(3,2,1)\n",
    "sns.distplot(df8['price'])\n",
    "ax.set_title(\"Distribution of Uber's Price\", fontsize=10)\n",
    "\n",
    "ax = fig.add_subplot(3,2,2)\n",
    "sns.distplot(df9['price'])\n",
    "ax.set_title(\"Distribution of Lyft's Price\", fontsize=10)\n",
    "\n",
    "plt.show()"
   ]
  },
  {
   "cell_type": "markdown",
   "metadata": {},
   "source": [
    "**Distribusi dari harga Uber dan Lyft tergolong right skewed apabalia dilihat berdasarkan plot di atas**"
   ]
  },
  {
   "cell_type": "code",
   "execution_count": 40,
   "metadata": {},
   "outputs": [
    {
     "name": "stdout",
     "output_type": "stream",
     "text": [
      "Average price of Uber: 15.795343166912708\n",
      "Standart deviation price of Uber: 8.560299982017439\n",
      "Average price of Lyft: 17.351396125019512\n",
      "Standart deviation price of Lyft: 10.019170761821647\n"
     ]
    }
   ],
   "source": [
    "print('Average price of Uber:', df8.price.mean())\n",
    "print('Standart deviation price of Uber:', df8.price.std())\n",
    "\n",
    "print('Average price of Lyft:', df9.price.mean())\n",
    "print('Standart deviation price of Lyft:', df9.price.std())"
   ]
  },
  {
   "cell_type": "markdown",
   "metadata": {},
   "source": [
    "- Rata-rata harga dari Uber adalah 15.795 dengan standar deviasi sebesar 8.56. Artinya, persebaran harga dari Uber berada di antara [7.235, 24.355]. (dihitung menggunakan [mean - std, mean + std]\n",
    "- Rata-rata harga dari Lyft adalah 17.351 dengan standar deviasi sebesar 10.019. Artinya, persebaran harga dari Lyft berada di antara [7.332, 27.37]. (dihitung menggunakan [mean - std, mean + std]\n"
   ]
  },
  {
   "cell_type": "code",
   "execution_count": 41,
   "metadata": {},
   "outputs": [
    {
     "data": {
      "image/png": "[encoded data removed]",
      "text/plain": [
       "<Figure size 432x288 with 1 Axes>"
      ]
     },
     "metadata": {},
     "output_type": "display_data"
    }
   ],
   "source": [
    "df6gr = df1[['cab_type','hour','price']].groupby(['cab_type','hour']).agg({'price':'mean'})\n",
    "df6gr.unstack(level=0).plot(kind='line')\n",
    "plt.legend(['Lyft','Uber'], loc='center left', bbox_to_anchor=(1, 0.5))\n",
    "plt.title('Price Uber vs Lyft based on Hour',fontsize=15,bbox={'facecolor':'1', 'pad':5})\n",
    "plt.show()"
   ]
  },
  {
   "cell_type": "markdown",
   "metadata": {},
   "source": [
    "Dari visualisasi di atas dapat ditarik beberapa insight:\n",
    "1. Harga Uber cenderung lebih murah daripada Lyft di setiap jamnya, sehingga permintaan Uber lebih banyak daripada Lyft\n",
    "2. Rata-rata harga Uber yang paling tinggi yaitu pada jam 21:00 dengan nilai sebesar 15.9\n",
    "3. Rata-rata harga Lyft yang paling tinggi yaitu pada jam 11:00 dengan nilai sebesar 17.5\n",
    "4. Rata-rata harga Lyft yang paling rendah yaitu pada jam 18:00 dengan nilai sebesar 17.2\n",
    "5. Rata-rata harga Uber yang paling rendah yaitu pada jam 12:00 dengan nilai sebesar 15.69"
   ]
  },
  {
   "cell_type": "markdown",
   "metadata": {},
   "source": [
    "## Correlation between Variables"
   ]
  },
  {
   "cell_type": "code",
   "execution_count": 42,
   "metadata": {
    "scrolled": false
   },
   "outputs": [
    {
     "data": {
      "image/png": "[encoded data removed]",
      "text/plain": [
       "<Figure size 1440x1440 with 2 Axes>"
      ]
     },
     "metadata": {},
     "output_type": "display_data"
    }
   ],
   "source": [
    "fig = plt.figure(figsize=(20, 20))\n",
    "sns.heatmap(df1.corr(), annot=True, fmt=\".3f\")\n",
    "plt.show()"
   ]
  },
  {
   "cell_type": "markdown",
   "metadata": {},
   "source": [
    "Berdasarkan heatmap di atas variabel numerik yang memiliki korelasi yang cukup kuat dengan variabel price adalah surge_multiplier dan distance. Oleh karena itu, variabel numerik yang akan digunakan sebagai variabel independen adalah distance dan surge multiplier. "
   ]
  },
  {
   "cell_type": "markdown",
   "metadata": {},
   "source": [
    "## Check Multicollinearity"
   ]
  },
  {
   "cell_type": "markdown",
   "metadata": {},
   "source": [
    "Multikolinearitas merupakan uji untuk mengecek apakah suatu variabel independen dapat diprediksi dari variabel independen lainnya."
   ]
  },
  {
   "cell_type": "code",
   "execution_count": 43,
   "metadata": {},
   "outputs": [],
   "source": [
    "def calc_vif(x):\n",
    "    vif = pd.DataFrame()\n",
    "    vif['Variables'] = x.columns\n",
    "    vif['VIF'] = [variance_inflation_factor(x.values, i) for i in range(x.shape[1])]\n",
    "    \n",
    "    return vif"
   ]
  },
  {
   "cell_type": "code",
   "execution_count": 44,
   "metadata": {},
   "outputs": [
    {
     "data": {
      "text/html": [
       "<div>\n",
       "<style scoped>\n",
       "    .dataframe tbody tr th:only-of-type {\n",
       "        vertical-align: middle;\n",
       "    }\n",
       "\n",
       "    .dataframe tbody tr th {\n",
       "        vertical-align: top;\n",
       "    }\n",
       "\n",
       "    .dataframe thead th {\n",
       "        text-align: right;\n",
       "    }\n",
       "</style>\n",
       "<table border=\"1\" class=\"dataframe\">\n",
       "  <thead>\n",
       "    <tr style=\"text-align: right;\">\n",
       "      <th></th>\n",
       "      <th>Variables</th>\n",
       "      <th>VIF</th>\n",
       "    </tr>\n",
       "  </thead>\n",
       "  <tbody>\n",
       "    <tr>\n",
       "      <th>0</th>\n",
       "      <td>surge_multiplier</td>\n",
       "      <td>4.610678</td>\n",
       "    </tr>\n",
       "    <tr>\n",
       "      <th>1</th>\n",
       "      <td>distance</td>\n",
       "      <td>4.610678</td>\n",
       "    </tr>\n",
       "  </tbody>\n",
       "</table>\n",
       "</div>"
      ],
      "text/plain": [
       "          Variables       VIF\n",
       "0  surge_multiplier  4.610678\n",
       "1          distance  4.610678"
      ]
     },
     "execution_count": 44,
     "metadata": {},
     "output_type": "execute_result"
    }
   ],
   "source": [
    "iv = df1[['surge_multiplier','distance']]\n",
    "calc_vif(iv)"
   ]
  },
  {
   "cell_type": "markdown",
   "metadata": {},
   "source": [
    "Tidak terdapat multikolinearitas antar variabel independen yang bersifat numerik karena vif dari kedua variabel numerik tersebut di bawah 5."
   ]
  },
  {
   "cell_type": "markdown",
   "metadata": {},
   "source": [
    "## Label Encoding"
   ]
  },
  {
   "cell_type": "markdown",
   "metadata": {},
   "source": [
    "Selanjutnya, kita akan mengubah data-data yang bersifat categorical menjadi numerical untuk dapat digunakan sebagai fitur untuk regresi linear."
   ]
  },
  {
   "cell_type": "code",
   "execution_count": 45,
   "metadata": {},
   "outputs": [],
   "source": [
    "df1 = df1[['distance','surge_multiplier','price','cab_type','name','short_summary']]"
   ]
  },
  {
   "cell_type": "code",
   "execution_count": 46,
   "metadata": {},
   "outputs": [],
   "source": [
    "categorical = df1[['cab_type','name','short_summary']]"
   ]
  },
  {
   "cell_type": "code",
   "execution_count": 47,
   "metadata": {},
   "outputs": [],
   "source": [
    "for catcol in categorical:\n",
    "    dummies = pd.get_dummies(df1[catcol], prefix=catcol, drop_first=True)\n",
    "    df1 = pd.concat([df1, dummies], axis=1)\n",
    "    df1 = df1.drop([catcol], axis = 1)"
   ]
  },
  {
   "cell_type": "code",
   "execution_count": 48,
   "metadata": {},
   "outputs": [
    {
     "data": {
      "text/html": [
       "<div>\n",
       "<style scoped>\n",
       "    .dataframe tbody tr th:only-of-type {\n",
       "        vertical-align: middle;\n",
       "    }\n",
       "\n",
       "    .dataframe tbody tr th {\n",
       "        vertical-align: top;\n",
       "    }\n",
       "\n",
       "    .dataframe thead th {\n",
       "        text-align: right;\n",
       "    }\n",
       "</style>\n",
       "<table border=\"1\" class=\"dataframe\">\n",
       "  <thead>\n",
       "    <tr style=\"text-align: right;\">\n",
       "      <th></th>\n",
       "      <th>distance</th>\n",
       "      <th>surge_multiplier</th>\n",
       "      <th>price</th>\n",
       "      <th>cab_type_Uber</th>\n",
       "      <th>name_Black SUV</th>\n",
       "      <th>name_Lux</th>\n",
       "      <th>name_Lux Black</th>\n",
       "      <th>name_Lux Black XL</th>\n",
       "      <th>name_Lyft</th>\n",
       "      <th>name_Lyft XL</th>\n",
       "      <th>...</th>\n",
       "      <th>name_UberXL</th>\n",
       "      <th>name_WAV</th>\n",
       "      <th>short_summary_ Drizzle</th>\n",
       "      <th>short_summary_ Foggy</th>\n",
       "      <th>short_summary_ Light Rain</th>\n",
       "      <th>short_summary_ Mostly Cloudy</th>\n",
       "      <th>short_summary_ Overcast</th>\n",
       "      <th>short_summary_ Partly Cloudy</th>\n",
       "      <th>short_summary_ Possible Drizzle</th>\n",
       "      <th>short_summary_ Rain</th>\n",
       "    </tr>\n",
       "  </thead>\n",
       "  <tbody>\n",
       "    <tr>\n",
       "      <th>0</th>\n",
       "      <td>0.44</td>\n",
       "      <td>1.0</td>\n",
       "      <td>5.0</td>\n",
       "      <td>0</td>\n",
       "      <td>0</td>\n",
       "      <td>0</td>\n",
       "      <td>0</td>\n",
       "      <td>0</td>\n",
       "      <td>0</td>\n",
       "      <td>0</td>\n",
       "      <td>...</td>\n",
       "      <td>0</td>\n",
       "      <td>0</td>\n",
       "      <td>0</td>\n",
       "      <td>0</td>\n",
       "      <td>0</td>\n",
       "      <td>1</td>\n",
       "      <td>0</td>\n",
       "      <td>0</td>\n",
       "      <td>0</td>\n",
       "      <td>0</td>\n",
       "    </tr>\n",
       "    <tr>\n",
       "      <th>1</th>\n",
       "      <td>0.44</td>\n",
       "      <td>1.0</td>\n",
       "      <td>11.0</td>\n",
       "      <td>0</td>\n",
       "      <td>0</td>\n",
       "      <td>1</td>\n",
       "      <td>0</td>\n",
       "      <td>0</td>\n",
       "      <td>0</td>\n",
       "      <td>0</td>\n",
       "      <td>...</td>\n",
       "      <td>0</td>\n",
       "      <td>0</td>\n",
       "      <td>0</td>\n",
       "      <td>0</td>\n",
       "      <td>0</td>\n",
       "      <td>0</td>\n",
       "      <td>0</td>\n",
       "      <td>0</td>\n",
       "      <td>0</td>\n",
       "      <td>1</td>\n",
       "    </tr>\n",
       "    <tr>\n",
       "      <th>2</th>\n",
       "      <td>0.44</td>\n",
       "      <td>1.0</td>\n",
       "      <td>7.0</td>\n",
       "      <td>0</td>\n",
       "      <td>0</td>\n",
       "      <td>0</td>\n",
       "      <td>0</td>\n",
       "      <td>0</td>\n",
       "      <td>1</td>\n",
       "      <td>0</td>\n",
       "      <td>...</td>\n",
       "      <td>0</td>\n",
       "      <td>0</td>\n",
       "      <td>0</td>\n",
       "      <td>0</td>\n",
       "      <td>0</td>\n",
       "      <td>0</td>\n",
       "      <td>0</td>\n",
       "      <td>0</td>\n",
       "      <td>0</td>\n",
       "      <td>0</td>\n",
       "    </tr>\n",
       "    <tr>\n",
       "      <th>3</th>\n",
       "      <td>0.44</td>\n",
       "      <td>1.0</td>\n",
       "      <td>26.0</td>\n",
       "      <td>0</td>\n",
       "      <td>0</td>\n",
       "      <td>0</td>\n",
       "      <td>0</td>\n",
       "      <td>1</td>\n",
       "      <td>0</td>\n",
       "      <td>0</td>\n",
       "      <td>...</td>\n",
       "      <td>0</td>\n",
       "      <td>0</td>\n",
       "      <td>0</td>\n",
       "      <td>0</td>\n",
       "      <td>0</td>\n",
       "      <td>0</td>\n",
       "      <td>0</td>\n",
       "      <td>0</td>\n",
       "      <td>0</td>\n",
       "      <td>0</td>\n",
       "    </tr>\n",
       "    <tr>\n",
       "      <th>4</th>\n",
       "      <td>0.44</td>\n",
       "      <td>1.0</td>\n",
       "      <td>9.0</td>\n",
       "      <td>0</td>\n",
       "      <td>0</td>\n",
       "      <td>0</td>\n",
       "      <td>0</td>\n",
       "      <td>0</td>\n",
       "      <td>0</td>\n",
       "      <td>1</td>\n",
       "      <td>...</td>\n",
       "      <td>0</td>\n",
       "      <td>0</td>\n",
       "      <td>0</td>\n",
       "      <td>0</td>\n",
       "      <td>0</td>\n",
       "      <td>0</td>\n",
       "      <td>0</td>\n",
       "      <td>1</td>\n",
       "      <td>0</td>\n",
       "      <td>0</td>\n",
       "    </tr>\n",
       "    <tr>\n",
       "      <th>...</th>\n",
       "      <td>...</td>\n",
       "      <td>...</td>\n",
       "      <td>...</td>\n",
       "      <td>...</td>\n",
       "      <td>...</td>\n",
       "      <td>...</td>\n",
       "      <td>...</td>\n",
       "      <td>...</td>\n",
       "      <td>...</td>\n",
       "      <td>...</td>\n",
       "      <td>...</td>\n",
       "      <td>...</td>\n",
       "      <td>...</td>\n",
       "      <td>...</td>\n",
       "      <td>...</td>\n",
       "      <td>...</td>\n",
       "      <td>...</td>\n",
       "      <td>...</td>\n",
       "      <td>...</td>\n",
       "      <td>...</td>\n",
       "      <td>...</td>\n",
       "    </tr>\n",
       "    <tr>\n",
       "      <th>693065</th>\n",
       "      <td>1.00</td>\n",
       "      <td>1.0</td>\n",
       "      <td>9.5</td>\n",
       "      <td>1</td>\n",
       "      <td>0</td>\n",
       "      <td>0</td>\n",
       "      <td>0</td>\n",
       "      <td>0</td>\n",
       "      <td>0</td>\n",
       "      <td>0</td>\n",
       "      <td>...</td>\n",
       "      <td>0</td>\n",
       "      <td>1</td>\n",
       "      <td>0</td>\n",
       "      <td>0</td>\n",
       "      <td>0</td>\n",
       "      <td>0</td>\n",
       "      <td>0</td>\n",
       "      <td>1</td>\n",
       "      <td>0</td>\n",
       "      <td>0</td>\n",
       "    </tr>\n",
       "    <tr>\n",
       "      <th>693066</th>\n",
       "      <td>1.00</td>\n",
       "      <td>1.0</td>\n",
       "      <td>13.0</td>\n",
       "      <td>1</td>\n",
       "      <td>0</td>\n",
       "      <td>0</td>\n",
       "      <td>0</td>\n",
       "      <td>0</td>\n",
       "      <td>0</td>\n",
       "      <td>0</td>\n",
       "      <td>...</td>\n",
       "      <td>1</td>\n",
       "      <td>0</td>\n",
       "      <td>0</td>\n",
       "      <td>0</td>\n",
       "      <td>0</td>\n",
       "      <td>0</td>\n",
       "      <td>0</td>\n",
       "      <td>1</td>\n",
       "      <td>0</td>\n",
       "      <td>0</td>\n",
       "    </tr>\n",
       "    <tr>\n",
       "      <th>693067</th>\n",
       "      <td>1.00</td>\n",
       "      <td>1.0</td>\n",
       "      <td>9.5</td>\n",
       "      <td>1</td>\n",
       "      <td>0</td>\n",
       "      <td>0</td>\n",
       "      <td>0</td>\n",
       "      <td>0</td>\n",
       "      <td>0</td>\n",
       "      <td>0</td>\n",
       "      <td>...</td>\n",
       "      <td>0</td>\n",
       "      <td>0</td>\n",
       "      <td>0</td>\n",
       "      <td>0</td>\n",
       "      <td>0</td>\n",
       "      <td>0</td>\n",
       "      <td>0</td>\n",
       "      <td>1</td>\n",
       "      <td>0</td>\n",
       "      <td>0</td>\n",
       "    </tr>\n",
       "    <tr>\n",
       "      <th>693069</th>\n",
       "      <td>1.00</td>\n",
       "      <td>1.0</td>\n",
       "      <td>27.0</td>\n",
       "      <td>1</td>\n",
       "      <td>1</td>\n",
       "      <td>0</td>\n",
       "      <td>0</td>\n",
       "      <td>0</td>\n",
       "      <td>0</td>\n",
       "      <td>0</td>\n",
       "      <td>...</td>\n",
       "      <td>0</td>\n",
       "      <td>0</td>\n",
       "      <td>0</td>\n",
       "      <td>0</td>\n",
       "      <td>0</td>\n",
       "      <td>0</td>\n",
       "      <td>0</td>\n",
       "      <td>1</td>\n",
       "      <td>0</td>\n",
       "      <td>0</td>\n",
       "    </tr>\n",
       "    <tr>\n",
       "      <th>693070</th>\n",
       "      <td>1.00</td>\n",
       "      <td>1.0</td>\n",
       "      <td>10.0</td>\n",
       "      <td>1</td>\n",
       "      <td>0</td>\n",
       "      <td>0</td>\n",
       "      <td>0</td>\n",
       "      <td>0</td>\n",
       "      <td>0</td>\n",
       "      <td>0</td>\n",
       "      <td>...</td>\n",
       "      <td>0</td>\n",
       "      <td>0</td>\n",
       "      <td>0</td>\n",
       "      <td>0</td>\n",
       "      <td>0</td>\n",
       "      <td>0</td>\n",
       "      <td>0</td>\n",
       "      <td>1</td>\n",
       "      <td>0</td>\n",
       "      <td>0</td>\n",
       "    </tr>\n",
       "  </tbody>\n",
       "</table>\n",
       "<p>637976 rows × 23 columns</p>\n",
       "</div>"
      ],
      "text/plain": [
       "        distance  surge_multiplier  price  cab_type_Uber  name_Black SUV  \\\n",
       "0           0.44               1.0    5.0              0               0   \n",
       "1           0.44               1.0   11.0              0               0   \n",
       "2           0.44               1.0    7.0              0               0   \n",
       "3           0.44               1.0   26.0              0               0   \n",
       "4           0.44               1.0    9.0              0               0   \n",
       "...          ...               ...    ...            ...             ...   \n",
       "693065      1.00               1.0    9.5              1               0   \n",
       "693066      1.00               1.0   13.0              1               0   \n",
       "693067      1.00               1.0    9.5              1               0   \n",
       "693069      1.00               1.0   27.0              1               1   \n",
       "693070      1.00               1.0   10.0              1               0   \n",
       "\n",
       "        name_Lux  name_Lux Black  name_Lux Black XL  name_Lyft  name_Lyft XL  \\\n",
       "0              0               0                  0          0             0   \n",
       "1              1               0                  0          0             0   \n",
       "2              0               0                  0          1             0   \n",
       "3              0               0                  1          0             0   \n",
       "4              0               0                  0          0             1   \n",
       "...          ...             ...                ...        ...           ...   \n",
       "693065         0               0                  0          0             0   \n",
       "693066         0               0                  0          0             0   \n",
       "693067         0               0                  0          0             0   \n",
       "693069         0               0                  0          0             0   \n",
       "693070         0               0                  0          0             0   \n",
       "\n",
       "        ...  name_UberXL  name_WAV  short_summary_ Drizzle   \\\n",
       "0       ...            0         0                        0   \n",
       "1       ...            0         0                        0   \n",
       "2       ...            0         0                        0   \n",
       "3       ...            0         0                        0   \n",
       "4       ...            0         0                        0   \n",
       "...     ...          ...       ...                      ...   \n",
       "693065  ...            0         1                        0   \n",
       "693066  ...            1         0                        0   \n",
       "693067  ...            0         0                        0   \n",
       "693069  ...            0         0                        0   \n",
       "693070  ...            0         0                        0   \n",
       "\n",
       "        short_summary_ Foggy   short_summary_ Light Rain   \\\n",
       "0                           0                           0   \n",
       "1                           0                           0   \n",
       "2                           0                           0   \n",
       "3                           0                           0   \n",
       "4                           0                           0   \n",
       "...                       ...                         ...   \n",
       "693065                      0                           0   \n",
       "693066                      0                           0   \n",
       "693067                      0                           0   \n",
       "693069                      0                           0   \n",
       "693070                      0                           0   \n",
       "\n",
       "        short_summary_ Mostly Cloudy   short_summary_ Overcast   \\\n",
       "0                                   1                         0   \n",
       "1                                   0                         0   \n",
       "2                                   0                         0   \n",
       "3                                   0                         0   \n",
       "4                                   0                         0   \n",
       "...                               ...                       ...   \n",
       "693065                              0                         0   \n",
       "693066                              0                         0   \n",
       "693067                              0                         0   \n",
       "693069                              0                         0   \n",
       "693070                              0                         0   \n",
       "\n",
       "        short_summary_ Partly Cloudy   short_summary_ Possible Drizzle   \\\n",
       "0                                   0                                 0   \n",
       "1                                   0                                 0   \n",
       "2                                   0                                 0   \n",
       "3                                   0                                 0   \n",
       "4                                   1                                 0   \n",
       "...                               ...                               ...   \n",
       "693065                              1                                 0   \n",
       "693066                              1                                 0   \n",
       "693067                              1                                 0   \n",
       "693069                              1                                 0   \n",
       "693070                              1                                 0   \n",
       "\n",
       "        short_summary_ Rain   \n",
       "0                          0  \n",
       "1                          1  \n",
       "2                          0  \n",
       "3                          0  \n",
       "4                          0  \n",
       "...                      ...  \n",
       "693065                     0  \n",
       "693066                     0  \n",
       "693067                     0  \n",
       "693069                     0  \n",
       "693070                     0  \n",
       "\n",
       "[637976 rows x 23 columns]"
      ]
     },
     "execution_count": 48,
     "metadata": {},
     "output_type": "execute_result"
    }
   ],
   "source": [
    "df1"
   ]
  },
  {
   "cell_type": "markdown",
   "metadata": {},
   "source": [
    "## Data Pre-Processing"
   ]
  },
  {
   "cell_type": "markdown",
   "metadata": {},
   "source": [
    "### Split Data"
   ]
  },
  {
   "cell_type": "markdown",
   "metadata": {},
   "source": [
    "Untuk melakukan modelling kita akan membagi data menjadi dua, yaitu data training dengan persentase sebesar 75% dan data testing dengan persentase sebesar 25%."
   ]
  },
  {
   "cell_type": "code",
   "execution_count": 49,
   "metadata": {},
   "outputs": [],
   "source": [
    "train, test = train_test_split(df1, test_size=0.25, random_state=42)\n",
    "train_index = train.index\n",
    "test_index = test.index"
   ]
  },
  {
   "cell_type": "code",
   "execution_count": 50,
   "metadata": {},
   "outputs": [],
   "source": [
    "y_train = train[['price']]\n",
    "X_train = train.drop(['price'], axis=1)"
   ]
  },
  {
   "cell_type": "code",
   "execution_count": 51,
   "metadata": {},
   "outputs": [],
   "source": [
    "y_test = test[['price']]\n",
    "X_test = test.drop(['price'], axis=1)"
   ]
  },
  {
   "cell_type": "markdown",
   "metadata": {},
   "source": [
    "### Scale Data"
   ]
  },
  {
   "cell_type": "markdown",
   "metadata": {},
   "source": [
    "Kita akan melakukan proses standardization terhadap data train dan testing agar mean tiap kolom menjadi sama dengan nol dan std tiap kolom menjadi satu"
   ]
  },
  {
   "cell_type": "code",
   "execution_count": 52,
   "metadata": {},
   "outputs": [],
   "source": [
    "scaler = StandardScaler()\n",
    "X_train = scaler.fit_transform(X_train)"
   ]
  },
  {
   "cell_type": "code",
   "execution_count": 53,
   "metadata": {},
   "outputs": [],
   "source": [
    "X_test = scaler.transform(X_test)"
   ]
  },
  {
   "cell_type": "markdown",
   "metadata": {},
   "source": [
    "## Modelling"
   ]
  },
  {
   "cell_type": "markdown",
   "metadata": {},
   "source": [
    "Dalam pemodelan ini digunakan Regresi Linear karena kita melakukan prediksi harga berdasarkan data historical yang diketahui, seperti distance, surge_multiplier, name, cab_type, dan short_summary."
   ]
  },
  {
   "cell_type": "code",
   "execution_count": 54,
   "metadata": {},
   "outputs": [],
   "source": [
    "LR = LinearRegression()\n",
    "model = LR.fit(X_train, y_train)"
   ]
  },
  {
   "cell_type": "markdown",
   "metadata": {},
   "source": [
    "### Intercept and Slope"
   ]
  },
  {
   "cell_type": "code",
   "execution_count": 55,
   "metadata": {},
   "outputs": [
    {
     "name": "stdout",
     "output_type": "stream",
     "text": [
      "intercept: 16.543485470819277\n"
     ]
    }
   ],
   "source": [
    "print('intercept:', model.intercept_[0])"
   ]
  },
  {
   "cell_type": "code",
   "execution_count": 56,
   "metadata": {},
   "outputs": [
    {
     "name": "stdout",
     "output_type": "stream",
     "text": [
      "slope: [[ 3.17462082e+00  1.74322398e+00  4.04270847e+10  2.74577639e+00\n",
      "   2.19796602e+10  2.19493228e+10  2.20073305e+10  2.20352118e+10\n",
      "   2.19749566e+10  2.19770473e+10 -3.30524118e+00 -3.01531925e+00\n",
      "  -1.35739693e+00 -3.01933291e+00  7.51578361e-03 -3.82727085e-03\n",
      "   1.34700677e-03  2.51776830e-03 -1.98871728e-03  7.93535084e-04\n",
      "   6.61033551e-04  2.69073534e-03]]\n"
     ]
    }
   ],
   "source": [
    "print('slope:', model.coef_)"
   ]
  },
  {
   "cell_type": "markdown",
   "metadata": {},
   "source": [
    "### Model Evaluation"
   ]
  },
  {
   "cell_type": "markdown",
   "metadata": {},
   "source": [
    "#### Accuracy (R-squared) for Testing Data"
   ]
  },
  {
   "cell_type": "code",
   "execution_count": 57,
   "metadata": {
    "scrolled": true
   },
   "outputs": [
    {
     "data": {
      "text/plain": [
       "0.9274155604533441"
      ]
     },
     "execution_count": 57,
     "metadata": {},
     "output_type": "execute_result"
    }
   ],
   "source": [
    "Rsquared = model.score(X_test,y_test)\n",
    "Rsquared"
   ]
  },
  {
   "cell_type": "markdown",
   "metadata": {},
   "source": [
    "#### Accuracy (R-squared) for Testing Data"
   ]
  },
  {
   "cell_type": "code",
   "execution_count": 58,
   "metadata": {
    "scrolled": true
   },
   "outputs": [
    {
     "data": {
      "text/plain": [
       "0.9272250052428115"
      ]
     },
     "execution_count": 58,
     "metadata": {},
     "output_type": "execute_result"
    }
   ],
   "source": [
    "Rsquared1 = model.score(X_train,y_train)\n",
    "Rsquared1"
   ]
  },
  {
   "cell_type": "markdown",
   "metadata": {},
   "source": [
    "#### Comparison Between Testing and Training Data"
   ]
  },
  {
   "cell_type": "code",
   "execution_count": 59,
   "metadata": {},
   "outputs": [
    {
     "data": {
      "text/html": [
       "<div>\n",
       "<style scoped>\n",
       "    .dataframe tbody tr th:only-of-type {\n",
       "        vertical-align: middle;\n",
       "    }\n",
       "\n",
       "    .dataframe tbody tr th {\n",
       "        vertical-align: top;\n",
       "    }\n",
       "\n",
       "    .dataframe thead th {\n",
       "        text-align: right;\n",
       "    }\n",
       "</style>\n",
       "<table border=\"1\" class=\"dataframe\">\n",
       "  <thead>\n",
       "    <tr style=\"text-align: right;\">\n",
       "      <th></th>\n",
       "      <th>Keterangan</th>\n",
       "      <th>Accuracy</th>\n",
       "    </tr>\n",
       "  </thead>\n",
       "  <tbody>\n",
       "    <tr>\n",
       "      <th>0</th>\n",
       "      <td>Testing Data</td>\n",
       "      <td>0.927416</td>\n",
       "    </tr>\n",
       "    <tr>\n",
       "      <th>1</th>\n",
       "      <td>Training Data</td>\n",
       "      <td>0.927225</td>\n",
       "    </tr>\n",
       "  </tbody>\n",
       "</table>\n",
       "</div>"
      ],
      "text/plain": [
       "      Keterangan  Accuracy\n",
       "0   Testing Data  0.927416\n",
       "1  Training Data  0.927225"
      ]
     },
     "execution_count": 59,
     "metadata": {},
     "output_type": "execute_result"
    }
   ],
   "source": [
    "compared_model = pd.DataFrame({'Keterangan':['Testing Data','Training Data'],\n",
    "                               'Accuracy':[Rsquared, Rsquared1]})\n",
    "compared_model"
   ]
  },
  {
   "cell_type": "markdown",
   "metadata": {},
   "source": [
    "Berdasarkan perbandingan di atas dapat dikatakan bahwa model ini tergolong overfitting karena akurasi dari testing data lebih tinggi daripada training data, meskipun selisih akurasinya tidak begitu jauh."
   ]
  },
  {
   "cell_type": "markdown",
   "metadata": {},
   "source": [
    "# Conclusion"
   ]
  },
  {
   "cell_type": "markdown",
   "metadata": {},
   "source": [
    "1. Demand terhadap Uber lebih banyak daripada Lyft pada tahun 2018 karena memiliki harga yang cenderung lebih murah untuk setiap jamnya.\n",
    "2. Destinasi awal yang merupakan tempat dimana penumpang memesan atau menaiki Uber dan Lyft paling banyak adalah dari Financial District dan dari Financial District banyak penumpang yang memiliki tujuan ke South Station.\n",
    "3. Rute dengan rata-rata harga termahal adalah rute yang berasal dari Financial District menuju Boston University dengan rata-rata harga sebesar 25.498.\n",
    "4. Jumlah permintaan Uber dan Lyft lebih banyak di sekitar jam 00:00 (12 malam) dan tren jumlah permintaan Uber dan Lyft untuk jam 10:00 hingga 18:00 cenderung sama.\n",
    "5. Di bulan Desember jumlah permintaan Uber dan Lyft cenderung lebih banyak daripada di bulan November. Hal ini dikarenakan Desember merupakan bulan winter holiday season di Boston, America. \n",
    "6. Rata-rata harga dari Uber adalah 15.795 dengan standar deviasi sebesar 8.56. Artinya, persebaran harga dari Uber berada di antara [7.235, 24.355]. Sementara itu, rata-rata harga dari Lyft adalah 17.351 dengan standar deviasi sebesar 10.019. Artinya, persebaran harga dari Lyft berada di antara [7.332, 27.37]. \n",
    "7. Berdasarkan hasil dari linear regresi didapatkan akurasi sebesar 92,72% untuk data training. Artinya, 92,72% variabel dependen (price) dapat direpresentasikan oleh variabel dependen (distance, surge_multiplier, cab_type, name, short_summary). Selain itu, model ini juga dapat dikatakan baik untuk digunakan dalam prediksi harga taxi online (Uber dan Lyft) karena akurasinya mendekati 100%."
   ]
  }
 ],
 "metadata": {
  "kernelspec": {
   "display_name": "Python 3 (ipykernel)",
   "language": "python",
   "name": "python3"
  },
  "language_info": {
   "codemirror_mode": {
    "name": "ipython",
    "version": 3
   },
   "file_extension": ".py",
   "mimetype": "text/x-python",
   "name": "python",
   "nbconvert_exporter": "python",
   "pygments_lexer": "ipython3",
   "version": "3.9.12"
  },
  "vscode": {
   "interpreter": {
    "hash": "a077222d77dfe082b8f1dd562ad70e458ac2ab76993a0b248ab0476e32e9e8dd"
   }
  }
 },
 "nbformat": 4,
 "nbformat_minor": 2
}
