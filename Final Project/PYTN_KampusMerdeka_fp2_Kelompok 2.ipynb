{
 "cells": [
  {
   "cell_type": "markdown",
   "metadata": {},
   "source": [
    " # Final Project 2 : Logistic Regression dan SVM"
   ]
  },
  {
   "cell_type": "markdown",
   "metadata": {},
   "source": [
    "- Celin Manongko - PYTN-KS10-018\n",
    "- Alina Florencia Karuniawati - PYTN-KS10-001\n",
    "- Nine Alvariqati Varqa Ansori - PYTN-KS10-010"
   ]
  },
  {
   "cell_type": "markdown",
   "metadata": {},
   "source": [
    "# Import Package"
   ]
  },
  {
   "cell_type": "code",
   "execution_count": 1,
   "metadata": {},
   "outputs": [],
   "source": [
    "import numpy as np\n",
    "import pandas as pd\n",
    "import matplotlib.pyplot as plt\n",
    "import seaborn as sns\n",
    "from folium import Marker\n",
    "\n",
    "from statsmodels.stats.diagnostic import normal_ad\n",
    "from sklearn import preprocessing\n",
    "from sklearn.model_selection import train_test_split\n",
    "from sklearn.preprocessing import StandardScaler\n",
    "from sklearn.svm import LinearSVC\n",
    "from sklearn.linear_model import LogisticRegression\n",
    "from sklearn import metrics\n",
    "from sklearn.metrics import accuracy_score\n",
    "from sklearn.metrics import classification_report, confusion_matrix\n",
    "\n",
    "import sys\n",
    "\n",
    "if not sys.warnoptions:\n",
    "    import warnings\n",
    "    warnings.simplefilter(\"ignore\")"
   ]
  },
  {
   "cell_type": "markdown",
   "metadata": {},
   "source": [
    "# Data Loading"
   ]
  },
  {
   "cell_type": "code",
   "execution_count": 2,
   "metadata": {},
   "outputs": [
    {
     "data": {
      "text/html": [
       "<div>\n",
       "<style scoped>\n",
       "    .dataframe tbody tr th:only-of-type {\n",
       "        vertical-align: middle;\n",
       "    }\n",
       "\n",
       "    .dataframe tbody tr th {\n",
       "        vertical-align: top;\n",
       "    }\n",
       "\n",
       "    .dataframe thead th {\n",
       "        text-align: right;\n",
       "    }\n",
       "</style>\n",
       "<table border=\"1\" class=\"dataframe\">\n",
       "  <thead>\n",
       "    <tr style=\"text-align: right;\">\n",
       "      <th></th>\n",
       "      <th>Date</th>\n",
       "      <th>Location</th>\n",
       "      <th>MinTemp</th>\n",
       "      <th>MaxTemp</th>\n",
       "      <th>Rainfall</th>\n",
       "      <th>Evaporation</th>\n",
       "      <th>Sunshine</th>\n",
       "      <th>WindGustDir</th>\n",
       "      <th>WindGustSpeed</th>\n",
       "      <th>WindDir9am</th>\n",
       "      <th>...</th>\n",
       "      <th>Humidity9am</th>\n",
       "      <th>Humidity3pm</th>\n",
       "      <th>Pressure9am</th>\n",
       "      <th>Pressure3pm</th>\n",
       "      <th>Cloud9am</th>\n",
       "      <th>Cloud3pm</th>\n",
       "      <th>Temp9am</th>\n",
       "      <th>Temp3pm</th>\n",
       "      <th>RainToday</th>\n",
       "      <th>RainTomorrow</th>\n",
       "    </tr>\n",
       "  </thead>\n",
       "  <tbody>\n",
       "    <tr>\n",
       "      <th>0</th>\n",
       "      <td>2008-12-01</td>\n",
       "      <td>Albury</td>\n",
       "      <td>13.4</td>\n",
       "      <td>22.9</td>\n",
       "      <td>0.6</td>\n",
       "      <td>NaN</td>\n",
       "      <td>NaN</td>\n",
       "      <td>W</td>\n",
       "      <td>44.0</td>\n",
       "      <td>W</td>\n",
       "      <td>...</td>\n",
       "      <td>71.0</td>\n",
       "      <td>22.0</td>\n",
       "      <td>1007.7</td>\n",
       "      <td>1007.1</td>\n",
       "      <td>8.0</td>\n",
       "      <td>NaN</td>\n",
       "      <td>16.9</td>\n",
       "      <td>21.8</td>\n",
       "      <td>No</td>\n",
       "      <td>No</td>\n",
       "    </tr>\n",
       "    <tr>\n",
       "      <th>1</th>\n",
       "      <td>2008-12-02</td>\n",
       "      <td>Albury</td>\n",
       "      <td>7.4</td>\n",
       "      <td>25.1</td>\n",
       "      <td>0.0</td>\n",
       "      <td>NaN</td>\n",
       "      <td>NaN</td>\n",
       "      <td>WNW</td>\n",
       "      <td>44.0</td>\n",
       "      <td>NNW</td>\n",
       "      <td>...</td>\n",
       "      <td>44.0</td>\n",
       "      <td>25.0</td>\n",
       "      <td>1010.6</td>\n",
       "      <td>1007.8</td>\n",
       "      <td>NaN</td>\n",
       "      <td>NaN</td>\n",
       "      <td>17.2</td>\n",
       "      <td>24.3</td>\n",
       "      <td>No</td>\n",
       "      <td>No</td>\n",
       "    </tr>\n",
       "    <tr>\n",
       "      <th>2</th>\n",
       "      <td>2008-12-03</td>\n",
       "      <td>Albury</td>\n",
       "      <td>12.9</td>\n",
       "      <td>25.7</td>\n",
       "      <td>0.0</td>\n",
       "      <td>NaN</td>\n",
       "      <td>NaN</td>\n",
       "      <td>WSW</td>\n",
       "      <td>46.0</td>\n",
       "      <td>W</td>\n",
       "      <td>...</td>\n",
       "      <td>38.0</td>\n",
       "      <td>30.0</td>\n",
       "      <td>1007.6</td>\n",
       "      <td>1008.7</td>\n",
       "      <td>NaN</td>\n",
       "      <td>2.0</td>\n",
       "      <td>21.0</td>\n",
       "      <td>23.2</td>\n",
       "      <td>No</td>\n",
       "      <td>No</td>\n",
       "    </tr>\n",
       "    <tr>\n",
       "      <th>3</th>\n",
       "      <td>2008-12-04</td>\n",
       "      <td>Albury</td>\n",
       "      <td>9.2</td>\n",
       "      <td>28.0</td>\n",
       "      <td>0.0</td>\n",
       "      <td>NaN</td>\n",
       "      <td>NaN</td>\n",
       "      <td>NE</td>\n",
       "      <td>24.0</td>\n",
       "      <td>SE</td>\n",
       "      <td>...</td>\n",
       "      <td>45.0</td>\n",
       "      <td>16.0</td>\n",
       "      <td>1017.6</td>\n",
       "      <td>1012.8</td>\n",
       "      <td>NaN</td>\n",
       "      <td>NaN</td>\n",
       "      <td>18.1</td>\n",
       "      <td>26.5</td>\n",
       "      <td>No</td>\n",
       "      <td>No</td>\n",
       "    </tr>\n",
       "    <tr>\n",
       "      <th>4</th>\n",
       "      <td>2008-12-05</td>\n",
       "      <td>Albury</td>\n",
       "      <td>17.5</td>\n",
       "      <td>32.3</td>\n",
       "      <td>1.0</td>\n",
       "      <td>NaN</td>\n",
       "      <td>NaN</td>\n",
       "      <td>W</td>\n",
       "      <td>41.0</td>\n",
       "      <td>ENE</td>\n",
       "      <td>...</td>\n",
       "      <td>82.0</td>\n",
       "      <td>33.0</td>\n",
       "      <td>1010.8</td>\n",
       "      <td>1006.0</td>\n",
       "      <td>7.0</td>\n",
       "      <td>8.0</td>\n",
       "      <td>17.8</td>\n",
       "      <td>29.7</td>\n",
       "      <td>No</td>\n",
       "      <td>No</td>\n",
       "    </tr>\n",
       "    <tr>\n",
       "      <th>...</th>\n",
       "      <td>...</td>\n",
       "      <td>...</td>\n",
       "      <td>...</td>\n",
       "      <td>...</td>\n",
       "      <td>...</td>\n",
       "      <td>...</td>\n",
       "      <td>...</td>\n",
       "      <td>...</td>\n",
       "      <td>...</td>\n",
       "      <td>...</td>\n",
       "      <td>...</td>\n",
       "      <td>...</td>\n",
       "      <td>...</td>\n",
       "      <td>...</td>\n",
       "      <td>...</td>\n",
       "      <td>...</td>\n",
       "      <td>...</td>\n",
       "      <td>...</td>\n",
       "      <td>...</td>\n",
       "      <td>...</td>\n",
       "      <td>...</td>\n",
       "    </tr>\n",
       "    <tr>\n",
       "      <th>145455</th>\n",
       "      <td>2017-06-21</td>\n",
       "      <td>Uluru</td>\n",
       "      <td>2.8</td>\n",
       "      <td>23.4</td>\n",
       "      <td>0.0</td>\n",
       "      <td>NaN</td>\n",
       "      <td>NaN</td>\n",
       "      <td>E</td>\n",
       "      <td>31.0</td>\n",
       "      <td>SE</td>\n",
       "      <td>...</td>\n",
       "      <td>51.0</td>\n",
       "      <td>24.0</td>\n",
       "      <td>1024.6</td>\n",
       "      <td>1020.3</td>\n",
       "      <td>NaN</td>\n",
       "      <td>NaN</td>\n",
       "      <td>10.1</td>\n",
       "      <td>22.4</td>\n",
       "      <td>No</td>\n",
       "      <td>No</td>\n",
       "    </tr>\n",
       "    <tr>\n",
       "      <th>145456</th>\n",
       "      <td>2017-06-22</td>\n",
       "      <td>Uluru</td>\n",
       "      <td>3.6</td>\n",
       "      <td>25.3</td>\n",
       "      <td>0.0</td>\n",
       "      <td>NaN</td>\n",
       "      <td>NaN</td>\n",
       "      <td>NNW</td>\n",
       "      <td>22.0</td>\n",
       "      <td>SE</td>\n",
       "      <td>...</td>\n",
       "      <td>56.0</td>\n",
       "      <td>21.0</td>\n",
       "      <td>1023.5</td>\n",
       "      <td>1019.1</td>\n",
       "      <td>NaN</td>\n",
       "      <td>NaN</td>\n",
       "      <td>10.9</td>\n",
       "      <td>24.5</td>\n",
       "      <td>No</td>\n",
       "      <td>No</td>\n",
       "    </tr>\n",
       "    <tr>\n",
       "      <th>145457</th>\n",
       "      <td>2017-06-23</td>\n",
       "      <td>Uluru</td>\n",
       "      <td>5.4</td>\n",
       "      <td>26.9</td>\n",
       "      <td>0.0</td>\n",
       "      <td>NaN</td>\n",
       "      <td>NaN</td>\n",
       "      <td>N</td>\n",
       "      <td>37.0</td>\n",
       "      <td>SE</td>\n",
       "      <td>...</td>\n",
       "      <td>53.0</td>\n",
       "      <td>24.0</td>\n",
       "      <td>1021.0</td>\n",
       "      <td>1016.8</td>\n",
       "      <td>NaN</td>\n",
       "      <td>NaN</td>\n",
       "      <td>12.5</td>\n",
       "      <td>26.1</td>\n",
       "      <td>No</td>\n",
       "      <td>No</td>\n",
       "    </tr>\n",
       "    <tr>\n",
       "      <th>145458</th>\n",
       "      <td>2017-06-24</td>\n",
       "      <td>Uluru</td>\n",
       "      <td>7.8</td>\n",
       "      <td>27.0</td>\n",
       "      <td>0.0</td>\n",
       "      <td>NaN</td>\n",
       "      <td>NaN</td>\n",
       "      <td>SE</td>\n",
       "      <td>28.0</td>\n",
       "      <td>SSE</td>\n",
       "      <td>...</td>\n",
       "      <td>51.0</td>\n",
       "      <td>24.0</td>\n",
       "      <td>1019.4</td>\n",
       "      <td>1016.5</td>\n",
       "      <td>3.0</td>\n",
       "      <td>2.0</td>\n",
       "      <td>15.1</td>\n",
       "      <td>26.0</td>\n",
       "      <td>No</td>\n",
       "      <td>No</td>\n",
       "    </tr>\n",
       "    <tr>\n",
       "      <th>145459</th>\n",
       "      <td>2017-06-25</td>\n",
       "      <td>Uluru</td>\n",
       "      <td>14.9</td>\n",
       "      <td>NaN</td>\n",
       "      <td>0.0</td>\n",
       "      <td>NaN</td>\n",
       "      <td>NaN</td>\n",
       "      <td>NaN</td>\n",
       "      <td>NaN</td>\n",
       "      <td>ESE</td>\n",
       "      <td>...</td>\n",
       "      <td>62.0</td>\n",
       "      <td>36.0</td>\n",
       "      <td>1020.2</td>\n",
       "      <td>1017.9</td>\n",
       "      <td>8.0</td>\n",
       "      <td>8.0</td>\n",
       "      <td>15.0</td>\n",
       "      <td>20.9</td>\n",
       "      <td>No</td>\n",
       "      <td>NaN</td>\n",
       "    </tr>\n",
       "  </tbody>\n",
       "</table>\n",
       "<p>145460 rows × 23 columns</p>\n",
       "</div>"
      ],
      "text/plain": [
       "              Date Location  MinTemp  MaxTemp  Rainfall  Evaporation  \\\n",
       "0       2008-12-01   Albury     13.4     22.9       0.6          NaN   \n",
       "1       2008-12-02   Albury      7.4     25.1       0.0          NaN   \n",
       "2       2008-12-03   Albury     12.9     25.7       0.0          NaN   \n",
       "3       2008-12-04   Albury      9.2     28.0       0.0          NaN   \n",
       "4       2008-12-05   Albury     17.5     32.3       1.0          NaN   \n",
       "...            ...      ...      ...      ...       ...          ...   \n",
       "145455  2017-06-21    Uluru      2.8     23.4       0.0          NaN   \n",
       "145456  2017-06-22    Uluru      3.6     25.3       0.0          NaN   \n",
       "145457  2017-06-23    Uluru      5.4     26.9       0.0          NaN   \n",
       "145458  2017-06-24    Uluru      7.8     27.0       0.0          NaN   \n",
       "145459  2017-06-25    Uluru     14.9      NaN       0.0          NaN   \n",
       "\n",
       "        Sunshine WindGustDir  WindGustSpeed WindDir9am  ... Humidity9am  \\\n",
       "0            NaN           W           44.0          W  ...        71.0   \n",
       "1            NaN         WNW           44.0        NNW  ...        44.0   \n",
       "2            NaN         WSW           46.0          W  ...        38.0   \n",
       "3            NaN          NE           24.0         SE  ...        45.0   \n",
       "4            NaN           W           41.0        ENE  ...        82.0   \n",
       "...          ...         ...            ...        ...  ...         ...   \n",
       "145455       NaN           E           31.0         SE  ...        51.0   \n",
       "145456       NaN         NNW           22.0         SE  ...        56.0   \n",
       "145457       NaN           N           37.0         SE  ...        53.0   \n",
       "145458       NaN          SE           28.0        SSE  ...        51.0   \n",
       "145459       NaN         NaN            NaN        ESE  ...        62.0   \n",
       "\n",
       "        Humidity3pm  Pressure9am  Pressure3pm  Cloud9am  Cloud3pm  Temp9am  \\\n",
       "0              22.0       1007.7       1007.1       8.0       NaN     16.9   \n",
       "1              25.0       1010.6       1007.8       NaN       NaN     17.2   \n",
       "2              30.0       1007.6       1008.7       NaN       2.0     21.0   \n",
       "3              16.0       1017.6       1012.8       NaN       NaN     18.1   \n",
       "4              33.0       1010.8       1006.0       7.0       8.0     17.8   \n",
       "...             ...          ...          ...       ...       ...      ...   \n",
       "145455         24.0       1024.6       1020.3       NaN       NaN     10.1   \n",
       "145456         21.0       1023.5       1019.1       NaN       NaN     10.9   \n",
       "145457         24.0       1021.0       1016.8       NaN       NaN     12.5   \n",
       "145458         24.0       1019.4       1016.5       3.0       2.0     15.1   \n",
       "145459         36.0       1020.2       1017.9       8.0       8.0     15.0   \n",
       "\n",
       "        Temp3pm  RainToday  RainTomorrow  \n",
       "0          21.8         No            No  \n",
       "1          24.3         No            No  \n",
       "2          23.2         No            No  \n",
       "3          26.5         No            No  \n",
       "4          29.7         No            No  \n",
       "...         ...        ...           ...  \n",
       "145455     22.4         No            No  \n",
       "145456     24.5         No            No  \n",
       "145457     26.1         No            No  \n",
       "145458     26.0         No            No  \n",
       "145459     20.9         No           NaN  \n",
       "\n",
       "[145460 rows x 23 columns]"
      ]
     },
     "execution_count": 2,
     "metadata": {},
     "output_type": "execute_result"
    }
   ],
   "source": [
    "df = pd.read_csv(\"weatherAUS.csv\")\n",
    "df"
   ]
  },
  {
   "cell_type": "markdown",
   "metadata": {},
   "source": [
    "**Data overview: <br>**\n",
    "- Date - tanggal pada hari itu <br>\n",
    "- Location - lokasi, nama kota di Australia<br>\n",
    "- MinTemp - temperatur terendah hari itu dalam satuan celcius<br>\n",
    "- MaxTemp - temperatur tertinggi pada hari itu dalam satuan celcius<br>\n",
    "- Rainfall - jumlah curah hujan hari itu dalam satuan mm<br>\n",
    "- Evaporation - jumlah evaporasi dalam satuan mm dari Class A pan selama 24 jam sebelum jam 9 pagi hari itu<br>\n",
    "- Sunshine - jumlah jam hari itu cerah dengan cahaya matahari<br>\n",
    "- WindGustDir - arah kecepatan angin yang paling tinggi selaama 24 jam sebelum jam 12 malam hari itu <br>\n",
    "- WindGustSpeed - kecepatan angin yang paling tinggi dalam km/jam selama 24 jam sebelum jam 12 malam hari itu <br>\n",
    "- WinDir9am - arah angin jam 9 pagi<br>\n",
    "- WinDir3pm - arah angin jam 3 sore<br>\n",
    "- WindSpeed9am - kecepatan angin jam 9 pagi dalam km/jam dihitung dari rata-rata kecepatan angin 10 menit sebelum jam 9 pagi<br>\n",
    "- WindSpeed3pm - kecepatan angin jam 3 sore dalam km/jam dihitung dari rata-rata kecepatan angin 10 menit sebelum jam 3 sore<br>\n",
    "- Humidity9am - humiditas jam 9 pagi dalam persen<br>\n",
    "- Humidity3pm - humiditas jam 3 sore dalam persen<br>\n",
    "- Pressure9am - tekanan udara jam 9 pagi dalam hpa<br>\n",
    "- Pressure3pm - tekanan udara jam 3 sore dalam hpa<br>\n",
    "- Cloud9am - persentase langit yang tertutup awan jam 9 pagi. dihitung dalam satuan oktas, unit seperdelapan, menghitung berapa unit seperdelapan dari langit yang tertutup awan. Jika 0 langit cerah, jika 8 langit sepenuhnya tertutup awan<br>\n",
    "- Cloud3pm - persentase langit yang tertutup awan jam 3 sore<br>\n",
    "- Temp9am - temperatur jam 9 pagi dalam celcius<br>\n",
    "- Temp3pm - temperatur jam 3 sore dalam celcius<br>\n",
    "- RainToday - apakah hari ini hujan<br>\n",
    "- RainTomorrow - apakah hari esok akan hujan (variable yg mau diprediksi)<br>"
   ]
  },
  {
   "cell_type": "markdown",
   "metadata": {},
   "source": [
    "# Background Analysis"
   ]
  },
  {
   "cell_type": "markdown",
   "metadata": {},
   "source": [
    "Prediksi cuaca dibutuhkan untuk mendapatkan informasi perkiraan cuaca, karena banyak orang yang melakukan aktivitas di luar ruangan. Prediksi cuaca dapat dilakukan dengan melakukan pengamatan cuaca, tekanan udara, suhu, kelembaban, kecepatan angin, arah angin, curah hujan, cahaya matahari, dan pergerakan awan. Dalam penelitian ini kami melakukan prediksi hujan menggunakan dataset yang berisi sekitar 10 tahun (2007-2017) pengamatan cuaca harian dari berbagai stasiun cuaca di Australia."
   ]
  },
  {
   "cell_type": "markdown",
   "metadata": {},
   "source": [
    "# Data Shape"
   ]
  },
  {
   "cell_type": "code",
   "execution_count": 3,
   "metadata": {},
   "outputs": [
    {
     "data": {
      "text/plain": [
       "(145460, 23)"
      ]
     },
     "execution_count": 3,
     "metadata": {},
     "output_type": "execute_result"
    }
   ],
   "source": [
    "df.shape"
   ]
  },
  {
   "cell_type": "markdown",
   "metadata": {},
   "source": [
    "Data ini terdiri dari 23 kolom dan 145.460 baris"
   ]
  },
  {
   "cell_type": "markdown",
   "metadata": {},
   "source": [
    "# Data Information"
   ]
  },
  {
   "cell_type": "code",
   "execution_count": 4,
   "metadata": {},
   "outputs": [
    {
     "name": "stdout",
     "output_type": "stream",
     "text": [
      "<class 'pandas.core.frame.DataFrame'>\n",
      "RangeIndex: 145460 entries, 0 to 145459\n",
      "Data columns (total 23 columns):\n",
      " #   Column         Non-Null Count   Dtype  \n",
      "---  ------         --------------   -----  \n",
      " 0   Date           145460 non-null  object \n",
      " 1   Location       145460 non-null  object \n",
      " 2   MinTemp        143975 non-null  float64\n",
      " 3   MaxTemp        144199 non-null  float64\n",
      " 4   Rainfall       142199 non-null  float64\n",
      " 5   Evaporation    82670 non-null   float64\n",
      " 6   Sunshine       75625 non-null   float64\n",
      " 7   WindGustDir    135134 non-null  object \n",
      " 8   WindGustSpeed  135197 non-null  float64\n",
      " 9   WindDir9am     134894 non-null  object \n",
      " 10  WindDir3pm     141232 non-null  object \n",
      " 11  WindSpeed9am   143693 non-null  float64\n",
      " 12  WindSpeed3pm   142398 non-null  float64\n",
      " 13  Humidity9am    142806 non-null  float64\n",
      " 14  Humidity3pm    140953 non-null  float64\n",
      " 15  Pressure9am    130395 non-null  float64\n",
      " 16  Pressure3pm    130432 non-null  float64\n",
      " 17  Cloud9am       89572 non-null   float64\n",
      " 18  Cloud3pm       86102 non-null   float64\n",
      " 19  Temp9am        143693 non-null  float64\n",
      " 20  Temp3pm        141851 non-null  float64\n",
      " 21  RainToday      142199 non-null  object \n",
      " 22  RainTomorrow   142193 non-null  object \n",
      "dtypes: float64(16), object(7)\n",
      "memory usage: 25.5+ MB\n"
     ]
    }
   ],
   "source": [
    "df.info()"
   ]
  },
  {
   "cell_type": "markdown",
   "metadata": {},
   "source": [
    "Berdasarkan pengecekan di atas terdapat tipe data yang belum sesuai, yaitu untuk kolom Date (belum berupa datetime)"
   ]
  },
  {
   "cell_type": "markdown",
   "metadata": {},
   "source": [
    "# Change Data Type"
   ]
  },
  {
   "cell_type": "code",
   "execution_count": 5,
   "metadata": {},
   "outputs": [],
   "source": [
    "df['Date'] = pd.to_datetime(df['Date'])"
   ]
  },
  {
   "cell_type": "code",
   "execution_count": 6,
   "metadata": {},
   "outputs": [
    {
     "name": "stdout",
     "output_type": "stream",
     "text": [
      "<class 'pandas.core.frame.DataFrame'>\n",
      "RangeIndex: 145460 entries, 0 to 145459\n",
      "Data columns (total 23 columns):\n",
      " #   Column         Non-Null Count   Dtype         \n",
      "---  ------         --------------   -----         \n",
      " 0   Date           145460 non-null  datetime64[ns]\n",
      " 1   Location       145460 non-null  object        \n",
      " 2   MinTemp        143975 non-null  float64       \n",
      " 3   MaxTemp        144199 non-null  float64       \n",
      " 4   Rainfall       142199 non-null  float64       \n",
      " 5   Evaporation    82670 non-null   float64       \n",
      " 6   Sunshine       75625 non-null   float64       \n",
      " 7   WindGustDir    135134 non-null  object        \n",
      " 8   WindGustSpeed  135197 non-null  float64       \n",
      " 9   WindDir9am     134894 non-null  object        \n",
      " 10  WindDir3pm     141232 non-null  object        \n",
      " 11  WindSpeed9am   143693 non-null  float64       \n",
      " 12  WindSpeed3pm   142398 non-null  float64       \n",
      " 13  Humidity9am    142806 non-null  float64       \n",
      " 14  Humidity3pm    140953 non-null  float64       \n",
      " 15  Pressure9am    130395 non-null  float64       \n",
      " 16  Pressure3pm    130432 non-null  float64       \n",
      " 17  Cloud9am       89572 non-null   float64       \n",
      " 18  Cloud3pm       86102 non-null   float64       \n",
      " 19  Temp9am        143693 non-null  float64       \n",
      " 20  Temp3pm        141851 non-null  float64       \n",
      " 21  RainToday      142199 non-null  object        \n",
      " 22  RainTomorrow   142193 non-null  object        \n",
      "dtypes: datetime64[ns](1), float64(16), object(6)\n",
      "memory usage: 25.5+ MB\n"
     ]
    }
   ],
   "source": [
    "df.info()"
   ]
  },
  {
   "cell_type": "markdown",
   "metadata": {},
   "source": [
    "Dapat dilihat bahwa kolom Date tipe datanya telah berhasil diubah menjadi datetime"
   ]
  },
  {
   "cell_type": "markdown",
   "metadata": {},
   "source": [
    "# Check Duplicated Data"
   ]
  },
  {
   "cell_type": "code",
   "execution_count": 7,
   "metadata": {},
   "outputs": [
    {
     "data": {
      "text/plain": [
       "0"
      ]
     },
     "execution_count": 7,
     "metadata": {},
     "output_type": "execute_result"
    }
   ],
   "source": [
    "df.duplicated().sum()"
   ]
  },
  {
   "cell_type": "markdown",
   "metadata": {},
   "source": [
    "Berdasarkan pengecekan di atas tidak ada data yang duplikat"
   ]
  },
  {
   "cell_type": "markdown",
   "metadata": {},
   "source": [
    "# Data Cleaning"
   ]
  },
  {
   "cell_type": "markdown",
   "metadata": {},
   "source": [
    "## Check Missing Values"
   ]
  },
  {
   "cell_type": "code",
   "execution_count": 8,
   "metadata": {
    "scrolled": false
   },
   "outputs": [
    {
     "name": "stdout",
     "output_type": "stream",
     "text": [
      "Nilai unik dalam kolom:  DATE\n",
      "['2008-12-01T00:00:00.000000000' '2008-12-02T00:00:00.000000000'\n",
      " '2008-12-03T00:00:00.000000000' ... '2008-01-29T00:00:00.000000000'\n",
      " '2008-01-30T00:00:00.000000000' '2008-01-31T00:00:00.000000000']\n",
      "Nilai unik dalam kolom:  LOCATION\n",
      "['Albury' 'BadgerysCreek' 'Cobar' 'CoffsHarbour' 'Moree' 'Newcastle'\n",
      " 'NorahHead' 'NorfolkIsland' 'Penrith' 'Richmond' 'Sydney' 'SydneyAirport'\n",
      " 'WaggaWagga' 'Williamtown' 'Wollongong' 'Canberra' 'Tuggeranong'\n",
      " 'MountGinini' 'Ballarat' 'Bendigo' 'Sale' 'MelbourneAirport' 'Melbourne'\n",
      " 'Mildura' 'Nhil' 'Portland' 'Watsonia' 'Dartmoor' 'Brisbane' 'Cairns'\n",
      " 'GoldCoast' 'Townsville' 'Adelaide' 'MountGambier' 'Nuriootpa' 'Woomera'\n",
      " 'Albany' 'Witchcliffe' 'PearceRAAF' 'PerthAirport' 'Perth' 'SalmonGums'\n",
      " 'Walpole' 'Hobart' 'Launceston' 'AliceSprings' 'Darwin' 'Katherine'\n",
      " 'Uluru']\n",
      "Nilai unik dalam kolom:  MINTEMP\n",
      "[13.4  7.4 12.9  9.2 17.5 14.6 14.3  7.7  9.7 13.1 15.9 12.6  8.4  9.8\n",
      " 14.1 13.5 11.2 11.5 17.1 20.5 15.3 16.2 16.9 20.1 19.7 12.5 12.  11.3\n",
      "  9.6 10.5 12.3 13.7 16.1 14.  17.  17.3 17.2 17.4 19.8 14.9 13.9 18.6\n",
      " 19.3 24.4 18.8 20.8 15.7 18.5 20.4 21.8 22.3 22.  28.  21.5 21.7 23.5\n",
      " 28.3 18.4 12.4 13.3 18.  18.7 15.5  8.9 15.  15.4 16.  12.8 13.2 13.8\n",
      "  7.6  8.3 11.  20.9 16.4 10.   8.8  9.3 14.4 10.8 10.1  9.1 10.4 12.2\n",
      " 10.7  7.8  8.1  7.5  8.2 11.6 13.   9.9  3.5  6.6  7.   5.7  6.2  6.\n",
      " 10.6  8.6  4.5  5.4  2.1  1.8  7.2  4.6  4.2  5.2  4.1  3.2  4.3  3.7\n",
      "  3.6  6.9 10.3  3.   2.6  5.1  4.4  4.7  6.7  8.   2.2  1.7  2.8  9.\n",
      "  6.3 -2.  -1.3  2.   0.5  1.2  0.6  0.9  5.   3.9  3.4  0.  -1.5 -1.7\n",
      " -0.4  0.1  4.8  5.9  2.9 -0.6 -0.3 -1.   0.8 -0.1  1.3  3.3  6.5 -0.8\n",
      "  1.9  6.8  2.7  1.6  5.5  7.3  0.2  5.8  7.1  1.1  1.   6.1  nan  5.3\n",
      "  4.  11.7  8.5  3.8  6.4  9.5 14.5 15.6 17.8 16.7 18.1 12.1 11.4 18.3\n",
      " 11.9 21.  11.1 18.2 14.2 11.8 13.6 12.7 15.1 22.9 17.6 21.1 19.4 14.8\n",
      " 16.3 19.6 20.6 24.5 22.6 16.8  8.7 19.2 24.7 17.7 15.2 18.9 17.9 19.5\n",
      " 20.3 23.  22.1 22.5 20.2 16.5  5.6  3.1  1.4 10.2  9.4  0.4  4.9  1.5\n",
      "  2.3  0.7 -0.5  2.5 -1.2  0.3  2.4 14.7 10.9 16.6 21.3 23.2 21.6 24.\n",
      " 19.9 20.7 21.9 -0.7 -1.1 -1.4 -0.2 -1.6 15.8 19.1 20.  -2.5 -1.8  7.9\n",
      " 21.2 22.2 23.7 25.2 19.  -0.9 -2.1 -2.8 26.  -2.4 26.8 23.4 22.8 22.4\n",
      " 24.6 23.9 -3.  23.1 23.6 21.4 -1.9 25.1 24.2 27.1 23.3 24.9 25.4 23.8\n",
      " 27.  26.2 25.  24.8 27.6 24.1 27.2 29.1 28.9 25.3 27.4 28.8 27.3 26.1\n",
      " 26.5 22.7 25.7 24.3 29.3 27.7 26.3 25.8 29.4 25.6 26.7 26.6 28.1 27.8\n",
      " 28.5 25.5 26.9 26.4 27.5 28.7 29.7 25.9 -2.3 -3.3 -2.2 -3.2 29.  28.6\n",
      " -3.8 -4.8 -3.1 -2.7 -2.6 -2.9 -4.7 -3.6 -3.5 -3.4 -5.3 -3.7 -5.8 -5.\n",
      " -4.5 -4.3 -3.9 -4.2 -4.  -6.9 -6.5 -5.5 -5.2 -6.3 -4.4 -8.  -6.7 -4.9\n",
      " -5.4 -6.1 -4.6 -6.  -6.6 -5.1 -5.6 -6.8 -7.6 -7.  -4.1 -5.7 -6.2 -8.2\n",
      " -5.9 -8.5 -7.1 -6.4 -7.5 -7.2 -7.8 -7.3 30.5 29.8 31.9 28.4 28.2 27.9\n",
      " 30.7 33.9 29.2 29.9 31.4 31.8 29.5 31.2 29.6 30.3 31.  30.2]\n",
      "Nilai unik dalam kolom:  MAXTEMP\n",
      "[22.9 25.1 25.7 28.  32.3 29.7 25.  26.7 31.9 30.1 30.4 21.7 18.6 21.\n",
      " 24.6 27.7 20.9 22.5 25.6 29.3 33.  31.8 30.9 32.4 33.9 32.7 27.2 24.2\n",
      " 24.4 26.5 23.9 28.8 34.6 35.8 37.9 38.9 28.3 28.4 30.8 32.  34.7 37.7\n",
      " 43.  32.2 36.6 39.9 38.1 34.  35.2 30.6 34.3 38.4 38.2 40.7 41.5 42.9\n",
      " 42.7 43.1 38.3 36.9 41.2 42.2 44.8 40.2 31.2 27.3 21.6 29.  29.2 31.3\n",
      " 31.1 29.1 31.7 33.2 29.6 32.6 34.5 30.3 22.1 22.  24.  27.9 30.2 30.5\n",
      " 25.8 27.  19.7 21.9 25.3 33.5 33.6 30.  31.6 22.3 29.8 27.6 28.9 29.9\n",
      " 32.1 28.1 21.4 24.9 25.4 20.  23.4 22.7 16.2 15.8 12.9 11.5 14.5 12.2\n",
      " 16.5 17.  19.2 18.9 19.1 18.8 19.3 18.4 19.  20.5 19.5 17.7 18.5 15.1\n",
      " 16.3 16.6 16.4 15.6 19.8 21.1 20.3 18.1 15.7 16.8 17.1 14.3 13.4 17.4\n",
      " 16.1 10.5 11.6 12.   8.8  9.6  8.2 12.4 14.9 15.9 14.7 15.3 17.3 15.5\n",
      " 14.1 13.7 11.9 12.3 13.3 13.2 12.1 12.5 13.8 15.  13.5 13.1 11.  12.6\n",
      " 14.4  9.8 12.7 13.9 14.8 15.2 17.5 13.6 12.8 16.7 17.9 11.1 14.2 20.7\n",
      " 16.9 17.6  nan 24.7 17.8 17.2 20.4 20.6 20.2 18.2 18.7 23.3 26.6 27.1\n",
      " 23.1 24.1 26.8 26.9 24.3 23.2 33.4 36.  35.1 32.8 35.4 36.3 39.7 23.6\n",
      " 32.9 26.2 26.4 31.5 27.5 30.7 27.4 22.6 38.6 40.3 33.7 35.9 36.8 33.8\n",
      " 36.4 39.8 42.4 25.2 37.3 41.8 34.4 36.5 35.6 26.1 35.  28.5 31.  26.3\n",
      " 25.5 22.4 28.6 31.4 28.7 24.8 19.9 23.5 25.9 23.  10.2 14.   8.4  8.3\n",
      "  9.4 10.9 10.3 10.8 14.6 15.4 10.  10.1 11.8 16.  10.4 13.  11.7 10.7\n",
      " 19.6 20.1 20.8 23.7 18.  21.8 22.2 24.5 29.4 21.2 32.5 28.2 21.5 22.8\n",
      " 11.2 19.4 18.3  9.2  9.3 21.3 23.8 26.  27.8 33.1 34.9 36.1 36.2 35.3\n",
      " 35.5  9.7 10.6 11.3 11.4 36.7 37.4 43.4 42.  40.4 39.2 38.8 37.  35.7\n",
      " 37.1 29.5 37.6 40.5 39.  43.6 42.6 34.2 33.3 40.6 41.7 41.6 41.1 40.1\n",
      "  8.7 39.6 34.1  9.9  8.6  9.1  6.8  9.5  9.  37.2 34.8 40.  38.  39.5\n",
      " 40.9 38.5  7.5 39.3 42.5 43.7 37.8 38.7 41.9 39.4 41.4 37.5 45.8 41.\n",
      " 39.1 40.8 42.8 45.1 44.4 43.5 42.1 46.4 43.9 45.4 41.3 44.3 46.  43.8\n",
      " 43.2 45.2  8.5 42.3  7.8 45.7 46.6 47.3 44.5 44.1 44.  43.3 46.5 44.9\n",
      " 46.9 45.3 44.6 47.   8.9  8.1  7.6  6.3  8.   6.6 45.  45.5  4.1  7.7\n",
      "  7.1  7.9  7.   7.3  2.6  7.4  6.2  7.2  6.   4.9 -1.7  0.   2.4  5.3\n",
      "  2.3  5.7  5.2  5.5  4.7  6.5  2.5  2.7  3.4  2.9  5.   3.2  0.1 -0.1\n",
      " -2.2 -0.6  0.6  2.2  4.   3.5  3.   4.2  3.3  3.9  0.4  3.8  5.9 -0.7\n",
      " -1.8 -0.2  0.9 -1.3  1.8  3.1  1.6  0.3  1.2 -0.5  1.   0.5  0.2  1.9\n",
      "  2.   5.1  2.8  6.7  4.3 -2.4 -0.3  4.6  6.9 -2.5  2.1  1.4  5.6  3.6\n",
      "  4.4  5.4 -2.7 -1.   5.8  4.8  1.1  1.3 -1.4 -0.8 -2.   4.5 -0.4  1.7\n",
      " -0.9 -2.1 -1.5 -3.1  6.1 -1.2  6.4  3.7 -1.1  1.5 -1.9  0.8 -2.3 -3.7\n",
      " -2.9 -3.8  0.7 -4.1 -3.2 -3.  -4.8 44.2 46.8 46.7 46.3 44.7 45.6 46.2\n",
      " 48.1 46.1]\n",
      "Nilai unik dalam kolom:  RAINFALL\n",
      "[6.000e-01 0.000e+00 1.000e+00 2.000e-01 1.400e+00 2.200e+00 1.560e+01\n",
      " 3.600e+00       nan 1.680e+01 1.060e+01 1.200e+00 8.000e-01 6.400e+00\n",
      " 4.000e-01 3.000e+00 5.800e+00 1.160e+01 1.800e+00 8.600e+00 1.260e+01\n",
      " 8.400e+00 6.200e+00 2.000e+01 2.100e+01 3.200e+00 4.800e+00 4.200e+00\n",
      " 8.000e+00 1.440e+01 4.600e+00 2.000e+00 5.600e+00 1.600e+00 6.000e+00\n",
      " 4.400e+00 5.400e+00 5.000e+00 7.800e+00 6.800e+00 9.800e+00 3.800e+00\n",
      " 2.400e+00 5.200e+00 6.600e+00 1.340e+01 1.020e+01 2.880e+01 7.000e+00\n",
      " 2.580e+01 9.400e+00 1.240e+01 5.220e+01 2.060e+01 6.600e+01 1.100e+01\n",
      " 1.700e+01 1.040e+01 2.800e+01 2.140e+01 1.860e+01 7.200e+00 8.200e+00\n",
      " 1.080e+01 1.540e+01 9.600e+00 4.000e+00 2.180e+01 2.080e+01 2.480e+01\n",
      " 1.000e+01 1.140e+01 1.900e+01 2.220e+01 3.280e+01 3.400e+00 5.080e+01\n",
      " 5.260e+01 1.920e+01 1.880e+01 1.480e+01 1.200e+01 1.840e+01 2.560e+01\n",
      " 3.500e+01 1.420e+01 1.380e+01 2.600e+00 9.920e+01 5.100e+01 3.980e+01\n",
      " 2.820e+01 1.220e+01 1.280e+01 1.180e+01 1.980e+01 1.740e+01 8.800e+00\n",
      " 1.620e+01 1.460e+01 2.800e+00 3.080e+01 2.840e+01 3.480e+01 4.400e+01\n",
      " 1.400e+01 1.660e+01 9.000e+00 2.680e+01 3.840e+01 1.042e+02 3.660e+01\n",
      " 3.420e+01 2.940e+01 2.720e+01 1.120e+01 1.320e+01 3.340e+01 7.600e+00\n",
      " 2.460e+01 7.400e+00 1.600e+01 1.940e+01 5.340e+01 1.500e+01 3.360e+01\n",
      " 1.720e+01 3.740e+01 1.300e+01 3.100e+01 9.200e+00 6.620e+01 3.640e+01\n",
      " 4.100e+01 2.440e+01 2.700e+01 4.680e+01 1.580e+01 3.580e+01 2.240e+01\n",
      " 1.640e+01 1.520e+01 2.300e+01 2.280e+01 2.860e+01 4.600e+01 2.420e+01\n",
      " 2.200e+01 1.800e+01 3.120e+01 2.120e+01 3.600e+01 2.340e+01 3.200e+01\n",
      " 4.640e+01 1.360e+01 4.200e+01 3.380e+01 2.540e+01 2.040e+01 2.260e+01\n",
      " 4.320e+01 6.140e+01 4.820e+01 4.860e+01 1.820e+01 6.780e+01 3.920e+01\n",
      " 3.180e+01 8.240e+01 3.540e+01 1.160e+02 3.060e+01 1.780e+01 3.820e+01\n",
      " 3.020e+01 2.400e+01 4.700e+01 4.240e+01 3.300e+01 4.000e+01 4.420e+01\n",
      " 3.460e+01 3.040e+01 3.880e+01 8.360e+01 5.020e+01 2.620e+01 3.800e+01\n",
      " 3.160e+01 2.780e+01 2.980e+01 1.760e+01 1.002e+02 1.092e+02 2.360e+01\n",
      " 3.260e+01 2.160e+01 5.400e+01 3.960e+01 2.600e+01 3.400e+01 4.940e+01\n",
      " 3.700e+01 2.920e+01 6.800e+01 3.320e+01 2.740e+01 3.900e+01 3.860e+01\n",
      " 4.300e+01 4.500e+00 2.910e+01 2.900e+00 1.300e+00 3.000e+01 6.360e+01\n",
      " 1.890e+02 5.860e+01 6.260e+01 5.900e+01 2.020e+01 4.280e+01 7.600e+01\n",
      " 1.960e+01 5.580e+01 7.000e+01 7.120e+01 1.418e+02 9.600e+01 3.710e+02\n",
      " 5.800e+01 6.700e+01 8.060e+01 5.660e+01 4.520e+01 5.940e+01 4.260e+01\n",
      " 3.440e+01 9.000e+01 1.280e+02 6.120e+01 2.380e+01 2.760e+01 7.380e+01\n",
      " 7.220e+01 1.054e+02 4.040e+01 1.020e+02 4.440e+01 4.800e+01 6.380e+01\n",
      " 3.680e+01 5.500e+00 2.520e+01 1.034e+02 1.276e+02 6.320e+01 5.240e+01\n",
      " 2.500e+01 5.500e+01 5.680e+01 7.080e+01 6.240e+01 1.120e+02 1.532e+02\n",
      " 4.580e+01 9.700e+01 5.180e+01 8.640e+01 5.000e-01 1.598e+02 2.085e+02\n",
      " 1.722e+02 9.000e-01 2.500e+00 3.000e-01 1.700e+00 3.300e+00 5.120e+01\n",
      " 1.064e+02 1.478e+02 4.560e+01 5.960e+01 2.900e+01 1.170e+01 7.500e+01\n",
      " 7.640e+01 6.400e+01 5.320e+01 1.004e+02 1.000e-01 6.580e+01 8.500e+00\n",
      " 3.240e+01 1.578e+02 4.100e+00 1.138e+02 7.000e-01 3.100e+00 1.500e+00\n",
      " 3.220e+01 3.270e+01 1.010e+01 1.110e+01 9.610e+01 4.980e+01 2.196e+02\n",
      " 1.094e+02 3.500e+00 2.640e+01 2.960e+01 3.620e+01 3.760e+01 4.380e+01\n",
      " 4.150e+01 5.060e+01 1.428e+02 1.062e+02 1.048e+02 2.700e+00 3.110e+01\n",
      " 1.390e+01 7.100e+01 9.060e+01 6.480e+01 4.760e+01 5.140e+01 2.660e+01\n",
      " 4.880e+01 3.720e+01 3.940e+01 1.130e+02 7.440e+01 9.280e+01 4.020e+01\n",
      " 7.680e+01 5.460e+01 4.480e+01 4.460e+01 5.000e+01 2.270e+01 2.090e+01\n",
      " 5.980e+01 4.540e+01 1.472e+02 3.520e+01 7.140e+01 3.140e+01 2.370e+01\n",
      " 4.220e+01 7.560e+01 4.180e+01 4.360e+01 4.900e+00 3.560e+01 2.650e+01\n",
      " 4.900e+01 3.390e+01 3.070e+01 5.300e+00 1.070e+01 6.410e+01 5.040e+01\n",
      " 4.550e+01 6.900e+00 6.880e+01 7.760e+01 8.980e+01 6.980e+01 3.250e+01\n",
      " 1.325e+02 1.570e+01 2.250e+01 2.400e+02 4.120e+01 6.300e+00 5.820e+01\n",
      " 3.790e+01 2.950e+01 5.200e+01 2.150e+01 2.163e+02 1.250e+01 2.300e+00\n",
      " 5.160e+01 2.070e+01 6.340e+01 7.420e+01 2.320e+01 4.340e+01 5.600e+01\n",
      " 4.060e+01 4.780e+01 4.840e+01 6.920e+01 5.560e+01 6.180e+01 7.300e+01\n",
      " 8.340e+01 3.780e+01 1.264e+02 4.720e+01 5.920e+01 1.202e+02 5.620e+01\n",
      " 8.900e+01 7.620e+01 8.280e+01 6.960e+01 7.200e+01 4.080e+01 1.074e+02\n",
      " 7.160e+01 2.990e+01 1.422e+02 7.980e+01 8.480e+01 1.056e+02 5.760e+01\n",
      " 4.500e+01 6.220e+01 1.110e+02 1.226e+02 5.480e+01 6.100e+01 6.160e+01\n",
      " 1.568e+02 3.990e+01 2.100e+00 1.900e+00 1.100e+00 4.700e+00 5.700e+00\n",
      " 9.220e+01 1.154e+02 1.018e+02 4.960e+01 8.560e+01 8.140e+01 8.160e+01\n",
      " 6.760e+01 5.840e+01 4.160e+01 5.640e+01 1.118e+02 4.740e+01 1.134e+02\n",
      " 7.400e+01 7.060e+01 7.840e+01 6.860e+01 7.740e+01 7.320e+01 9.940e+01\n",
      " 6.520e+01 8.820e+01 5.740e+01 9.520e+01 5.700e+01 1.194e+02 1.058e+02\n",
      " 5.440e+01 4.140e+01 9.440e+01 6.440e+01 9.380e+01 6.840e+01 5.280e+01\n",
      " 8.500e+01 8.320e+01 1.060e+02 6.020e+01 9.100e+01 5.360e+01 1.046e+02\n",
      " 8.040e+01 1.068e+02 8.860e+01 7.280e+01 6.280e+01 4.660e+01 9.560e+01\n",
      " 5.300e+01 5.420e+01 1.108e+02 5.780e+01 1.230e+01 2.290e+01 1.330e+01\n",
      " 1.348e+02 8.440e+01 4.620e+01 6.420e+01 8.680e+01 1.576e+02 1.668e+02\n",
      " 1.560e+02 1.144e+02 8.180e+01 2.250e+02 8.700e+00 9.140e+01 1.810e+01\n",
      " 4.920e+01 6.080e+01 9.720e+01 8.260e+01 7.860e+01 5.380e+01 7.260e+01\n",
      " 1.390e+02 5.880e+01 6.500e+01 7.900e+01 7.580e+01 5.520e+01 1.920e+02\n",
      " 8.080e+01 1.180e+02 9.640e+01 1.642e+02 6.940e+01 7.520e+01 5.540e+01\n",
      " 8.700e+01 9.300e+01 9.160e+01 8.420e+01 8.760e+01 7.800e+01 7.340e+01\n",
      " 1.022e+02 6.040e+01 8.940e+01 1.076e+02 8.380e+01 7.820e+01 8.800e+01\n",
      " 9.500e+01 7.040e+01 6.640e+01 8.220e+01 1.550e+02 6.000e+01 6.560e+01\n",
      " 6.300e+01 8.400e+01 8.740e+01 8.300e+01 7.360e+01 7.720e+01 7.940e+01\n",
      " 1.214e+02 6.060e+01 9.360e+01 1.684e+02 1.450e+02 9.400e+01 8.920e+01\n",
      " 6.820e+01 1.826e+02 1.106e+02 9.800e+01 2.784e+02 1.402e+02 6.200e+01\n",
      " 1.216e+02 7.180e+01 1.158e+02 7.920e+01 2.686e+02 1.830e+02 1.096e+02\n",
      " 1.282e+02 2.062e+02 1.366e+02 1.502e+02 1.616e+02 1.090e+02 1.152e+02\n",
      " 1.752e+02 2.472e+02 8.540e+01 1.052e+02 7.480e+01 1.150e+02 1.260e+02\n",
      " 8.460e+01 1.580e+02 7.780e+01 6.460e+01 1.182e+02 1.438e+02 1.186e+02\n",
      " 1.122e+02 1.782e+02 1.834e+02 1.082e+02 1.558e+02 1.112e+02 1.284e+02\n",
      " 8.020e+01 1.290e+02 1.050e+02 1.776e+02 8.620e+01 2.368e+02 9.340e+01\n",
      " 7.960e+01 2.068e+02 8.120e+01 9.260e+01 1.652e+02 1.704e+02 9.320e+01\n",
      " 9.820e+01 1.486e+02 7.020e+01 1.442e+02 1.646e+02 1.746e+02 8.780e+01\n",
      " 1.248e+02 1.208e+02 7.880e+01 7.660e+01 1.190e+01 9.500e+00 1.050e+01\n",
      " 7.100e+00 6.500e+00 6.100e+00 3.430e+01 3.900e+00 6.700e+00 1.270e+01\n",
      " 1.590e+01 1.450e+01 2.930e+01 2.390e+01 8.900e+00 9.100e+00 1.310e+01\n",
      " 1.090e+01 1.850e+01 6.540e+01 7.500e+00 4.730e+01 5.900e+00 1.970e+01\n",
      " 1.210e+01 1.150e+01 7.900e+00 2.530e+01 1.750e+01 7.300e+00 9.900e+00\n",
      " 1.550e+01 8.100e+01 9.580e+01 9.040e+01 1.412e+02 1.622e+02 1.364e+02\n",
      " 1.314e+02 1.326e+02 3.676e+02 1.846e+02 1.822e+02 1.452e+02 9.680e+01\n",
      " 7.460e+01 1.294e+02 1.228e+02 1.098e+02 1.456e+02 2.106e+02 1.176e+02\n",
      " 6.950e+01 1.670e+02 6.900e+01]\n",
      "Nilai unik dalam kolom:  EVAPORATION\n",
      "[     nan 1.20e+01 1.48e+01 1.26e+01 1.08e+01 1.14e+01 1.12e+01 1.30e+01\n",
      " 9.80e+00 1.46e+01 1.10e+01 1.28e+01 1.38e+01 1.64e+01 1.74e+01 1.60e+01\n",
      " 1.36e+01 8.00e+00 8.20e+00 8.60e+00 1.42e+01 1.58e+01 1.62e+01 1.34e+01\n",
      " 1.44e+01 1.18e+01 1.56e+01 1.52e+01 1.16e+01 9.60e+00 6.60e+00 6.00e-01\n",
      " 6.00e+00 3.00e+00 2.00e+00 5.20e+00 9.00e+00 1.02e+01 1.00e+01 7.40e+00\n",
      " 8.40e+00 9.20e+00 9.40e+00 1.24e+01 1.04e+01 7.20e+00 6.80e+00 7.60e+00\n",
      " 4.40e+00 6.40e+00 7.80e+00 7.00e+00 8.80e+00 6.20e+00 5.80e+00 2.00e-01\n",
      " 2.40e+00 1.80e+00 2.20e+00 2.80e+00 5.00e+00 5.60e+00 4.80e+00 4.20e+00\n",
      " 4.00e+00 3.20e+00 4.60e+00 3.40e+00 3.60e+00 0.00e+00 1.40e+00 3.80e+00\n",
      " 8.00e-01 2.60e+00 1.60e+00 1.20e+00 1.00e+00 5.40e+00 1.06e+01 1.68e+01\n",
      " 1.70e+01 2.02e+01 1.40e+01 1.72e+01 1.22e+01 1.50e+01 1.82e+01 1.32e+01\n",
      " 4.10e+00 1.70e+00 4.00e-01 1.90e+00 6.48e+01 3.20e+01 2.62e+01 2.46e+01\n",
      " 2.33e+01 1.54e+01 3.26e+01 3.04e+01 3.44e+01 1.80e+01 4.94e+01 1.88e+01\n",
      " 1.90e+01 1.84e+01 8.10e+00 4.90e+00 2.52e+01 2.40e+01 2.24e+01 1.66e+01\n",
      " 4.88e+01 5.62e+01 3.70e+01 5.24e+01 1.76e+01 6.30e+00 2.00e+01 2.14e+01\n",
      " 2.50e+01 1.78e+01 2.56e+01 1.86e+01 2.16e+01 3.54e+01 2.30e+01 2.20e+01\n",
      " 3.08e+01 1.11e+01 1.98e+01 3.32e+01 8.62e+01 5.54e+01 6.58e+01 5.64e+01\n",
      " 3.12e+01 2.18e+01 5.70e+00 2.70e+00 1.30e+00 2.50e+00 3.30e+00 9.90e+00\n",
      " 2.30e+00 7.00e-01 2.10e+00 1.10e+00 2.90e+00 1.50e+00 3.10e+00 6.10e+00\n",
      " 1.96e+01 9.70e+00 1.05e+01 5.90e+00 9.30e+00 2.04e+01 1.21e+01 3.06e+01\n",
      " 2.42e+01 3.00e-01 4.72e+01 1.92e+01 3.84e+01 3.46e+01 2.36e+01 4.42e+01\n",
      " 3.22e+01 3.14e+01 3.42e+01 2.06e+01 2.68e+01 2.26e+01 2.38e+01 3.86e+01\n",
      " 2.64e+01 4.68e+01 4.24e+01 4.66e+01 6.02e+01 3.76e+01 3.64e+01 4.84e+01\n",
      " 4.36e+01 3.50e+01 5.04e+01 3.58e+01 5.40e+01 4.12e+01 3.28e+01 3.56e+01\n",
      " 3.10e+01 3.24e+01 1.94e+01 6.08e+01 2.74e+01 4.34e+01 2.70e+01 3.68e+01\n",
      " 2.54e+01 5.72e+01 2.86e+01 3.36e+01 3.74e+01 2.34e+01 4.30e+01 3.62e+01\n",
      " 3.16e+01 3.92e+01 2.58e+01 6.54e+01 4.04e+01 2.60e+01 2.12e+01 7.10e+00\n",
      " 7.48e+01 3.72e+01 2.88e+01 5.30e+00 4.70e+00 8.70e+00 3.90e+00 3.50e+00\n",
      " 9.50e+00 9.00e-01 3.02e+01 1.47e+01 1.31e+01 7.50e+00 8.30e+00 5.10e+00\n",
      " 3.70e+00 5.50e+00 1.81e+01 4.30e+00 2.10e+01 3.38e+01 4.50e+00 2.05e+01\n",
      " 1.19e+01 6.90e+00 7.70e+00 9.10e+00 1.09e+01 1.97e+01 1.01e+01 6.70e+00\n",
      " 5.00e-01 1.39e+01 1.25e+01 1.00e-01 1.45e+01 1.91e+01 1.71e+01 7.30e+00\n",
      " 2.51e+01 2.22e+01 2.72e+01 1.93e+01 6.50e+00 2.76e+01 1.15e+01 2.28e+01\n",
      " 2.84e+01 2.08e+01 3.94e+01 2.78e+01 2.82e+01 2.66e+01 3.30e+01 2.98e+01\n",
      " 2.32e+01 3.34e+01 2.80e+01 3.80e+01 4.00e+01 2.92e+01 2.94e+01 3.88e+01\n",
      " 6.44e+01 3.00e+01 2.44e+01 2.48e+01 5.92e+01 1.45e+02 4.70e+01 8.90e+00\n",
      " 1.35e+01 8.50e+00 1.13e+01 4.40e+01 7.90e+00 4.44e+01 2.21e+01 3.66e+01\n",
      " 4.06e+01 3.60e+01 3.40e+01 1.49e+01 4.26e+01 1.43e+01 1.03e+01 1.17e+01\n",
      " 1.07e+01 8.12e+01 6.30e+01 7.00e+01 5.48e+01 5.98e+01 7.22e+01 6.40e+01\n",
      " 5.96e+01 5.90e+01 4.23e+01 1.27e+01 1.77e+01 2.25e+01 1.53e+01 3.52e+01\n",
      " 3.45e+01 2.31e+01 4.22e+01 8.24e+01 4.20e+01 4.32e+01 6.20e+01 7.73e+01\n",
      " 1.33e+01 5.52e+01 5.80e+01 5.76e+01 5.56e+01 4.62e+01 5.50e+01 5.08e+01\n",
      " 5.10e+01 6.88e+01 5.16e+01 5.85e+01 5.58e+01 5.36e+01 2.55e+01 5.60e+01\n",
      " 4.80e+01 7.04e+01 5.94e+01 5.66e+01 1.41e+01 1.23e+01 1.51e+01 1.65e+01\n",
      " 6.72e+01 4.18e+01 4.08e+01 5.02e+01 4.16e+01 4.28e+01 3.96e+01]\n",
      "Nilai unik dalam kolom:  SUNSHINE\n",
      "[ nan 12.3 13.  13.3 10.6 12.2  8.4  0.  12.6 13.2 12.7 12.1 10.3 13.1\n",
      " 12.9 11.3  6.9 10.9  3.7  5.9 10.5 12.4 13.4 13.6  7.4 10.   2.3  6.6\n",
      "  0.3 10.7 11.6 10.2  9.  12.   3.   7.9 11.5 11.2  4.8  5.8  6.  11.1\n",
      " 11.8 11.4 10.8  7.8 11.   5.5  4.7  4.2  4.4  6.2  9.8  9.9  4.3  8.\n",
      "  9.6 10.4  9.3  8.7  7.6  7.5 10.1  6.3  2.8  0.7  9.4  9.7  0.6  5.1\n",
      "  8.3  4.1  3.9  6.8  8.6  2.7  8.2  3.1  1.8  0.1  0.8  3.4  7.1  5.\n",
      "  5.7  6.1  7.   2.9  2.5  4.6  8.9  9.1  1.7  8.1  9.5  1.2  1.4  8.8\n",
      "  2.2  3.5  9.2  1.9 11.7 11.9  7.7  0.9 12.5  2.1 12.8 13.7  8.5  0.2\n",
      "  4.   2.4  5.2  0.5  6.4  4.5  1.1  2.   0.4  1.5  3.3  6.5  2.6  3.8\n",
      "  3.6  3.2  6.7  5.4  7.2  4.9  1.   1.6  5.3  7.3  5.6  1.3 13.8 13.5\n",
      " 14.  13.9 14.1 14.5 14.3 14.2]\n",
      "Nilai unik dalam kolom:  WINDGUSTDIR\n",
      "['W' 'WNW' 'WSW' 'NE' 'NNW' 'N' 'NNE' 'SW' nan 'ENE' 'SSE' 'S' 'NW' 'SE'\n",
      " 'ESE' 'E' 'SSW']\n",
      "Nilai unik dalam kolom:  WINDGUSTSPEED\n",
      "[ 44.  46.  24.  41.  56.  50.  35.  80.  28.  30.  31.  61.  nan  22.\n",
      "  63.  43.  26.  33.  57.  48.  39.  37.  52.  98.  54.  83.  59.  70.\n",
      "  69.  17.  20.  19.  15.  13.  11.  72.  85.  65.  78. 107.  74.  67.\n",
      "  94.  76.  81.  87.   9.   7.  89.  91.  93. 102. 100. 113. 117.  96.\n",
      " 111. 106. 135. 104. 120. 115. 126. 109. 122. 124. 130.   6.]\n",
      "Nilai unik dalam kolom:  WINDDIR9AM\n",
      "['W' 'NNW' 'SE' 'ENE' 'SW' 'SSE' 'S' 'NE' nan 'SSW' 'N' 'WSW' 'ESE' 'E'\n",
      " 'NW' 'WNW' 'NNE']\n",
      "Nilai unik dalam kolom:  WINDDIR3PM\n",
      "['WNW' 'WSW' 'E' 'NW' 'W' 'SSE' 'ESE' 'ENE' 'NNW' 'SSW' 'SW' 'SE' 'N' 'S'\n",
      " 'NNE' nan 'NE']\n",
      "Nilai unik dalam kolom:  WINDSPEED9AM\n",
      "[ 20.   4.  19.  11.   7.   6.  15.  17.  28.  24.  nan   9.   0.  13.\n",
      "   2.  26.  30.  22.  35.  37.  31.  33.  48.  39.  44.  43.  41.  46.\n",
      "  56.  83.  74.  52.  65.  50. 130.  54.  61.  57.  59.  87.  67.  63.\n",
      "  69.  72.]\n",
      "Nilai unik dalam kolom:  WINDSPEED3PM\n",
      "[24. 22. 26.  9. 20. 17. 28. 11.  6. 13. 30. 19. 31.  7. 15. 48.  4. 33.\n",
      "  0.  2. nan 37. 46. 39. 50. 35. 44. 41. 43. 56. 61. 54. 52. 83. 65. 78.\n",
      " 57. 63. 59. 74. 72. 69. 76. 87. 67.]\n",
      "Nilai unik dalam kolom:  HUMIDITY9AM\n",
      "[ 71.  44.  38.  45.  82.  55.  49.  48.  42.  58.  89.  76.  65.  57.\n",
      "  50.  69.  80.  47.  56.  54.  41.  78.  46.  43.  33.  34.  36.  52.\n",
      "  51.  40.  35.  39.  60.  37.  27.  32.  53.  20.  66.  63.  62.  87.\n",
      "  61.  59.  92.  72.  67.  75.  88.  68.  73.  74.  83.  77.  70.  81.\n",
      "  86.  97.  99.  91.  85.  93.  84.  94.  79.  98.  96.  95.  90.  64.\n",
      "  29.  21. 100.  nan  24.  25.  31.  18.  23.  26.  28.  30.  19.  22.\n",
      "  17.  15.   9.  12.  13.  16.   6.  10.  14.  11.   7.   8.   5.   3.\n",
      "   2.   4.   0.   1.]\n",
      "Nilai unik dalam kolom:  HUMIDITY3PM\n",
      "[ 22.  25.  30.  16.  33.  23.  19.   9.  27.  91.  93.  43.  32.  28.\n",
      "  82.  65.  26.  24.  17.  15.  70.  12.   8.  31.  20.  10.  21.  39.\n",
      "  13.  11.  69.  18.  14.  35.  90.  68.  74.  41.  34.  78.  49.  37.\n",
      "  42.  47.  52.  29.  86.  89.  62.  79.  48.  46.  38.  44.  51.  36.\n",
      "  45.  40.  53.  61.  59.  63.  54.  57.  50.  58.  75.  97.  80.  95.\n",
      "  56.  72.  60.  71.  73.  81.  76.  64.  87.  85.  67.  55.  77.  84.\n",
      "   7.  99.  92.  66.  83.  94.  96.  88.  nan 100.  98.   5.   6.   1.\n",
      "   4.   2.   3.   0.]\n",
      "Nilai unik dalam kolom:  PRESSURE9AM\n",
      "[1007.7 1010.6 1007.6 1017.6 1010.8 1009.2 1009.6 1013.4 1008.9 1007.\n",
      " 1011.8 1010.5  994.3 1001.2 1009.7 1012.2 1005.8 1009.4 1019.2 1019.3\n",
      " 1013.6 1007.8 1011.  1012.9 1010.9 1006.8 1005.2 1004.8 1005.6 1006.1\n",
      " 1004.5 1014.4 1018.7 1015.1 1012.6 1011.9 1017.8 1009.9 1014.1 1015.7\n",
      " 1011.6 1008.4 1019.7 1015.8 1010.1 1005.3 1007.9 1005.4 1016.5 1017.7\n",
      " 1014.9 1014.6 1014.2 1012.5 1011.7 1008.8 1005.9 1008.  1008.2 1009.3\n",
      " 1012.8 1017.  1023.3 1022.5 1016.2 1017.2 1012.4 1015.6 1013.  1014.\n",
      " 1016.6 1007.5 1014.7 1014.5 1013.7 1015.2 1019.5 1021.3 1017.4 1012.7\n",
      " 1013.3 1016.3 1014.8 1019.1 1023.  1023.8 1022.4 1023.2 1022.6 1018.8\n",
      " 1019.8 1020.4 1021.8 1026.7 1027.1 1024.2 1021.5 1024.4 1024.1 1018.5\n",
      " 1022.8 1022.7 1023.6 1025.2 1026.  1004.  1013.8 1018.  1023.1 1023.4\n",
      " 1026.9 1028.7 1029.8 1031.4 1028.5 1026.2 1028.8 1025.1 1025.6 1022.3\n",
      " 1018.4 1015.3 1015.  1024.7 1022.2 1025.  1024.6 1021.4 1021.7 1030.3\n",
      " 1034.1 1031.9 1029.3 1023.5 1021.  1017.9 1011.1 1025.7 1018.3 1013.9\n",
      " 1029.7 1031.6 1030.8 1021.9 1020.7 1020.2 1015.5 1011.4 1006.5 1008.6\n",
      " 1019.9 1030.4 1032.  1020.5 1010.4 1006.6 1021.6 1009.5 1027.3 1026.8\n",
      " 1024.  1025.8 1027.9 1026.4 1018.6 1009.  1011.5 1021.1 1021.2 1018.2\n",
      " 1027.7 1012.  1004.1 1016.1 1016.9 1002.6 1018.9 1024.9 1005.  1020.\n",
      "  997.8 1009.8 1012.3 1020.6 1029.5 1001.9 1000.5 1008.5 1016.  1026.6\n",
      " 1022.9 1020.8 1019.6 1027.5 1025.4 1017.1 1029.1 1010.  1003.7 1010.7\n",
      " 1010.3 1022.  1015.9 1006.9 1019.4 1018.1 1013.5 1016.8 1017.5 1015.4\n",
      " 1006.7 1013.2 1016.4 1020.9 1017.3 1020.3 1023.9 1016.7 1008.7 1023.7\n",
      " 1036.3 1035.2 1030.  1025.5 1022.1 1026.5 1027.8 1005.7 1004.7 1031.8\n",
      " 1032.3 1027.4 1027.2 1034.5 1037.3 1036.9 1030.1 1024.3 1027.6 1030.5\n",
      " 1032.5 1030.9 1029.2 1032.7 1035.5 1032.1 1031.7 1035.9 1036.1 1024.5\n",
      " 1006.2 1003.1 1029.6 1028.9 1024.8 1026.1 1026.3 1028.2 1028.4 1025.3\n",
      " 1029.4  989.8 1004.6 1011.3 1014.3 1012.1 1009.1 1002.4  998.8 1002.3\n",
      " 1006.  1004.4 1007.4 1002.5 1019.  1020.1 1001.4 1031.5 1033.  1002.9\n",
      " 1025.9 1028.  1027.  1002.  1028.3 1031.  1035.7 1037.4 1038.9 1033.6\n",
      " 1036.6 1031.3 1010.2 1039.9 1013.1    nan  996.3 1032.4 1033.4 1011.2\n",
      " 1004.3 1007.2 1006.3  995.3 1000.9 1005.5 1030.2 1035.1 1033.8 1036.5\n",
      " 1034.4 1003.3 1031.1 1031.2 1029.  1028.6 1033.1 1033.2 1007.3 1000.8\n",
      "  999.9 1030.7 1007.1 1028.1 1033.7 1033.3 1008.1 1002.2 1003.  1006.4\n",
      " 1008.3  998.9 1000.7  998.4 1033.5 1004.9 1003.2 1034.  1035.6 1035.\n",
      " 1032.2 1032.6 1030.6 1000.4 1029.9 1037.8 1034.3 1034.7 1035.3 1036.\n",
      " 1003.9 1032.8 1004.2 1002.8  996.  1003.4 1037.5 1038.2 1034.8 1000.1\n",
      " 1032.9 1033.9 1003.6  993.7  992.9 1000.3 1001.3  999.4 1005.1  996.6\n",
      " 1036.8  997.6 1001.7 1001.  1036.2 1035.4 1037.6 1038.  1003.5  999.1\n",
      " 1001.5 1038.6  997.4 1034.2 1003.8  997.3  999.3  996.8 1037.  1034.9\n",
      " 1039.2  998.5  998.6  991.7 1001.1 1002.1 1035.8 1002.7  998.3  999.7\n",
      "  999.  1037.1 1001.6  996.5  997.2  999.6 1038.3 1038.4 1000.6  999.2\n",
      "  980.5 1000.2  994.9  999.8 1001.8  994.6 1037.9 1038.7  998.   997.\n",
      " 1034.6 1038.8 1039.1  990.2  986.7  995.  1036.7  996.7  999.5 1039.\n",
      "  998.1 1038.1  997.7  991.5 1039.6  998.7 1000.  1037.7  994.5  994.8\n",
      " 1037.2  996.4  994.   996.1  994.7  997.1 1036.4  998.2  987.4  993.9\n",
      "  996.9 1039.3 1039.5  995.2 1040.1 1040.2 1040.6 1040.3  995.7  995.4\n",
      "  992.8  996.2  994.2 1039.4  995.9  995.8  997.9  990.5  993.3  989.4\n",
      "  992.   995.1  992.5  989.5  991.2  991.4  992.1  997.5  993.   992.7\n",
      "  989.3  991.6  993.8  993.4  995.5  989.7  993.6  988.9  992.4  991.8\n",
      "  993.5  994.1  991.3 1038.5  986.9  990.3  995.6  993.2  990.9  994.4\n",
      "  990.8  991.1  992.6  986.2  982.3  989.6  985.1  982.   989.2 1040.9\n",
      "  992.3 1041.  1040.4  989.   988.3  986.3  988.   984.6  992.2  987.2\n",
      "  982.9  988.5  989.1  988.8  987.   993.1 1040.   991.9  983.7  985.8\n",
      "  985.9  987.3  991.   987.1  990.4  986.6  988.1  988.2  989.9  982.2\n",
      "  984.4  983.9  985.  1040.5 1039.7  987.9  990.6]\n",
      "Nilai unik dalam kolom:  PRESSURE3PM\n",
      "[1007.1   1007.8   1008.7   1012.8   1006.    1005.4   1008.2   1010.1\n",
      " 1003.6   1005.7   1004.2    993.    1001.8   1010.3   1010.4   1002.2\n",
      " 1009.7   1017.1   1014.8   1008.1   1007.6   1001.7   1003.4   1005.1\n",
      " 1003.2   1013.1   1009.2   1006.7   1002.7   1010.9   1013.7   1006.8\n",
      " 1012.1   1006.9   1012.7   1017.4   1016.2   1010.6   1004.8   1005.9\n",
      "  997.8   1003.9   1014.6   1014.1   1011.6   1011.8   1010.2   1010.5\n",
      " 1007.4   1004.7   1002.6   1005.    1003.8   1006.5   1008.5   1011.1\n",
      " 1017.3   1019.7   1016.4   1013.8   1013.5   1007.5   1004.5   1010.8\n",
      " 1012.4   1013.4   1015.    1012.6   1004.6   1009.    1012.    1014.7\n",
      " 1015.9   1018.    1018.9   1008.    1013.2   1013.9   1013.6   1014.4\n",
      " 1019.2   1017.2   1020.7   1020.6   1019.1   1019.5   1019.4   1018.4\n",
      " 1012.9   1019.3   1016.5   1019.6   1023.5   1023.4   1017.7   1020.3\n",
      " 1020.8   1018.7   1009.8   1016.8   1020.    1020.9   1021.6   1015.7\n",
      " 1002.4   1000.9   1003.3   1018.3   1021.5   1023.2   1024.    1025.9\n",
      " 1027.3   1028.1   1024.6   1023.6   1025.8   1021.8   1022.3   1022.2\n",
      " 1018.5   1011.    1021.2   1019.9   1020.5   1021.4   1022.1   1028.5\n",
      " 1029.9   1029.2   1026.2   1020.4   1017.5   1015.1   1006.3   1008.3\n",
      " 1023.    1013.    1009.3   1027.7   1028.6   1027.1   1018.6   1005.5\n",
      " 1006.6   1009.4   1001.    1005.2   1009.6   1014.9   1019.    1023.8\n",
      " 1015.6   1007.7   1005.8   1009.9   1014.5   1019.8   1006.2   1025.4\n",
      " 1022.7   1023.1   1025.3   1024.8   1022.9   1020.2   1016.7   1008.6\n",
      " 1010.    1015.3   1006.4   1027.2   1022.5   1014.3   1013.3    996.9\n",
      " 1015.2   1021.7   1012.3   1017.9   1011.4   1011.3   1017.6   1018.2\n",
      " 1015.4   1012.2   1011.9    999.2   1002.9   1008.4   1008.8   1004.9\n",
      " 1025.7   1016.9    999.4    997.6   1024.7   1023.7   1022.    1015.8\n",
      " 1017.8   1011.2   1002.3   1003.5   1016.    1016.3   1016.1   1014.2\n",
      " 1007.3   1017.    1012.5   1011.5   1009.1   1004.1   1007.    1003.7\n",
      " 1007.9   1011.7   1021.3   1030.2   1033.6   1031.4   1026.    1021.\n",
      " 1023.3   1018.8   1018.1   1021.1   1020.1   1024.4   1021.9   1014.\n",
      " 1024.1   1024.3   1015.5   1002.8   1030.7   1032.    1028.3   1026.7\n",
      " 1033.8   1035.2   1032.9   1029.8   1029.    1022.8   1025.1   1026.6\n",
      " 1008.9   1026.3   1028.9   1029.1   1034.1   1031.5   1000.1   1004.4\n",
      " 1025.2    999.    1022.6   1025.    1023.9    982.9   1007.2   1002.1\n",
      "  994.3   1004.3   1000.5   1010.7   1009.5   1006.1   1001.5   1016.6\n",
      " 1002.5   1000.3   1005.3   1030.5   1028.8   1024.9   1024.5   1027.8\n",
      " 1028.7   1032.6   1035.1   1034.2   1029.7   1033.3   1027.6   1030.4\n",
      " 1034.6   1036.         nan  996.2   1030.9   1026.1   1000.7    995.4\n",
      " 1002.     995.7   1001.9   1031.    1031.1   1031.9   1032.5   1025.5\n",
      " 1028.4   1033.2   1024.2   1030.3   1030.    1001.3   1000.8   1001.6\n",
      " 1026.9    997.2    998.5   1026.8   1027.    1027.9   1028.2   1029.3\n",
      " 1022.4   1027.4   1029.4    999.6   1001.4    999.1    994.8   1001.2\n",
      "  998.4   1025.6   1026.5   1003.     998.9    998.8   1026.4   1027.5\n",
      " 1030.1   1032.3   1032.8   1005.6    998.7   1000.2   1033.5   1032.2\n",
      " 1030.6   1031.7   1028.    1032.1   1031.2   1029.5   1004.    1036.1\n",
      "  999.5    993.1    998.1    997.5   1000.     995.9   1034.3   1033.7\n",
      " 1031.3   1032.4    998.    1000.6    998.2   1001.1    999.3   1003.1\n",
      " 1034.9   1036.2   1032.7   1031.8    989.1    995.1   1036.4   1035.\n",
      " 1034.8   1036.8    996.4   1031.6    997.7    997.9    996.7    999.8\n",
      "  999.7    995.3    994.5    996.5    998.3   1030.8    993.8    997.4\n",
      "  995.8   1029.6   1034.     993.7    999.9    997.1   1000.4   1034.7\n",
      "  991.6   1034.4   1033.4   1035.9    996.8    997.    1035.6    995.5\n",
      " 1034.5   1035.7    995.6    994.9    996.1    979.     996.     995.2\n",
      " 1033.     989.    1036.3   1035.5    993.4    994.     996.3    998.6\n",
      " 1026.66  1009.555 1016.777  991.4    991.     990.3    989.8   1036.7\n",
      "  994.2    989.3    995.    1037.    1035.4    993.9    993.6    984.2\n",
      "  994.7    997.3    994.4    992.8   1033.9    990.7   1033.1    987.4\n",
      " 1036.9   1035.8   1037.8    993.5    993.3    990.2    993.2   1037.3\n",
      "  985.5   1037.9    996.6    994.1    991.9    992.6    985.     994.6\n",
      " 1037.5   1037.7    990.9    988.7    992.5    989.9    987.3    992.\n",
      "  990.4    988.6    992.7    992.3    987.1    991.8    991.1    988.8\n",
      "  991.5    992.9    991.7    989.4    992.4    992.1   1035.3    988.2\n",
      "  990.8    990.6    988.3    987.7    982.6    986.5    991.3   1036.6\n",
      " 1037.1    985.6    992.2    987.8    986.    1036.5    985.2    986.4\n",
      "  986.6    988.9    984.9   1038.    1038.2    986.9    989.6    989.7\n",
      "  989.2    986.1    985.1    984.     985.3    981.2    988.4   1037.2\n",
      " 1037.6    987.6    980.2    986.2    987.    1038.5   1038.9    988.1\n",
      "  990.1    988.5    990.     984.5    987.2    985.4    981.4    984.4\n",
      "  991.2    982.2    988.     977.1    978.2    983.2    981.9    983.3\n",
      "  990.5   1039.6    986.8   1038.4    985.8    989.5  ]\n",
      "Nilai unik dalam kolom:  CLOUD9AM\n",
      "[ 8. nan  7.  1.  0.  5.  4.  2.  6.  3.  9.]\n",
      "Nilai unik dalam kolom:  CLOUD3PM\n",
      "[nan  2.  8.  7.  1.  5.  4.  6.  3.  0.  9.]\n",
      "Nilai unik dalam kolom:  TEMP9AM\n",
      "[16.9 17.2 21.  18.1 17.8 20.6 16.3 18.3 20.1 20.4 15.9 17.4 15.8 17.3\n",
      " 18.  15.5 19.1 24.5 23.8 20.9 21.5 23.2 26.6 24.6 21.6 12.5 19.7 14.9\n",
      " 17.1 20.7 22.4 23.1 25.2 17.9 20.2 22.8 24.2 24.3 25.6 27.6 16.  22.\n",
      " 26.8 27.3 26.1 23.3 21.2 23.4 25.8 28.2 29.  29.2 29.9 32.4 28.8 27.2\n",
      " 25.5 26.5 28.7 29.6 34.5 18.7 16.7 17.  19.2 21.4 22.1 19.3 15.  20.\n",
      " 22.2 23.  15.6 13.9 12.6 13.3 17.6 18.6 19.  19.9 12.7 12.2 12.1 14.7\n",
      " 18.8 15.4 16.2 16.5 14.  16.6 18.4 12.9 13.8 15.1 16.4 16.1 20.5  9.6\n",
      " 12.4 14.1 11.2  9.5  7.6 10.1  8.2  7.9  7.2 10.6 10.3 10.   8.3 11.\n",
      "  9.4 11.7  8.5  9.1  7.5 13.   7.   8.8  7.4 11.9 11.6 13.6  7.1 10.2\n",
      "  8.   9.2 11.3  4.7  6.8  4.9  2.2  1.9  5.9  6.5  5.4  6.6  5.6  6.9\n",
      "  8.4  9.8 13.5  7.8  2.3  2.4  3.3  3.8  4.8  8.1  9.   4.5  3.2  3.7\n",
      "  2.5  4.4  4.2  9.3  8.9 10.5  9.9  5.7  2.  14.8  6.7  6.   5.5 11.1\n",
      "  5.8 10.8 13.2  7.7  9.7  8.6  8.7 10.9 14.3 11.5 13.1 15.2 11.8 13.4\n",
      " 14.4 23.9 17.5 24.7 21.7 24.1 19.5 27.8 16.8 20.3 18.9 15.7 12.8 21.8\n",
      " 20.8 32.1 24.4 26.  28.1 21.3 26.4 29.1 29.4 25.1 27.7 18.5 25.  22.9\n",
      " 23.5 26.3 22.6 25.9 26.9 19.4 19.6 22.3 19.8 14.2 17.7 18.2 14.6 15.3\n",
      " 10.4 10.7  6.4  6.3  5.1  6.2  5.3  4.1  3.4  6.1  2.8  3.1  3.   5.\n",
      "  2.9  5.2  4.   4.6  4.3  7.3 11.4 13.7 24.  22.5 21.9 26.7 24.9 25.3\n",
      " 21.1 25.4 24.8 14.5  3.5  3.6  3.9  2.6  nan 12.  22.7  0.3 27.5 29.5\n",
      " 23.6 30.7 29.7 27.  23.7 12.3 28.6 31.8 28.  30.8 28.4 25.7 27.4 26.2\n",
      " 33.7 27.9 30.2 28.3  2.7 29.3 29.8  1.6 30.4 37.6 34.2 31.3 33.6 31.5\n",
      " 31.4 28.9 30.1 32.  32.6 35.6 31.6 31.2 30.  34.3 31.1 37.3 27.1 34.4\n",
      " 33.  33.9 32.9 34.1 28.5 35.7 31.  30.3 32.3 35.1 34.8 34.  37.7 30.9\n",
      " 32.2 33.4 33.2 32.7 30.6 31.7 35.2 30.5 33.5 36.8 34.9 33.1 36.3 32.5\n",
      " 31.9 32.8 35.5 36.4 37.5 35.9  0.8  0.9 36.5 37.2 33.3  0.6  1.   1.7\n",
      "  2.1  1.2  1.8  0.   1.3  1.5  0.5  0.4  0.2  1.4  0.1 -0.9  0.7 -0.7\n",
      " -0.2 -0.3 -1.1  1.1 -1.  -1.2 -1.3 -0.5 -0.6 -0.4 -0.8 -3.1 -0.1 -1.4\n",
      " -1.7 -2.3 -2.8 -3.4 -5.9 -2.5 -4.1 -1.6 -2.2 -2.4 -2.9 -2.1 -3.2 -2.\n",
      " -1.8 -4.2 -3.3 -4.3 -3.6 -3.7 -4.8 -5.5 -4.  -1.9 -2.7 -4.9 -5.2 -5.3\n",
      " -1.5 -3.9 -3.  -3.8 -4.4 -2.6 -6.2 -3.5 -4.5 -5.6 -7.  -7.2 36.  35.4\n",
      " 34.6 33.8 36.9 35.3 36.1 38.3 37.4 34.7 38.6 35.8 37.9 35.  40.2 37.\n",
      " 39.4 39.  38.2 36.2 38.9 36.6 39.1 38. ]\n",
      "Nilai unik dalam kolom:  TEMP3PM\n",
      "[21.8 24.3 23.2 26.5 29.7 28.9 24.6 25.5 30.2 28.2 28.8 17.  15.8 19.8\n",
      " 23.5 26.2 18.1 21.5 21.  27.3 31.6 30.8 29.  31.2 33.  32.1 26.1 18.2\n",
      " 22.7 25.7 22.1 33.9 34.4 36.8 38.4 27.6 26.6 29.3 30.  33.2 35.7 41.5\n",
      " 27.1 25.8 30.5 37.7 36.1 33.1 36.5 36.2 39.2 40.1 41.2 42.  41.9 37.1\n",
      " 35.2 39.7 41.6 43.4 38.5 29.4 24.9 17.3 28.5 29.2 29.5 27.  30.7 32.7\n",
      " 26.8 29.8 31.3 33.4 28.6 33.6 28.1 21.9 21.4 22.  29.6 18.8 23.8 19.7\n",
      " 18.3 20.5 23.9 27.2 32.6 33.5 31.4 19.6 27.7 29.9 30.9 27.4 20.3 21.2\n",
      " 20.9 21.6 25.  24.4 23.1 18.9 19.4 22.9 23.6 21.3 22.3 22.6 15.1 14.5\n",
      " 11.6  9.4 14.  12.1 16.1 16.3 19.1 18.5 18.4 19.2 20.2 17.7 18.  14.6\n",
      " 15.3 15.9 14.7 18.7 21.7 20.8 19.5 17.4 15.6 16.7 16.8 13.4 13.  16.5\n",
      " 10.2 11.5 11.4  7.9  9.7  8.8 15.5 13.9 15.4 14.9 16.4 13.6 15.2 13.7\n",
      " 11.3 12.3 13.1 11.7 12.6 12.  12.4 14.3 13.2 10.1 12.5 12.8 14.2 11.2\n",
      " 13.5 17.6 12.9 10.8  9.6  7.3 12.7 13.3 16.6 11.1 14.4 16.2 17.5 10.7\n",
      " 16.  24.  17.1 20.7 17.2 20.6 14.8 10.  15.7 17.8 19.  14.1 10.9 19.3\n",
      " 25.3 25.4 24.8 23.4 28.4 30.3 31.1 32.8 33.8 34.9 34.6 31.7 35.4 39.\n",
      " 36.4 25.6 32.  25.2 24.7 28.7 30.6 26.  32.5 36.9 30.4 35.9 37.5 27.5\n",
      " 34.1 35.1 28.  31.8 35.3 38.6 40.9 41.1 19.9 36.  24.1 34.3 39.1 34.7\n",
      " 34.8 30.1 32.9 26.4 24.2 20.1 21.1 22.8 31.5 26.9 29.1 28.3 25.1 23.\n",
      " 22.4 27.9 18.6 16.9 13.8 15.   8.9 11.  11.8  8.2  9.1 10.4 12.2  9.2\n",
      "  8.7 11.9 22.5 24.5 36.7 37.3 38.8 26.7  8.6 20.4  9.  10.3 10.6  8.\n",
      "  8.1 10.5  9.8  9.5  9.9 17.9  nan 22.2 23.3 23.7 26.3 25.9 35.  34.2\n",
      " 34.5 32.4 27.8 20.   7.  35.8 39.3 42.4 40.7 38.2 40.6 35.6 34.  36.3\n",
      " 32.3  9.3  8.3 31.9 41.7 38.9 31.  37.2 40.8 40.2 38.3  8.4  8.5  6.7\n",
      " 32.2 37.   7.6  6.4  7.7 33.3 39.5 37.6 42.3 33.7 35.5  7.5  7.4 38.\n",
      " 39.8 37.8 39.6 40.3 36.6 42.2 37.9 43.7 38.7 41.  43.5 43.3 38.1 43.\n",
      " 41.4 40.  40.4 37.4 39.9 43.2 40.5 44.8 42.9 42.6 42.1 42.7 43.1 39.4\n",
      "  6.9 44.  45.2 45.8 41.3 42.8 46.7 45.3 44.1 42.5 43.8 46.2 45.9 44.7\n",
      " 44.9 41.8  6.8  6.   6.6 44.2 43.9  7.1  7.8  7.2  5.7  5.1  6.2  3.7\n",
      "  6.5  6.1  4.3  5.4  5.3  4.9  5.6  2.3  5.5  6.3  5.9  5.8  3.4  3.6\n",
      " -1.9 -1.3  1.4  4.4  4.5  2.6  0.8  4.8  1.8  2.4  2.7  4.   5.  -0.3\n",
      " -2.9 -5.1 -0.4  0.9  2.1  2.9  1.2 -0.6  1.9  5.2 -0.7 -1.  -1.8 -0.1\n",
      "  0.4 -1.6 -0.2  1.6  1.3 -1.2  2.   2.8  0.7 -0.9  0.3 -1.1  1.1  1.\n",
      "  0.  -2.8 -1.4  0.2 -3.1 -2.6  3.   0.6  4.6  3.2  4.2  3.5  3.8  4.1\n",
      " -1.7 -1.5  3.3  2.2  1.7 -2.  -2.2  2.5 -2.3  3.9  3.1  0.1 -3.7  4.7\n",
      "  1.5 -3.9 -0.5 -3.3 -2.7 -3.5 -2.1  0.5 -2.5 -3.2 -4.1 -3.4 -0.8 -3.\n",
      " -4.4 -2.4 -4.  -4.2 -5.4 -3.8 44.4 46.1 45.4 43.6 44.5 44.3 45. ]\n",
      "Nilai unik dalam kolom:  RAINTODAY\n",
      "['No' 'Yes' nan]\n",
      "Nilai unik dalam kolom:  RAINTOMORROW\n",
      "['No' 'Yes' nan]\n"
     ]
    }
   ],
   "source": [
    "for col in df:\n",
    "    print(\"Nilai unik dalam kolom: \", col.upper())\n",
    "    print(df[col].unique())"
   ]
  },
  {
   "cell_type": "markdown",
   "metadata": {},
   "source": [
    "Dari pengecekan di atas dapat dilihat bahwa hampir seluruh kolom memiliki missing values kecuali kolom Date dan Location. Oleh karena itu selanjutnya kita akan melihat jumlah dari missing values pada tiap-tiap kolom"
   ]
  },
  {
   "cell_type": "code",
   "execution_count": 9,
   "metadata": {},
   "outputs": [
    {
     "data": {
      "text/plain": [
       "Date                 0\n",
       "Location             0\n",
       "MinTemp           1485\n",
       "MaxTemp           1261\n",
       "Rainfall          3261\n",
       "Evaporation      62790\n",
       "Sunshine         69835\n",
       "WindGustDir      10326\n",
       "WindGustSpeed    10263\n",
       "WindDir9am       10566\n",
       "WindDir3pm        4228\n",
       "WindSpeed9am      1767\n",
       "WindSpeed3pm      3062\n",
       "Humidity9am       2654\n",
       "Humidity3pm       4507\n",
       "Pressure9am      15065\n",
       "Pressure3pm      15028\n",
       "Cloud9am         55888\n",
       "Cloud3pm         59358\n",
       "Temp9am           1767\n",
       "Temp3pm           3609\n",
       "RainToday         3261\n",
       "RainTomorrow      3267\n",
       "dtype: int64"
      ]
     },
     "execution_count": 9,
     "metadata": {},
     "output_type": "execute_result"
    }
   ],
   "source": [
    "df.isnull().sum()"
   ]
  },
  {
   "cell_type": "code",
   "execution_count": 10,
   "metadata": {},
   "outputs": [
    {
     "data": {
      "text/plain": [
       "Date              0.000000\n",
       "Location          0.000000\n",
       "MinTemp           1.020899\n",
       "MaxTemp           0.866905\n",
       "Rainfall          2.241853\n",
       "Evaporation      43.166506\n",
       "Sunshine         48.009762\n",
       "WindGustDir       7.098859\n",
       "WindGustSpeed     7.055548\n",
       "WindDir9am        7.263853\n",
       "WindDir3pm        2.906641\n",
       "WindSpeed9am      1.214767\n",
       "WindSpeed3pm      2.105046\n",
       "Humidity9am       1.824557\n",
       "Humidity3pm       3.098446\n",
       "Pressure9am      10.356799\n",
       "Pressure3pm      10.331363\n",
       "Cloud9am         38.421559\n",
       "Cloud3pm         40.807095\n",
       "Temp9am           1.214767\n",
       "Temp3pm           2.481094\n",
       "RainToday         2.241853\n",
       "RainTomorrow      2.245978\n",
       "dtype: float64"
      ]
     },
     "execution_count": 10,
     "metadata": {},
     "output_type": "execute_result"
    }
   ],
   "source": [
    "df.isnull().sum() *100 / len(df)"
   ]
  },
  {
   "cell_type": "markdown",
   "metadata": {},
   "source": [
    "Dari pengecekan di atas dapat dilihat bahwa missing value terbanyak terdapat pada kolom evaporation, sunshine, dan cloud3pm. Oleh karena itu, kami tidak akan membuang secara langsung missing value tersebut melainkan mengisi missing value tersebut dengan median untuk data numerical dan untuk data string kami mengisi missing value dengan menggunakan modus."
   ]
  },
  {
   "cell_type": "markdown",
   "metadata": {},
   "source": [
    "## Handling Missing Values"
   ]
  },
  {
   "cell_type": "code",
   "execution_count": 11,
   "metadata": {},
   "outputs": [],
   "source": [
    "df['MinTemp'] = df['MinTemp'].fillna(df['MinTemp'].median())\n",
    "df['MaxTemp'] = df['MaxTemp'].fillna(df['MaxTemp'].median())\n",
    "df['Rainfall'] = df['Rainfall'].fillna(df['Rainfall'].median())\n",
    "df['Evaporation'] = df['Evaporation'].fillna(df['Evaporation'].median())\n",
    "df['Sunshine'] = df['Sunshine'].fillna(df['Sunshine'].median())\n",
    "df['WindGustSpeed'] = df['WindGustSpeed'].fillna(df['WindGustSpeed'].median())\n",
    "df['WindSpeed9am'] = df['WindSpeed9am'].fillna(df['WindSpeed9am'].median())\n",
    "df['WindSpeed3pm'] = df['WindSpeed3pm'].fillna(df['WindSpeed3pm'].median())\n",
    "df['Humidity9am'] = df['Humidity9am'].fillna(df['Humidity9am'].median())\n",
    "df['Humidity3pm'] = df['Humidity3pm'].fillna(df['Humidity3pm'].median())\n",
    "df['Pressure9am'] = df['Pressure9am'].fillna(df['Pressure9am'].median())\n",
    "df['Pressure3pm'] = df['Pressure3pm'].fillna(df['Pressure3pm'].median())\n",
    "df['Cloud9am'] = df['Cloud9am'].fillna(df['Cloud9am'].median())\n",
    "df['Cloud3pm'] = df['Cloud3pm'].fillna(df['Cloud3pm'].median())\n",
    "df['Temp9am'] = df['Temp9am'].fillna(df['Temp9am'].median())\n",
    "df['Temp3pm'] = df['Temp3pm'].fillna(df['Temp3pm'].median())\n",
    "\n",
    "df['WindGustDir'] = df['WindGustDir'].fillna(df['WindGustDir'].mode()[0])\n",
    "df['WindDir9am'] = df['WindDir9am'].fillna(df['WindDir9am'].mode()[0])\n",
    "df['WindDir3pm'] = df['WindDir3pm'].fillna(df['WindDir3pm'].mode()[0])\n",
    "df['RainToday'] = df['RainToday'].fillna(df['RainToday'].mode()[0])\n",
    "df['RainTomorrow'] = df['RainTomorrow'].fillna(df['RainTomorrow'].mode()[0])"
   ]
  },
  {
   "cell_type": "code",
   "execution_count": 12,
   "metadata": {},
   "outputs": [
    {
     "data": {
      "text/plain": [
       "Date             0\n",
       "Location         0\n",
       "MinTemp          0\n",
       "MaxTemp          0\n",
       "Rainfall         0\n",
       "Evaporation      0\n",
       "Sunshine         0\n",
       "WindGustDir      0\n",
       "WindGustSpeed    0\n",
       "WindDir9am       0\n",
       "WindDir3pm       0\n",
       "WindSpeed9am     0\n",
       "WindSpeed3pm     0\n",
       "Humidity9am      0\n",
       "Humidity3pm      0\n",
       "Pressure9am      0\n",
       "Pressure3pm      0\n",
       "Cloud9am         0\n",
       "Cloud3pm         0\n",
       "Temp9am          0\n",
       "Temp3pm          0\n",
       "RainToday        0\n",
       "RainTomorrow     0\n",
       "dtype: int64"
      ]
     },
     "execution_count": 12,
     "metadata": {},
     "output_type": "execute_result"
    }
   ],
   "source": [
    "df.isnull().sum()"
   ]
  },
  {
   "cell_type": "markdown",
   "metadata": {},
   "source": [
    "Dapat dilihat bahwa missing value telah berhasil diatasi."
   ]
  },
  {
   "cell_type": "markdown",
   "metadata": {},
   "source": [
    "# EDA"
   ]
  },
  {
   "cell_type": "markdown",
   "metadata": {},
   "source": [
    "Pertama-tama kita akan mengambil tanggal, tahun, dan bulan dari kolom datetime untuk keperluan analisis"
   ]
  },
  {
   "cell_type": "code",
   "execution_count": 13,
   "metadata": {},
   "outputs": [],
   "source": [
    "df['year'] = pd.to_datetime(df.Date).dt.year\n",
    "df['month'] = pd.to_datetime(df.Date).dt.month\n",
    "df['day'] = pd.to_datetime(df.Date).dt.day"
   ]
  },
  {
   "cell_type": "markdown",
   "metadata": {},
   "source": [
    "## Pie Chart"
   ]
  },
  {
   "cell_type": "code",
   "execution_count": 14,
   "metadata": {},
   "outputs": [
    {
     "data": {
      "image/png": "[encoded data removed]",
      "text/plain": [
       "<Figure size 432x288 with 1 Axes>"
      ]
     },
     "metadata": {},
     "output_type": "display_data"
    }
   ],
   "source": [
    "df.RainTomorrow.value_counts().plot(kind='pie',autopct='%1.1f%%')\n",
    "plt.title('Proporsi Hari Esok akan Hujan')\n",
    "plt.show()"
   ]
  },
  {
   "cell_type": "markdown",
   "metadata": {},
   "source": [
    "Berdasarkan pie chart di atas, dari tahun 2007 hingga tahun 2017 proporsi untuk hari esok tidak akan hujan lebih tinggi daripada hari esok akan hujan."
   ]
  },
  {
   "cell_type": "markdown",
   "metadata": {},
   "source": [
    "## Scatter Plot"
   ]
  },
  {
   "cell_type": "markdown",
   "metadata": {},
   "source": [
    "### Rainfall"
   ]
  },
  {
   "cell_type": "code",
   "execution_count": 15,
   "metadata": {},
   "outputs": [],
   "source": [
    "df1gr = df[['Rainfall','year']].groupby(['year'], as_index=False).agg({'Rainfall':'mean'})"
   ]
  },
  {
   "cell_type": "code",
   "execution_count": 16,
   "metadata": {},
   "outputs": [
    {
     "data": {
      "text/html": [
       "<div>\n",
       "<style scoped>\n",
       "    .dataframe tbody tr th:only-of-type {\n",
       "        vertical-align: middle;\n",
       "    }\n",
       "\n",
       "    .dataframe tbody tr th {\n",
       "        vertical-align: top;\n",
       "    }\n",
       "\n",
       "    .dataframe thead th {\n",
       "        text-align: right;\n",
       "    }\n",
       "</style>\n",
       "<table border=\"1\" class=\"dataframe\">\n",
       "  <thead>\n",
       "    <tr style=\"text-align: right;\">\n",
       "      <th></th>\n",
       "      <th>year</th>\n",
       "      <th>Rainfall</th>\n",
       "    </tr>\n",
       "  </thead>\n",
       "  <tbody>\n",
       "    <tr>\n",
       "      <th>0</th>\n",
       "      <td>2007</td>\n",
       "      <td>3.219672</td>\n",
       "    </tr>\n",
       "    <tr>\n",
       "      <th>1</th>\n",
       "      <td>2008</td>\n",
       "      <td>2.268282</td>\n",
       "    </tr>\n",
       "    <tr>\n",
       "      <th>2</th>\n",
       "      <td>2009</td>\n",
       "      <td>2.141223</td>\n",
       "    </tr>\n",
       "    <tr>\n",
       "      <th>3</th>\n",
       "      <td>2010</td>\n",
       "      <td>2.652771</td>\n",
       "    </tr>\n",
       "    <tr>\n",
       "      <th>4</th>\n",
       "      <td>2011</td>\n",
       "      <td>2.777413</td>\n",
       "    </tr>\n",
       "    <tr>\n",
       "      <th>5</th>\n",
       "      <td>2012</td>\n",
       "      <td>2.358810</td>\n",
       "    </tr>\n",
       "    <tr>\n",
       "      <th>6</th>\n",
       "      <td>2013</td>\n",
       "      <td>2.228657</td>\n",
       "    </tr>\n",
       "    <tr>\n",
       "      <th>7</th>\n",
       "      <td>2014</td>\n",
       "      <td>1.912798</td>\n",
       "    </tr>\n",
       "    <tr>\n",
       "      <th>8</th>\n",
       "      <td>2015</td>\n",
       "      <td>2.081862</td>\n",
       "    </tr>\n",
       "    <tr>\n",
       "      <th>9</th>\n",
       "      <td>2016</td>\n",
       "      <td>2.327557</td>\n",
       "    </tr>\n",
       "    <tr>\n",
       "      <th>10</th>\n",
       "      <td>2017</td>\n",
       "      <td>2.435139</td>\n",
       "    </tr>\n",
       "  </tbody>\n",
       "</table>\n",
       "</div>"
      ],
      "text/plain": [
       "    year  Rainfall\n",
       "0   2007  3.219672\n",
       "1   2008  2.268282\n",
       "2   2009  2.141223\n",
       "3   2010  2.652771\n",
       "4   2011  2.777413\n",
       "5   2012  2.358810\n",
       "6   2013  2.228657\n",
       "7   2014  1.912798\n",
       "8   2015  2.081862\n",
       "9   2016  2.327557\n",
       "10  2017  2.435139"
      ]
     },
     "execution_count": 16,
     "metadata": {},
     "output_type": "execute_result"
    }
   ],
   "source": [
    "df1gr"
   ]
  },
  {
   "cell_type": "code",
   "execution_count": 17,
   "metadata": {},
   "outputs": [
    {
     "data": {
      "image/png": "[encoded data removed]",
      "text/plain": [
       "<Figure size 864x504 with 1 Axes>"
      ]
     },
     "metadata": {
      "needs_background": "light"
     },
     "output_type": "display_data"
    }
   ],
   "source": [
    "df1gr.plot(kind='scatter', \n",
    "                x='year', \n",
    "                y='Rainfall', \n",
    "                figsize=(12,7),\n",
    "                color='red')\n",
    "plt.title(\"Rata-rata Curah Hujan dari Tahun 2007 - 2017\")\n",
    "plt.xlabel(\"Tahun\")\n",
    "plt.ylabel(\"Rata-rata Curah Hujan\")\n",
    "plt.show()"
   ]
  },
  {
   "cell_type": "markdown",
   "metadata": {},
   "source": [
    "Rata-rata curah hujan di Australia dari tahun 2007 hingga 2017 paling tinggi ada di tahun 2007. Sementara itu, rata-rata curah hujan terendah ada pada tahun 2014."
   ]
  },
  {
   "cell_type": "markdown",
   "metadata": {},
   "source": [
    "## Line Plot"
   ]
  },
  {
   "cell_type": "markdown",
   "metadata": {},
   "source": [
    "### Sunshine"
   ]
  },
  {
   "cell_type": "code",
   "execution_count": 18,
   "metadata": {},
   "outputs": [],
   "source": [
    "df2gr = df[['Sunshine','month']].groupby(['month'], as_index=False).agg({'Sunshine':'mean'})"
   ]
  },
  {
   "cell_type": "code",
   "execution_count": 19,
   "metadata": {},
   "outputs": [
    {
     "data": {
      "text/html": [
       "<div>\n",
       "<style scoped>\n",
       "    .dataframe tbody tr th:only-of-type {\n",
       "        vertical-align: middle;\n",
       "    }\n",
       "\n",
       "    .dataframe tbody tr th {\n",
       "        vertical-align: top;\n",
       "    }\n",
       "\n",
       "    .dataframe thead th {\n",
       "        text-align: right;\n",
       "    }\n",
       "</style>\n",
       "<table border=\"1\" class=\"dataframe\">\n",
       "  <thead>\n",
       "    <tr style=\"text-align: right;\">\n",
       "      <th></th>\n",
       "      <th>month</th>\n",
       "      <th>Sunshine</th>\n",
       "    </tr>\n",
       "  </thead>\n",
       "  <tbody>\n",
       "    <tr>\n",
       "      <th>0</th>\n",
       "      <td>1</td>\n",
       "      <td>8.822892</td>\n",
       "    </tr>\n",
       "    <tr>\n",
       "      <th>1</th>\n",
       "      <td>2</td>\n",
       "      <td>8.500630</td>\n",
       "    </tr>\n",
       "    <tr>\n",
       "      <th>2</th>\n",
       "      <td>3</td>\n",
       "      <td>7.990682</td>\n",
       "    </tr>\n",
       "    <tr>\n",
       "      <th>3</th>\n",
       "      <td>4</td>\n",
       "      <td>7.721056</td>\n",
       "    </tr>\n",
       "    <tr>\n",
       "      <th>4</th>\n",
       "      <td>5</td>\n",
       "      <td>7.370164</td>\n",
       "    </tr>\n",
       "    <tr>\n",
       "      <th>5</th>\n",
       "      <td>6</td>\n",
       "      <td>7.018228</td>\n",
       "    </tr>\n",
       "    <tr>\n",
       "      <th>6</th>\n",
       "      <td>7</td>\n",
       "      <td>7.151501</td>\n",
       "    </tr>\n",
       "    <tr>\n",
       "      <th>7</th>\n",
       "      <td>8</td>\n",
       "      <td>7.737903</td>\n",
       "    </tr>\n",
       "    <tr>\n",
       "      <th>8</th>\n",
       "      <td>9</td>\n",
       "      <td>8.024476</td>\n",
       "    </tr>\n",
       "    <tr>\n",
       "      <th>9</th>\n",
       "      <td>10</td>\n",
       "      <td>8.447714</td>\n",
       "    </tr>\n",
       "    <tr>\n",
       "      <th>10</th>\n",
       "      <td>11</td>\n",
       "      <td>8.540312</td>\n",
       "    </tr>\n",
       "    <tr>\n",
       "      <th>11</th>\n",
       "      <td>12</td>\n",
       "      <td>8.705337</td>\n",
       "    </tr>\n",
       "  </tbody>\n",
       "</table>\n",
       "</div>"
      ],
      "text/plain": [
       "    month  Sunshine\n",
       "0       1  8.822892\n",
       "1       2  8.500630\n",
       "2       3  7.990682\n",
       "3       4  7.721056\n",
       "4       5  7.370164\n",
       "5       6  7.018228\n",
       "6       7  7.151501\n",
       "7       8  7.737903\n",
       "8       9  8.024476\n",
       "9      10  8.447714\n",
       "10     11  8.540312\n",
       "11     12  8.705337"
      ]
     },
     "execution_count": 19,
     "metadata": {},
     "output_type": "execute_result"
    }
   ],
   "source": [
    "df2gr"
   ]
  },
  {
   "cell_type": "code",
   "execution_count": 20,
   "metadata": {},
   "outputs": [
    {
     "data": {
      "image/png": "[encoded data removed]",
      "text/plain": [
       "<Figure size 864x504 with 1 Axes>"
      ]
     },
     "metadata": {
      "needs_background": "light"
     },
     "output_type": "display_data"
    }
   ],
   "source": [
    "df2gr.plot(kind='line', \n",
    "                x='month', \n",
    "                y='Sunshine', \n",
    "                figsize=(12,7),\n",
    "                color='blue',\n",
    "                legend = False,\n",
    "                marker=\"*\")\n",
    "plt.title(\"Rata-rata Jumlah Jam Matahari Bersinar dari bulan Januari - Desember pada Tahun 2007 - 2017\")\n",
    "plt.xlabel(\"Bulan\")\n",
    "plt.ylabel(\"Rata-rata Jumlah Jam\")\n",
    "plt.show()"
   ]
  },
  {
   "cell_type": "markdown",
   "metadata": {},
   "source": [
    "Dari tahun 2007 hingga 2017, rata-rata jumlah jam matahari bersinar paling lama ada pada bulan Januari, Februari, dan Desember. Hal ini dikarenakan pada bulan Desember hingga Februari Australia memasuki musim panas. Sedangkan pada bulan Juni hingga Juli merupakan rata-rata jumlah jam matahari bersinar yang paling cepat karena pada dua bulan ini Australia sedang mengalami musim dingin."
   ]
  },
  {
   "cell_type": "markdown",
   "metadata": {},
   "source": [
    "## Distribution Plot (DistPlot)"
   ]
  },
  {
   "cell_type": "markdown",
   "metadata": {},
   "source": [
    "### Wind Speed"
   ]
  },
  {
   "cell_type": "code",
   "execution_count": 21,
   "metadata": {},
   "outputs": [
    {
     "data": {
      "image/png": "[encoded data removed]",
      "text/plain": [
       "<Figure size 1080x1080 with 2 Axes>"
      ]
     },
     "metadata": {
      "needs_background": "light"
     },
     "output_type": "display_data"
    }
   ],
   "source": [
    "fig = plt.figure(figsize=(15, 15))\n",
    "fig.subplots_adjust(hspace=.5, wspace=.5)\n",
    "\n",
    "ax = fig.add_subplot(3,2,1)\n",
    "sns.distplot(df['WindSpeed9am'])\n",
    "ax.set_title(\"Distribusi dari Kecepatan Angin pada Jam 9 pagi\", fontsize=10)\n",
    "\n",
    "ax = fig.add_subplot(3,2,2)\n",
    "sns.distplot(df['WindSpeed3pm'])\n",
    "ax.set_title(\"Distribusi dari Kecepatan Angin pada Jam 3 sore\", fontsize=10)\n",
    "\n",
    "plt.show()"
   ]
  },
  {
   "cell_type": "markdown",
   "metadata": {},
   "source": [
    "$H_0$ : **`Kecepatan angin pada jam 9 pagi berdistribusi normal`** <br>\n",
    "$H_1$ : **`Kecepatan angin pada jam 9 pagi tidak berdistribusi normal`** <br>\n",
    "\n",
    "$H_0$ : **`Kecepatan angin pada jam 3 sore berdistribusi normal`** <br>\n",
    "$H_1$ : **`Kecepatan angin pada jam 3 sore tidak berdistribusi normal`** <br>"
   ]
  },
  {
   "cell_type": "code",
   "execution_count": 22,
   "metadata": {},
   "outputs": [
    {
     "name": "stdout",
     "output_type": "stream",
     "text": [
      "p-value from the test Anderson-Darling test below 0.05 generally means non-normal: 0.0\n",
      "Null hypothesis ditolak dan kecepatan angin pada jam 3 sore tidak berdistribusi normal\n"
     ]
    }
   ],
   "source": [
    "p_value = normal_ad(df['WindSpeed3pm'])[1]\n",
    "print('p-value from the test Anderson-Darling test below 0.05 generally means non-normal:', p_value)\n",
    "\n",
    "if p_value < 0.05:\n",
    "    print('Null hypothesis ditolak dan kecepatan angin pada jam 3 sore tidak berdistribusi normal')\n",
    "else:\n",
    "    print('Null hypothesis tidak ditolak dan kecepatan angin pada jam 3 sore berdistribusi normal')"
   ]
  },
  {
   "cell_type": "code",
   "execution_count": 23,
   "metadata": {},
   "outputs": [
    {
     "name": "stdout",
     "output_type": "stream",
     "text": [
      "p-value from the test Anderson-Darling test below 0.05 generally means non-normal: 0.0\n",
      "Null hypothesis ditolak dan kecepatan angin pada jam 3 sore tidak berdistribusi normal\n"
     ]
    }
   ],
   "source": [
    "p_value = normal_ad(df['WindSpeed9am'])[1]\n",
    "print('p-value from the test Anderson-Darling test below 0.05 generally means non-normal:', p_value)\n",
    "\n",
    "if p_value < 0.05:\n",
    "    print('Null hypothesis ditolak dan kecepatan angin pada jam 3 sore tidak berdistribusi normal')\n",
    "else:\n",
    "    print('Null hypothesis tidak ditolak dan kecepatan angin pada jam 9 pagi berdistribusi normal')"
   ]
  },
  {
   "cell_type": "code",
   "execution_count": 24,
   "metadata": {},
   "outputs": [
    {
     "name": "stdout",
     "output_type": "stream",
     "text": [
      "Average Wind Speed at 9 am: 14.03075072184793\n",
      "Standard deviation Wind Speed at 9 am: 8.861796161476768\n"
     ]
    }
   ],
   "source": [
    "print('Average Wind Speed at 9 am:', df.WindSpeed9am.mean())\n",
    "print('Standard deviation Wind Speed at 9 am:', df.WindSpeed9am.std())"
   ]
  },
  {
   "cell_type": "code",
   "execution_count": 25,
   "metadata": {},
   "outputs": [
    {
     "name": "stdout",
     "output_type": "stream",
     "text": [
      "Average Wind Speed at 3 pm: 18.66975800907466\n",
      "Standard deviation Wind Speed at 3 pm: 8.71671554202573\n"
     ]
    }
   ],
   "source": [
    "print('Average Wind Speed at 3 pm:', df.WindSpeed3pm.mean())\n",
    "print('Standard deviation Wind Speed at 3 pm:', df.WindSpeed3pm.std())"
   ]
  },
  {
   "cell_type": "markdown",
   "metadata": {},
   "source": [
    "Berdasarkan uji hipotesis dan visualisasi di atas dapat ditarik beberapa insight sebagai berikut: <br>\n",
    "- Kecepatan angin jam 3 sore dan jam 9 pagi tidak berdistribusi normal. Keduanya memiliki distribusi yang tergolong right skewed.\n",
    "- Rata-rata kecepatan angin pada jam 9 pagi adalah sebesar 14.03 dan standar deviasi sebesar 8.86. Artinya, persebaran data kecepatan angin pada jam 9 pagi berada di antara [5.17, 22.89]. (didapatkan melalui [Mean - std, Mean + std])\n",
    "- Rata-rata kecepatan angin pada jam 3 sore adalah sebesar 18.67 dan standar deviasi sebesar 8.72. Artinya, persebaran data kecepatan angin pada jam 3 sore berada di antara [9.95, 27.39]. (didapatkan melalui [Mean - std, Mean + std])\n",
    "- Rata-rata kecepatan angin di Australia pada jam 3 sore lebih tinggi daripada kecepatan angin pada jam 9 pagi."
   ]
  },
  {
   "cell_type": "markdown",
   "metadata": {},
   "source": [
    "## Bar Plot"
   ]
  },
  {
   "cell_type": "markdown",
   "metadata": {},
   "source": [
    "### Wind Direction"
   ]
  },
  {
   "cell_type": "code",
   "execution_count": 26,
   "metadata": {},
   "outputs": [
    {
     "data": {
      "image/png": "[encoded data removed]",
      "text/plain": [
       "<Figure size 1440x1080 with 3 Axes>"
      ]
     },
     "metadata": {
      "needs_background": "light"
     },
     "output_type": "display_data"
    }
   ],
   "source": [
    "fig = plt.figure(figsize=(20, 15))\n",
    "fig.subplots_adjust(hspace=.5, wspace=.5)\n",
    "\n",
    "ax = fig.add_subplot(3,2,1)\n",
    "sns.countplot(df['WindGustDir'])\n",
    "ax.set_title(\"Arah Kecepatan Angin\", fontsize=10)\n",
    "\n",
    "ax = fig.add_subplot(3,2,2)\n",
    "sns.countplot(df['WindDir9am'])\n",
    "ax.set_title(\"Arah Kecepatan Angin Jam 9 pagi\", fontsize=10)\n",
    "\n",
    "ax = fig.add_subplot(3,2,3)\n",
    "sns.countplot(df['WindDir3pm'])\n",
    "ax.set_title(\"Arah Kecepatan Angin Jam 3 sore\", fontsize=10)\n",
    "\n",
    "plt.show()"
   ]
  },
  {
   "cell_type": "markdown",
   "metadata": {},
   "source": [
    "Berdasarkan bar chart di atas dapat ditarik beberapa insight sebagai berikut: <br>\n",
    "- arah kecepatan angin dari tahun 2007 hingga 2017 paling banyak mengarah ke arah barat (W) \n",
    "- arah kecepatan angin dari tahun 2007 hingga 2017 pada jam 9 pagi paling banyak mengarah ke arah utara (N)\n",
    "- arah kecepatan angin dari tahun 2007 hingga 2017 pada jam 3 sore paling banyak mengarah ke arah tenggara (SE)"
   ]
  },
  {
   "cell_type": "markdown",
   "metadata": {},
   "source": [
    "## Multiple Line Plot"
   ]
  },
  {
   "cell_type": "markdown",
   "metadata": {},
   "source": [
    "### Temperature"
   ]
  },
  {
   "cell_type": "code",
   "execution_count": 27,
   "metadata": {},
   "outputs": [
    {
     "data": {
      "image/png": "[encoded data removed]",
      "text/plain": [
       "<Figure size 1800x720 with 2 Axes>"
      ]
     },
     "metadata": {
      "needs_background": "light"
     },
     "output_type": "display_data"
    }
   ],
   "source": [
    "fig, axes = plt.subplots(1, 2, figsize=(25, 10))\n",
    "\n",
    "# Mintemp\n",
    "sns.lineplot(ax=axes[0],x=\"day\",y=\"MinTemp\",hue=\"RainToday\",data=df, palette='ocean')\n",
    "axes[0].set_title('Line Plot untuk Minimum Temperatur')\n",
    "# Maxtemp\n",
    "sns.lineplot(ax=axes[1],x=\"day\",y=\"MaxTemp\",hue=\"RainToday\",data=df, palette='ocean')\n",
    "axes[1].set_title('Line Plot untuk Maksimum Temperatur')\n",
    "plt.show()"
   ]
  },
  {
   "cell_type": "markdown",
   "metadata": {},
   "source": [
    "Dari multiple line plot di atas dapat ditarik beberapa insight:\n",
    "- minimal temperature lebih tinggi apabila hari itu hujan daripada tidak hujan.\n",
    "- minimal temperature apabila hari itu hujan cenderung memiliki trend fluktuatif dari hari ke hari pada tahun 2007-2017. Minimal temperature tertinggi dari tahun 2007-2017 adalah pada tanggal 4. Sedangkan minimal temperature terendah ada pada tanggal 11.\n",
    "- maximal temperature lebih tinggi apabila hari itu tidak hujan daripada hari itu hujan.\n",
    "- maximal temperature apabila hari itu tidak hujan cenderung lebih stabil daripada maximal temperature apabila hari itu hujan"
   ]
  },
  {
   "cell_type": "markdown",
   "metadata": {},
   "source": [
    "## Label Encoding"
   ]
  },
  {
   "cell_type": "markdown",
   "metadata": {},
   "source": [
    "### Binary Data"
   ]
  },
  {
   "cell_type": "code",
   "execution_count": 28,
   "metadata": {},
   "outputs": [],
   "source": [
    "label_encoder = preprocessing.LabelEncoder()"
   ]
  },
  {
   "cell_type": "code",
   "execution_count": 29,
   "metadata": {},
   "outputs": [],
   "source": [
    "df['RainToday']= label_encoder.fit_transform(df['RainToday'])\n",
    "df['RainTomorrow']= label_encoder.fit_transform(df['RainTomorrow'])"
   ]
  },
  {
   "cell_type": "markdown",
   "metadata": {},
   "source": [
    "### Categorical Data"
   ]
  },
  {
   "cell_type": "markdown",
   "metadata": {},
   "source": [
    "- WindGustDir9am dan WindGustDir3pm tidak digunakan karena telah terwakili oleh WindGustDir\n",
    "- Location tidak digunakan karena tidak berhubungan untuk memprediksi hujan"
   ]
  },
  {
   "cell_type": "code",
   "execution_count": 30,
   "metadata": {},
   "outputs": [],
   "source": [
    "categorical = df[['WindGustDir']]"
   ]
  },
  {
   "cell_type": "code",
   "execution_count": 31,
   "metadata": {},
   "outputs": [],
   "source": [
    "\n",
    "for catcol in categorical:\n",
    "    dummies = pd.get_dummies(df[catcol], prefix=catcol, drop_first=True)\n",
    "    df = pd.concat([df, dummies], axis=1)\n",
    "    df = df.drop([catcol], axis = 1)\n"
   ]
  },
  {
   "cell_type": "code",
   "execution_count": 32,
   "metadata": {},
   "outputs": [
    {
     "data": {
      "text/html": [
       "<div>\n",
       "<style scoped>\n",
       "    .dataframe tbody tr th:only-of-type {\n",
       "        vertical-align: middle;\n",
       "    }\n",
       "\n",
       "    .dataframe tbody tr th {\n",
       "        vertical-align: top;\n",
       "    }\n",
       "\n",
       "    .dataframe thead th {\n",
       "        text-align: right;\n",
       "    }\n",
       "</style>\n",
       "<table border=\"1\" class=\"dataframe\">\n",
       "  <thead>\n",
       "    <tr style=\"text-align: right;\">\n",
       "      <th></th>\n",
       "      <th>Date</th>\n",
       "      <th>Location</th>\n",
       "      <th>MinTemp</th>\n",
       "      <th>MaxTemp</th>\n",
       "      <th>Rainfall</th>\n",
       "      <th>Evaporation</th>\n",
       "      <th>Sunshine</th>\n",
       "      <th>WindGustSpeed</th>\n",
       "      <th>WindDir9am</th>\n",
       "      <th>WindDir3pm</th>\n",
       "      <th>...</th>\n",
       "      <th>WindGustDir_NNW</th>\n",
       "      <th>WindGustDir_NW</th>\n",
       "      <th>WindGustDir_S</th>\n",
       "      <th>WindGustDir_SE</th>\n",
       "      <th>WindGustDir_SSE</th>\n",
       "      <th>WindGustDir_SSW</th>\n",
       "      <th>WindGustDir_SW</th>\n",
       "      <th>WindGustDir_W</th>\n",
       "      <th>WindGustDir_WNW</th>\n",
       "      <th>WindGustDir_WSW</th>\n",
       "    </tr>\n",
       "  </thead>\n",
       "  <tbody>\n",
       "    <tr>\n",
       "      <th>0</th>\n",
       "      <td>2008-12-01</td>\n",
       "      <td>Albury</td>\n",
       "      <td>13.4</td>\n",
       "      <td>22.9</td>\n",
       "      <td>0.6</td>\n",
       "      <td>4.8</td>\n",
       "      <td>8.4</td>\n",
       "      <td>44.0</td>\n",
       "      <td>W</td>\n",
       "      <td>WNW</td>\n",
       "      <td>...</td>\n",
       "      <td>0</td>\n",
       "      <td>0</td>\n",
       "      <td>0</td>\n",
       "      <td>0</td>\n",
       "      <td>0</td>\n",
       "      <td>0</td>\n",
       "      <td>0</td>\n",
       "      <td>1</td>\n",
       "      <td>0</td>\n",
       "      <td>0</td>\n",
       "    </tr>\n",
       "    <tr>\n",
       "      <th>1</th>\n",
       "      <td>2008-12-02</td>\n",
       "      <td>Albury</td>\n",
       "      <td>7.4</td>\n",
       "      <td>25.1</td>\n",
       "      <td>0.0</td>\n",
       "      <td>4.8</td>\n",
       "      <td>8.4</td>\n",
       "      <td>44.0</td>\n",
       "      <td>NNW</td>\n",
       "      <td>WSW</td>\n",
       "      <td>...</td>\n",
       "      <td>0</td>\n",
       "      <td>0</td>\n",
       "      <td>0</td>\n",
       "      <td>0</td>\n",
       "      <td>0</td>\n",
       "      <td>0</td>\n",
       "      <td>0</td>\n",
       "      <td>0</td>\n",
       "      <td>1</td>\n",
       "      <td>0</td>\n",
       "    </tr>\n",
       "    <tr>\n",
       "      <th>2</th>\n",
       "      <td>2008-12-03</td>\n",
       "      <td>Albury</td>\n",
       "      <td>12.9</td>\n",
       "      <td>25.7</td>\n",
       "      <td>0.0</td>\n",
       "      <td>4.8</td>\n",
       "      <td>8.4</td>\n",
       "      <td>46.0</td>\n",
       "      <td>W</td>\n",
       "      <td>WSW</td>\n",
       "      <td>...</td>\n",
       "      <td>0</td>\n",
       "      <td>0</td>\n",
       "      <td>0</td>\n",
       "      <td>0</td>\n",
       "      <td>0</td>\n",
       "      <td>0</td>\n",
       "      <td>0</td>\n",
       "      <td>0</td>\n",
       "      <td>0</td>\n",
       "      <td>1</td>\n",
       "    </tr>\n",
       "    <tr>\n",
       "      <th>3</th>\n",
       "      <td>2008-12-04</td>\n",
       "      <td>Albury</td>\n",
       "      <td>9.2</td>\n",
       "      <td>28.0</td>\n",
       "      <td>0.0</td>\n",
       "      <td>4.8</td>\n",
       "      <td>8.4</td>\n",
       "      <td>24.0</td>\n",
       "      <td>SE</td>\n",
       "      <td>E</td>\n",
       "      <td>...</td>\n",
       "      <td>0</td>\n",
       "      <td>0</td>\n",
       "      <td>0</td>\n",
       "      <td>0</td>\n",
       "      <td>0</td>\n",
       "      <td>0</td>\n",
       "      <td>0</td>\n",
       "      <td>0</td>\n",
       "      <td>0</td>\n",
       "      <td>0</td>\n",
       "    </tr>\n",
       "    <tr>\n",
       "      <th>4</th>\n",
       "      <td>2008-12-05</td>\n",
       "      <td>Albury</td>\n",
       "      <td>17.5</td>\n",
       "      <td>32.3</td>\n",
       "      <td>1.0</td>\n",
       "      <td>4.8</td>\n",
       "      <td>8.4</td>\n",
       "      <td>41.0</td>\n",
       "      <td>ENE</td>\n",
       "      <td>NW</td>\n",
       "      <td>...</td>\n",
       "      <td>0</td>\n",
       "      <td>0</td>\n",
       "      <td>0</td>\n",
       "      <td>0</td>\n",
       "      <td>0</td>\n",
       "      <td>0</td>\n",
       "      <td>0</td>\n",
       "      <td>1</td>\n",
       "      <td>0</td>\n",
       "      <td>0</td>\n",
       "    </tr>\n",
       "    <tr>\n",
       "      <th>...</th>\n",
       "      <td>...</td>\n",
       "      <td>...</td>\n",
       "      <td>...</td>\n",
       "      <td>...</td>\n",
       "      <td>...</td>\n",
       "      <td>...</td>\n",
       "      <td>...</td>\n",
       "      <td>...</td>\n",
       "      <td>...</td>\n",
       "      <td>...</td>\n",
       "      <td>...</td>\n",
       "      <td>...</td>\n",
       "      <td>...</td>\n",
       "      <td>...</td>\n",
       "      <td>...</td>\n",
       "      <td>...</td>\n",
       "      <td>...</td>\n",
       "      <td>...</td>\n",
       "      <td>...</td>\n",
       "      <td>...</td>\n",
       "      <td>...</td>\n",
       "    </tr>\n",
       "    <tr>\n",
       "      <th>145455</th>\n",
       "      <td>2017-06-21</td>\n",
       "      <td>Uluru</td>\n",
       "      <td>2.8</td>\n",
       "      <td>23.4</td>\n",
       "      <td>0.0</td>\n",
       "      <td>4.8</td>\n",
       "      <td>8.4</td>\n",
       "      <td>31.0</td>\n",
       "      <td>SE</td>\n",
       "      <td>ENE</td>\n",
       "      <td>...</td>\n",
       "      <td>0</td>\n",
       "      <td>0</td>\n",
       "      <td>0</td>\n",
       "      <td>0</td>\n",
       "      <td>0</td>\n",
       "      <td>0</td>\n",
       "      <td>0</td>\n",
       "      <td>0</td>\n",
       "      <td>0</td>\n",
       "      <td>0</td>\n",
       "    </tr>\n",
       "    <tr>\n",
       "      <th>145456</th>\n",
       "      <td>2017-06-22</td>\n",
       "      <td>Uluru</td>\n",
       "      <td>3.6</td>\n",
       "      <td>25.3</td>\n",
       "      <td>0.0</td>\n",
       "      <td>4.8</td>\n",
       "      <td>8.4</td>\n",
       "      <td>22.0</td>\n",
       "      <td>SE</td>\n",
       "      <td>N</td>\n",
       "      <td>...</td>\n",
       "      <td>1</td>\n",
       "      <td>0</td>\n",
       "      <td>0</td>\n",
       "      <td>0</td>\n",
       "      <td>0</td>\n",
       "      <td>0</td>\n",
       "      <td>0</td>\n",
       "      <td>0</td>\n",
       "      <td>0</td>\n",
       "      <td>0</td>\n",
       "    </tr>\n",
       "    <tr>\n",
       "      <th>145457</th>\n",
       "      <td>2017-06-23</td>\n",
       "      <td>Uluru</td>\n",
       "      <td>5.4</td>\n",
       "      <td>26.9</td>\n",
       "      <td>0.0</td>\n",
       "      <td>4.8</td>\n",
       "      <td>8.4</td>\n",
       "      <td>37.0</td>\n",
       "      <td>SE</td>\n",
       "      <td>WNW</td>\n",
       "      <td>...</td>\n",
       "      <td>0</td>\n",
       "      <td>0</td>\n",
       "      <td>0</td>\n",
       "      <td>0</td>\n",
       "      <td>0</td>\n",
       "      <td>0</td>\n",
       "      <td>0</td>\n",
       "      <td>0</td>\n",
       "      <td>0</td>\n",
       "      <td>0</td>\n",
       "    </tr>\n",
       "    <tr>\n",
       "      <th>145458</th>\n",
       "      <td>2017-06-24</td>\n",
       "      <td>Uluru</td>\n",
       "      <td>7.8</td>\n",
       "      <td>27.0</td>\n",
       "      <td>0.0</td>\n",
       "      <td>4.8</td>\n",
       "      <td>8.4</td>\n",
       "      <td>28.0</td>\n",
       "      <td>SSE</td>\n",
       "      <td>N</td>\n",
       "      <td>...</td>\n",
       "      <td>0</td>\n",
       "      <td>0</td>\n",
       "      <td>0</td>\n",
       "      <td>1</td>\n",
       "      <td>0</td>\n",
       "      <td>0</td>\n",
       "      <td>0</td>\n",
       "      <td>0</td>\n",
       "      <td>0</td>\n",
       "      <td>0</td>\n",
       "    </tr>\n",
       "    <tr>\n",
       "      <th>145459</th>\n",
       "      <td>2017-06-25</td>\n",
       "      <td>Uluru</td>\n",
       "      <td>14.9</td>\n",
       "      <td>22.6</td>\n",
       "      <td>0.0</td>\n",
       "      <td>4.8</td>\n",
       "      <td>8.4</td>\n",
       "      <td>39.0</td>\n",
       "      <td>ESE</td>\n",
       "      <td>ESE</td>\n",
       "      <td>...</td>\n",
       "      <td>0</td>\n",
       "      <td>0</td>\n",
       "      <td>0</td>\n",
       "      <td>0</td>\n",
       "      <td>0</td>\n",
       "      <td>0</td>\n",
       "      <td>0</td>\n",
       "      <td>1</td>\n",
       "      <td>0</td>\n",
       "      <td>0</td>\n",
       "    </tr>\n",
       "  </tbody>\n",
       "</table>\n",
       "<p>145460 rows × 40 columns</p>\n",
       "</div>"
      ],
      "text/plain": [
       "             Date Location  MinTemp  MaxTemp  Rainfall  Evaporation  Sunshine  \\\n",
       "0      2008-12-01   Albury     13.4     22.9       0.6          4.8       8.4   \n",
       "1      2008-12-02   Albury      7.4     25.1       0.0          4.8       8.4   \n",
       "2      2008-12-03   Albury     12.9     25.7       0.0          4.8       8.4   \n",
       "3      2008-12-04   Albury      9.2     28.0       0.0          4.8       8.4   \n",
       "4      2008-12-05   Albury     17.5     32.3       1.0          4.8       8.4   \n",
       "...           ...      ...      ...      ...       ...          ...       ...   \n",
       "145455 2017-06-21    Uluru      2.8     23.4       0.0          4.8       8.4   \n",
       "145456 2017-06-22    Uluru      3.6     25.3       0.0          4.8       8.4   \n",
       "145457 2017-06-23    Uluru      5.4     26.9       0.0          4.8       8.4   \n",
       "145458 2017-06-24    Uluru      7.8     27.0       0.0          4.8       8.4   \n",
       "145459 2017-06-25    Uluru     14.9     22.6       0.0          4.8       8.4   \n",
       "\n",
       "        WindGustSpeed WindDir9am WindDir3pm  ...  WindGustDir_NNW  \\\n",
       "0                44.0          W        WNW  ...                0   \n",
       "1                44.0        NNW        WSW  ...                0   \n",
       "2                46.0          W        WSW  ...                0   \n",
       "3                24.0         SE          E  ...                0   \n",
       "4                41.0        ENE         NW  ...                0   \n",
       "...               ...        ...        ...  ...              ...   \n",
       "145455           31.0         SE        ENE  ...                0   \n",
       "145456           22.0         SE          N  ...                1   \n",
       "145457           37.0         SE        WNW  ...                0   \n",
       "145458           28.0        SSE          N  ...                0   \n",
       "145459           39.0        ESE        ESE  ...                0   \n",
       "\n",
       "        WindGustDir_NW  WindGustDir_S  WindGustDir_SE  WindGustDir_SSE  \\\n",
       "0                    0              0               0                0   \n",
       "1                    0              0               0                0   \n",
       "2                    0              0               0                0   \n",
       "3                    0              0               0                0   \n",
       "4                    0              0               0                0   \n",
       "...                ...            ...             ...              ...   \n",
       "145455               0              0               0                0   \n",
       "145456               0              0               0                0   \n",
       "145457               0              0               0                0   \n",
       "145458               0              0               1                0   \n",
       "145459               0              0               0                0   \n",
       "\n",
       "        WindGustDir_SSW  WindGustDir_SW  WindGustDir_W  WindGustDir_WNW  \\\n",
       "0                     0               0              1                0   \n",
       "1                     0               0              0                1   \n",
       "2                     0               0              0                0   \n",
       "3                     0               0              0                0   \n",
       "4                     0               0              1                0   \n",
       "...                 ...             ...            ...              ...   \n",
       "145455                0               0              0                0   \n",
       "145456                0               0              0                0   \n",
       "145457                0               0              0                0   \n",
       "145458                0               0              0                0   \n",
       "145459                0               0              1                0   \n",
       "\n",
       "        WindGustDir_WSW  \n",
       "0                     0  \n",
       "1                     0  \n",
       "2                     1  \n",
       "3                     0  \n",
       "4                     0  \n",
       "...                 ...  \n",
       "145455                0  \n",
       "145456                0  \n",
       "145457                0  \n",
       "145458                0  \n",
       "145459                0  \n",
       "\n",
       "[145460 rows x 40 columns]"
      ]
     },
     "execution_count": 32,
     "metadata": {},
     "output_type": "execute_result"
    }
   ],
   "source": [
    "df"
   ]
  },
  {
   "cell_type": "markdown",
   "metadata": {},
   "source": [
    "# Data Pre-Processing"
   ]
  },
  {
   "cell_type": "code",
   "execution_count": 33,
   "metadata": {},
   "outputs": [],
   "source": [
    "df.drop(['Date','month','month','year','WindDir9am','WindDir3pm','Location','day'], axis=1, inplace=True)"
   ]
  },
  {
   "cell_type": "markdown",
   "metadata": {},
   "source": [
    "## Split Data"
   ]
  },
  {
   "cell_type": "markdown",
   "metadata": {},
   "source": [
    "Kami melakukan training data dengan proporsi sebesar 25% untuk testing data dan 75% untuk training data"
   ]
  },
  {
   "cell_type": "code",
   "execution_count": 34,
   "metadata": {},
   "outputs": [],
   "source": [
    "train, test = train_test_split(df, test_size=0.25, random_state=42)\n",
    "train_index = train.index\n",
    "test_index = test.index"
   ]
  },
  {
   "cell_type": "code",
   "execution_count": 35,
   "metadata": {},
   "outputs": [],
   "source": [
    "y_train = train[['RainTomorrow']]\n",
    "X_train = train.drop(['RainTomorrow'], axis=1)"
   ]
  },
  {
   "cell_type": "code",
   "execution_count": 36,
   "metadata": {},
   "outputs": [],
   "source": [
    "y_test = test[['RainTomorrow']]\n",
    "X_test = test.drop(['RainTomorrow'], axis=1)"
   ]
  },
  {
   "cell_type": "code",
   "execution_count": 37,
   "metadata": {},
   "outputs": [
    {
     "data": {
      "text/html": [
       "<div>\n",
       "<style scoped>\n",
       "    .dataframe tbody tr th:only-of-type {\n",
       "        vertical-align: middle;\n",
       "    }\n",
       "\n",
       "    .dataframe tbody tr th {\n",
       "        vertical-align: top;\n",
       "    }\n",
       "\n",
       "    .dataframe thead th {\n",
       "        text-align: right;\n",
       "    }\n",
       "</style>\n",
       "<table border=\"1\" class=\"dataframe\">\n",
       "  <thead>\n",
       "    <tr style=\"text-align: right;\">\n",
       "      <th></th>\n",
       "      <th>MinTemp</th>\n",
       "      <th>MaxTemp</th>\n",
       "      <th>Rainfall</th>\n",
       "      <th>Evaporation</th>\n",
       "      <th>Sunshine</th>\n",
       "      <th>WindGustSpeed</th>\n",
       "      <th>WindSpeed9am</th>\n",
       "      <th>WindSpeed3pm</th>\n",
       "      <th>Humidity9am</th>\n",
       "      <th>Humidity3pm</th>\n",
       "      <th>...</th>\n",
       "      <th>WindGustDir_NNW</th>\n",
       "      <th>WindGustDir_NW</th>\n",
       "      <th>WindGustDir_S</th>\n",
       "      <th>WindGustDir_SE</th>\n",
       "      <th>WindGustDir_SSE</th>\n",
       "      <th>WindGustDir_SSW</th>\n",
       "      <th>WindGustDir_SW</th>\n",
       "      <th>WindGustDir_W</th>\n",
       "      <th>WindGustDir_WNW</th>\n",
       "      <th>WindGustDir_WSW</th>\n",
       "    </tr>\n",
       "  </thead>\n",
       "  <tbody>\n",
       "    <tr>\n",
       "      <th>100721</th>\n",
       "      <td>15.0</td>\n",
       "      <td>18.9</td>\n",
       "      <td>4.2</td>\n",
       "      <td>6.6</td>\n",
       "      <td>8.0</td>\n",
       "      <td>54.0</td>\n",
       "      <td>24.0</td>\n",
       "      <td>31.0</td>\n",
       "      <td>73.0</td>\n",
       "      <td>64.0</td>\n",
       "      <td>...</td>\n",
       "      <td>1</td>\n",
       "      <td>0</td>\n",
       "      <td>0</td>\n",
       "      <td>0</td>\n",
       "      <td>0</td>\n",
       "      <td>0</td>\n",
       "      <td>0</td>\n",
       "      <td>0</td>\n",
       "      <td>0</td>\n",
       "      <td>0</td>\n",
       "    </tr>\n",
       "    <tr>\n",
       "      <th>30234</th>\n",
       "      <td>13.1</td>\n",
       "      <td>26.8</td>\n",
       "      <td>0.0</td>\n",
       "      <td>4.6</td>\n",
       "      <td>10.9</td>\n",
       "      <td>39.0</td>\n",
       "      <td>22.0</td>\n",
       "      <td>15.0</td>\n",
       "      <td>61.0</td>\n",
       "      <td>22.0</td>\n",
       "      <td>...</td>\n",
       "      <td>0</td>\n",
       "      <td>0</td>\n",
       "      <td>0</td>\n",
       "      <td>0</td>\n",
       "      <td>0</td>\n",
       "      <td>0</td>\n",
       "      <td>0</td>\n",
       "      <td>1</td>\n",
       "      <td>0</td>\n",
       "      <td>0</td>\n",
       "    </tr>\n",
       "    <tr>\n",
       "      <th>68427</th>\n",
       "      <td>19.0</td>\n",
       "      <td>29.0</td>\n",
       "      <td>0.0</td>\n",
       "      <td>11.0</td>\n",
       "      <td>5.6</td>\n",
       "      <td>59.0</td>\n",
       "      <td>39.0</td>\n",
       "      <td>22.0</td>\n",
       "      <td>50.0</td>\n",
       "      <td>38.0</td>\n",
       "      <td>...</td>\n",
       "      <td>0</td>\n",
       "      <td>0</td>\n",
       "      <td>0</td>\n",
       "      <td>0</td>\n",
       "      <td>0</td>\n",
       "      <td>0</td>\n",
       "      <td>0</td>\n",
       "      <td>0</td>\n",
       "      <td>0</td>\n",
       "      <td>0</td>\n",
       "    </tr>\n",
       "    <tr>\n",
       "      <th>28624</th>\n",
       "      <td>18.1</td>\n",
       "      <td>32.2</td>\n",
       "      <td>0.0</td>\n",
       "      <td>2.1</td>\n",
       "      <td>8.4</td>\n",
       "      <td>30.0</td>\n",
       "      <td>0.0</td>\n",
       "      <td>17.0</td>\n",
       "      <td>99.0</td>\n",
       "      <td>51.0</td>\n",
       "      <td>...</td>\n",
       "      <td>0</td>\n",
       "      <td>0</td>\n",
       "      <td>0</td>\n",
       "      <td>0</td>\n",
       "      <td>0</td>\n",
       "      <td>0</td>\n",
       "      <td>0</td>\n",
       "      <td>0</td>\n",
       "      <td>0</td>\n",
       "      <td>0</td>\n",
       "    </tr>\n",
       "    <tr>\n",
       "      <th>31173</th>\n",
       "      <td>13.9</td>\n",
       "      <td>19.6</td>\n",
       "      <td>14.0</td>\n",
       "      <td>1.2</td>\n",
       "      <td>5.4</td>\n",
       "      <td>50.0</td>\n",
       "      <td>17.0</td>\n",
       "      <td>22.0</td>\n",
       "      <td>90.0</td>\n",
       "      <td>64.0</td>\n",
       "      <td>...</td>\n",
       "      <td>0</td>\n",
       "      <td>0</td>\n",
       "      <td>0</td>\n",
       "      <td>0</td>\n",
       "      <td>0</td>\n",
       "      <td>1</td>\n",
       "      <td>0</td>\n",
       "      <td>0</td>\n",
       "      <td>0</td>\n",
       "      <td>0</td>\n",
       "    </tr>\n",
       "  </tbody>\n",
       "</table>\n",
       "<p>5 rows × 32 columns</p>\n",
       "</div>"
      ],
      "text/plain": [
       "        MinTemp  MaxTemp  Rainfall  Evaporation  Sunshine  WindGustSpeed  \\\n",
       "100721     15.0     18.9       4.2          6.6       8.0           54.0   \n",
       "30234      13.1     26.8       0.0          4.6      10.9           39.0   \n",
       "68427      19.0     29.0       0.0         11.0       5.6           59.0   \n",
       "28624      18.1     32.2       0.0          2.1       8.4           30.0   \n",
       "31173      13.9     19.6      14.0          1.2       5.4           50.0   \n",
       "\n",
       "        WindSpeed9am  WindSpeed3pm  Humidity9am  Humidity3pm  ...  \\\n",
       "100721          24.0          31.0         73.0         64.0  ...   \n",
       "30234           22.0          15.0         61.0         22.0  ...   \n",
       "68427           39.0          22.0         50.0         38.0  ...   \n",
       "28624            0.0          17.0         99.0         51.0  ...   \n",
       "31173           17.0          22.0         90.0         64.0  ...   \n",
       "\n",
       "        WindGustDir_NNW  WindGustDir_NW  WindGustDir_S  WindGustDir_SE  \\\n",
       "100721                1               0              0               0   \n",
       "30234                 0               0              0               0   \n",
       "68427                 0               0              0               0   \n",
       "28624                 0               0              0               0   \n",
       "31173                 0               0              0               0   \n",
       "\n",
       "        WindGustDir_SSE  WindGustDir_SSW  WindGustDir_SW  WindGustDir_W  \\\n",
       "100721                0                0               0              0   \n",
       "30234                 0                0               0              1   \n",
       "68427                 0                0               0              0   \n",
       "28624                 0                0               0              0   \n",
       "31173                 0                1               0              0   \n",
       "\n",
       "        WindGustDir_WNW  WindGustDir_WSW  \n",
       "100721                0                0  \n",
       "30234                 0                0  \n",
       "68427                 0                0  \n",
       "28624                 0                0  \n",
       "31173                 0                0  \n",
       "\n",
       "[5 rows x 32 columns]"
      ]
     },
     "execution_count": 37,
     "metadata": {},
     "output_type": "execute_result"
    }
   ],
   "source": [
    "X_test.head()"
   ]
  },
  {
   "cell_type": "code",
   "execution_count": 38,
   "metadata": {},
   "outputs": [
    {
     "data": {
      "text/plain": [
       "['MinTemp',\n",
       " 'MaxTemp',\n",
       " 'Rainfall',\n",
       " 'Evaporation',\n",
       " 'Sunshine',\n",
       " 'WindGustSpeed',\n",
       " 'WindSpeed9am',\n",
       " 'WindSpeed3pm',\n",
       " 'Humidity9am',\n",
       " 'Humidity3pm',\n",
       " 'Pressure9am',\n",
       " 'Pressure3pm',\n",
       " 'Cloud9am',\n",
       " 'Cloud3pm',\n",
       " 'Temp9am',\n",
       " 'Temp3pm',\n",
       " 'RainToday',\n",
       " 'WindGustDir_ENE',\n",
       " 'WindGustDir_ESE',\n",
       " 'WindGustDir_N',\n",
       " 'WindGustDir_NE',\n",
       " 'WindGustDir_NNE',\n",
       " 'WindGustDir_NNW',\n",
       " 'WindGustDir_NW',\n",
       " 'WindGustDir_S',\n",
       " 'WindGustDir_SE',\n",
       " 'WindGustDir_SSE',\n",
       " 'WindGustDir_SSW',\n",
       " 'WindGustDir_SW',\n",
       " 'WindGustDir_W',\n",
       " 'WindGustDir_WNW',\n",
       " 'WindGustDir_WSW']"
      ]
     },
     "execution_count": 38,
     "metadata": {},
     "output_type": "execute_result"
    }
   ],
   "source": [
    "X_test.columns.to_list()"
   ]
  },
  {
   "cell_type": "markdown",
   "metadata": {},
   "source": [
    "##  Scale Data"
   ]
  },
  {
   "cell_type": "code",
   "execution_count": 39,
   "metadata": {},
   "outputs": [],
   "source": [
    "scaler = StandardScaler()\n",
    "X_train = scaler.fit_transform(X_train)"
   ]
  },
  {
   "cell_type": "code",
   "execution_count": 40,
   "metadata": {},
   "outputs": [],
   "source": [
    "X_test = scaler.transform(X_test)"
   ]
  },
  {
   "cell_type": "markdown",
   "metadata": {},
   "source": [
    "## Modelling"
   ]
  },
  {
   "cell_type": "code",
   "execution_count": 41,
   "metadata": {},
   "outputs": [],
   "source": [
    "akurasi_training = []\n",
    "akurasi_testing = []"
   ]
  },
  {
   "cell_type": "markdown",
   "metadata": {},
   "source": [
    "### Logistic Regression"
   ]
  },
  {
   "cell_type": "code",
   "execution_count": 42,
   "metadata": {},
   "outputs": [],
   "source": [
    "model = LogisticRegression(solver='liblinear', random_state=0)"
   ]
  },
  {
   "cell_type": "code",
   "execution_count": 43,
   "metadata": {},
   "outputs": [
    {
     "data": {
      "text/plain": [
       "LogisticRegression(random_state=0, solver='liblinear')"
      ]
     },
     "execution_count": 43,
     "metadata": {},
     "output_type": "execute_result"
    }
   ],
   "source": [
    "model.fit(X_train,y_train)"
   ]
  },
  {
   "cell_type": "code",
   "execution_count": 44,
   "metadata": {},
   "outputs": [
    {
     "name": "stdout",
     "output_type": "stream",
     "text": [
      "[-1.85356112]\n",
      "[[ 0.02380677 -0.2402834   0.07147187 -0.01748664 -0.28531695  0.65007596\n",
      "  -0.10121235 -0.19109841  0.04816086  1.09798727  0.74877385 -1.12396459\n",
      "   0.01451199  0.28162396  0.0996393   0.19352926  0.23144688  0.00174245\n",
      "   0.00285188  0.0728634  -0.00866116  0.02075121  0.07185626  0.08303766\n",
      "   0.01845152  0.02283278  0.0182467   0.02790596  0.06165178  0.07538124\n",
      "   0.07518819  0.04406423]]\n"
     ]
    }
   ],
   "source": [
    "print(model.intercept_)\n",
    "print(model.coef_)"
   ]
  },
  {
   "cell_type": "markdown",
   "metadata": {},
   "source": [
    "#### Evaluate the Model"
   ]
  },
  {
   "cell_type": "code",
   "execution_count": 45,
   "metadata": {},
   "outputs": [
    {
     "data": {
      "text/plain": [
       "array([[0.32664288, 0.67335712],\n",
       "       [0.33079161, 0.66920839],\n",
       "       [0.90977875, 0.09022125],\n",
       "       ...,\n",
       "       [0.9720036 , 0.0279964 ],\n",
       "       [0.12610807, 0.87389193],\n",
       "       [0.97673812, 0.02326188]])"
      ]
     },
     "execution_count": 45,
     "metadata": {},
     "output_type": "execute_result"
    }
   ],
   "source": [
    "model.predict_proba(X_train)"
   ]
  },
  {
   "cell_type": "code",
   "execution_count": 46,
   "metadata": {},
   "outputs": [
    {
     "data": {
      "text/plain": [
       "array([1, 1, 0, ..., 0, 1, 0])"
      ]
     },
     "execution_count": 46,
     "metadata": {},
     "output_type": "execute_result"
    }
   ],
   "source": [
    "model.predict(X_train)"
   ]
  },
  {
   "cell_type": "markdown",
   "metadata": {},
   "source": [
    "#### Training Data"
   ]
  },
  {
   "cell_type": "code",
   "execution_count": 47,
   "metadata": {},
   "outputs": [
    {
     "name": "stdout",
     "output_type": "stream",
     "text": [
      "Accuracy: 0.8435583665612539\n"
     ]
    }
   ],
   "source": [
    "print('Accuracy:',model.score(X_train,y_train))"
   ]
  },
  {
   "cell_type": "code",
   "execution_count": 48,
   "metadata": {},
   "outputs": [],
   "source": [
    "akurasi_training.append(model.score(X_train,y_train))"
   ]
  },
  {
   "cell_type": "code",
   "execution_count": 49,
   "metadata": {},
   "outputs": [
    {
     "data": {
      "text/plain": [
       "array([[80685,  4571],\n",
       "       [12496, 11343]], dtype=int64)"
      ]
     },
     "execution_count": 49,
     "metadata": {},
     "output_type": "execute_result"
    }
   ],
   "source": [
    "confusion_matrix(y_train, model.predict(X_train))"
   ]
  },
  {
   "cell_type": "code",
   "execution_count": 50,
   "metadata": {},
   "outputs": [
    {
     "data": {
      "image/png": "[encoded data removed]",
      "text/plain": [
       "<Figure size 576x576 with 1 Axes>"
      ]
     },
     "metadata": {
      "needs_background": "light"
     },
     "output_type": "display_data"
    }
   ],
   "source": [
    "confusion_matrix(y_train, model.predict(X_train))\n",
    "cm = confusion_matrix(y_train, model.predict(X_train))\n",
    "fig, ax = plt.subplots(figsize=(8,8))\n",
    "ax.imshow(cm)\n",
    "ax.grid(False)\n",
    "ax.xaxis.set(ticks=(0,1), ticklabels=('Positive','Negative'))\n",
    "ax.yaxis.set(ticks=(0,1), ticklabels=('Positive','Negative'))\n",
    "ax.set_ylim(1.5,-0.5)\n",
    "\n",
    "for i in range(2):\n",
    "    for j in range(2):\n",
    "        ax.text(j,i, cm[i,j], ha='center',va='center',color='red')\n",
    "\n",
    "plt.show()"
   ]
  },
  {
   "cell_type": "markdown",
   "metadata": {},
   "source": [
    "Berdasarkan confusion matrix di atas dapat dilihat bahwa prediksi True Positive lebih banyak dari False Positive. Akan tetapi untuk True Negative masih lebih sedikit daripada False Negative. "
   ]
  },
  {
   "cell_type": "markdown",
   "metadata": {},
   "source": [
    "#### Testing Data"
   ]
  },
  {
   "cell_type": "code",
   "execution_count": 51,
   "metadata": {},
   "outputs": [
    {
     "name": "stdout",
     "output_type": "stream",
     "text": [
      "Accuracy: 0.843723360373986\n"
     ]
    }
   ],
   "source": [
    "print('Accuracy:',model.score(X_test,y_test))"
   ]
  },
  {
   "cell_type": "code",
   "execution_count": 52,
   "metadata": {},
   "outputs": [],
   "source": [
    "akurasi_testing.append(model.score(X_test,y_test))"
   ]
  },
  {
   "cell_type": "code",
   "execution_count": 53,
   "metadata": {},
   "outputs": [
    {
     "name": "stdout",
     "output_type": "stream",
     "text": [
      "              precision    recall  f1-score   support\n",
      "\n",
      "           0       0.86      0.95      0.90     28327\n",
      "           1       0.72      0.47      0.57      8038\n",
      "\n",
      "    accuracy                           0.84     36365\n",
      "   macro avg       0.79      0.71      0.74     36365\n",
      "weighted avg       0.83      0.84      0.83     36365\n",
      "\n"
     ]
    }
   ],
   "source": [
    "y_pred = model.predict(X_test)\n",
    "print(classification_report(y_test, y_pred))"
   ]
  },
  {
   "cell_type": "code",
   "execution_count": 54,
   "metadata": {},
   "outputs": [
    {
     "data": {
      "text/plain": [
       "array([[26886,  1441],\n",
       "       [ 4242,  3796]], dtype=int64)"
      ]
     },
     "execution_count": 54,
     "metadata": {},
     "output_type": "execute_result"
    }
   ],
   "source": [
    "confusion_matrix(y_test, model.predict(X_test))"
   ]
  },
  {
   "cell_type": "code",
   "execution_count": 55,
   "metadata": {},
   "outputs": [
    {
     "data": {
      "image/png": "[encoded data removed]",
      "text/plain": [
       "<Figure size 576x576 with 1 Axes>"
      ]
     },
     "metadata": {
      "needs_background": "light"
     },
     "output_type": "display_data"
    }
   ],
   "source": [
    "confusion_matrix(y_test, model.predict(X_test))\n",
    "cm = confusion_matrix(y_test, model.predict(X_test))\n",
    "fig, ax = plt.subplots(figsize=(8,8))\n",
    "ax.imshow(cm)\n",
    "ax.grid(False)\n",
    "ax.xaxis.set(ticks=(0,1), ticklabels=('Positive','Negative'))\n",
    "ax.yaxis.set(ticks=(0,1), ticklabels=('Positive','Negative'))\n",
    "ax.set_ylim(1.5,-0.5)\n",
    "\n",
    "for i in range(2):\n",
    "    for j in range(2):\n",
    "        ax.text(j,i, cm[i,j], ha='center',va='center',color='red')\n",
    "\n",
    "plt.show()"
   ]
  },
  {
   "cell_type": "markdown",
   "metadata": {},
   "source": [
    "Berdasarkan confusion matrix di atas dapat dilihat bahwa prediksi True Positive lebih banyak dari False Positive. Akan tetapi untuk True Negative masih lebih sedikit daripada False Negative. "
   ]
  },
  {
   "cell_type": "markdown",
   "metadata": {},
   "source": [
    "### Comparison between Testing and Training for Logistic Regression"
   ]
  },
  {
   "cell_type": "code",
   "execution_count": 56,
   "metadata": {},
   "outputs": [
    {
     "data": {
      "text/html": [
       "<div>\n",
       "<style scoped>\n",
       "    .dataframe tbody tr th:only-of-type {\n",
       "        vertical-align: middle;\n",
       "    }\n",
       "\n",
       "    .dataframe tbody tr th {\n",
       "        vertical-align: top;\n",
       "    }\n",
       "\n",
       "    .dataframe thead th {\n",
       "        text-align: right;\n",
       "    }\n",
       "</style>\n",
       "<table border=\"1\" class=\"dataframe\">\n",
       "  <thead>\n",
       "    <tr style=\"text-align: right;\">\n",
       "      <th></th>\n",
       "      <th>Keterangan</th>\n",
       "      <th>Accuracy</th>\n",
       "    </tr>\n",
       "  </thead>\n",
       "  <tbody>\n",
       "    <tr>\n",
       "      <th>0</th>\n",
       "      <td>Training Data</td>\n",
       "      <td>0.843558</td>\n",
       "    </tr>\n",
       "    <tr>\n",
       "      <th>1</th>\n",
       "      <td>Testing Data</td>\n",
       "      <td>0.843723</td>\n",
       "    </tr>\n",
       "  </tbody>\n",
       "</table>\n",
       "</div>"
      ],
      "text/plain": [
       "      Keterangan  Accuracy\n",
       "0  Training Data  0.843558\n",
       "1   Testing Data  0.843723"
      ]
     },
     "execution_count": 56,
     "metadata": {},
     "output_type": "execute_result"
    }
   ],
   "source": [
    "compared = pd.DataFrame({'Keterangan':['Training Data','Testing Data'],'Accuracy':[model.score(X_train,y_train), model.score(X_test, y_test)]})\n",
    "compared"
   ]
  },
  {
   "cell_type": "markdown",
   "metadata": {},
   "source": [
    "Berdasarkan perbandingan di atas dapat dikatakan bahwa model Logistic Regression yang diimplementasikan pada kasus prediksi hujan di Australia tergolong underfitting karena akurasi training data lebih kecil daripada tresting data meskipun selisihnya tidak signifikan."
   ]
  },
  {
   "cell_type": "markdown",
   "metadata": {},
   "source": [
    "### SVM"
   ]
  },
  {
   "cell_type": "code",
   "execution_count": 57,
   "metadata": {},
   "outputs": [
    {
     "data": {
      "text/plain": [
       "LinearSVC()"
      ]
     },
     "execution_count": 57,
     "metadata": {},
     "output_type": "execute_result"
    }
   ],
   "source": [
    "lsvc = LinearSVC()\n",
    "lsvc.fit(X_train, y_train)"
   ]
  },
  {
   "cell_type": "markdown",
   "metadata": {},
   "source": [
    "### Evaluate the Model"
   ]
  },
  {
   "cell_type": "markdown",
   "metadata": {},
   "source": [
    "#### Testing Data"
   ]
  },
  {
   "cell_type": "code",
   "execution_count": 58,
   "metadata": {},
   "outputs": [
    {
     "name": "stdout",
     "output_type": "stream",
     "text": [
      "Accuracy: 0.8425684036848619\n"
     ]
    }
   ],
   "source": [
    "y_pred2 =lsvc.predict(X_test)\n",
    "print('Accuracy:', metrics.accuracy_score(y_test, y_pred2))"
   ]
  },
  {
   "cell_type": "code",
   "execution_count": 59,
   "metadata": {},
   "outputs": [],
   "source": [
    "akurasi_testing.append(metrics.accuracy_score(y_test, y_pred2))"
   ]
  },
  {
   "cell_type": "code",
   "execution_count": 60,
   "metadata": {},
   "outputs": [
    {
     "data": {
      "text/plain": [
       "array([[27023,  1304],\n",
       "       [ 4421,  3617]], dtype=int64)"
      ]
     },
     "execution_count": 60,
     "metadata": {},
     "output_type": "execute_result"
    }
   ],
   "source": [
    "confusion_matrix(y_test, lsvc.predict(X_test))"
   ]
  },
  {
   "cell_type": "code",
   "execution_count": 61,
   "metadata": {},
   "outputs": [
    {
     "data": {
      "image/png": "[encoded data removed]",
      "text/plain": [
       "<Figure size 576x576 with 1 Axes>"
      ]
     },
     "metadata": {
      "needs_background": "light"
     },
     "output_type": "display_data"
    }
   ],
   "source": [
    "confusion_matrix(y_test, lsvc.predict(X_test))\n",
    "cm = confusion_matrix(y_test, lsvc.predict(X_test))\n",
    "fig, ax = plt.subplots(figsize=(8,8))\n",
    "ax.imshow(cm)\n",
    "ax.grid(False)\n",
    "ax.xaxis.set(ticks=(0,1), ticklabels=('Positive','Negative'))\n",
    "ax.yaxis.set(ticks=(0,1), ticklabels=('Positive','Negative'))\n",
    "ax.set_ylim(1.5,-0.5)\n",
    "\n",
    "for i in range(2):\n",
    "    for j in range(2):\n",
    "        ax.text(j,i, cm[i,j], ha='center',va='center',color='red')\n",
    "\n",
    "plt.show()"
   ]
  },
  {
   "cell_type": "markdown",
   "metadata": {},
   "source": [
    "Berdasarkan confusion matrix di atas dapat dilihat bahwa prediksi True Positive lebih banyak dari False Positive. Akan tetapi untuk True Negative masih lebih sedikit daripada False Negative.\n"
   ]
  },
  {
   "cell_type": "code",
   "execution_count": 62,
   "metadata": {},
   "outputs": [
    {
     "name": "stdout",
     "output_type": "stream",
     "text": [
      "              precision    recall  f1-score   support\n",
      "\n",
      "           0       0.86      0.95      0.90     28327\n",
      "           1       0.74      0.45      0.56      8038\n",
      "\n",
      "    accuracy                           0.84     36365\n",
      "   macro avg       0.80      0.70      0.73     36365\n",
      "weighted avg       0.83      0.84      0.83     36365\n",
      "\n"
     ]
    }
   ],
   "source": [
    "print(classification_report(y_test, y_pred2))"
   ]
  },
  {
   "cell_type": "markdown",
   "metadata": {},
   "source": [
    "#### Training Data"
   ]
  },
  {
   "cell_type": "code",
   "execution_count": 63,
   "metadata": {},
   "outputs": [
    {
     "name": "stdout",
     "output_type": "stream",
     "text": [
      "Accuracy: 0.8431550483523534\n"
     ]
    }
   ],
   "source": [
    "y_pred3 =lsvc.predict(X_train)\n",
    "print('Accuracy:', metrics.accuracy_score(y_train, y_pred3))"
   ]
  },
  {
   "cell_type": "code",
   "execution_count": 64,
   "metadata": {},
   "outputs": [],
   "source": [
    "akurasi_training.append(metrics.accuracy_score(y_train, y_pred3))"
   ]
  },
  {
   "cell_type": "code",
   "execution_count": 65,
   "metadata": {},
   "outputs": [
    {
     "data": {
      "text/plain": [
       "array([[81166,  4090],\n",
       "       [13021, 10818]], dtype=int64)"
      ]
     },
     "execution_count": 65,
     "metadata": {},
     "output_type": "execute_result"
    }
   ],
   "source": [
    "confusion_matrix(y_train, lsvc.predict(X_train))"
   ]
  },
  {
   "cell_type": "code",
   "execution_count": 66,
   "metadata": {},
   "outputs": [
    {
     "data": {
      "image/png": "[encoded data removed]",
      "text/plain": [
       "<Figure size 576x576 with 1 Axes>"
      ]
     },
     "metadata": {
      "needs_background": "light"
     },
     "output_type": "display_data"
    }
   ],
   "source": [
    "confusion_matrix(y_train, lsvc.predict(X_train))\n",
    "cm = confusion_matrix(y_train, lsvc.predict(X_train))\n",
    "fig, ax = plt.subplots(figsize=(8,8))\n",
    "ax.imshow(cm)\n",
    "ax.grid(False)\n",
    "ax.xaxis.set(ticks=(0,1), ticklabels=('Positive','Negative'))\n",
    "ax.yaxis.set(ticks=(0,1), ticklabels=('Positive','Negative'))\n",
    "ax.set_ylim(1.5,-0.5)\n",
    "\n",
    "for i in range(2):\n",
    "    for j in range(2):\n",
    "        ax.text(j,i, cm[i,j], ha='center',va='center',color='red')\n",
    "\n",
    "plt.show()"
   ]
  },
  {
   "cell_type": "markdown",
   "metadata": {},
   "source": [
    "Berdasarkan confusion matrix di atas dapat dilihat bahwa prediksi True Positive lebih banyak dari False Positive. Akan tetapi untuk True Negative masih lebih sedikit daripada False Negative.\n"
   ]
  },
  {
   "cell_type": "code",
   "execution_count": 67,
   "metadata": {},
   "outputs": [
    {
     "name": "stdout",
     "output_type": "stream",
     "text": [
      "              precision    recall  f1-score   support\n",
      "\n",
      "           0       0.86      0.95      0.90     85256\n",
      "           1       0.73      0.45      0.56     23839\n",
      "\n",
      "    accuracy                           0.84    109095\n",
      "   macro avg       0.79      0.70      0.73    109095\n",
      "weighted avg       0.83      0.84      0.83    109095\n",
      "\n"
     ]
    }
   ],
   "source": [
    "print(classification_report(y_train, y_pred3))"
   ]
  },
  {
   "cell_type": "markdown",
   "metadata": {},
   "source": [
    "### Comparison between Testing and Training for SVM"
   ]
  },
  {
   "cell_type": "code",
   "execution_count": 68,
   "metadata": {},
   "outputs": [
    {
     "data": {
      "text/html": [
       "<div>\n",
       "<style scoped>\n",
       "    .dataframe tbody tr th:only-of-type {\n",
       "        vertical-align: middle;\n",
       "    }\n",
       "\n",
       "    .dataframe tbody tr th {\n",
       "        vertical-align: top;\n",
       "    }\n",
       "\n",
       "    .dataframe thead th {\n",
       "        text-align: right;\n",
       "    }\n",
       "</style>\n",
       "<table border=\"1\" class=\"dataframe\">\n",
       "  <thead>\n",
       "    <tr style=\"text-align: right;\">\n",
       "      <th></th>\n",
       "      <th>Keterangan</th>\n",
       "      <th>Accuracy</th>\n",
       "    </tr>\n",
       "  </thead>\n",
       "  <tbody>\n",
       "    <tr>\n",
       "      <th>0</th>\n",
       "      <td>Training Data</td>\n",
       "      <td>0.843155</td>\n",
       "    </tr>\n",
       "    <tr>\n",
       "      <th>1</th>\n",
       "      <td>Testing Data</td>\n",
       "      <td>0.842568</td>\n",
       "    </tr>\n",
       "  </tbody>\n",
       "</table>\n",
       "</div>"
      ],
      "text/plain": [
       "      Keterangan  Accuracy\n",
       "0  Training Data  0.843155\n",
       "1   Testing Data  0.842568"
      ]
     },
     "execution_count": 68,
     "metadata": {},
     "output_type": "execute_result"
    }
   ],
   "source": [
    "compared2 = pd.DataFrame({'Keterangan':['Training Data','Testing Data'],'Accuracy':[metrics.accuracy_score(y_train, y_pred3), metrics.accuracy_score(y_test, y_pred2)]})\n",
    "compared2"
   ]
  },
  {
   "cell_type": "code",
   "execution_count": 69,
   "metadata": {},
   "outputs": [
    {
     "name": "stdout",
     "output_type": "stream",
     "text": [
      "Berdasarkan perbandingan di atas dapat dikatakan bahwa model SVM tergolong overfitting karena akurasi dari training lebih besar daripada testing\n"
     ]
    }
   ],
   "source": [
    "if metrics.accuracy_score(y_train, y_pred3) < metrics.accuracy_score(y_test, y_pred2):\n",
    "    print('Berdasarkan perbandingan di atas dapat dikatakan bahwa model SVM tergolong underfitting karena akurasi dari training lebih kecil daripada testing')\n",
    "else:\n",
    "    print('Berdasarkan perbandingan di atas dapat dikatakan bahwa model SVM tergolong overfitting karena akurasi dari training lebih besar daripada testing')"
   ]
  },
  {
   "cell_type": "markdown",
   "metadata": {},
   "source": [
    "# Comparison Between the Model"
   ]
  },
  {
   "cell_type": "markdown",
   "metadata": {},
   "source": [
    "## Training Data"
   ]
  },
  {
   "cell_type": "code",
   "execution_count": 70,
   "metadata": {},
   "outputs": [],
   "source": [
    "models = ['Logistic Regression', 'SVM']\n",
    "akurasi_skor_training = {'Metode':models, 'Akurasi':akurasi_training}\n",
    "akurasi_skor_training = pd.DataFrame(akurasi_skor_training)"
   ]
  },
  {
   "cell_type": "code",
   "execution_count": 71,
   "metadata": {},
   "outputs": [
    {
     "data": {
      "text/html": [
       "<div>\n",
       "<style scoped>\n",
       "    .dataframe tbody tr th:only-of-type {\n",
       "        vertical-align: middle;\n",
       "    }\n",
       "\n",
       "    .dataframe tbody tr th {\n",
       "        vertical-align: top;\n",
       "    }\n",
       "\n",
       "    .dataframe thead th {\n",
       "        text-align: right;\n",
       "    }\n",
       "</style>\n",
       "<table border=\"1\" class=\"dataframe\">\n",
       "  <thead>\n",
       "    <tr style=\"text-align: right;\">\n",
       "      <th></th>\n",
       "      <th>Metode</th>\n",
       "      <th>Akurasi</th>\n",
       "    </tr>\n",
       "  </thead>\n",
       "  <tbody>\n",
       "    <tr>\n",
       "      <th>0</th>\n",
       "      <td>Logistic Regression</td>\n",
       "      <td>0.843558</td>\n",
       "    </tr>\n",
       "    <tr>\n",
       "      <th>1</th>\n",
       "      <td>SVM</td>\n",
       "      <td>0.843155</td>\n",
       "    </tr>\n",
       "  </tbody>\n",
       "</table>\n",
       "</div>"
      ],
      "text/plain": [
       "                Metode   Akurasi\n",
       "0  Logistic Regression  0.843558\n",
       "1                  SVM  0.843155"
      ]
     },
     "execution_count": 71,
     "metadata": {},
     "output_type": "execute_result"
    }
   ],
   "source": [
    "akurasi_skor_training"
   ]
  },
  {
   "cell_type": "code",
   "execution_count": 72,
   "metadata": {
    "scrolled": false
   },
   "outputs": [
    {
     "data": {
      "image/png": "[encoded data removed]",
      "text/plain": [
       "<Figure size 1008x576 with 1 Axes>"
      ]
     },
     "metadata": {
      "needs_background": "light"
     },
     "output_type": "display_data"
    }
   ],
   "source": [
    "plt.subplots(figsize=(14, 8))\n",
    "plt.bar(akurasi_skor_training['Metode'], akurasi_skor_training['Akurasi'])\n",
    "plt.ylim(0.84, 0.85)\n",
    "plt.title(\"Perbandingan Akurasi untuk Training Data\")\n",
    "plt.ylabel(\"Akurasi\")\n",
    "plt.xlabel(\"Metode\")\n",
    "plt.show()"
   ]
  },
  {
   "cell_type": "code",
   "execution_count": 73,
   "metadata": {},
   "outputs": [
    {
     "name": "stdout",
     "output_type": "stream",
     "text": [
      "logistic regression memiliki akurasi yang lebih tinggi untuk training data\n"
     ]
    }
   ],
   "source": [
    "if akurasi_training[0] < akurasi_training[1]:\n",
    "    print('SVM memiliki akurasi yang lebih tinggi untuk training data')\n",
    "else:\n",
    "    print('logistic regression memiliki akurasi yang lebih tinggi untuk training data')"
   ]
  },
  {
   "cell_type": "markdown",
   "metadata": {},
   "source": [
    "## Testing Data"
   ]
  },
  {
   "cell_type": "code",
   "execution_count": 74,
   "metadata": {},
   "outputs": [],
   "source": [
    "models = ['Logistic Regression', 'SVM']\n",
    "akurasi_skor_testing = {'Metode':models, 'Akurasi':akurasi_testing}\n",
    "akurasi_skor_testing = pd.DataFrame(akurasi_skor_testing)"
   ]
  },
  {
   "cell_type": "code",
   "execution_count": 75,
   "metadata": {},
   "outputs": [
    {
     "data": {
      "text/html": [
       "<div>\n",
       "<style scoped>\n",
       "    .dataframe tbody tr th:only-of-type {\n",
       "        vertical-align: middle;\n",
       "    }\n",
       "\n",
       "    .dataframe tbody tr th {\n",
       "        vertical-align: top;\n",
       "    }\n",
       "\n",
       "    .dataframe thead th {\n",
       "        text-align: right;\n",
       "    }\n",
       "</style>\n",
       "<table border=\"1\" class=\"dataframe\">\n",
       "  <thead>\n",
       "    <tr style=\"text-align: right;\">\n",
       "      <th></th>\n",
       "      <th>Metode</th>\n",
       "      <th>Akurasi</th>\n",
       "    </tr>\n",
       "  </thead>\n",
       "  <tbody>\n",
       "    <tr>\n",
       "      <th>0</th>\n",
       "      <td>Logistic Regression</td>\n",
       "      <td>0.843723</td>\n",
       "    </tr>\n",
       "    <tr>\n",
       "      <th>1</th>\n",
       "      <td>SVM</td>\n",
       "      <td>0.842568</td>\n",
       "    </tr>\n",
       "  </tbody>\n",
       "</table>\n",
       "</div>"
      ],
      "text/plain": [
       "                Metode   Akurasi\n",
       "0  Logistic Regression  0.843723\n",
       "1                  SVM  0.842568"
      ]
     },
     "execution_count": 75,
     "metadata": {},
     "output_type": "execute_result"
    }
   ],
   "source": [
    "akurasi_skor_testing"
   ]
  },
  {
   "cell_type": "code",
   "execution_count": 76,
   "metadata": {
    "scrolled": false
   },
   "outputs": [
    {
     "data": {
      "image/png": "[encoded data removed]",
      "text/plain": [
       "<Figure size 1008x576 with 1 Axes>"
      ]
     },
     "metadata": {
      "needs_background": "light"
     },
     "output_type": "display_data"
    }
   ],
   "source": [
    "plt.subplots(figsize=(14, 8))\n",
    "plt.bar(akurasi_skor_testing['Metode'], akurasi_skor_testing['Akurasi'])\n",
    "plt.ylim(0.84, 0.85)\n",
    "plt.title(\"Perbandingan Akurasi untuk Testing Data\")\n",
    "plt.ylabel(\"Akurasi\")\n",
    "plt.xlabel(\"Metode\")\n",
    "plt.show()"
   ]
  },
  {
   "cell_type": "code",
   "execution_count": 77,
   "metadata": {},
   "outputs": [
    {
     "name": "stdout",
     "output_type": "stream",
     "text": [
      "logistic regression memiliki akurasi yang lebih tinggi untuk testing data\n"
     ]
    }
   ],
   "source": [
    "if akurasi_testing[0] < akurasi_testing[1]:\n",
    "    print('SVM memiliki akurasi yang lebih tinggi untuk testing data')\n",
    "else:\n",
    "    print('logistic regression memiliki akurasi yang lebih tinggi untuk testing data')"
   ]
  },
  {
   "cell_type": "markdown",
   "metadata": {},
   "source": [
    "# Conclusion"
   ]
  },
  {
   "cell_type": "markdown",
   "metadata": {},
   "source": [
    "Dari analisis ini dapat diambil kesimpulan bahwa: <br>\n",
    "1. Pada tahun 2007-2017 persentase hari esok akan hujan lebih kecil daripada hari esok tidak akan hujan.\n",
    "2. Rata-rata curah hujan tertinggi berada pada tahun 2007, sedangkan curah hujan terendah berada pada tahun 2014\n",
    "3. Pada bulan Desember hingga Februari matahari bersinar cukup lama dikarenakan pada bulan tersebut Australia memasuki musim panas. Sementara itu, pada bulan Juni hingga Juli lama matahari bersinar tidak begitu panjang karena pada bulan tersebut Australia mengalami musim dingin.\n",
    "4. Kecepatan angin di jam 3 sore dan 9 pagi tidak berdistribusi normal. Rata-rata kecepatan angin di jam 3 sore lebih tinggi daripada rata-rata kecepatan angin di jam 9 pagi.\n",
    "5. Arah kecepatan angin dari tahun 2007 hingga 2017 paling banyak mengarah ke arah barat (W).\n",
    "6. Minimal temperature apabila hari itu hujan cenderung memiliki trend fluktuatif dari hari ke hari pada tahun 2007-2017. Minimal temperature tertinggi dari tahun 2007-2017 adalah pada tanggal 4. Sedangkan minimal temperature terendah ada pada tanggal 11.\n",
    "7. Maximal temperature apabila hari itu tidak hujan cenderung lebih stabil daripada maximal temperature apabila hari itu hujan.\n",
    "8. Logistic Regression memiliki akurasi yang lebih tinggi daripada SVM untuk data training dalam memprediksi hujan di Australia. Oleh karena itu, dapat dikatakan bahwa model tebaik dalam kasus ini adalah Logistic Regression.\n"
   ]
  },
  {
   "cell_type": "markdown",
   "metadata": {},
   "source": [
    "# Deployment"
   ]
  },
  {
   "cell_type": "code",
   "execution_count": 78,
   "metadata": {},
   "outputs": [],
   "source": [
    "#simpan object\n",
    "#wb: write binary\n",
    "import pickle\n",
    "\n",
    "with open(\"scaler.pkl\", \"wb\")  as f:\n",
    "    pickle.dump(scaler, f)"
   ]
  },
  {
   "cell_type": "code",
   "execution_count": 79,
   "metadata": {},
   "outputs": [],
   "source": [
    "with open(\"lr.pkl\", \"wb\") as f:\n",
    "    pickle.dump(model,f)"
   ]
  },
  {
   "cell_type": "code",
   "execution_count": 80,
   "metadata": {},
   "outputs": [
    {
     "data": {
      "text/plain": [
       "Pipeline(steps=[('standardscaler', StandardScaler()),\n",
       "                ('logisticregression', LogisticRegression(solver='liblinear'))])"
      ]
     },
     "execution_count": 80,
     "metadata": {},
     "output_type": "execute_result"
    }
   ],
   "source": [
    "# buat pipeline\n",
    "from sklearn.pipeline import make_pipeline\n",
    "\n",
    "pipe = make_pipeline(\n",
    "    StandardScaler(),\n",
    "    LogisticRegression(solver='liblinear')\n",
    ")\n",
    "\n",
    "pipe.fit(X_train, y_train)"
   ]
  },
  {
   "cell_type": "code",
   "execution_count": 81,
   "metadata": {},
   "outputs": [],
   "source": [
    "with open(\"pipeline.pkl\",\"wb\") as f:\n",
    "    pickle.dump(pipe,f)"
   ]
  },
  {
   "cell_type": "code",
   "execution_count": 82,
   "metadata": {},
   "outputs": [],
   "source": [
    "y_pred = pipe.predict(X_test)"
   ]
  },
  {
   "cell_type": "code",
   "execution_count": 83,
   "metadata": {},
   "outputs": [
    {
     "name": "stdout",
     "output_type": "stream",
     "text": [
      "              precision    recall  f1-score   support\n",
      "\n",
      "           0       0.86      0.95      0.90     28327\n",
      "           1       0.72      0.47      0.57      8038\n",
      "\n",
      "    accuracy                           0.84     36365\n",
      "   macro avg       0.79      0.71      0.74     36365\n",
      "weighted avg       0.83      0.84      0.83     36365\n",
      "\n"
     ]
    }
   ],
   "source": [
    "print(classification_report(y_test,y_pred))"
   ]
  },
  {
   "cell_type": "code",
   "execution_count": null,
   "metadata": {},
   "outputs": [],
   "source": []
  }
 ],
 "metadata": {
  "kernelspec": {
   "display_name": "Python 3 (ipykernel)",
   "language": "python",
   "name": "python3"
  },
  "language_info": {
   "codemirror_mode": {
    "name": "ipython",
    "version": 3
   },
   "file_extension": ".py",
   "mimetype": "text/x-python",
   "name": "python",
   "nbconvert_exporter": "python",
   "pygments_lexer": "ipython3",
   "version": "3.7.13"
  },
  "vscode": {
   "interpreter": {
    "hash": "a077222d77dfe082b8f1dd562ad70e458ac2ab76993a0b248ab0476e32e9e8dd"
   }
  }
 },
 "nbformat": 4,
 "nbformat_minor": 2
}
