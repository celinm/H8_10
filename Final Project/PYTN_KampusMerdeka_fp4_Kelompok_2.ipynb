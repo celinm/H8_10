{
 "cells": [
  {
   "cell_type": "markdown",
   "id": "e468b8a8",
   "metadata": {},
   "source": [
    "# Final Project 4: Clustering"
   ]
  },
  {
   "cell_type": "markdown",
   "id": "43c0c84c",
   "metadata": {},
   "source": [
    "- Celin Manongko - PYTN-KS10-018\n",
    "- Alina Florencia Karuniawati - PYTN-KS10-001\n",
    "- Nine Alvariqati Varqa Ansori - PYTN-KS10-010"
   ]
  },
  {
   "cell_type": "markdown",
   "id": "edb01571",
   "metadata": {},
   "source": [
    "# Introduction or Background Analysis"
   ]
  },
  {
   "cell_type": "markdown",
   "id": "81b512b6",
   "metadata": {},
   "source": [
    "> Marketing strategy is a fundamental tool to achieve company goals. Using marketing strategy, a company can develop a sustainable competitive advantage across their market. Moreover, it also can be utilized to provide their target market. In this case, we utilize the behavior of approximately 8500+ active credit card holders during the last 6 months in terms of developing a customer segmentation to define market strategy. This dataset contains 18 behavior variables of customer."
   ]
  },
  {
   "cell_type": "markdown",
   "id": "e86df71d",
   "metadata": {},
   "source": [
    "# Install Package"
   ]
  },
  {
   "cell_type": "code",
   "execution_count": 1,
   "id": "556f0f50",
   "metadata": {},
   "outputs": [],
   "source": [
    "#Kalau belum punya library kneed bisa dibuka untuk tanda # di depan !pip\n",
    "\n",
    "#!pip install kneed"
   ]
  },
  {
   "cell_type": "markdown",
   "id": "92635d24",
   "metadata": {},
   "source": [
    "# Import Package"
   ]
  },
  {
   "cell_type": "code",
   "execution_count": 2,
   "id": "9a5d8643",
   "metadata": {},
   "outputs": [],
   "source": [
    "import numpy as np\n",
    "import pandas as pd\n",
    "import matplotlib.pyplot as plt\n",
    "import seaborn as sns\n",
    "\n",
    "from statsmodels.stats.outliers_influence import variance_inflation_factor\n",
    "from sklearn.model_selection import train_test_split\n",
    "from sklearn.preprocessing import StandardScaler\n",
    "from sklearn.cluster import KMeans\n",
    "from sklearn.decomposition import PCA\n",
    "from sklearn.metrics import silhouette_score\n",
    "from kneed import KneeLocator\n",
    "\n",
    "\n",
    "import sys\n",
    "\n",
    "if not sys.warnoptions:\n",
    "    import warnings\n",
    "    warnings.simplefilter(\"ignore\")"
   ]
  },
  {
   "cell_type": "markdown",
   "id": "d7d54d3a",
   "metadata": {},
   "source": [
    "# Data Loading"
   ]
  },
  {
   "cell_type": "code",
   "execution_count": 3,
   "id": "b8308ac6",
   "metadata": {},
   "outputs": [
    {
     "data": {
      "text/html": [
       "<div>\n",
       "<style scoped>\n",
       "    .dataframe tbody tr th:only-of-type {\n",
       "        vertical-align: middle;\n",
       "    }\n",
       "\n",
       "    .dataframe tbody tr th {\n",
       "        vertical-align: top;\n",
       "    }\n",
       "\n",
       "    .dataframe thead th {\n",
       "        text-align: right;\n",
       "    }\n",
       "</style>\n",
       "<table border=\"1\" class=\"dataframe\">\n",
       "  <thead>\n",
       "    <tr style=\"text-align: right;\">\n",
       "      <th></th>\n",
       "      <th>CUST_ID</th>\n",
       "      <th>BALANCE</th>\n",
       "      <th>BALANCE_FREQUENCY</th>\n",
       "      <th>PURCHASES</th>\n",
       "      <th>ONEOFF_PURCHASES</th>\n",
       "      <th>INSTALLMENTS_PURCHASES</th>\n",
       "      <th>CASH_ADVANCE</th>\n",
       "      <th>PURCHASES_FREQUENCY</th>\n",
       "      <th>ONEOFF_PURCHASES_FREQUENCY</th>\n",
       "      <th>PURCHASES_INSTALLMENTS_FREQUENCY</th>\n",
       "      <th>CASH_ADVANCE_FREQUENCY</th>\n",
       "      <th>CASH_ADVANCE_TRX</th>\n",
       "      <th>PURCHASES_TRX</th>\n",
       "      <th>CREDIT_LIMIT</th>\n",
       "      <th>PAYMENTS</th>\n",
       "      <th>MINIMUM_PAYMENTS</th>\n",
       "      <th>PRC_FULL_PAYMENT</th>\n",
       "      <th>TENURE</th>\n",
       "    </tr>\n",
       "  </thead>\n",
       "  <tbody>\n",
       "    <tr>\n",
       "      <th>0</th>\n",
       "      <td>C10001</td>\n",
       "      <td>40.900749</td>\n",
       "      <td>0.818182</td>\n",
       "      <td>95.40</td>\n",
       "      <td>0.00</td>\n",
       "      <td>95.40</td>\n",
       "      <td>0.000000</td>\n",
       "      <td>0.166667</td>\n",
       "      <td>0.000000</td>\n",
       "      <td>0.083333</td>\n",
       "      <td>0.000000</td>\n",
       "      <td>0</td>\n",
       "      <td>2</td>\n",
       "      <td>1000.0</td>\n",
       "      <td>201.802084</td>\n",
       "      <td>139.509787</td>\n",
       "      <td>0.000000</td>\n",
       "      <td>12</td>\n",
       "    </tr>\n",
       "    <tr>\n",
       "      <th>1</th>\n",
       "      <td>C10002</td>\n",
       "      <td>3202.467416</td>\n",
       "      <td>0.909091</td>\n",
       "      <td>0.00</td>\n",
       "      <td>0.00</td>\n",
       "      <td>0.00</td>\n",
       "      <td>6442.945483</td>\n",
       "      <td>0.000000</td>\n",
       "      <td>0.000000</td>\n",
       "      <td>0.000000</td>\n",
       "      <td>0.250000</td>\n",
       "      <td>4</td>\n",
       "      <td>0</td>\n",
       "      <td>7000.0</td>\n",
       "      <td>4103.032597</td>\n",
       "      <td>1072.340217</td>\n",
       "      <td>0.222222</td>\n",
       "      <td>12</td>\n",
       "    </tr>\n",
       "    <tr>\n",
       "      <th>2</th>\n",
       "      <td>C10003</td>\n",
       "      <td>2495.148862</td>\n",
       "      <td>1.000000</td>\n",
       "      <td>773.17</td>\n",
       "      <td>773.17</td>\n",
       "      <td>0.00</td>\n",
       "      <td>0.000000</td>\n",
       "      <td>1.000000</td>\n",
       "      <td>1.000000</td>\n",
       "      <td>0.000000</td>\n",
       "      <td>0.000000</td>\n",
       "      <td>0</td>\n",
       "      <td>12</td>\n",
       "      <td>7500.0</td>\n",
       "      <td>622.066742</td>\n",
       "      <td>627.284787</td>\n",
       "      <td>0.000000</td>\n",
       "      <td>12</td>\n",
       "    </tr>\n",
       "    <tr>\n",
       "      <th>3</th>\n",
       "      <td>C10004</td>\n",
       "      <td>1666.670542</td>\n",
       "      <td>0.636364</td>\n",
       "      <td>1499.00</td>\n",
       "      <td>1499.00</td>\n",
       "      <td>0.00</td>\n",
       "      <td>205.788017</td>\n",
       "      <td>0.083333</td>\n",
       "      <td>0.083333</td>\n",
       "      <td>0.000000</td>\n",
       "      <td>0.083333</td>\n",
       "      <td>1</td>\n",
       "      <td>1</td>\n",
       "      <td>7500.0</td>\n",
       "      <td>0.000000</td>\n",
       "      <td>NaN</td>\n",
       "      <td>0.000000</td>\n",
       "      <td>12</td>\n",
       "    </tr>\n",
       "    <tr>\n",
       "      <th>4</th>\n",
       "      <td>C10005</td>\n",
       "      <td>817.714335</td>\n",
       "      <td>1.000000</td>\n",
       "      <td>16.00</td>\n",
       "      <td>16.00</td>\n",
       "      <td>0.00</td>\n",
       "      <td>0.000000</td>\n",
       "      <td>0.083333</td>\n",
       "      <td>0.083333</td>\n",
       "      <td>0.000000</td>\n",
       "      <td>0.000000</td>\n",
       "      <td>0</td>\n",
       "      <td>1</td>\n",
       "      <td>1200.0</td>\n",
       "      <td>678.334763</td>\n",
       "      <td>244.791237</td>\n",
       "      <td>0.000000</td>\n",
       "      <td>12</td>\n",
       "    </tr>\n",
       "    <tr>\n",
       "      <th>...</th>\n",
       "      <td>...</td>\n",
       "      <td>...</td>\n",
       "      <td>...</td>\n",
       "      <td>...</td>\n",
       "      <td>...</td>\n",
       "      <td>...</td>\n",
       "      <td>...</td>\n",
       "      <td>...</td>\n",
       "      <td>...</td>\n",
       "      <td>...</td>\n",
       "      <td>...</td>\n",
       "      <td>...</td>\n",
       "      <td>...</td>\n",
       "      <td>...</td>\n",
       "      <td>...</td>\n",
       "      <td>...</td>\n",
       "      <td>...</td>\n",
       "      <td>...</td>\n",
       "    </tr>\n",
       "    <tr>\n",
       "      <th>8945</th>\n",
       "      <td>C19186</td>\n",
       "      <td>28.493517</td>\n",
       "      <td>1.000000</td>\n",
       "      <td>291.12</td>\n",
       "      <td>0.00</td>\n",
       "      <td>291.12</td>\n",
       "      <td>0.000000</td>\n",
       "      <td>1.000000</td>\n",
       "      <td>0.000000</td>\n",
       "      <td>0.833333</td>\n",
       "      <td>0.000000</td>\n",
       "      <td>0</td>\n",
       "      <td>6</td>\n",
       "      <td>1000.0</td>\n",
       "      <td>325.594462</td>\n",
       "      <td>48.886365</td>\n",
       "      <td>0.500000</td>\n",
       "      <td>6</td>\n",
       "    </tr>\n",
       "    <tr>\n",
       "      <th>8946</th>\n",
       "      <td>C19187</td>\n",
       "      <td>19.183215</td>\n",
       "      <td>1.000000</td>\n",
       "      <td>300.00</td>\n",
       "      <td>0.00</td>\n",
       "      <td>300.00</td>\n",
       "      <td>0.000000</td>\n",
       "      <td>1.000000</td>\n",
       "      <td>0.000000</td>\n",
       "      <td>0.833333</td>\n",
       "      <td>0.000000</td>\n",
       "      <td>0</td>\n",
       "      <td>6</td>\n",
       "      <td>1000.0</td>\n",
       "      <td>275.861322</td>\n",
       "      <td>NaN</td>\n",
       "      <td>0.000000</td>\n",
       "      <td>6</td>\n",
       "    </tr>\n",
       "    <tr>\n",
       "      <th>8947</th>\n",
       "      <td>C19188</td>\n",
       "      <td>23.398673</td>\n",
       "      <td>0.833333</td>\n",
       "      <td>144.40</td>\n",
       "      <td>0.00</td>\n",
       "      <td>144.40</td>\n",
       "      <td>0.000000</td>\n",
       "      <td>0.833333</td>\n",
       "      <td>0.000000</td>\n",
       "      <td>0.666667</td>\n",
       "      <td>0.000000</td>\n",
       "      <td>0</td>\n",
       "      <td>5</td>\n",
       "      <td>1000.0</td>\n",
       "      <td>81.270775</td>\n",
       "      <td>82.418369</td>\n",
       "      <td>0.250000</td>\n",
       "      <td>6</td>\n",
       "    </tr>\n",
       "    <tr>\n",
       "      <th>8948</th>\n",
       "      <td>C19189</td>\n",
       "      <td>13.457564</td>\n",
       "      <td>0.833333</td>\n",
       "      <td>0.00</td>\n",
       "      <td>0.00</td>\n",
       "      <td>0.00</td>\n",
       "      <td>36.558778</td>\n",
       "      <td>0.000000</td>\n",
       "      <td>0.000000</td>\n",
       "      <td>0.000000</td>\n",
       "      <td>0.166667</td>\n",
       "      <td>2</td>\n",
       "      <td>0</td>\n",
       "      <td>500.0</td>\n",
       "      <td>52.549959</td>\n",
       "      <td>55.755628</td>\n",
       "      <td>0.250000</td>\n",
       "      <td>6</td>\n",
       "    </tr>\n",
       "    <tr>\n",
       "      <th>8949</th>\n",
       "      <td>C19190</td>\n",
       "      <td>372.708075</td>\n",
       "      <td>0.666667</td>\n",
       "      <td>1093.25</td>\n",
       "      <td>1093.25</td>\n",
       "      <td>0.00</td>\n",
       "      <td>127.040008</td>\n",
       "      <td>0.666667</td>\n",
       "      <td>0.666667</td>\n",
       "      <td>0.000000</td>\n",
       "      <td>0.333333</td>\n",
       "      <td>2</td>\n",
       "      <td>23</td>\n",
       "      <td>1200.0</td>\n",
       "      <td>63.165404</td>\n",
       "      <td>88.288956</td>\n",
       "      <td>0.000000</td>\n",
       "      <td>6</td>\n",
       "    </tr>\n",
       "  </tbody>\n",
       "</table>\n",
       "<p>8950 rows × 18 columns</p>\n",
       "</div>"
      ],
      "text/plain": [
       "     CUST_ID      BALANCE  BALANCE_FREQUENCY  PURCHASES  ONEOFF_PURCHASES  \\\n",
       "0     C10001    40.900749           0.818182      95.40              0.00   \n",
       "1     C10002  3202.467416           0.909091       0.00              0.00   \n",
       "2     C10003  2495.148862           1.000000     773.17            773.17   \n",
       "3     C10004  1666.670542           0.636364    1499.00           1499.00   \n",
       "4     C10005   817.714335           1.000000      16.00             16.00   \n",
       "...      ...          ...                ...        ...               ...   \n",
       "8945  C19186    28.493517           1.000000     291.12              0.00   \n",
       "8946  C19187    19.183215           1.000000     300.00              0.00   \n",
       "8947  C19188    23.398673           0.833333     144.40              0.00   \n",
       "8948  C19189    13.457564           0.833333       0.00              0.00   \n",
       "8949  C19190   372.708075           0.666667    1093.25           1093.25   \n",
       "\n",
       "      INSTALLMENTS_PURCHASES  CASH_ADVANCE  PURCHASES_FREQUENCY  \\\n",
       "0                      95.40      0.000000             0.166667   \n",
       "1                       0.00   6442.945483             0.000000   \n",
       "2                       0.00      0.000000             1.000000   \n",
       "3                       0.00    205.788017             0.083333   \n",
       "4                       0.00      0.000000             0.083333   \n",
       "...                      ...           ...                  ...   \n",
       "8945                  291.12      0.000000             1.000000   \n",
       "8946                  300.00      0.000000             1.000000   \n",
       "8947                  144.40      0.000000             0.833333   \n",
       "8948                    0.00     36.558778             0.000000   \n",
       "8949                    0.00    127.040008             0.666667   \n",
       "\n",
       "      ONEOFF_PURCHASES_FREQUENCY  PURCHASES_INSTALLMENTS_FREQUENCY  \\\n",
       "0                       0.000000                          0.083333   \n",
       "1                       0.000000                          0.000000   \n",
       "2                       1.000000                          0.000000   \n",
       "3                       0.083333                          0.000000   \n",
       "4                       0.083333                          0.000000   \n",
       "...                          ...                               ...   \n",
       "8945                    0.000000                          0.833333   \n",
       "8946                    0.000000                          0.833333   \n",
       "8947                    0.000000                          0.666667   \n",
       "8948                    0.000000                          0.000000   \n",
       "8949                    0.666667                          0.000000   \n",
       "\n",
       "      CASH_ADVANCE_FREQUENCY  CASH_ADVANCE_TRX  PURCHASES_TRX  CREDIT_LIMIT  \\\n",
       "0                   0.000000                 0              2        1000.0   \n",
       "1                   0.250000                 4              0        7000.0   \n",
       "2                   0.000000                 0             12        7500.0   \n",
       "3                   0.083333                 1              1        7500.0   \n",
       "4                   0.000000                 0              1        1200.0   \n",
       "...                      ...               ...            ...           ...   \n",
       "8945                0.000000                 0              6        1000.0   \n",
       "8946                0.000000                 0              6        1000.0   \n",
       "8947                0.000000                 0              5        1000.0   \n",
       "8948                0.166667                 2              0         500.0   \n",
       "8949                0.333333                 2             23        1200.0   \n",
       "\n",
       "         PAYMENTS  MINIMUM_PAYMENTS  PRC_FULL_PAYMENT  TENURE  \n",
       "0      201.802084        139.509787          0.000000      12  \n",
       "1     4103.032597       1072.340217          0.222222      12  \n",
       "2      622.066742        627.284787          0.000000      12  \n",
       "3        0.000000               NaN          0.000000      12  \n",
       "4      678.334763        244.791237          0.000000      12  \n",
       "...           ...               ...               ...     ...  \n",
       "8945   325.594462         48.886365          0.500000       6  \n",
       "8946   275.861322               NaN          0.000000       6  \n",
       "8947    81.270775         82.418369          0.250000       6  \n",
       "8948    52.549959         55.755628          0.250000       6  \n",
       "8949    63.165404         88.288956          0.000000       6  \n",
       "\n",
       "[8950 rows x 18 columns]"
      ]
     },
     "execution_count": 3,
     "metadata": {},
     "output_type": "execute_result"
    }
   ],
   "source": [
    "df = pd.read_csv(\"CC GENERAL.csv\")\n",
    "df"
   ]
  },
  {
   "cell_type": "markdown",
   "id": "c3128706",
   "metadata": {},
   "source": [
    "> This dataset contains of 8950 rows and 18 columns with the variables below:\n",
    "> 1. CUSTID - Identification of Credit Card holder (Categorical)\n",
    "2. BALANCE - Balance amount left in their account to make purchases \n",
    "3. BALANCEFREQUENCY - How frequently the Balance is updated, score between 0 and 1 (1 = frequently updated, 0 = not frequently updated)\n",
    "4. PURCHASES - Amount of purchases made from account\n",
    "5. ONEOFFPURCHASES - Maximum purchase amount done in one-go\n",
    "6. INSTALLMENTSPURCHASES - Amount of purchase done in installment\n",
    "7. CASHADVANCE - Cash in advance given by the user\n",
    "8. PURCHASESFREQUENCY - How frequently the Purchases are being made, score between 0 and 1 (1 = frequently purchased, 0 = not frequently purchased)\n",
    "9. ONEOFFPURCHASESFREQUENCY - How frequently Purchases are happening in one-go (1 = frequently purchased, 0 = not frequently purchased)\n",
    "10. PURCHASESINSTALLMENTSFREQUENCY - How frequently purchases in installments are being done (1 = frequently done, 0 = not frequently done)\n",
    "11. CASHADVANCEFREQUENCY - How frequently the cash in advance being paid\n",
    "12. CASHADVANCETRX - Number of Transactions made with \"Cash in Advance\"\n",
    "13. PURCHASESTRX - Number of purchase transactions made\n",
    "14. CREDITLIMIT - Limit of Credit Card for user\n",
    "15. PAYMENTS - Amount of Payment done by user\n",
    "16. MINIMUM_PAYMENTS - Minimum amount of payments made by user\n",
    "17. PRCFULLPAYMENT - Percent of full payment paid by user\n",
    "18. TENURE - Tenure of credit card service for user"
   ]
  },
  {
   "cell_type": "markdown",
   "id": "f51c1cc2",
   "metadata": {},
   "source": [
    "# Data Shape"
   ]
  },
  {
   "cell_type": "code",
   "execution_count": 4,
   "id": "9bc0a4e3",
   "metadata": {},
   "outputs": [
    {
     "data": {
      "text/plain": [
       "(8950, 18)"
      ]
     },
     "execution_count": 4,
     "metadata": {},
     "output_type": "execute_result"
    }
   ],
   "source": [
    "df.shape"
   ]
  },
  {
   "cell_type": "markdown",
   "id": "0aaad708",
   "metadata": {},
   "source": [
    "> Data ini terdiri dari 18 kolom dan 8950 baris"
   ]
  },
  {
   "cell_type": "markdown",
   "id": "1d4dbfda",
   "metadata": {},
   "source": [
    "# Data Information"
   ]
  },
  {
   "cell_type": "code",
   "execution_count": 5,
   "id": "0516ea06",
   "metadata": {},
   "outputs": [
    {
     "name": "stdout",
     "output_type": "stream",
     "text": [
      "<class 'pandas.core.frame.DataFrame'>\n",
      "RangeIndex: 8950 entries, 0 to 8949\n",
      "Data columns (total 18 columns):\n",
      " #   Column                            Non-Null Count  Dtype  \n",
      "---  ------                            --------------  -----  \n",
      " 0   CUST_ID                           8950 non-null   object \n",
      " 1   BALANCE                           8950 non-null   float64\n",
      " 2   BALANCE_FREQUENCY                 8950 non-null   float64\n",
      " 3   PURCHASES                         8950 non-null   float64\n",
      " 4   ONEOFF_PURCHASES                  8950 non-null   float64\n",
      " 5   INSTALLMENTS_PURCHASES            8950 non-null   float64\n",
      " 6   CASH_ADVANCE                      8950 non-null   float64\n",
      " 7   PURCHASES_FREQUENCY               8950 non-null   float64\n",
      " 8   ONEOFF_PURCHASES_FREQUENCY        8950 non-null   float64\n",
      " 9   PURCHASES_INSTALLMENTS_FREQUENCY  8950 non-null   float64\n",
      " 10  CASH_ADVANCE_FREQUENCY            8950 non-null   float64\n",
      " 11  CASH_ADVANCE_TRX                  8950 non-null   int64  \n",
      " 12  PURCHASES_TRX                     8950 non-null   int64  \n",
      " 13  CREDIT_LIMIT                      8949 non-null   float64\n",
      " 14  PAYMENTS                          8950 non-null   float64\n",
      " 15  MINIMUM_PAYMENTS                  8637 non-null   float64\n",
      " 16  PRC_FULL_PAYMENT                  8950 non-null   float64\n",
      " 17  TENURE                            8950 non-null   int64  \n",
      "dtypes: float64(14), int64(3), object(1)\n",
      "memory usage: 1.2+ MB\n"
     ]
    }
   ],
   "source": [
    "df.info()"
   ]
  },
  {
   "cell_type": "markdown",
   "id": "ade324dd",
   "metadata": {},
   "source": [
    "> Setiap kolom yang ada pada dataset sudah memiliki tipe data yang sesuai dengan jenis datanya. Namun dapat kita lihat bahwa untuk memproses dataset \"CC GENERAL.csv\" kita menggunakan memory sebesar **1.2+MB**"
   ]
  },
  {
   "cell_type": "markdown",
   "id": "fe2b7f2c",
   "metadata": {},
   "source": [
    "# Data Cleaning"
   ]
  },
  {
   "cell_type": "markdown",
   "id": "7a01fa1c",
   "metadata": {},
   "source": [
    "## Check Duplicated Data"
   ]
  },
  {
   "cell_type": "code",
   "execution_count": 6,
   "id": "c05a2736",
   "metadata": {},
   "outputs": [
    {
     "data": {
      "text/plain": [
       "0"
      ]
     },
     "execution_count": 6,
     "metadata": {},
     "output_type": "execute_result"
    }
   ],
   "source": [
    "df.duplicated().sum()"
   ]
  },
  {
   "cell_type": "markdown",
   "id": "a31afa4b",
   "metadata": {},
   "source": [
    "> Berdasarkan pengecekan di atas tidak terdapat data yang bersifat duplikat"
   ]
  },
  {
   "cell_type": "markdown",
   "id": "f5b28119",
   "metadata": {},
   "source": [
    "## Drop Unnecessary Column"
   ]
  },
  {
   "cell_type": "markdown",
   "id": "3327be4e",
   "metadata": {},
   "source": [
    "Kolom CUST_ID dibuang karena tidak relevan dengan analisis"
   ]
  },
  {
   "cell_type": "code",
   "execution_count": 7,
   "id": "b2339eea",
   "metadata": {},
   "outputs": [],
   "source": [
    "df.drop(['CUST_ID'], axis=1, inplace=True)"
   ]
  },
  {
   "cell_type": "code",
   "execution_count": 8,
   "id": "fc439733",
   "metadata": {},
   "outputs": [
    {
     "data": {
      "text/plain": [
       "17"
      ]
     },
     "execution_count": 8,
     "metadata": {},
     "output_type": "execute_result"
    }
   ],
   "source": [
    "len(df.columns)"
   ]
  },
  {
   "cell_type": "markdown",
   "id": "f6479076",
   "metadata": {},
   "source": [
    "> Setelah kolom CUST_ID dibuang, jumlah kolom menjadi 17"
   ]
  },
  {
   "cell_type": "markdown",
   "id": "a9589ee4",
   "metadata": {},
   "source": [
    "## Check Uniqueness of Data"
   ]
  },
  {
   "cell_type": "code",
   "execution_count": 9,
   "id": "9553eeae",
   "metadata": {},
   "outputs": [
    {
     "data": {
      "text/plain": [
       "BALANCE                             8871\n",
       "BALANCE_FREQUENCY                     43\n",
       "PURCHASES                           6203\n",
       "ONEOFF_PURCHASES                    4014\n",
       "INSTALLMENTS_PURCHASES              4452\n",
       "CASH_ADVANCE                        4323\n",
       "PURCHASES_FREQUENCY                   47\n",
       "ONEOFF_PURCHASES_FREQUENCY            47\n",
       "PURCHASES_INSTALLMENTS_FREQUENCY      47\n",
       "CASH_ADVANCE_FREQUENCY                54\n",
       "CASH_ADVANCE_TRX                      65\n",
       "PURCHASES_TRX                        173\n",
       "CREDIT_LIMIT                         205\n",
       "PAYMENTS                            8711\n",
       "MINIMUM_PAYMENTS                    8636\n",
       "PRC_FULL_PAYMENT                      47\n",
       "TENURE                                 7\n",
       "dtype: int64"
      ]
     },
     "execution_count": 9,
     "metadata": {},
     "output_type": "execute_result"
    }
   ],
   "source": [
    "df.nunique()"
   ]
  },
  {
   "cell_type": "code",
   "execution_count": 10,
   "id": "71b9dcdf",
   "metadata": {
    "scrolled": false
   },
   "outputs": [
    {
     "name": "stdout",
     "output_type": "stream",
     "text": [
      "Nilai unik dalam kolom:  BALANCE\n",
      "[  40.900749 3202.467416 2495.148862 ...   23.398673   13.457564\n",
      "  372.708075]\n",
      "Nilai unik dalam kolom:  BALANCE_FREQUENCY\n",
      "[0.818182 0.909091 1.       0.636364 0.545455 0.875    0.454545 0.727273\n",
      " 0.5      0.888889 0.090909 0.272727 0.363636 0.       0.666667 0.75\n",
      " 0.857143 0.181818 0.333333 0.6      0.3      0.125    0.9      0.833333\n",
      " 0.8      0.2      0.777778 0.555556 0.25     0.142857 0.571429 0.4\n",
      " 0.444444 0.714286 0.222222 0.1      0.625    0.428571 0.111111 0.285714\n",
      " 0.7      0.375    0.166667]\n",
      "Nilai unik dalam kolom:  PURCHASES\n",
      "[  95.4     0.    773.17 ...  291.12  144.4  1093.25]\n",
      "Nilai unik dalam kolom:  ONEOFF_PURCHASES\n",
      "[   0.    773.17 1499.   ...  734.4  1012.73 1093.25]\n",
      "Nilai unik dalam kolom:  INSTALLMENTS_PURCHASES\n",
      "[  95.4     0.   1333.28 ...  113.28  291.12  144.4 ]\n",
      "Nilai unik dalam kolom:  CASH_ADVANCE\n",
      "[   0.       6442.945483  205.788017 ... 8555.409326   36.558778\n",
      "  127.040008]\n",
      "Nilai unik dalam kolom:  PURCHASES_FREQUENCY\n",
      "[0.166667 0.       1.       0.083333 0.666667 0.333333 0.25     0.75\n",
      " 0.5      0.416667 0.916667 0.583333 0.375    0.625    0.272727 0.833333\n",
      " 0.909091 0.111111 0.142857 0.090909 0.363636 0.1      0.875    0.125\n",
      " 0.818182 0.636364 0.2      0.8      0.3      0.9      0.285714 0.727273\n",
      " 0.181818 0.7      0.545455 0.888889 0.714286 0.454545 0.857143 0.555556\n",
      " 0.428571 0.4      0.571429 0.6      0.222222 0.777778 0.444444]\n",
      "Nilai unik dalam kolom:  ONEOFF_PURCHASES_FREQUENCY\n",
      "[0.       1.       0.083333 0.166667 0.25     0.916667 0.5      0.416667\n",
      " 0.333333 0.666667 0.375    0.583333 0.1      0.090909 0.833333 0.75\n",
      " 0.111111 0.142857 0.125    0.875    0.363636 0.2      0.818182 0.8\n",
      " 0.3      0.636364 0.181818 0.909091 0.285714 0.222222 0.727273 0.571429\n",
      " 0.6      0.272727 0.714286 0.545455 0.428571 0.444444 0.454545 0.625\n",
      " 0.777778 0.555556 0.7      0.9      0.4      0.857143 0.888889]\n",
      "Nilai unik dalam kolom:  PURCHASES_INSTALLMENTS_FREQUENCY\n",
      "[0.083333 0.       0.583333 1.       0.25     0.916667 0.75     0.5\n",
      " 0.333333 0.666667 0.416667 0.166667 0.833333 0.4      0.181818 0.818182\n",
      " 0.272727 0.375    0.125    0.636364 0.545455 0.909091 0.888889 0.2\n",
      " 0.8      0.1      0.142857 0.857143 0.444444 0.454545 0.111111 0.6\n",
      " 0.555556 0.777778 0.3      0.9      0.363636 0.714286 0.875    0.222222\n",
      " 0.285714 0.7      0.727273 0.571429 0.090909 0.428571 0.625   ]\n",
      "Nilai unik dalam kolom:  CASH_ADVANCE_FREQUENCY\n",
      "[0.       0.25     0.083333 0.166667 0.333333 0.363636 0.833333 0.5\n",
      " 0.727273 0.125    0.875    0.111111 0.416667 0.181818 0.545455 0.75\n",
      " 0.142857 0.583333 0.666667 0.222222 0.285714 0.909091 0.2      0.625\n",
      " 0.090909 0.4      1.       0.8      0.636364 0.3      0.916667 0.444444\n",
      " 1.25     0.1      0.428571 0.272727 0.555556 0.6      0.454545 1.166667\n",
      " 0.375    0.777778 0.714286 0.571429 0.857143 1.125    1.1      1.5\n",
      " 0.7      0.818182 0.9      0.888889 1.090909 1.142857]\n",
      "Nilai unik dalam kolom:  CASH_ADVANCE_TRX\n",
      "[  0   4   1   3   6  13   5  16  10   2  11   7  12  37  27  23  21  14\n",
      "  40   8   9  26  15  18  28  24  20  17  22  31 123  52  51  62  19  25\n",
      "  30  29  53  45  43  42 107  38  56  39  32  33  50  34  63  36 110  47\n",
      "  48  71  35  93  80  44  61  46  49  69  41]\n",
      "Nilai unik dalam kolom:  PURCHASES_TRX\n",
      "[  2   0  12   1   8  64   5   3   6  26  11   9  92  17  13  45  14  41\n",
      "  27  20  87  18   4  42  61  33   7  50  22  23  60  46  75  31  10  34\n",
      "  81  25  85 217  19  52 216  97  24  77 130  90  44  39  15  30  36 123\n",
      " 151  21 101  49  98  28  84  93  72  38  99  62  48  16  32  51  74  29\n",
      "  59  76  47 126 229  40 103 121 157 114  53  83  43  54 222  66 141  37\n",
      "  79  70  80 194 117 100 111  67 219  55 152 104 182  88  82  71  78  35\n",
      " 122 105 108  69 175 135  91  65  68 119  63 140 113 358  58 248 129  56\n",
      "  89  57 139 176 136 195  73 109 208 115 110 147 273 102 185 171 168 232\n",
      "  95  86 148 112 128 254 198 298 154 116 142 131 347 204 200  94 118 344\n",
      " 162 308 199 309  96 274 224 143 133 127 186]\n",
      "Nilai unik dalam kolom:  CREDIT_LIMIT\n",
      "[ 1000.        7000.        7500.        1200.        1800.\n",
      " 13500.        2300.       11000.        2000.        3000.\n",
      "  8000.        2500.       13000.        4000.       11250.\n",
      "  9000.        6000.        1700.       10500.        6900.\n",
      "  5000.        4500.        1500.        8500.        2400.\n",
      "  4200.        3300.       12000.        3500.        6500.\n",
      "  1600.        4150.        1850.        6250.        2250.\n",
      "  9500.       16500.        5700.        5500.       17000.\n",
      "  3200.       19000.        2800.       18000.       21500.\n",
      " 10000.       20000.        7900.       15000.       12500.\n",
      " 14000.        5300.         900.        6150.       11500.\n",
      " 23000.        2700.       14500.       19500.        1400.\n",
      "  2900.        1950.        7200.       10950.        2100.\n",
      "   500.       21000.        4800.        7300.       18500.\n",
      "  6550.        6200.        3150.       11800.       11300.\n",
      "  2750.       10300.        2850.       17500.       22500.\n",
      "  6750.       16000.        1750.       15500.        3800.\n",
      "  6600.        3650.        2600.        4600.        3350.\n",
      "  4300.        5250.       28000.        3600.       10200.\n",
      "   750.        7600.        2720.        2200.        7350.\n",
      "   300.        3750.        1900.       10400.        5200.\n",
      "  4350.        3050.        6700.       20500.        5750.\n",
      "  8300.        7950.        3100.        4050.        6300.\n",
      "  3666.666667   200.        9100.        3700.        7100.\n",
      "  4750.        3900.       10100.        1300.       19600.\n",
      " 10450.       11150.         600.        4700.         150.\n",
      "  3400.        1350.        5100.        7227.272727 13550.\n",
      "  9200.        6100.        2050.        6400.        4250.\n",
      " 14600.        8600.        3511.111111  5600.        6727.272727\n",
      " 13600.        8800.       11100.       12200.        8100.\n",
      "  8050.        4100.        5550.        4450.        5650.\n",
      "  8200.        5400.       25000.        9950.        1150.\n",
      "  6800.        4650.        7800.        2150.       22000.\n",
      "   400.        7700.        4400.        1050.         700.\n",
      "  5181.818182  4900.        1100.        2550.        2283.333333\n",
      " 30000.        9700.        9400.                nan  2725.\n",
      "   450.        8700.       12300.        7050.        1550.\n",
      "  9800.        5450.         800.        8954.545455  2950.\n",
      "  2450.        6850.        4950.        5900.        1250.\n",
      " 17150.        9600.          50.       10750.        1120.\n",
      " 13450.        3777.777778   650.        1450.        2350.\n",
      "  1833.333333]\n",
      "Nilai unik dalam kolom:  PAYMENTS\n",
      "[ 201.802084 4103.032597  622.066742 ...   81.270775   52.549959\n",
      "   63.165404]\n",
      "Nilai unik dalam kolom:  MINIMUM_PAYMENTS\n",
      "[ 139.509787 1072.340217  627.284787 ...   82.418369   55.755628\n",
      "   88.288956]\n",
      "Nilai unik dalam kolom:  PRC_FULL_PAYMENT\n",
      "[0.       0.222222 1.       0.25     0.083333 0.3      0.333333 0.166667\n",
      " 0.111111 0.916667 0.2      0.090909 0.454545 0.181818 0.444444 0.636364\n",
      " 0.5      0.75     0.142857 0.888889 0.545455 0.818182 0.363636 0.833333\n",
      " 0.666667 0.909091 0.1      0.583333 0.8      0.416667 0.4      0.125\n",
      " 0.714286 0.6      0.571429 0.375    0.9      0.285714 0.7      0.272727\n",
      " 0.777778 0.875    0.727273 0.428571 0.625    0.857143 0.555556]\n",
      "Nilai unik dalam kolom:  TENURE\n",
      "[12  8 11  9 10  7  6]\n"
     ]
    }
   ],
   "source": [
    "for col in df:\n",
    "    print(\"Nilai unik dalam kolom: \", col.upper())\n",
    "    print(df[col].unique())"
   ]
  },
  {
   "cell_type": "markdown",
   "id": "ec00f011",
   "metadata": {},
   "source": [
    "> Berdasarkan pengecekan keunikan data pada setiap kolom, didapati bahwa terdapat nan pada kolom CREDIT_LIMIT dan MINIMUM_PAYMENTS. Selanjutnya kita akan mengecek jumlah data yang bersifat nan pada kedua kolom tersebut."
   ]
  },
  {
   "cell_type": "markdown",
   "id": "acb07d21",
   "metadata": {},
   "source": [
    "## Check Missing Values"
   ]
  },
  {
   "cell_type": "code",
   "execution_count": 11,
   "id": "ac1d790c",
   "metadata": {},
   "outputs": [
    {
     "data": {
      "text/html": [
       "<div>\n",
       "<style scoped>\n",
       "    .dataframe tbody tr th:only-of-type {\n",
       "        vertical-align: middle;\n",
       "    }\n",
       "\n",
       "    .dataframe tbody tr th {\n",
       "        vertical-align: top;\n",
       "    }\n",
       "\n",
       "    .dataframe thead th {\n",
       "        text-align: right;\n",
       "    }\n",
       "</style>\n",
       "<table border=\"1\" class=\"dataframe\">\n",
       "  <thead>\n",
       "    <tr style=\"text-align: right;\">\n",
       "      <th></th>\n",
       "      <th>Number of Missing Values</th>\n",
       "      <th>Percentage of Missing Values</th>\n",
       "    </tr>\n",
       "  </thead>\n",
       "  <tbody>\n",
       "    <tr>\n",
       "      <th>BALANCE</th>\n",
       "      <td>0</td>\n",
       "      <td>0.000000</td>\n",
       "    </tr>\n",
       "    <tr>\n",
       "      <th>BALANCE_FREQUENCY</th>\n",
       "      <td>0</td>\n",
       "      <td>0.000000</td>\n",
       "    </tr>\n",
       "    <tr>\n",
       "      <th>PURCHASES</th>\n",
       "      <td>0</td>\n",
       "      <td>0.000000</td>\n",
       "    </tr>\n",
       "    <tr>\n",
       "      <th>ONEOFF_PURCHASES</th>\n",
       "      <td>0</td>\n",
       "      <td>0.000000</td>\n",
       "    </tr>\n",
       "    <tr>\n",
       "      <th>INSTALLMENTS_PURCHASES</th>\n",
       "      <td>0</td>\n",
       "      <td>0.000000</td>\n",
       "    </tr>\n",
       "    <tr>\n",
       "      <th>CASH_ADVANCE</th>\n",
       "      <td>0</td>\n",
       "      <td>0.000000</td>\n",
       "    </tr>\n",
       "    <tr>\n",
       "      <th>PURCHASES_FREQUENCY</th>\n",
       "      <td>0</td>\n",
       "      <td>0.000000</td>\n",
       "    </tr>\n",
       "    <tr>\n",
       "      <th>ONEOFF_PURCHASES_FREQUENCY</th>\n",
       "      <td>0</td>\n",
       "      <td>0.000000</td>\n",
       "    </tr>\n",
       "    <tr>\n",
       "      <th>PURCHASES_INSTALLMENTS_FREQUENCY</th>\n",
       "      <td>0</td>\n",
       "      <td>0.000000</td>\n",
       "    </tr>\n",
       "    <tr>\n",
       "      <th>CASH_ADVANCE_FREQUENCY</th>\n",
       "      <td>0</td>\n",
       "      <td>0.000000</td>\n",
       "    </tr>\n",
       "    <tr>\n",
       "      <th>CASH_ADVANCE_TRX</th>\n",
       "      <td>0</td>\n",
       "      <td>0.000000</td>\n",
       "    </tr>\n",
       "    <tr>\n",
       "      <th>PURCHASES_TRX</th>\n",
       "      <td>0</td>\n",
       "      <td>0.000000</td>\n",
       "    </tr>\n",
       "    <tr>\n",
       "      <th>CREDIT_LIMIT</th>\n",
       "      <td>1</td>\n",
       "      <td>0.011173</td>\n",
       "    </tr>\n",
       "    <tr>\n",
       "      <th>PAYMENTS</th>\n",
       "      <td>0</td>\n",
       "      <td>0.000000</td>\n",
       "    </tr>\n",
       "    <tr>\n",
       "      <th>MINIMUM_PAYMENTS</th>\n",
       "      <td>313</td>\n",
       "      <td>3.497207</td>\n",
       "    </tr>\n",
       "    <tr>\n",
       "      <th>PRC_FULL_PAYMENT</th>\n",
       "      <td>0</td>\n",
       "      <td>0.000000</td>\n",
       "    </tr>\n",
       "    <tr>\n",
       "      <th>TENURE</th>\n",
       "      <td>0</td>\n",
       "      <td>0.000000</td>\n",
       "    </tr>\n",
       "  </tbody>\n",
       "</table>\n",
       "</div>"
      ],
      "text/plain": [
       "                                  Number of Missing Values  \\\n",
       "BALANCE                                                  0   \n",
       "BALANCE_FREQUENCY                                        0   \n",
       "PURCHASES                                                0   \n",
       "ONEOFF_PURCHASES                                         0   \n",
       "INSTALLMENTS_PURCHASES                                   0   \n",
       "CASH_ADVANCE                                             0   \n",
       "PURCHASES_FREQUENCY                                      0   \n",
       "ONEOFF_PURCHASES_FREQUENCY                               0   \n",
       "PURCHASES_INSTALLMENTS_FREQUENCY                         0   \n",
       "CASH_ADVANCE_FREQUENCY                                   0   \n",
       "CASH_ADVANCE_TRX                                         0   \n",
       "PURCHASES_TRX                                            0   \n",
       "CREDIT_LIMIT                                             1   \n",
       "PAYMENTS                                                 0   \n",
       "MINIMUM_PAYMENTS                                       313   \n",
       "PRC_FULL_PAYMENT                                         0   \n",
       "TENURE                                                   0   \n",
       "\n",
       "                                  Percentage of Missing Values  \n",
       "BALANCE                                               0.000000  \n",
       "BALANCE_FREQUENCY                                     0.000000  \n",
       "PURCHASES                                             0.000000  \n",
       "ONEOFF_PURCHASES                                      0.000000  \n",
       "INSTALLMENTS_PURCHASES                                0.000000  \n",
       "CASH_ADVANCE                                          0.000000  \n",
       "PURCHASES_FREQUENCY                                   0.000000  \n",
       "ONEOFF_PURCHASES_FREQUENCY                            0.000000  \n",
       "PURCHASES_INSTALLMENTS_FREQUENCY                      0.000000  \n",
       "CASH_ADVANCE_FREQUENCY                                0.000000  \n",
       "CASH_ADVANCE_TRX                                      0.000000  \n",
       "PURCHASES_TRX                                         0.000000  \n",
       "CREDIT_LIMIT                                          0.011173  \n",
       "PAYMENTS                                              0.000000  \n",
       "MINIMUM_PAYMENTS                                      3.497207  \n",
       "PRC_FULL_PAYMENT                                      0.000000  \n",
       "TENURE                                                0.000000  "
      ]
     },
     "execution_count": 11,
     "metadata": {},
     "output_type": "execute_result"
    }
   ],
   "source": [
    "mv = pd.DataFrame(df.isnull().sum(), columns = [\"Number of Missing Values\"])\n",
    "mv['Percentage of Missing Values'] = (mv/len(df))*100\n",
    "mv"
   ]
  },
  {
   "cell_type": "markdown",
   "id": "1f282a2c",
   "metadata": {},
   "source": [
    "> Berdasarkan pengecekan missing values di atas, jumlah data yang bersifat NaN tidak banyak hanya sekitar 3%. Oleh karena itu, kami memutuskan untuk membuang data yang bersifat null."
   ]
  },
  {
   "cell_type": "markdown",
   "id": "ab3dd73b",
   "metadata": {},
   "source": [
    "## Remove Missing Values"
   ]
  },
  {
   "cell_type": "code",
   "execution_count": 12,
   "id": "ed2789e2",
   "metadata": {},
   "outputs": [],
   "source": [
    "df.dropna(inplace=True)"
   ]
  },
  {
   "cell_type": "code",
   "execution_count": 13,
   "id": "d578bcca",
   "metadata": {},
   "outputs": [
    {
     "data": {
      "text/plain": [
       "BALANCE                             0\n",
       "BALANCE_FREQUENCY                   0\n",
       "PURCHASES                           0\n",
       "ONEOFF_PURCHASES                    0\n",
       "INSTALLMENTS_PURCHASES              0\n",
       "CASH_ADVANCE                        0\n",
       "PURCHASES_FREQUENCY                 0\n",
       "ONEOFF_PURCHASES_FREQUENCY          0\n",
       "PURCHASES_INSTALLMENTS_FREQUENCY    0\n",
       "CASH_ADVANCE_FREQUENCY              0\n",
       "CASH_ADVANCE_TRX                    0\n",
       "PURCHASES_TRX                       0\n",
       "CREDIT_LIMIT                        0\n",
       "PAYMENTS                            0\n",
       "MINIMUM_PAYMENTS                    0\n",
       "PRC_FULL_PAYMENT                    0\n",
       "TENURE                              0\n",
       "dtype: int64"
      ]
     },
     "execution_count": 13,
     "metadata": {},
     "output_type": "execute_result"
    }
   ],
   "source": [
    "df.isnull().sum()"
   ]
  },
  {
   "cell_type": "markdown",
   "id": "b850eecb",
   "metadata": {},
   "source": [
    "> Dapat dilihat bahwa missing values telah berhasil dibuang"
   ]
  },
  {
   "cell_type": "code",
   "execution_count": 14,
   "id": "d791b9f0",
   "metadata": {},
   "outputs": [
    {
     "data": {
      "text/plain": [
       "(8636, 17)"
      ]
     },
     "execution_count": 14,
     "metadata": {},
     "output_type": "execute_result"
    }
   ],
   "source": [
    "df.shape"
   ]
  },
  {
   "cell_type": "markdown",
   "id": "bf9b5032",
   "metadata": {},
   "source": [
    "> Setelah missing values dibuang, data ini menjadi terdiri dari 8636 baris dan 17 kolom"
   ]
  },
  {
   "cell_type": "markdown",
   "id": "ad81f8e7",
   "metadata": {},
   "source": [
    "## Check Outliers"
   ]
  },
  {
   "cell_type": "code",
   "execution_count": 15,
   "id": "c058d001",
   "metadata": {},
   "outputs": [
    {
     "data": {
      "image/png": "[encoded data removed]",
      "text/plain": [
       "<Figure size 1440x1080 with 17 Axes>"
      ]
     },
     "metadata": {
      "needs_background": "light"
     },
     "output_type": "display_data"
    }
   ],
   "source": [
    "fig = plt.figure(figsize=(20, 15))\n",
    "fig.subplots_adjust(hspace=.5, wspace=.5)\n",
    "\n",
    "ax = fig.add_subplot(3,6,1)\n",
    "sns.boxplot(x=df['BALANCE'])\n",
    "\n",
    "ax = fig.add_subplot(3,6,2)\n",
    "sns.boxplot(x=df['BALANCE_FREQUENCY'])\n",
    "\n",
    "ax = fig.add_subplot(3,6,3)\n",
    "sns.boxplot(x=df['PURCHASES'])\n",
    "\n",
    "ax = fig.add_subplot(3,6,4)\n",
    "sns.boxplot(x=df['ONEOFF_PURCHASES'])\n",
    "\n",
    "ax = fig.add_subplot(3,6,5)\n",
    "sns.boxplot(x=df['INSTALLMENTS_PURCHASES'])\n",
    "\n",
    "ax = fig.add_subplot(3,6,6)\n",
    "sns.boxplot(x=df['CASH_ADVANCE'])\n",
    "\n",
    "ax = fig.add_subplot(3,6,7)\n",
    "sns.boxplot(x=df['PURCHASES_FREQUENCY'])\n",
    "\n",
    "ax = fig.add_subplot(3,6,8)\n",
    "sns.boxplot(x=df['ONEOFF_PURCHASES_FREQUENCY'])\n",
    "\n",
    "ax = fig.add_subplot(3,6,9)\n",
    "sns.boxplot(x=df['PURCHASES_INSTALLMENTS_FREQUENCY'])\n",
    "\n",
    "ax = fig.add_subplot(3,6,10)\n",
    "sns.boxplot(x=df['CASH_ADVANCE_FREQUENCY'])\n",
    "\n",
    "ax = fig.add_subplot(3,6,11)\n",
    "sns.boxplot(x=df['CASH_ADVANCE_TRX'])\n",
    "\n",
    "ax = fig.add_subplot(3,6,12)\n",
    "sns.boxplot(x=df['PURCHASES_TRX'])\n",
    "\n",
    "ax = fig.add_subplot(3,6,13)\n",
    "sns.boxplot(x=df['CREDIT_LIMIT'])\n",
    "\n",
    "ax = fig.add_subplot(3,6,14)\n",
    "sns.boxplot(x=df['PAYMENTS'])\n",
    "\n",
    "ax = fig.add_subplot(3,6,15)\n",
    "sns.boxplot(x=df['MINIMUM_PAYMENTS'])\n",
    "\n",
    "ax = fig.add_subplot(3,6,16)\n",
    "sns.boxplot(x=df['PRC_FULL_PAYMENT'])\n",
    "\n",
    "ax = fig.add_subplot(3,6,17)\n",
    "sns.boxplot(x=df['TENURE'])\n",
    "\n",
    "plt.show()"
   ]
  },
  {
   "cell_type": "markdown",
   "id": "a09cd3f9",
   "metadata": {},
   "source": [
    "> Dari pengecekan outliers menggunakan boxplot, outliers terdapat pada hampir seluruh kolom kecuali pada kolom PURCHASES_FREQUENCY. Selanjutnya kita akan melihat proporsi data yang bersifat outliers untuk memutuskan apakah outliers akan dibuang atau tidak."
   ]
  },
  {
   "cell_type": "markdown",
   "id": "6c6ab432",
   "metadata": {},
   "source": [
    "## Check Proportion of Outliers Data using Upper Fence and Lower Fence"
   ]
  },
  {
   "cell_type": "code",
   "execution_count": 16,
   "id": "99948f73",
   "metadata": {},
   "outputs": [
    {
     "name": "stdout",
     "output_type": "stream",
     "text": [
      "BALANCE                              148.095189\n",
      "BALANCE_FREQUENCY                      0.909091\n",
      "PURCHASES                             43.367500\n",
      "ONEOFF_PURCHASES                       0.000000\n",
      "INSTALLMENTS_PURCHASES                 0.000000\n",
      "CASH_ADVANCE                           0.000000\n",
      "PURCHASES_FREQUENCY                    0.083333\n",
      "ONEOFF_PURCHASES_FREQUENCY             0.000000\n",
      "PURCHASES_INSTALLMENTS_FREQUENCY       0.000000\n",
      "CASH_ADVANCE_FREQUENCY                 0.000000\n",
      "CASH_ADVANCE_TRX                       0.000000\n",
      "PURCHASES_TRX                          1.000000\n",
      "CREDIT_LIMIT                        1600.000000\n",
      "PAYMENTS                             418.559237\n",
      "MINIMUM_PAYMENTS                     169.163545\n",
      "PRC_FULL_PAYMENT                       0.000000\n",
      "TENURE                                12.000000\n",
      "Name: 0.25, dtype: float64\n",
      "BALANCE                             2105.195853\n",
      "BALANCE_FREQUENCY                      1.000000\n",
      "PURCHASES                           1145.980000\n",
      "ONEOFF_PURCHASES                     599.100000\n",
      "INSTALLMENTS_PURCHASES               484.147500\n",
      "CASH_ADVANCE                        1132.385490\n",
      "PURCHASES_FREQUENCY                    0.916667\n",
      "ONEOFF_PURCHASES_FREQUENCY             0.333333\n",
      "PURCHASES_INSTALLMENTS_FREQUENCY       0.750000\n",
      "CASH_ADVANCE_FREQUENCY                 0.250000\n",
      "CASH_ADVANCE_TRX                       4.000000\n",
      "PURCHASES_TRX                         18.000000\n",
      "CREDIT_LIMIT                        6500.000000\n",
      "PAYMENTS                            1951.142090\n",
      "MINIMUM_PAYMENTS                     825.496463\n",
      "PRC_FULL_PAYMENT                       0.166667\n",
      "TENURE                                12.000000\n",
      "Name: 0.75, dtype: float64\n"
     ]
    }
   ],
   "source": [
    "Q1 = df.quantile(0.25)\n",
    "Q3 = df.quantile(0.75)\n",
    "print(Q1)\n",
    "print(Q3)"
   ]
  },
  {
   "cell_type": "code",
   "execution_count": 17,
   "id": "6dc05e51",
   "metadata": {},
   "outputs": [
    {
     "name": "stdout",
     "output_type": "stream",
     "text": [
      "BALANCE                             1957.100664\n",
      "BALANCE_FREQUENCY                      0.090909\n",
      "PURCHASES                           1102.612500\n",
      "ONEOFF_PURCHASES                     599.100000\n",
      "INSTALLMENTS_PURCHASES               484.147500\n",
      "CASH_ADVANCE                        1132.385490\n",
      "PURCHASES_FREQUENCY                    0.833334\n",
      "ONEOFF_PURCHASES_FREQUENCY             0.333333\n",
      "PURCHASES_INSTALLMENTS_FREQUENCY       0.750000\n",
      "CASH_ADVANCE_FREQUENCY                 0.250000\n",
      "CASH_ADVANCE_TRX                       4.000000\n",
      "PURCHASES_TRX                         17.000000\n",
      "CREDIT_LIMIT                        4900.000000\n",
      "PAYMENTS                            1532.582853\n",
      "MINIMUM_PAYMENTS                     656.332917\n",
      "PRC_FULL_PAYMENT                       0.166667\n",
      "TENURE                                 0.000000\n",
      "dtype: float64\n"
     ]
    }
   ],
   "source": [
    "IQR = Q3-Q1\n",
    "print(IQR)"
   ]
  },
  {
   "cell_type": "code",
   "execution_count": 18,
   "id": "7e41f758",
   "metadata": {},
   "outputs": [
    {
     "data": {
      "text/plain": [
       "8636"
      ]
     },
     "execution_count": 18,
     "metadata": {},
     "output_type": "execute_result"
    }
   ],
   "source": [
    "len((df < (Q1-1.5*IQR)) | (df > (Q3+1.5*IQR)))"
   ]
  },
  {
   "cell_type": "markdown",
   "id": "b6c4d1f4",
   "metadata": {},
   "source": [
    "> Berdasarkan pengecekan outliers, dapat dilihat bahwa terdapat 8636 data yang bersifat outliers. Jumlah data yang bersifat outliers sangat banyak, sehingga kami tidak membuang outliers tersebut"
   ]
  },
  {
   "cell_type": "markdown",
   "id": "b2fc7827",
   "metadata": {},
   "source": [
    "# Descriptive Statistics"
   ]
  },
  {
   "cell_type": "code",
   "execution_count": 19,
   "id": "255d4d4f",
   "metadata": {},
   "outputs": [
    {
     "data": {
      "text/html": [
       "<div>\n",
       "<style scoped>\n",
       "    .dataframe tbody tr th:only-of-type {\n",
       "        vertical-align: middle;\n",
       "    }\n",
       "\n",
       "    .dataframe tbody tr th {\n",
       "        vertical-align: top;\n",
       "    }\n",
       "\n",
       "    .dataframe thead th {\n",
       "        text-align: right;\n",
       "    }\n",
       "</style>\n",
       "<table border=\"1\" class=\"dataframe\">\n",
       "  <thead>\n",
       "    <tr style=\"text-align: right;\">\n",
       "      <th></th>\n",
       "      <th>BALANCE</th>\n",
       "      <th>BALANCE_FREQUENCY</th>\n",
       "      <th>PURCHASES</th>\n",
       "      <th>ONEOFF_PURCHASES</th>\n",
       "      <th>INSTALLMENTS_PURCHASES</th>\n",
       "      <th>CASH_ADVANCE</th>\n",
       "      <th>PURCHASES_FREQUENCY</th>\n",
       "      <th>ONEOFF_PURCHASES_FREQUENCY</th>\n",
       "      <th>PURCHASES_INSTALLMENTS_FREQUENCY</th>\n",
       "      <th>CASH_ADVANCE_FREQUENCY</th>\n",
       "      <th>CASH_ADVANCE_TRX</th>\n",
       "      <th>PURCHASES_TRX</th>\n",
       "      <th>CREDIT_LIMIT</th>\n",
       "      <th>PAYMENTS</th>\n",
       "      <th>MINIMUM_PAYMENTS</th>\n",
       "      <th>PRC_FULL_PAYMENT</th>\n",
       "      <th>TENURE</th>\n",
       "    </tr>\n",
       "  </thead>\n",
       "  <tbody>\n",
       "    <tr>\n",
       "      <th>count</th>\n",
       "      <td>8636.000000</td>\n",
       "      <td>8636.000000</td>\n",
       "      <td>8636.000000</td>\n",
       "      <td>8636.000000</td>\n",
       "      <td>8636.000000</td>\n",
       "      <td>8636.000000</td>\n",
       "      <td>8636.000000</td>\n",
       "      <td>8636.000000</td>\n",
       "      <td>8636.000000</td>\n",
       "      <td>8636.000000</td>\n",
       "      <td>8636.000000</td>\n",
       "      <td>8636.000000</td>\n",
       "      <td>8636.000000</td>\n",
       "      <td>8636.000000</td>\n",
       "      <td>8636.000000</td>\n",
       "      <td>8636.000000</td>\n",
       "      <td>8636.000000</td>\n",
       "    </tr>\n",
       "    <tr>\n",
       "      <th>mean</th>\n",
       "      <td>1601.224893</td>\n",
       "      <td>0.895035</td>\n",
       "      <td>1025.433874</td>\n",
       "      <td>604.901438</td>\n",
       "      <td>420.843533</td>\n",
       "      <td>994.175523</td>\n",
       "      <td>0.496000</td>\n",
       "      <td>0.205909</td>\n",
       "      <td>0.368820</td>\n",
       "      <td>0.137604</td>\n",
       "      <td>3.313918</td>\n",
       "      <td>15.033233</td>\n",
       "      <td>4522.091030</td>\n",
       "      <td>1784.478099</td>\n",
       "      <td>864.304943</td>\n",
       "      <td>0.159304</td>\n",
       "      <td>11.534391</td>\n",
       "    </tr>\n",
       "    <tr>\n",
       "      <th>std</th>\n",
       "      <td>2095.571300</td>\n",
       "      <td>0.207697</td>\n",
       "      <td>2167.107984</td>\n",
       "      <td>1684.307803</td>\n",
       "      <td>917.245182</td>\n",
       "      <td>2121.458303</td>\n",
       "      <td>0.401273</td>\n",
       "      <td>0.300054</td>\n",
       "      <td>0.398093</td>\n",
       "      <td>0.201791</td>\n",
       "      <td>6.912506</td>\n",
       "      <td>25.180468</td>\n",
       "      <td>3659.240379</td>\n",
       "      <td>2909.810090</td>\n",
       "      <td>2372.566350</td>\n",
       "      <td>0.296271</td>\n",
       "      <td>1.310984</td>\n",
       "    </tr>\n",
       "    <tr>\n",
       "      <th>min</th>\n",
       "      <td>0.000000</td>\n",
       "      <td>0.000000</td>\n",
       "      <td>0.000000</td>\n",
       "      <td>0.000000</td>\n",
       "      <td>0.000000</td>\n",
       "      <td>0.000000</td>\n",
       "      <td>0.000000</td>\n",
       "      <td>0.000000</td>\n",
       "      <td>0.000000</td>\n",
       "      <td>0.000000</td>\n",
       "      <td>0.000000</td>\n",
       "      <td>0.000000</td>\n",
       "      <td>50.000000</td>\n",
       "      <td>0.049513</td>\n",
       "      <td>0.019163</td>\n",
       "      <td>0.000000</td>\n",
       "      <td>6.000000</td>\n",
       "    </tr>\n",
       "    <tr>\n",
       "      <th>25%</th>\n",
       "      <td>148.095189</td>\n",
       "      <td>0.909091</td>\n",
       "      <td>43.367500</td>\n",
       "      <td>0.000000</td>\n",
       "      <td>0.000000</td>\n",
       "      <td>0.000000</td>\n",
       "      <td>0.083333</td>\n",
       "      <td>0.000000</td>\n",
       "      <td>0.000000</td>\n",
       "      <td>0.000000</td>\n",
       "      <td>0.000000</td>\n",
       "      <td>1.000000</td>\n",
       "      <td>1600.000000</td>\n",
       "      <td>418.559237</td>\n",
       "      <td>169.163545</td>\n",
       "      <td>0.000000</td>\n",
       "      <td>12.000000</td>\n",
       "    </tr>\n",
       "    <tr>\n",
       "      <th>50%</th>\n",
       "      <td>916.855459</td>\n",
       "      <td>1.000000</td>\n",
       "      <td>375.405000</td>\n",
       "      <td>44.995000</td>\n",
       "      <td>94.785000</td>\n",
       "      <td>0.000000</td>\n",
       "      <td>0.500000</td>\n",
       "      <td>0.083333</td>\n",
       "      <td>0.166667</td>\n",
       "      <td>0.000000</td>\n",
       "      <td>0.000000</td>\n",
       "      <td>7.000000</td>\n",
       "      <td>3000.000000</td>\n",
       "      <td>896.675701</td>\n",
       "      <td>312.452292</td>\n",
       "      <td>0.000000</td>\n",
       "      <td>12.000000</td>\n",
       "    </tr>\n",
       "    <tr>\n",
       "      <th>75%</th>\n",
       "      <td>2105.195853</td>\n",
       "      <td>1.000000</td>\n",
       "      <td>1145.980000</td>\n",
       "      <td>599.100000</td>\n",
       "      <td>484.147500</td>\n",
       "      <td>1132.385490</td>\n",
       "      <td>0.916667</td>\n",
       "      <td>0.333333</td>\n",
       "      <td>0.750000</td>\n",
       "      <td>0.250000</td>\n",
       "      <td>4.000000</td>\n",
       "      <td>18.000000</td>\n",
       "      <td>6500.000000</td>\n",
       "      <td>1951.142090</td>\n",
       "      <td>825.496463</td>\n",
       "      <td>0.166667</td>\n",
       "      <td>12.000000</td>\n",
       "    </tr>\n",
       "    <tr>\n",
       "      <th>max</th>\n",
       "      <td>19043.138560</td>\n",
       "      <td>1.000000</td>\n",
       "      <td>49039.570000</td>\n",
       "      <td>40761.250000</td>\n",
       "      <td>22500.000000</td>\n",
       "      <td>47137.211760</td>\n",
       "      <td>1.000000</td>\n",
       "      <td>1.000000</td>\n",
       "      <td>1.000000</td>\n",
       "      <td>1.500000</td>\n",
       "      <td>123.000000</td>\n",
       "      <td>358.000000</td>\n",
       "      <td>30000.000000</td>\n",
       "      <td>50721.483360</td>\n",
       "      <td>76406.207520</td>\n",
       "      <td>1.000000</td>\n",
       "      <td>12.000000</td>\n",
       "    </tr>\n",
       "  </tbody>\n",
       "</table>\n",
       "</div>"
      ],
      "text/plain": [
       "            BALANCE  BALANCE_FREQUENCY     PURCHASES  ONEOFF_PURCHASES  \\\n",
       "count   8636.000000        8636.000000   8636.000000       8636.000000   \n",
       "mean    1601.224893           0.895035   1025.433874        604.901438   \n",
       "std     2095.571300           0.207697   2167.107984       1684.307803   \n",
       "min        0.000000           0.000000      0.000000          0.000000   \n",
       "25%      148.095189           0.909091     43.367500          0.000000   \n",
       "50%      916.855459           1.000000    375.405000         44.995000   \n",
       "75%     2105.195853           1.000000   1145.980000        599.100000   \n",
       "max    19043.138560           1.000000  49039.570000      40761.250000   \n",
       "\n",
       "       INSTALLMENTS_PURCHASES  CASH_ADVANCE  PURCHASES_FREQUENCY  \\\n",
       "count             8636.000000   8636.000000          8636.000000   \n",
       "mean               420.843533    994.175523             0.496000   \n",
       "std                917.245182   2121.458303             0.401273   \n",
       "min                  0.000000      0.000000             0.000000   \n",
       "25%                  0.000000      0.000000             0.083333   \n",
       "50%                 94.785000      0.000000             0.500000   \n",
       "75%                484.147500   1132.385490             0.916667   \n",
       "max              22500.000000  47137.211760             1.000000   \n",
       "\n",
       "       ONEOFF_PURCHASES_FREQUENCY  PURCHASES_INSTALLMENTS_FREQUENCY  \\\n",
       "count                 8636.000000                       8636.000000   \n",
       "mean                     0.205909                          0.368820   \n",
       "std                      0.300054                          0.398093   \n",
       "min                      0.000000                          0.000000   \n",
       "25%                      0.000000                          0.000000   \n",
       "50%                      0.083333                          0.166667   \n",
       "75%                      0.333333                          0.750000   \n",
       "max                      1.000000                          1.000000   \n",
       "\n",
       "       CASH_ADVANCE_FREQUENCY  CASH_ADVANCE_TRX  PURCHASES_TRX  CREDIT_LIMIT  \\\n",
       "count             8636.000000       8636.000000    8636.000000   8636.000000   \n",
       "mean                 0.137604          3.313918      15.033233   4522.091030   \n",
       "std                  0.201791          6.912506      25.180468   3659.240379   \n",
       "min                  0.000000          0.000000       0.000000     50.000000   \n",
       "25%                  0.000000          0.000000       1.000000   1600.000000   \n",
       "50%                  0.000000          0.000000       7.000000   3000.000000   \n",
       "75%                  0.250000          4.000000      18.000000   6500.000000   \n",
       "max                  1.500000        123.000000     358.000000  30000.000000   \n",
       "\n",
       "           PAYMENTS  MINIMUM_PAYMENTS  PRC_FULL_PAYMENT       TENURE  \n",
       "count   8636.000000       8636.000000       8636.000000  8636.000000  \n",
       "mean    1784.478099        864.304943          0.159304    11.534391  \n",
       "std     2909.810090       2372.566350          0.296271     1.310984  \n",
       "min        0.049513          0.019163          0.000000     6.000000  \n",
       "25%      418.559237        169.163545          0.000000    12.000000  \n",
       "50%      896.675701        312.452292          0.000000    12.000000  \n",
       "75%     1951.142090        825.496463          0.166667    12.000000  \n",
       "max    50721.483360      76406.207520          1.000000    12.000000  "
      ]
     },
     "execution_count": 19,
     "metadata": {},
     "output_type": "execute_result"
    }
   ],
   "source": [
    "df.describe()"
   ]
  },
  {
   "cell_type": "markdown",
   "id": "092c5444",
   "metadata": {},
   "source": [
    ">- Rata-rata dari balance pemegang kartu kredit aktif adalah sebesar 1601.22 dan standard deviation sebesar 2095.57. \n",
    ">- Rata-rata seberapa seringnya balance dari pemegang kartu kredit aktif adalah sebesar 0.895 dan standard deviation sebesar 0.21. \n",
    ">- Rata-rata purchases dari pemegang kartu kredit aktif adalah 1025.43 dan standard deviation sebesar 2167.11.\n",
    ">- Rata-rata oneoff_purchases pemegang kartu kredit aktif adalah sebesar 604.901 dan standard deviation sebesar 1684.31.\n",
    ">- Rata-rata installments_purchases pemegang kartu kredit aktif adalah sebesar 420.84 dan standard deviation sebesar 917.25.\n",
    ">- Rata-rata cash advance pemegang kartu kredit aktif adalah sebesar 994.18 dan standard deviation sebesar 2121.45\n",
    ">- Rata-rata purchases frequency pemegang kartu kredit aktif adalah sebesar 0.496 dan standard deviation sebesar 0.401.\n",
    ">- Rata-rata one off purchases frequency dari pemegang kartu kredit aktif adalah sebesar 0.205 dan standard deviation sebesar 0.3\n",
    ">- Rata-rata purchases installments frequency adalah 0.37 dan standard deviasi sebesar 0.398.\n",
    ">- Rata-rata credit limit pemegang kartu kredit aktif adlaah 4522.09 dan standard deviasi sebesar 3659.24\n",
    ">- Rata-rata tenure pemegang kartu kredit aktif adalah 11.53 dan standard deviation sebesar 1.31"
   ]
  },
  {
   "cell_type": "markdown",
   "id": "b1382508",
   "metadata": {},
   "source": [
    "# Exploratory Data Analysis (EDA)"
   ]
  },
  {
   "cell_type": "code",
   "execution_count": 20,
   "id": "4e116f82",
   "metadata": {},
   "outputs": [
    {
     "data": {
      "image/png": "[encoded data removed]",
      "text/plain": [
       "<Figure size 1080x1080 with 20 Axes>"
      ]
     },
     "metadata": {
      "needs_background": "light"
     },
     "output_type": "display_data"
    }
   ],
   "source": [
    "df.hist(bins=30, figsize=(15,15))\n",
    "plt.show()"
   ]
  },
  {
   "cell_type": "markdown",
   "id": "ee5b4218",
   "metadata": {},
   "source": [
    "> - Berdasarkan histogram-histogram di atas variabel yang tergolong right skewed adalah balance, purchases, oneoff_purchases, installments_purchases, cash_advance, oneoff_purchases_frequency, cash_advance_frequency, cash advance_trx, purchases_trx, credit_limit, payments, minimum_payments, dan prc_full_payment\n",
    "> - Berdasarkan histogram-histogram di atas variabel yang tergolong left skewed adalah balance_frequency dan tenure\n",
    "> - Berdasarkan histogram-histogram di atas variabel yang tergolong simetris adalah purchases_frequency dan purchases_installments_frequency"
   ]
  },
  {
   "cell_type": "code",
   "execution_count": 21,
   "id": "3acd1c80",
   "metadata": {},
   "outputs": [
    {
     "data": {
      "image/png": "[encoded data removed]",
      "text/plain": [
       "<Figure size 1440x1080 with 4 Axes>"
      ]
     },
     "metadata": {
      "needs_background": "light"
     },
     "output_type": "display_data"
    }
   ],
   "source": [
    "fig = plt.figure(figsize=(20, 15))\n",
    "fig.subplots_adjust(hspace=.5, wspace=.5)\n",
    "\n",
    "ax = fig.add_subplot(2,2,1)\n",
    "plt.scatter(df.PURCHASES, df.CREDIT_LIMIT)\n",
    "plt.ylabel('Credit Limit')\n",
    "plt.xlabel('Purchases')\n",
    "ax.set_title(\"Purchases vs Credit Limit\", fontsize=10)\n",
    "\n",
    "ax = fig.add_subplot(2,2,2)\n",
    "plt.scatter(df.BALANCE,df.CREDIT_LIMIT)\n",
    "plt.ylabel('Credit Limit')\n",
    "plt.xlabel('Balance')\n",
    "ax.set_title(\"Balance vs Credit Limit\", fontsize=10)\n",
    "\n",
    "ax = fig.add_subplot(2,2,3)\n",
    "plt.scatter(df.ONEOFF_PURCHASES, df.CREDIT_LIMIT)\n",
    "plt.ylabel('Credit Limit')\n",
    "plt.xlabel('One Off Purchases')\n",
    "ax.set_title(\"One Off Purchases vs Credit Limit\", fontsize=10)\n",
    "\n",
    "ax = fig.add_subplot(2,2,4)\n",
    "plt.scatter( df.INSTALLMENTS_PURCHASES, df.CREDIT_LIMIT)\n",
    "plt.ylabel('Credit Limit')\n",
    "plt.xlabel('Installments Purchases')\n",
    "ax.set_title(\"Installments Purchases vs Credit Limit\", fontsize=10)\n",
    "\n",
    "\n",
    "plt.show()"
   ]
  },
  {
   "cell_type": "markdown",
   "id": "b0f9ee69",
   "metadata": {},
   "source": [
    "Dari scatter plot antara credit limit dengan purchases, balance, one off purchases, dan installments purchases dapat dilihat bahwa tidak terdapat hubungan yang linear. "
   ]
  },
  {
   "cell_type": "markdown",
   "id": "c2e421d8",
   "metadata": {},
   "source": [
    "# Data Pre-Processing"
   ]
  },
  {
   "cell_type": "markdown",
   "id": "179aebea",
   "metadata": {},
   "source": [
    "## Check Multicollinearity using VIF"
   ]
  },
  {
   "cell_type": "markdown",
   "id": "b7123fe3",
   "metadata": {},
   "source": [
    "> *Multikolinearitas merupakan sebuah situasi yang menunjukkan adanya korelasi atau hubungan kuat antara dua variabel bebas. Untuk menghindari hal tersebut, kita menggunakan VIF untuk mengecek multikolinearitas antarvariabel*"
   ]
  },
  {
   "cell_type": "code",
   "execution_count": 22,
   "id": "59abb2c7",
   "metadata": {},
   "outputs": [],
   "source": [
    "def calc_vif(x):\n",
    "    vif = pd.DataFrame()\n",
    "    vif['Variables'] = x.columns\n",
    "    vif['VIF'] = [variance_inflation_factor(x.values, i) for i in range(x.shape[1])]\n",
    "    \n",
    "    return vif"
   ]
  },
  {
   "cell_type": "code",
   "execution_count": 23,
   "id": "21b6304b",
   "metadata": {},
   "outputs": [
    {
     "data": {
      "text/html": [
       "<div>\n",
       "<style scoped>\n",
       "    .dataframe tbody tr th:only-of-type {\n",
       "        vertical-align: middle;\n",
       "    }\n",
       "\n",
       "    .dataframe tbody tr th {\n",
       "        vertical-align: top;\n",
       "    }\n",
       "\n",
       "    .dataframe thead th {\n",
       "        text-align: right;\n",
       "    }\n",
       "</style>\n",
       "<table border=\"1\" class=\"dataframe\">\n",
       "  <thead>\n",
       "    <tr style=\"text-align: right;\">\n",
       "      <th></th>\n",
       "      <th>Variables</th>\n",
       "      <th>VIF</th>\n",
       "    </tr>\n",
       "  </thead>\n",
       "  <tbody>\n",
       "    <tr>\n",
       "      <th>0</th>\n",
       "      <td>BALANCE</td>\n",
       "      <td>4.161893</td>\n",
       "    </tr>\n",
       "    <tr>\n",
       "      <th>1</th>\n",
       "      <td>BALANCE_FREQUENCY</td>\n",
       "      <td>23.078996</td>\n",
       "    </tr>\n",
       "    <tr>\n",
       "      <th>2</th>\n",
       "      <td>PURCHASES</td>\n",
       "      <td>58509.808865</td>\n",
       "    </tr>\n",
       "    <tr>\n",
       "      <th>3</th>\n",
       "      <td>ONEOFF_PURCHASES</td>\n",
       "      <td>32612.469018</td>\n",
       "    </tr>\n",
       "    <tr>\n",
       "      <th>4</th>\n",
       "      <td>INSTALLMENTS_PURCHASES</td>\n",
       "      <td>10357.268059</td>\n",
       "    </tr>\n",
       "    <tr>\n",
       "      <th>5</th>\n",
       "      <td>CASH_ADVANCE</td>\n",
       "      <td>3.538666</td>\n",
       "    </tr>\n",
       "    <tr>\n",
       "      <th>6</th>\n",
       "      <td>PURCHASES_FREQUENCY</td>\n",
       "      <td>26.519081</td>\n",
       "    </tr>\n",
       "    <tr>\n",
       "      <th>7</th>\n",
       "      <td>ONEOFF_PURCHASES_FREQUENCY</td>\n",
       "      <td>5.689858</td>\n",
       "    </tr>\n",
       "    <tr>\n",
       "      <th>8</th>\n",
       "      <td>PURCHASES_INSTALLMENTS_FREQUENCY</td>\n",
       "      <td>17.209188</td>\n",
       "    </tr>\n",
       "    <tr>\n",
       "      <th>9</th>\n",
       "      <td>CASH_ADVANCE_FREQUENCY</td>\n",
       "      <td>4.966228</td>\n",
       "    </tr>\n",
       "    <tr>\n",
       "      <th>10</th>\n",
       "      <td>CASH_ADVANCE_TRX</td>\n",
       "      <td>3.895110</td>\n",
       "    </tr>\n",
       "    <tr>\n",
       "      <th>11</th>\n",
       "      <td>PURCHASES_TRX</td>\n",
       "      <td>4.242576</td>\n",
       "    </tr>\n",
       "    <tr>\n",
       "      <th>12</th>\n",
       "      <td>CREDIT_LIMIT</td>\n",
       "      <td>4.695916</td>\n",
       "    </tr>\n",
       "    <tr>\n",
       "      <th>13</th>\n",
       "      <td>PAYMENTS</td>\n",
       "      <td>3.781687</td>\n",
       "    </tr>\n",
       "    <tr>\n",
       "      <th>14</th>\n",
       "      <td>MINIMUM_PAYMENTS</td>\n",
       "      <td>1.410120</td>\n",
       "    </tr>\n",
       "    <tr>\n",
       "      <th>15</th>\n",
       "      <td>PRC_FULL_PAYMENT</td>\n",
       "      <td>1.737048</td>\n",
       "    </tr>\n",
       "    <tr>\n",
       "      <th>16</th>\n",
       "      <td>TENURE</td>\n",
       "      <td>20.638743</td>\n",
       "    </tr>\n",
       "  </tbody>\n",
       "</table>\n",
       "</div>"
      ],
      "text/plain": [
       "                           Variables           VIF\n",
       "0                            BALANCE      4.161893\n",
       "1                  BALANCE_FREQUENCY     23.078996\n",
       "2                          PURCHASES  58509.808865\n",
       "3                   ONEOFF_PURCHASES  32612.469018\n",
       "4             INSTALLMENTS_PURCHASES  10357.268059\n",
       "5                       CASH_ADVANCE      3.538666\n",
       "6                PURCHASES_FREQUENCY     26.519081\n",
       "7         ONEOFF_PURCHASES_FREQUENCY      5.689858\n",
       "8   PURCHASES_INSTALLMENTS_FREQUENCY     17.209188\n",
       "9             CASH_ADVANCE_FREQUENCY      4.966228\n",
       "10                  CASH_ADVANCE_TRX      3.895110\n",
       "11                     PURCHASES_TRX      4.242576\n",
       "12                      CREDIT_LIMIT      4.695916\n",
       "13                          PAYMENTS      3.781687\n",
       "14                  MINIMUM_PAYMENTS      1.410120\n",
       "15                  PRC_FULL_PAYMENT      1.737048\n",
       "16                            TENURE     20.638743"
      ]
     },
     "execution_count": 23,
     "metadata": {},
     "output_type": "execute_result"
    }
   ],
   "source": [
    "iv = df\n",
    "calc_vif(iv)"
   ]
  },
  {
   "cell_type": "markdown",
   "id": "6eb6519b",
   "metadata": {},
   "source": [
    "> Berdasarkan pengecekan VIF di atas, nilai VIF yang paling besar adalah kolom PURCHASES. Oleh karena itu pertama kita akan mencoba untuk membuang kolom PURCHASES terlebih dahulu."
   ]
  },
  {
   "cell_type": "code",
   "execution_count": 24,
   "id": "eb579711",
   "metadata": {},
   "outputs": [],
   "source": [
    "df.drop(['PURCHASES'], axis=1, inplace=True)"
   ]
  },
  {
   "cell_type": "code",
   "execution_count": 25,
   "id": "d4ae67a9",
   "metadata": {},
   "outputs": [
    {
     "data": {
      "text/html": [
       "<div>\n",
       "<style scoped>\n",
       "    .dataframe tbody tr th:only-of-type {\n",
       "        vertical-align: middle;\n",
       "    }\n",
       "\n",
       "    .dataframe tbody tr th {\n",
       "        vertical-align: top;\n",
       "    }\n",
       "\n",
       "    .dataframe thead th {\n",
       "        text-align: right;\n",
       "    }\n",
       "</style>\n",
       "<table border=\"1\" class=\"dataframe\">\n",
       "  <thead>\n",
       "    <tr style=\"text-align: right;\">\n",
       "      <th></th>\n",
       "      <th>Variables</th>\n",
       "      <th>VIF</th>\n",
       "    </tr>\n",
       "  </thead>\n",
       "  <tbody>\n",
       "    <tr>\n",
       "      <th>0</th>\n",
       "      <td>BALANCE</td>\n",
       "      <td>4.161600</td>\n",
       "    </tr>\n",
       "    <tr>\n",
       "      <th>1</th>\n",
       "      <td>BALANCE_FREQUENCY</td>\n",
       "      <td>23.078516</td>\n",
       "    </tr>\n",
       "    <tr>\n",
       "      <th>2</th>\n",
       "      <td>ONEOFF_PURCHASES</td>\n",
       "      <td>2.732742</td>\n",
       "    </tr>\n",
       "    <tr>\n",
       "      <th>3</th>\n",
       "      <td>INSTALLMENTS_PURCHASES</td>\n",
       "      <td>2.532512</td>\n",
       "    </tr>\n",
       "    <tr>\n",
       "      <th>4</th>\n",
       "      <td>CASH_ADVANCE</td>\n",
       "      <td>3.538651</td>\n",
       "    </tr>\n",
       "    <tr>\n",
       "      <th>5</th>\n",
       "      <td>PURCHASES_FREQUENCY</td>\n",
       "      <td>26.513074</td>\n",
       "    </tr>\n",
       "    <tr>\n",
       "      <th>6</th>\n",
       "      <td>ONEOFF_PURCHASES_FREQUENCY</td>\n",
       "      <td>5.687103</td>\n",
       "    </tr>\n",
       "    <tr>\n",
       "      <th>7</th>\n",
       "      <td>PURCHASES_INSTALLMENTS_FREQUENCY</td>\n",
       "      <td>17.204389</td>\n",
       "    </tr>\n",
       "    <tr>\n",
       "      <th>8</th>\n",
       "      <td>CASH_ADVANCE_FREQUENCY</td>\n",
       "      <td>4.966169</td>\n",
       "    </tr>\n",
       "    <tr>\n",
       "      <th>9</th>\n",
       "      <td>CASH_ADVANCE_TRX</td>\n",
       "      <td>3.895087</td>\n",
       "    </tr>\n",
       "    <tr>\n",
       "      <th>10</th>\n",
       "      <td>PURCHASES_TRX</td>\n",
       "      <td>4.241950</td>\n",
       "    </tr>\n",
       "    <tr>\n",
       "      <th>11</th>\n",
       "      <td>CREDIT_LIMIT</td>\n",
       "      <td>4.695902</td>\n",
       "    </tr>\n",
       "    <tr>\n",
       "      <th>12</th>\n",
       "      <td>PAYMENTS</td>\n",
       "      <td>3.781687</td>\n",
       "    </tr>\n",
       "    <tr>\n",
       "      <th>13</th>\n",
       "      <td>MINIMUM_PAYMENTS</td>\n",
       "      <td>1.410040</td>\n",
       "    </tr>\n",
       "    <tr>\n",
       "      <th>14</th>\n",
       "      <td>PRC_FULL_PAYMENT</td>\n",
       "      <td>1.737010</td>\n",
       "    </tr>\n",
       "    <tr>\n",
       "      <th>15</th>\n",
       "      <td>TENURE</td>\n",
       "      <td>20.636201</td>\n",
       "    </tr>\n",
       "  </tbody>\n",
       "</table>\n",
       "</div>"
      ],
      "text/plain": [
       "                           Variables        VIF\n",
       "0                            BALANCE   4.161600\n",
       "1                  BALANCE_FREQUENCY  23.078516\n",
       "2                   ONEOFF_PURCHASES   2.732742\n",
       "3             INSTALLMENTS_PURCHASES   2.532512\n",
       "4                       CASH_ADVANCE   3.538651\n",
       "5                PURCHASES_FREQUENCY  26.513074\n",
       "6         ONEOFF_PURCHASES_FREQUENCY   5.687103\n",
       "7   PURCHASES_INSTALLMENTS_FREQUENCY  17.204389\n",
       "8             CASH_ADVANCE_FREQUENCY   4.966169\n",
       "9                   CASH_ADVANCE_TRX   3.895087\n",
       "10                     PURCHASES_TRX   4.241950\n",
       "11                      CREDIT_LIMIT   4.695902\n",
       "12                          PAYMENTS   3.781687\n",
       "13                  MINIMUM_PAYMENTS   1.410040\n",
       "14                  PRC_FULL_PAYMENT   1.737010\n",
       "15                            TENURE  20.636201"
      ]
     },
     "execution_count": 25,
     "metadata": {},
     "output_type": "execute_result"
    }
   ],
   "source": [
    "iv1 = df\n",
    "calc_vif(iv1)"
   ]
  },
  {
   "cell_type": "markdown",
   "id": "aa655cfd",
   "metadata": {},
   "source": [
    "> Setelah kolom PURCHASES dibuang, masih terdapat kolom yang memiliki nilai VIF di atas 5. Oleh karena itu kita akan membuang kolom dengan nilai VIF yang terbesar, yaitu PURCHASES_FREQUENCY"
   ]
  },
  {
   "cell_type": "code",
   "execution_count": 26,
   "id": "c885582a",
   "metadata": {},
   "outputs": [],
   "source": [
    "df.drop(['PURCHASES_FREQUENCY'], axis=1, inplace=True)"
   ]
  },
  {
   "cell_type": "code",
   "execution_count": 27,
   "id": "50d6ad31",
   "metadata": {},
   "outputs": [
    {
     "data": {
      "text/html": [
       "<div>\n",
       "<style scoped>\n",
       "    .dataframe tbody tr th:only-of-type {\n",
       "        vertical-align: middle;\n",
       "    }\n",
       "\n",
       "    .dataframe tbody tr th {\n",
       "        vertical-align: top;\n",
       "    }\n",
       "\n",
       "    .dataframe thead th {\n",
       "        text-align: right;\n",
       "    }\n",
       "</style>\n",
       "<table border=\"1\" class=\"dataframe\">\n",
       "  <thead>\n",
       "    <tr style=\"text-align: right;\">\n",
       "      <th></th>\n",
       "      <th>Variables</th>\n",
       "      <th>VIF</th>\n",
       "    </tr>\n",
       "  </thead>\n",
       "  <tbody>\n",
       "    <tr>\n",
       "      <th>0</th>\n",
       "      <td>BALANCE</td>\n",
       "      <td>4.157630</td>\n",
       "    </tr>\n",
       "    <tr>\n",
       "      <th>1</th>\n",
       "      <td>BALANCE_FREQUENCY</td>\n",
       "      <td>22.564246</td>\n",
       "    </tr>\n",
       "    <tr>\n",
       "      <th>2</th>\n",
       "      <td>ONEOFF_PURCHASES</td>\n",
       "      <td>2.732710</td>\n",
       "    </tr>\n",
       "    <tr>\n",
       "      <th>3</th>\n",
       "      <td>INSTALLMENTS_PURCHASES</td>\n",
       "      <td>2.528746</td>\n",
       "    </tr>\n",
       "    <tr>\n",
       "      <th>4</th>\n",
       "      <td>CASH_ADVANCE</td>\n",
       "      <td>3.535467</td>\n",
       "    </tr>\n",
       "    <tr>\n",
       "      <th>5</th>\n",
       "      <td>ONEOFF_PURCHASES_FREQUENCY</td>\n",
       "      <td>2.728372</td>\n",
       "    </tr>\n",
       "    <tr>\n",
       "      <th>6</th>\n",
       "      <td>PURCHASES_INSTALLMENTS_FREQUENCY</td>\n",
       "      <td>3.429570</td>\n",
       "    </tr>\n",
       "    <tr>\n",
       "      <th>7</th>\n",
       "      <td>CASH_ADVANCE_FREQUENCY</td>\n",
       "      <td>4.916130</td>\n",
       "    </tr>\n",
       "    <tr>\n",
       "      <th>8</th>\n",
       "      <td>CASH_ADVANCE_TRX</td>\n",
       "      <td>3.893509</td>\n",
       "    </tr>\n",
       "    <tr>\n",
       "      <th>9</th>\n",
       "      <td>PURCHASES_TRX</td>\n",
       "      <td>4.056858</td>\n",
       "    </tr>\n",
       "    <tr>\n",
       "      <th>10</th>\n",
       "      <td>CREDIT_LIMIT</td>\n",
       "      <td>4.692792</td>\n",
       "    </tr>\n",
       "    <tr>\n",
       "      <th>11</th>\n",
       "      <td>PAYMENTS</td>\n",
       "      <td>3.771931</td>\n",
       "    </tr>\n",
       "    <tr>\n",
       "      <th>12</th>\n",
       "      <td>MINIMUM_PAYMENTS</td>\n",
       "      <td>1.405892</td>\n",
       "    </tr>\n",
       "    <tr>\n",
       "      <th>13</th>\n",
       "      <td>PRC_FULL_PAYMENT</td>\n",
       "      <td>1.704048</td>\n",
       "    </tr>\n",
       "    <tr>\n",
       "      <th>14</th>\n",
       "      <td>TENURE</td>\n",
       "      <td>20.613311</td>\n",
       "    </tr>\n",
       "  </tbody>\n",
       "</table>\n",
       "</div>"
      ],
      "text/plain": [
       "                           Variables        VIF\n",
       "0                            BALANCE   4.157630\n",
       "1                  BALANCE_FREQUENCY  22.564246\n",
       "2                   ONEOFF_PURCHASES   2.732710\n",
       "3             INSTALLMENTS_PURCHASES   2.528746\n",
       "4                       CASH_ADVANCE   3.535467\n",
       "5         ONEOFF_PURCHASES_FREQUENCY   2.728372\n",
       "6   PURCHASES_INSTALLMENTS_FREQUENCY   3.429570\n",
       "7             CASH_ADVANCE_FREQUENCY   4.916130\n",
       "8                   CASH_ADVANCE_TRX   3.893509\n",
       "9                      PURCHASES_TRX   4.056858\n",
       "10                      CREDIT_LIMIT   4.692792\n",
       "11                          PAYMENTS   3.771931\n",
       "12                  MINIMUM_PAYMENTS   1.405892\n",
       "13                  PRC_FULL_PAYMENT   1.704048\n",
       "14                            TENURE  20.613311"
      ]
     },
     "execution_count": 27,
     "metadata": {},
     "output_type": "execute_result"
    }
   ],
   "source": [
    "iv2 = df\n",
    "calc_vif(iv2)"
   ]
  },
  {
   "cell_type": "markdown",
   "id": "4d68f8d2",
   "metadata": {},
   "source": [
    "> Setelah kolom PURCHASES dan PURCHASES_FREQUENCY dibuang, masih terdapat kolom yang memiliki nilai VIF di atas 5. Oleh karena itu kita akan membuang kolom dengan nilai VIF yang terbesar, yaitu BALANCE_FREQUENCY"
   ]
  },
  {
   "cell_type": "code",
   "execution_count": 28,
   "id": "d4df3ade",
   "metadata": {},
   "outputs": [],
   "source": [
    "df.drop(['BALANCE_FREQUENCY'], axis=1, inplace=True)"
   ]
  },
  {
   "cell_type": "code",
   "execution_count": 29,
   "id": "fea17f60",
   "metadata": {},
   "outputs": [
    {
     "data": {
      "text/html": [
       "<div>\n",
       "<style scoped>\n",
       "    .dataframe tbody tr th:only-of-type {\n",
       "        vertical-align: middle;\n",
       "    }\n",
       "\n",
       "    .dataframe tbody tr th {\n",
       "        vertical-align: top;\n",
       "    }\n",
       "\n",
       "    .dataframe thead th {\n",
       "        text-align: right;\n",
       "    }\n",
       "</style>\n",
       "<table border=\"1\" class=\"dataframe\">\n",
       "  <thead>\n",
       "    <tr style=\"text-align: right;\">\n",
       "      <th></th>\n",
       "      <th>Variables</th>\n",
       "      <th>VIF</th>\n",
       "    </tr>\n",
       "  </thead>\n",
       "  <tbody>\n",
       "    <tr>\n",
       "      <th>0</th>\n",
       "      <td>BALANCE</td>\n",
       "      <td>3.986815</td>\n",
       "    </tr>\n",
       "    <tr>\n",
       "      <th>1</th>\n",
       "      <td>ONEOFF_PURCHASES</td>\n",
       "      <td>2.722258</td>\n",
       "    </tr>\n",
       "    <tr>\n",
       "      <th>2</th>\n",
       "      <td>INSTALLMENTS_PURCHASES</td>\n",
       "      <td>2.526463</td>\n",
       "    </tr>\n",
       "    <tr>\n",
       "      <th>3</th>\n",
       "      <td>CASH_ADVANCE</td>\n",
       "      <td>3.533244</td>\n",
       "    </tr>\n",
       "    <tr>\n",
       "      <th>4</th>\n",
       "      <td>ONEOFF_PURCHASES_FREQUENCY</td>\n",
       "      <td>2.622867</td>\n",
       "    </tr>\n",
       "    <tr>\n",
       "      <th>5</th>\n",
       "      <td>PURCHASES_INSTALLMENTS_FREQUENCY</td>\n",
       "      <td>3.216580</td>\n",
       "    </tr>\n",
       "    <tr>\n",
       "      <th>6</th>\n",
       "      <td>CASH_ADVANCE_FREQUENCY</td>\n",
       "      <td>4.700296</td>\n",
       "    </tr>\n",
       "    <tr>\n",
       "      <th>7</th>\n",
       "      <td>CASH_ADVANCE_TRX</td>\n",
       "      <td>3.870425</td>\n",
       "    </tr>\n",
       "    <tr>\n",
       "      <th>8</th>\n",
       "      <td>PURCHASES_TRX</td>\n",
       "      <td>4.037219</td>\n",
       "    </tr>\n",
       "    <tr>\n",
       "      <th>9</th>\n",
       "      <td>CREDIT_LIMIT</td>\n",
       "      <td>4.618244</td>\n",
       "    </tr>\n",
       "    <tr>\n",
       "      <th>10</th>\n",
       "      <td>PAYMENTS</td>\n",
       "      <td>3.723741</td>\n",
       "    </tr>\n",
       "    <tr>\n",
       "      <th>11</th>\n",
       "      <td>MINIMUM_PAYMENTS</td>\n",
       "      <td>1.405839</td>\n",
       "    </tr>\n",
       "    <tr>\n",
       "      <th>12</th>\n",
       "      <td>PRC_FULL_PAYMENT</td>\n",
       "      <td>1.701531</td>\n",
       "    </tr>\n",
       "    <tr>\n",
       "      <th>13</th>\n",
       "      <td>TENURE</td>\n",
       "      <td>4.462355</td>\n",
       "    </tr>\n",
       "  </tbody>\n",
       "</table>\n",
       "</div>"
      ],
      "text/plain": [
       "                           Variables       VIF\n",
       "0                            BALANCE  3.986815\n",
       "1                   ONEOFF_PURCHASES  2.722258\n",
       "2             INSTALLMENTS_PURCHASES  2.526463\n",
       "3                       CASH_ADVANCE  3.533244\n",
       "4         ONEOFF_PURCHASES_FREQUENCY  2.622867\n",
       "5   PURCHASES_INSTALLMENTS_FREQUENCY  3.216580\n",
       "6             CASH_ADVANCE_FREQUENCY  4.700296\n",
       "7                   CASH_ADVANCE_TRX  3.870425\n",
       "8                      PURCHASES_TRX  4.037219\n",
       "9                       CREDIT_LIMIT  4.618244\n",
       "10                          PAYMENTS  3.723741\n",
       "11                  MINIMUM_PAYMENTS  1.405839\n",
       "12                  PRC_FULL_PAYMENT  1.701531\n",
       "13                            TENURE  4.462355"
      ]
     },
     "execution_count": 29,
     "metadata": {},
     "output_type": "execute_result"
    }
   ],
   "source": [
    "iv3 = df\n",
    "calc_vif(iv3)"
   ]
  },
  {
   "cell_type": "markdown",
   "id": "36d71ed2",
   "metadata": {},
   "source": [
    "> Setelah kolom PURCHASES, PURCHASES_FREQUENCY, dan BALANCE_FREQUENCY dibuang, dapat dilihat bahwa seluruh kolom telah memiliki VIF di bawah 5. Oleh karena itu, kolom-kolom tersebut yang akan digunakan sebagai variabel dalam pemodelan clustering."
   ]
  },
  {
   "cell_type": "markdown",
   "id": "83a5e56c",
   "metadata": {},
   "source": [
    "## Splitting Data"
   ]
  },
  {
   "cell_type": "markdown",
   "id": "24af7456",
   "metadata": {},
   "source": [
    "> Kita akan membagi data menjadi dua yaitu data testing dengan proporsi sebesar 25% dan data training dengan proporsi sebesar 75%"
   ]
  },
  {
   "cell_type": "code",
   "execution_count": 30,
   "id": "63e50c10",
   "metadata": {},
   "outputs": [],
   "source": [
    "train, test = train_test_split(df, test_size=0.25, random_state=42)\n",
    "train_index = train.index\n",
    "test_index = test.index"
   ]
  },
  {
   "cell_type": "markdown",
   "id": "a87bdf3b",
   "metadata": {},
   "source": [
    "## Standardizing the Data"
   ]
  },
  {
   "cell_type": "markdown",
   "id": "eb171b17",
   "metadata": {},
   "source": [
    "> Kita akan melakukan proses standardization terhadap data train dan testing agar mean tiap kolom menjadi sama dengan nol dan std tiap kolom menjadi satu"
   ]
  },
  {
   "cell_type": "code",
   "execution_count": 31,
   "id": "ac4fc70b",
   "metadata": {},
   "outputs": [
    {
     "data": {
      "text/plain": [
       "array([[-0.39230042, -0.36280719, -0.25423042, ..., -0.18130834,\n",
       "         0.0281351 ,  0.35851966],\n",
       "       [-0.76182718, -0.36280719, -0.34208922, ..., -0.32183225,\n",
       "         0.91490517,  0.35851966],\n",
       "       [ 2.60351729, -0.36280719, -0.47294764, ..., 10.37915367,\n",
       "        -0.5361759 ,  0.35851966],\n",
       "       ...,\n",
       "       [-0.75608964, -0.36280719, -0.36392192, ..., -0.31428181,\n",
       "         1.15675371, -3.40872863],\n",
       "       [ 2.1196393 , -0.36280719, -0.47294764, ...,  0.30916958,\n",
       "        -0.25402209,  0.35851966],\n",
       "       [ 0.07201598, -0.36280719,  0.23414699, ..., -0.08891027,\n",
       "        -0.5361759 ,  0.35851966]])"
      ]
     },
     "execution_count": 31,
     "metadata": {},
     "output_type": "execute_result"
    }
   ],
   "source": [
    "scaler = StandardScaler()\n",
    "train_scaled = scaler.fit_transform(train)\n",
    "train_scaled"
   ]
  },
  {
   "cell_type": "code",
   "execution_count": 32,
   "id": "8e2f924c",
   "metadata": {},
   "outputs": [],
   "source": [
    "test_scaled = scaler.transform(test)"
   ]
  },
  {
   "cell_type": "markdown",
   "id": "57f29961",
   "metadata": {},
   "source": [
    "# Modelling using K-Means"
   ]
  },
  {
   "cell_type": "markdown",
   "id": "64f93fad",
   "metadata": {},
   "source": [
    "## Elbow Method"
   ]
  },
  {
   "cell_type": "markdown",
   "id": "b15b187b",
   "metadata": {},
   "source": [
    ">Untuk menentukan jumlah cluster yang optimal kita akan menggunakan elbow method"
   ]
  },
  {
   "cell_type": "code",
   "execution_count": 33,
   "id": "8a109961",
   "metadata": {},
   "outputs": [
    {
     "data": {
      "image/png": "[encoded data removed]",
      "text/plain": [
       "<Figure size 864x432 with 1 Axes>"
      ]
     },
     "metadata": {
      "needs_background": "light"
     },
     "output_type": "display_data"
    }
   ],
   "source": [
    "inertias = []\n",
    "for i in range(1, 11):\n",
    "    kmeans = KMeans(n_clusters=i, init = 'k-means++', random_state=42)\n",
    "    kmeans.fit(train_scaled)\n",
    "\n",
    "    iner = kmeans.inertia_\n",
    "    inertias.append(iner)\n",
    "    \n",
    "plt.figure(figsize=(12,6));\n",
    "plt.plot(range(1,11), inertias, marker='o');\n",
    "plt.xlabel(\"Jumlah Cluster\");\n",
    "plt.ylabel(\"Inertia\");\n",
    "plt.title(\"Elbow Method\")\n",
    "plt.show()"
   ]
  },
  {
   "cell_type": "code",
   "execution_count": 34,
   "id": "60080534",
   "metadata": {},
   "outputs": [
    {
     "data": {
      "text/plain": [
       "4"
      ]
     },
     "execution_count": 34,
     "metadata": {},
     "output_type": "execute_result"
    }
   ],
   "source": [
    "kl = KneeLocator(range(1, 11), inertias, curve = 'convex', direction = 'decreasing')\n",
    "kl.elbow"
   ]
  },
  {
   "cell_type": "markdown",
   "id": "66d4f4d4",
   "metadata": {},
   "source": [
    ">Berdasarkan grafik di atas jumlah cluster yang optimal adalah sebesar 4"
   ]
  },
  {
   "cell_type": "markdown",
   "id": "e6772c97",
   "metadata": {},
   "source": [
    "## Modelling with Number of Clusters = 4"
   ]
  },
  {
   "cell_type": "code",
   "execution_count": 35,
   "id": "fb8140e8",
   "metadata": {},
   "outputs": [
    {
     "name": "stdout",
     "output_type": "stream",
     "text": [
      "[3 2 1 ... 2 1 2]\n"
     ]
    }
   ],
   "source": [
    "kmean = KMeans(n_clusters=4, init = 'k-means++', random_state=42)\n",
    "predicted_train = kmean.fit_predict(train_scaled)\n",
    "print(predicted_train)"
   ]
  },
  {
   "cell_type": "markdown",
   "id": "4179f606",
   "metadata": {},
   "source": [
    "## Model Evaluation"
   ]
  },
  {
   "cell_type": "markdown",
   "id": "72331d3d",
   "metadata": {},
   "source": [
    "### Inertia Score"
   ]
  },
  {
   "cell_type": "code",
   "execution_count": 36,
   "id": "bb7bfe68",
   "metadata": {},
   "outputs": [
    {
     "data": {
      "text/plain": [
       "60222.20485974517"
      ]
     },
     "execution_count": 36,
     "metadata": {},
     "output_type": "execute_result"
    }
   ],
   "source": [
    "kmean.inertia_"
   ]
  },
  {
   "cell_type": "markdown",
   "id": "99a46239",
   "metadata": {},
   "source": [
    "> Skor inersia dari pemodelan menggunakan cluster berjumlah 4 adalah 60222.204"
   ]
  },
  {
   "cell_type": "markdown",
   "id": "6d7f59e1",
   "metadata": {},
   "source": [
    "### Silhouette Score"
   ]
  },
  {
   "cell_type": "code",
   "execution_count": 37,
   "id": "aa8779d0",
   "metadata": {},
   "outputs": [
    {
     "name": "stdout",
     "output_type": "stream",
     "text": [
      "Silhouetter Average Score: 0.181\n"
     ]
    }
   ],
   "source": [
    "score = silhouette_score(train_scaled, kmean.labels_, metric='euclidean')\n",
    "# Print the score\n",
    "print('Silhouetter Average Score: %.3f' % score)"
   ]
  },
  {
   "cell_type": "code",
   "execution_count": 38,
   "id": "2c0720d2",
   "metadata": {},
   "outputs": [
    {
     "data": {
      "text/plain": [
       "array([3, 2, 1, ..., 2, 1, 2])"
      ]
     },
     "execution_count": 38,
     "metadata": {},
     "output_type": "execute_result"
    }
   ],
   "source": [
    "labels = kmean.labels_\n",
    "labels"
   ]
  },
  {
   "cell_type": "code",
   "execution_count": 39,
   "id": "8da89003",
   "metadata": {},
   "outputs": [
    {
     "data": {
      "text/html": [
       "<div>\n",
       "<style scoped>\n",
       "    .dataframe tbody tr th:only-of-type {\n",
       "        vertical-align: middle;\n",
       "    }\n",
       "\n",
       "    .dataframe tbody tr th {\n",
       "        vertical-align: top;\n",
       "    }\n",
       "\n",
       "    .dataframe thead th {\n",
       "        text-align: right;\n",
       "    }\n",
       "</style>\n",
       "<table border=\"1\" class=\"dataframe\">\n",
       "  <thead>\n",
       "    <tr style=\"text-align: right;\">\n",
       "      <th></th>\n",
       "      <th>BALANCE</th>\n",
       "      <th>ONEOFF_PURCHASES</th>\n",
       "      <th>INSTALLMENTS_PURCHASES</th>\n",
       "      <th>CASH_ADVANCE</th>\n",
       "      <th>ONEOFF_PURCHASES_FREQUENCY</th>\n",
       "      <th>PURCHASES_INSTALLMENTS_FREQUENCY</th>\n",
       "      <th>CASH_ADVANCE_FREQUENCY</th>\n",
       "      <th>CASH_ADVANCE_TRX</th>\n",
       "      <th>PURCHASES_TRX</th>\n",
       "      <th>CREDIT_LIMIT</th>\n",
       "      <th>PAYMENTS</th>\n",
       "      <th>MINIMUM_PAYMENTS</th>\n",
       "      <th>PRC_FULL_PAYMENT</th>\n",
       "      <th>TENURE</th>\n",
       "      <th>cluster</th>\n",
       "    </tr>\n",
       "  </thead>\n",
       "  <tbody>\n",
       "    <tr>\n",
       "      <th>2511</th>\n",
       "      <td>774.645244</td>\n",
       "      <td>0.0</td>\n",
       "      <td>190.54</td>\n",
       "      <td>2467.204866</td>\n",
       "      <td>0.0</td>\n",
       "      <td>0.333333</td>\n",
       "      <td>0.250000</td>\n",
       "      <td>4</td>\n",
       "      <td>6</td>\n",
       "      <td>1200.0</td>\n",
       "      <td>2365.524893</td>\n",
       "      <td>423.020200</td>\n",
       "      <td>0.166667</td>\n",
       "      <td>12</td>\n",
       "      <td>3</td>\n",
       "    </tr>\n",
       "    <tr>\n",
       "      <th>8058</th>\n",
       "      <td>8.809540</td>\n",
       "      <td>0.0</td>\n",
       "      <td>114.00</td>\n",
       "      <td>0.000000</td>\n",
       "      <td>0.0</td>\n",
       "      <td>0.666667</td>\n",
       "      <td>0.000000</td>\n",
       "      <td>0</td>\n",
       "      <td>8</td>\n",
       "      <td>4000.0</td>\n",
       "      <td>160.627029</td>\n",
       "      <td>86.700821</td>\n",
       "      <td>0.428571</td>\n",
       "      <td>12</td>\n",
       "      <td>2</td>\n",
       "    </tr>\n",
       "    <tr>\n",
       "      <th>4658</th>\n",
       "      <td>6983.408463</td>\n",
       "      <td>0.0</td>\n",
       "      <td>0.00</td>\n",
       "      <td>3354.686368</td>\n",
       "      <td>0.0</td>\n",
       "      <td>0.000000</td>\n",
       "      <td>0.333333</td>\n",
       "      <td>11</td>\n",
       "      <td>0</td>\n",
       "      <td>7700.0</td>\n",
       "      <td>1116.896212</td>\n",
       "      <td>25697.637720</td>\n",
       "      <td>0.000000</td>\n",
       "      <td>12</td>\n",
       "      <td>1</td>\n",
       "    </tr>\n",
       "    <tr>\n",
       "      <th>3449</th>\n",
       "      <td>1716.340133</td>\n",
       "      <td>0.0</td>\n",
       "      <td>184.23</td>\n",
       "      <td>0.000000</td>\n",
       "      <td>0.0</td>\n",
       "      <td>1.000000</td>\n",
       "      <td>0.000000</td>\n",
       "      <td>0</td>\n",
       "      <td>13</td>\n",
       "      <td>1700.0</td>\n",
       "      <td>510.451516</td>\n",
       "      <td>833.346049</td>\n",
       "      <td>0.000000</td>\n",
       "      <td>12</td>\n",
       "      <td>2</td>\n",
       "    </tr>\n",
       "    <tr>\n",
       "      <th>8732</th>\n",
       "      <td>51.071594</td>\n",
       "      <td>0.0</td>\n",
       "      <td>0.00</td>\n",
       "      <td>360.199098</td>\n",
       "      <td>0.0</td>\n",
       "      <td>0.000000</td>\n",
       "      <td>0.555556</td>\n",
       "      <td>14</td>\n",
       "      <td>0</td>\n",
       "      <td>500.0</td>\n",
       "      <td>0.049513</td>\n",
       "      <td>67.786744</td>\n",
       "      <td>0.000000</td>\n",
       "      <td>9</td>\n",
       "      <td>3</td>\n",
       "    </tr>\n",
       "  </tbody>\n",
       "</table>\n",
       "</div>"
      ],
      "text/plain": [
       "          BALANCE  ONEOFF_PURCHASES  INSTALLMENTS_PURCHASES  CASH_ADVANCE  \\\n",
       "2511   774.645244               0.0                  190.54   2467.204866   \n",
       "8058     8.809540               0.0                  114.00      0.000000   \n",
       "4658  6983.408463               0.0                    0.00   3354.686368   \n",
       "3449  1716.340133               0.0                  184.23      0.000000   \n",
       "8732    51.071594               0.0                    0.00    360.199098   \n",
       "\n",
       "      ONEOFF_PURCHASES_FREQUENCY  PURCHASES_INSTALLMENTS_FREQUENCY  \\\n",
       "2511                         0.0                          0.333333   \n",
       "8058                         0.0                          0.666667   \n",
       "4658                         0.0                          0.000000   \n",
       "3449                         0.0                          1.000000   \n",
       "8732                         0.0                          0.000000   \n",
       "\n",
       "      CASH_ADVANCE_FREQUENCY  CASH_ADVANCE_TRX  PURCHASES_TRX  CREDIT_LIMIT  \\\n",
       "2511                0.250000                 4              6        1200.0   \n",
       "8058                0.000000                 0              8        4000.0   \n",
       "4658                0.333333                11              0        7700.0   \n",
       "3449                0.000000                 0             13        1700.0   \n",
       "8732                0.555556                14              0         500.0   \n",
       "\n",
       "         PAYMENTS  MINIMUM_PAYMENTS  PRC_FULL_PAYMENT  TENURE  cluster  \n",
       "2511  2365.524893        423.020200          0.166667      12        3  \n",
       "8058   160.627029         86.700821          0.428571      12        2  \n",
       "4658  1116.896212      25697.637720          0.000000      12        1  \n",
       "3449   510.451516        833.346049          0.000000      12        2  \n",
       "8732     0.049513         67.786744          0.000000       9        3  "
      ]
     },
     "execution_count": 39,
     "metadata": {},
     "output_type": "execute_result"
    }
   ],
   "source": [
    "clusters = kmean.predict(train_scaled)\n",
    "train['cluster'] = clusters\n",
    "train.head()"
   ]
  },
  {
   "cell_type": "markdown",
   "id": "92cd51d6",
   "metadata": {},
   "source": [
    "# PCA"
   ]
  },
  {
   "cell_type": "code",
   "execution_count": 40,
   "id": "66b8c59b",
   "metadata": {},
   "outputs": [
    {
     "name": "stdout",
     "output_type": "stream",
     "text": [
      "(6477, 2)\n"
     ]
    }
   ],
   "source": [
    "pca = PCA(2)\n",
    "principalComponents = pca.fit_transform(train_scaled)\n",
    "x, y = principalComponents[:, 0], principalComponents[:, 1]\n",
    "print(principalComponents.shape)\n",
    "\n",
    "colors = {0: 'red', 1: 'blue', 2: 'green',3:'yellow'}"
   ]
  },
  {
   "cell_type": "code",
   "execution_count": 41,
   "id": "c4215db8",
   "metadata": {},
   "outputs": [],
   "source": [
    "final_df = pd.DataFrame({'x': x, 'y':y, 'label':labels}) \n",
    "groups = final_df.groupby(labels)"
   ]
  },
  {
   "cell_type": "code",
   "execution_count": 42,
   "id": "efc667f0",
   "metadata": {},
   "outputs": [
    {
     "data": {
      "image/png": "[encoded data removed]",
      "text/plain": [
       "<Figure size 1080x720 with 1 Axes>"
      ]
     },
     "metadata": {
      "needs_background": "light"
     },
     "output_type": "display_data"
    }
   ],
   "source": [
    "fig, ax = plt.subplots(figsize=(15, 10)) \n",
    "\n",
    "for name, group in groups:\n",
    "    ax.plot(group.x, group.y, marker='o', linestyle='', ms=7, color=colors[name], mec='none')\n",
    "    ax.set_aspect('auto')\n",
    "    ax.tick_params(axis='x',which='both',bottom='off',top='off',labelbottom='off')\n",
    "    ax.tick_params(axis= 'y',which='both',left='off',top='off',labelleft='off')\n",
    "    \n",
    "ax.set_title(\"Segmentation of Customer based on Credit Card utilization\")\n",
    "plt.show()"
   ]
  },
  {
   "cell_type": "markdown",
   "id": "95b10289",
   "metadata": {},
   "source": [
    "# Cluster Analysis and Characteristics"
   ]
  },
  {
   "cell_type": "code",
   "execution_count": 43,
   "id": "47fee913",
   "metadata": {},
   "outputs": [
    {
     "data": {
      "text/html": [
       "<style type=\"text/css\">\n",
       "#T_c5a12_row0_col2 {\n",
       "  background-color: #90d4b9;\n",
       "  color: #000000;\n",
       "}\n",
       "#T_c5a12_row0_col3 {\n",
       "  background-color: #2498c1;\n",
       "  color: #f1f1f1;\n",
       "}\n",
       "#T_c5a12_row0_col4 {\n",
       "  background-color: #e8f6b1;\n",
       "  color: #000000;\n",
       "}\n",
       "#T_c5a12_row0_col5 {\n",
       "  background-color: #80cebb;\n",
       "  color: #000000;\n",
       "}\n",
       "#T_c5a12_row0_col6 {\n",
       "  background-color: #8cd2ba;\n",
       "  color: #000000;\n",
       "}\n",
       "#T_c5a12_row1_col2 {\n",
       "  background-color: #61c2bf;\n",
       "  color: #000000;\n",
       "}\n",
       "#T_c5a12_row1_col3 {\n",
       "  background-color: #f9fdcc;\n",
       "  color: #000000;\n",
       "}\n",
       "#T_c5a12_row1_col4 {\n",
       "  background-color: #eff9b6;\n",
       "  color: #000000;\n",
       "}\n",
       "#T_c5a12_row1_col5, #T_c5a12_row2_col6 {\n",
       "  background-color: #f2fabc;\n",
       "  color: #000000;\n",
       "}\n",
       "#T_c5a12_row1_col6 {\n",
       "  background-color: #eaf7b1;\n",
       "  color: #000000;\n",
       "}\n",
       "#T_c5a12_row2_col2 {\n",
       "  background-color: #cbebb4;\n",
       "  color: #000000;\n",
       "}\n",
       "#T_c5a12_row2_col3 {\n",
       "  background-color: #fcfed1;\n",
       "  color: #000000;\n",
       "}\n",
       "#T_c5a12_row2_col4 {\n",
       "  background-color: #e2f4b2;\n",
       "  color: #000000;\n",
       "}\n",
       "#T_c5a12_row2_col5 {\n",
       "  background-color: #fcfed3;\n",
       "  color: #000000;\n",
       "}\n",
       "#T_c5a12_row3_col2 {\n",
       "  background-color: #f5fbc2;\n",
       "  color: #000000;\n",
       "}\n",
       "#T_c5a12_row3_col3 {\n",
       "  background-color: #1d91c0;\n",
       "  color: #f1f1f1;\n",
       "}\n",
       "#T_c5a12_row3_col4 {\n",
       "  background-color: #fbfdd0;\n",
       "  color: #000000;\n",
       "}\n",
       "#T_c5a12_row3_col5 {\n",
       "  background-color: #d9f0b3;\n",
       "  color: #000000;\n",
       "}\n",
       "#T_c5a12_row3_col6 {\n",
       "  background-color: #ceecb3;\n",
       "  color: #000000;\n",
       "}\n",
       "#T_c5a12_row4_col2, #T_c5a12_row4_col3, #T_c5a12_row4_col4, #T_c5a12_row4_col5, #T_c5a12_row4_col6, #T_c5a12_row5_col2, #T_c5a12_row5_col3, #T_c5a12_row5_col4, #T_c5a12_row5_col5, #T_c5a12_row5_col6, #T_c5a12_row6_col2, #T_c5a12_row6_col3, #T_c5a12_row6_col4, #T_c5a12_row6_col5, #T_c5a12_row6_col6, #T_c5a12_row7_col2, #T_c5a12_row7_col3, #T_c5a12_row7_col4, #T_c5a12_row7_col5, #T_c5a12_row7_col6, #T_c5a12_row8_col3, #T_c5a12_row8_col5, #T_c5a12_row8_col6, #T_c5a12_row12_col2, #T_c5a12_row12_col3, #T_c5a12_row12_col4, #T_c5a12_row12_col5, #T_c5a12_row12_col6, #T_c5a12_row13_col2, #T_c5a12_row13_col3, #T_c5a12_row13_col4, #T_c5a12_row13_col5, #T_c5a12_row13_col6 {\n",
       "  background-color: #ffffd9;\n",
       "  color: #000000;\n",
       "}\n",
       "#T_c5a12_row8_col2 {\n",
       "  background-color: #feffd6;\n",
       "  color: #000000;\n",
       "}\n",
       "#T_c5a12_row8_col4 {\n",
       "  background-color: #feffd8;\n",
       "  color: #000000;\n",
       "}\n",
       "#T_c5a12_row9_col2, #T_c5a12_row9_col3, #T_c5a12_row9_col4, #T_c5a12_row9_col5, #T_c5a12_row9_col6 {\n",
       "  background-color: #081d58;\n",
       "  color: #f1f1f1;\n",
       "}\n",
       "#T_c5a12_row10_col2 {\n",
       "  background-color: #1e85ba;\n",
       "  color: #f1f1f1;\n",
       "}\n",
       "#T_c5a12_row10_col3 {\n",
       "  background-color: #3db2c4;\n",
       "  color: #f1f1f1;\n",
       "}\n",
       "#T_c5a12_row10_col4 {\n",
       "  background-color: #abdeb7;\n",
       "  color: #000000;\n",
       "}\n",
       "#T_c5a12_row10_col5 {\n",
       "  background-color: #a5dcb7;\n",
       "  color: #000000;\n",
       "}\n",
       "#T_c5a12_row10_col6 {\n",
       "  background-color: #73c8bd;\n",
       "  color: #000000;\n",
       "}\n",
       "#T_c5a12_row11_col2 {\n",
       "  background-color: #d1edb3;\n",
       "  color: #000000;\n",
       "}\n",
       "#T_c5a12_row11_col3 {\n",
       "  background-color: #c2e7b4;\n",
       "  color: #000000;\n",
       "}\n",
       "#T_c5a12_row11_col4 {\n",
       "  background-color: #eef8b3;\n",
       "  color: #000000;\n",
       "}\n",
       "#T_c5a12_row11_col5 {\n",
       "  background-color: #d7efb3;\n",
       "  color: #000000;\n",
       "}\n",
       "#T_c5a12_row11_col6 {\n",
       "  background-color: #daf0b3;\n",
       "  color: #000000;\n",
       "}\n",
       "</style>\n",
       "<table id=\"T_c5a12_\">\n",
       "  <thead>\n",
       "    <tr>\n",
       "      <th class=\"col_heading level0 col0\" >Column Name</th>\n",
       "      <th class=\"col_heading level0 col1\" >Metrics</th>\n",
       "      <th class=\"col_heading level0 col2\" >0</th>\n",
       "      <th class=\"col_heading level0 col3\" >1</th>\n",
       "      <th class=\"col_heading level0 col4\" >2</th>\n",
       "      <th class=\"col_heading level0 col5\" >3</th>\n",
       "      <th class=\"col_heading level0 col6\" >Overall</th>\n",
       "    </tr>\n",
       "  </thead>\n",
       "  <tbody>\n",
       "    <tr>\n",
       "      <td id=\"T_c5a12_row0_col0\" class=\"data row0 col0\" >BALANCE</td>\n",
       "      <td id=\"T_c5a12_row0_col1\" class=\"data row0 col1\" >mean</td>\n",
       "      <td id=\"T_c5a12_row0_col2\" class=\"data row0 col2\" >3179.578265</td>\n",
       "      <td id=\"T_c5a12_row0_col3\" class=\"data row0 col3\" >4510.396290</td>\n",
       "      <td id=\"T_c5a12_row0_col4\" class=\"data row0 col4\" >563.288105</td>\n",
       "      <td id=\"T_c5a12_row0_col5\" class=\"data row0 col5\" >1237.852156</td>\n",
       "      <td id=\"T_c5a12_row0_col6\" class=\"data row0 col6\" >1587.678835</td>\n",
       "    </tr>\n",
       "    <tr>\n",
       "      <td id=\"T_c5a12_row1_col0\" class=\"data row1 col0\" >ONEOFF_PURCHASES</td>\n",
       "      <td id=\"T_c5a12_row1_col1\" class=\"data row1 col1\" >mean</td>\n",
       "      <td id=\"T_c5a12_row1_col2\" class=\"data row1 col2\" >3983.478568</td>\n",
       "      <td id=\"T_c5a12_row1_col3\" class=\"data row1 col3\" >321.916671</td>\n",
       "      <td id=\"T_c5a12_row1_col4\" class=\"data row1 col4\" >435.750000</td>\n",
       "      <td id=\"T_c5a12_row1_col5\" class=\"data row1 col5\" >297.853308</td>\n",
       "      <td id=\"T_c5a12_row1_col6\" class=\"data row1 col6\" >596.235980</td>\n",
       "    </tr>\n",
       "    <tr>\n",
       "      <td id=\"T_c5a12_row2_col0\" class=\"data row2 col0\" >INSTALLMENTS_PURCHASES</td>\n",
       "      <td id=\"T_c5a12_row2_col1\" class=\"data row2 col1\" >mean</td>\n",
       "      <td id=\"T_c5a12_row2_col2\" class=\"data row2 col2\" >2156.623273</td>\n",
       "      <td id=\"T_c5a12_row2_col3\" class=\"data row2 col3\" >197.137884</td>\n",
       "      <td id=\"T_c5a12_row2_col4\" class=\"data row2 col4\" >634.556749</td>\n",
       "      <td id=\"T_c5a12_row2_col5\" class=\"data row2 col5\" >69.783230</td>\n",
       "      <td id=\"T_c5a12_row2_col6\" class=\"data row2 col6\" >412.018042</td>\n",
       "    </tr>\n",
       "    <tr>\n",
       "      <td id=\"T_c5a12_row3_col0\" class=\"data row3 col0\" >CASH_ADVANCE</td>\n",
       "      <td id=\"T_c5a12_row3_col1\" class=\"data row3 col1\" >mean</td>\n",
       "      <td id=\"T_c5a12_row3_col2\" class=\"data row3 col2\" >651.245064</td>\n",
       "      <td id=\"T_c5a12_row3_col3\" class=\"data row3 col3\" >4714.154786</td>\n",
       "      <td id=\"T_c5a12_row3_col4\" class=\"data row3 col4\" >118.287205</td>\n",
       "      <td id=\"T_c5a12_row3_col5\" class=\"data row3 col5\" >641.403072</td>\n",
       "      <td id=\"T_c5a12_row3_col6\" class=\"data row3 col6\" >1016.055677</td>\n",
       "    </tr>\n",
       "    <tr>\n",
       "      <td id=\"T_c5a12_row4_col0\" class=\"data row4 col0\" >ONEOFF_PURCHASES_FREQUENCY</td>\n",
       "      <td id=\"T_c5a12_row4_col1\" class=\"data row4 col1\" >mean</td>\n",
       "      <td id=\"T_c5a12_row4_col2\" class=\"data row4 col2\" >0.712586</td>\n",
       "      <td id=\"T_c5a12_row4_col3\" class=\"data row4 col3\" >0.142055</td>\n",
       "      <td id=\"T_c5a12_row4_col4\" class=\"data row4 col4\" >0.215355</td>\n",
       "      <td id=\"T_c5a12_row4_col5\" class=\"data row4 col5\" >0.142731</td>\n",
       "      <td id=\"T_c5a12_row4_col6\" class=\"data row4 col6\" >0.204944</td>\n",
       "    </tr>\n",
       "    <tr>\n",
       "      <td id=\"T_c5a12_row5_col0\" class=\"data row5 col0\" >PURCHASES_INSTALLMENTS_FREQUENCY</td>\n",
       "      <td id=\"T_c5a12_row5_col1\" class=\"data row5 col1\" >mean</td>\n",
       "      <td id=\"T_c5a12_row5_col2\" class=\"data row5 col2\" >0.803681</td>\n",
       "      <td id=\"T_c5a12_row5_col3\" class=\"data row5 col3\" >0.202674</td>\n",
       "      <td id=\"T_c5a12_row5_col4\" class=\"data row5 col4\" >0.728508</td>\n",
       "      <td id=\"T_c5a12_row5_col5\" class=\"data row5 col5\" >0.098492</td>\n",
       "      <td id=\"T_c5a12_row5_col6\" class=\"data row5 col6\" >0.364966</td>\n",
       "    </tr>\n",
       "    <tr>\n",
       "      <td id=\"T_c5a12_row6_col0\" class=\"data row6 col0\" >CASH_ADVANCE_FREQUENCY</td>\n",
       "      <td id=\"T_c5a12_row6_col1\" class=\"data row6 col1\" >mean</td>\n",
       "      <td id=\"T_c5a12_row6_col2\" class=\"data row6 col2\" >0.076911</td>\n",
       "      <td id=\"T_c5a12_row6_col3\" class=\"data row6 col3\" >0.494877</td>\n",
       "      <td id=\"T_c5a12_row6_col4\" class=\"data row6 col4\" >0.024531</td>\n",
       "      <td id=\"T_c5a12_row6_col5\" class=\"data row6 col5\" >0.127939</td>\n",
       "      <td id=\"T_c5a12_row6_col6\" class=\"data row6 col6\" >0.139885</td>\n",
       "    </tr>\n",
       "    <tr>\n",
       "      <td id=\"T_c5a12_row7_col0\" class=\"data row7 col0\" >CASH_ADVANCE_TRX</td>\n",
       "      <td id=\"T_c5a12_row7_col1\" class=\"data row7 col1\" >mean</td>\n",
       "      <td id=\"T_c5a12_row7_col2\" class=\"data row7 col2\" >1.886364</td>\n",
       "      <td id=\"T_c5a12_row7_col3\" class=\"data row7 col3\" >14.928324</td>\n",
       "      <td id=\"T_c5a12_row7_col4\" class=\"data row7 col4\" >0.461027</td>\n",
       "      <td id=\"T_c5a12_row7_col5\" class=\"data row7 col5\" >2.350065</td>\n",
       "      <td id=\"T_c5a12_row7_col6\" class=\"data row7 col6\" >3.384746</td>\n",
       "    </tr>\n",
       "    <tr>\n",
       "      <td id=\"T_c5a12_row8_col0\" class=\"data row8 col0\" >PURCHASES_TRX</td>\n",
       "      <td id=\"T_c5a12_row8_col1\" class=\"data row8 col1\" >mean</td>\n",
       "      <td id=\"T_c5a12_row8_col2\" class=\"data row8 col2\" >77.402273</td>\n",
       "      <td id=\"T_c5a12_row8_col3\" class=\"data row8 col3\" >8.216185</td>\n",
       "      <td id=\"T_c5a12_row8_col4\" class=\"data row8 col4\" >19.587928</td>\n",
       "      <td id=\"T_c5a12_row8_col5\" class=\"data row8 col5\" >4.411017</td>\n",
       "      <td id=\"T_c5a12_row8_col6\" class=\"data row8 col6\" >14.807781</td>\n",
       "    </tr>\n",
       "    <tr>\n",
       "      <td id=\"T_c5a12_row9_col0\" class=\"data row9 col0\" >CREDIT_LIMIT</td>\n",
       "      <td id=\"T_c5a12_row9_col1\" class=\"data row9 col1\" >mean</td>\n",
       "      <td id=\"T_c5a12_row9_col2\" class=\"data row9 col2\" >9185.113636</td>\n",
       "      <td id=\"T_c5a12_row9_col3\" class=\"data row9 col3\" >7543.184446</td>\n",
       "      <td id=\"T_c5a12_row9_col4\" class=\"data row9 col4\" >3958.779141</td>\n",
       "      <td id=\"T_c5a12_row9_col5\" class=\"data row9 col5\" >3306.350500</td>\n",
       "      <td id=\"T_c5a12_row9_col6\" class=\"data row9 col6\" >4483.473706</td>\n",
       "    </tr>\n",
       "    <tr>\n",
       "      <td id=\"T_c5a12_row10_col0\" class=\"data row10 col0\" >PAYMENTS</td>\n",
       "      <td id=\"T_c5a12_row10_col1\" class=\"data row10 col1\" >mean</td>\n",
       "      <td id=\"T_c5a12_row10_col2\" class=\"data row10 col2\" >6013.708870</td>\n",
       "      <td id=\"T_c5a12_row10_col3\" class=\"data row10 col3\" >3862.974505</td>\n",
       "      <td id=\"T_c5a12_row10_col4\" class=\"data row10 col4\" >1178.731433</td>\n",
       "      <td id=\"T_c5a12_row10_col5\" class=\"data row10 col5\" >1027.378726</td>\n",
       "      <td id=\"T_c5a12_row10_col6\" class=\"data row10 col6\" >1793.971548</td>\n",
       "    </tr>\n",
       "    <tr>\n",
       "      <td id=\"T_c5a12_row11_col0\" class=\"data row11 col0\" >MINIMUM_PAYMENTS</td>\n",
       "      <td id=\"T_c5a12_row11_col1\" class=\"data row11 col1\" >mean</td>\n",
       "      <td id=\"T_c5a12_row11_col2\" class=\"data row11 col2\" >1999.910071</td>\n",
       "      <td id=\"T_c5a12_row11_col3\" class=\"data row11 col3\" >1947.066956</td>\n",
       "      <td id=\"T_c5a12_row11_col4\" class=\"data row11 col4\" >476.584013</td>\n",
       "      <td id=\"T_c5a12_row11_col5\" class=\"data row11 col5\" >646.531601</td>\n",
       "      <td id=\"T_c5a12_row11_col6\" class=\"data row11 col6\" >856.949987</td>\n",
       "    </tr>\n",
       "    <tr>\n",
       "      <td id=\"T_c5a12_row12_col0\" class=\"data row12 col0\" >PRC_FULL_PAYMENT</td>\n",
       "      <td id=\"T_c5a12_row12_col1\" class=\"data row12 col1\" >mean</td>\n",
       "      <td id=\"T_c5a12_row12_col2\" class=\"data row12 col2\" >0.253275</td>\n",
       "      <td id=\"T_c5a12_row12_col3\" class=\"data row12 col3\" >0.043492</td>\n",
       "      <td id=\"T_c5a12_row12_col4\" class=\"data row12 col4\" >0.368667</td>\n",
       "      <td id=\"T_c5a12_row12_col5\" class=\"data row12 col5\" >0.032902</td>\n",
       "      <td id=\"T_c5a12_row12_col6\" class=\"data row12 col6\" >0.158357</td>\n",
       "    </tr>\n",
       "    <tr>\n",
       "      <td id=\"T_c5a12_row13_col0\" class=\"data row13 col0\" >TENURE</td>\n",
       "      <td id=\"T_c5a12_row13_col1\" class=\"data row13 col1\" >mean</td>\n",
       "      <td id=\"T_c5a12_row13_col2\" class=\"data row13 col2\" >11.947727</td>\n",
       "      <td id=\"T_c5a12_row13_col3\" class=\"data row13 col3\" >11.390751</td>\n",
       "      <td id=\"T_c5a12_row13_col4\" class=\"data row13 col4\" >11.581749</td>\n",
       "      <td id=\"T_c5a12_row13_col5\" class=\"data row13 col5\" >11.461538</td>\n",
       "      <td id=\"T_c5a12_row13_col6\" class=\"data row13 col6\" >11.524162</td>\n",
       "    </tr>\n",
       "  </tbody>\n",
       "</table>\n"
      ],
      "text/plain": [
       "<pandas.io.formats.style.Styler at 0x1edd1d36408>"
      ]
     },
     "execution_count": 43,
     "metadata": {},
     "output_type": "execute_result"
    }
   ],
   "source": [
    "df_profile_overall = pd.DataFrame()\n",
    "df_profile_overall['Overall'] = train.describe().loc[['mean']].T\n",
    "\n",
    "df_cluster_summary = train.groupby('cluster').describe().T.reset_index().rename(columns={'level_0': 'Column Name', 'level_1': 'Metrics'})\n",
    "df_cluster_summary = df_cluster_summary[df_cluster_summary['Metrics'] == 'mean'].set_index('Column Name')\n",
    "\n",
    "df_profile = df_cluster_summary.join(df_profile_overall).reset_index()\n",
    "df_profile.style.background_gradient(cmap='YlGnBu').hide_index()"
   ]
  },
  {
   "cell_type": "markdown",
   "id": "9426396e",
   "metadata": {},
   "source": [
    ">- Cluster 0 merupakan nasabah kartu kredit yang aktif. Hal ini dapat dilihat dari rata-rata frekuensi one off purchases dan installments purchases yang paling tinggi daripada cluster lain, serta rata-rata balance yang cukup tinggi. Kemudian, nasabah pada cluster ini juga memiliki limit credit yang paling tinggi daripada cluster lain. Selain itu, tenure yang relatif tinggi menunjukkan bahwa credit scoring dari cluster ini baik. Oleh karena itu dapat disimpulkan bahwa nasabah pada klaster ini merupakan nasabah yang menggunakan kartu kredit untuk melakukan pembayaran secara penuh\n",
    ">- Cluster 1 merupakan nasabah kartu kredit yang memiliki rata-rata balance, cash advance, dan cash advance frequency yang paling tinggi. Selain itu, nasabah di klaster ini memiliki limit kredit dan pembayaran tertinggi kedua dari keempat klaster tersebut. Namun, pengguna kartu kredit di klaster ini jarang melakukan cicilan atau one-off purchase dan memiliki tenor paling kecil dari keempat cluster. Dengan demikian, dapat disimpulkan bahwa nasabah pada klaster ini hanya menggunakan kartu kredit untuk keperluan penarikan uang atau tarik tunai.\n",
    ">- Cluster 2 merupakan nasabah kartu kredit yang rata-rata purchases_installments frequency dan installments purchases tertinggi kedua, tetapi rata-rata frekuensi one off purchases yang relatif rendah dan rata-rata balance yang paling rendah. Ditambah lagi, nasabah pada cluster ini memiliki rata-rata frekuensi transaksi tunai di muka sangat kecil. Oleh karena itu, dapat disimpulkan bahwa nasabah pada klaster ini sangat cocok menggunakan kartu kredit untuk kebutuhan cicilan.\n",
    ">- Cluster 3 merupakan nasabah kartu kredit yang jarang menggunakan kartu kredit untuk transaksi dan cicilan. Hal ini dikarenakan nasabah memiliki saldo yang relatif kecil, cicilan yang paling ringan, dan frekuensi cicilan paling kecil. Selain itu, limit kredit yang paling rendah juga mengilustrasikan bahwa nasabah jarang menggunakan kartu kredit untuk transaksi. Rendahnya saldo memungkinkan nasabah dalam klaster ini adalah pengguna baru yang menggunakan kartu kredit di bank ini."
   ]
  },
  {
   "cell_type": "markdown",
   "id": "d70ccc2d",
   "metadata": {},
   "source": [
    "# Conclusion"
   ]
  },
  {
   "cell_type": "markdown",
   "id": "9eba8d25",
   "metadata": {},
   "source": [
    ">- Nasabah pada cluster 0 adalah nasabah yang menggunakan kartu kredit untuk melakukan pembayaran secara penuh\n",
    ">- Nasabah pada cluster 1 adalah nasabah yang menggunakan kartu kredit untuk keperluan penarikan uang secara tunai\n",
    ">- Nasabah pada cluster 2 adalah nasabah yang menggunakan kartu kredit untuk keperluan cicilan\n",
    ">- Nasabah pada cluster 3 adalah pengguna baru yang menggunakan kartu kredit di bank ini"
   ]
  }
 ],
 "metadata": {
  "kernelspec": {
   "display_name": "Python 3 (ipykernel)",
   "language": "python",
   "name": "python3"
  },
  "language_info": {
   "codemirror_mode": {
    "name": "ipython",
    "version": 3
   },
   "file_extension": ".py",
   "mimetype": "text/x-python",
   "name": "python",
   "nbconvert_exporter": "python",
   "pygments_lexer": "ipython3",
   "version": "3.7.13"
  },
  "vscode": {
   "interpreter": {
    "hash": "a077222d77dfe082b8f1dd562ad70e458ac2ab76993a0b248ab0476e32e9e8dd"
   }
  }
 },
 "nbformat": 4,
 "nbformat_minor": 5
}
