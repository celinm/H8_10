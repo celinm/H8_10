{
 "cells": [
  {
   "cell_type": "markdown",
   "metadata": {},
   "source": [
    "# Final Project 3: Ensemble"
   ]
  },
  {
   "cell_type": "markdown",
   "metadata": {},
   "source": [
    "- Celin Manongko - PYTN-KS10-018\n",
    "- Alina Florencia Karuniawati - PYTN-KS10-001\n",
    "- Nine Alvariqati Varqa Ansori - PYTN-KS10-010"
   ]
  },
  {
   "cell_type": "markdown",
   "metadata": {},
   "source": [
    "# Import Package"
   ]
  },
  {
   "cell_type": "code",
   "execution_count": 1,
   "metadata": {},
   "outputs": [],
   "source": [
    "import numpy as np\n",
    "import pandas as pd\n",
    "import matplotlib.pyplot as plt\n",
    "import seaborn as sns\n",
    "\n",
    "from sklearn.model_selection import train_test_split\n",
    "from sklearn.ensemble import RandomForestClassifier\n",
    "from sklearn import metrics\n",
    "from sklearn.metrics import classification_report, confusion_matrix\n",
    "from sklearn.ensemble import AdaBoostClassifier\n",
    "from statsmodels.stats.diagnostic import normal_ad\n",
    "\n",
    "import sys\n",
    "\n",
    "if not sys.warnoptions:\n",
    "    import warnings\n",
    "    warnings.simplefilter(\"ignore\")"
   ]
  },
  {
   "cell_type": "markdown",
   "metadata": {},
   "source": [
    "# Data Loading"
   ]
  },
  {
   "cell_type": "code",
   "execution_count": 2,
   "metadata": {},
   "outputs": [
    {
     "data": {
      "text/html": [
       "<div>\n",
       "<style scoped>\n",
       "    .dataframe tbody tr th:only-of-type {\n",
       "        vertical-align: middle;\n",
       "    }\n",
       "\n",
       "    .dataframe tbody tr th {\n",
       "        vertical-align: top;\n",
       "    }\n",
       "\n",
       "    .dataframe thead th {\n",
       "        text-align: right;\n",
       "    }\n",
       "</style>\n",
       "<table border=\"1\" class=\"dataframe\">\n",
       "  <thead>\n",
       "    <tr style=\"text-align: right;\">\n",
       "      <th></th>\n",
       "      <th>age</th>\n",
       "      <th>anaemia</th>\n",
       "      <th>creatinine_phosphokinase</th>\n",
       "      <th>diabetes</th>\n",
       "      <th>ejection_fraction</th>\n",
       "      <th>high_blood_pressure</th>\n",
       "      <th>platelets</th>\n",
       "      <th>serum_creatinine</th>\n",
       "      <th>serum_sodium</th>\n",
       "      <th>sex</th>\n",
       "      <th>smoking</th>\n",
       "      <th>time</th>\n",
       "      <th>DEATH_EVENT</th>\n",
       "    </tr>\n",
       "  </thead>\n",
       "  <tbody>\n",
       "    <tr>\n",
       "      <th>0</th>\n",
       "      <td>75.0</td>\n",
       "      <td>0</td>\n",
       "      <td>582</td>\n",
       "      <td>0</td>\n",
       "      <td>20</td>\n",
       "      <td>1</td>\n",
       "      <td>265000.00</td>\n",
       "      <td>1.9</td>\n",
       "      <td>130</td>\n",
       "      <td>1</td>\n",
       "      <td>0</td>\n",
       "      <td>4</td>\n",
       "      <td>1</td>\n",
       "    </tr>\n",
       "    <tr>\n",
       "      <th>1</th>\n",
       "      <td>55.0</td>\n",
       "      <td>0</td>\n",
       "      <td>7861</td>\n",
       "      <td>0</td>\n",
       "      <td>38</td>\n",
       "      <td>0</td>\n",
       "      <td>263358.03</td>\n",
       "      <td>1.1</td>\n",
       "      <td>136</td>\n",
       "      <td>1</td>\n",
       "      <td>0</td>\n",
       "      <td>6</td>\n",
       "      <td>1</td>\n",
       "    </tr>\n",
       "    <tr>\n",
       "      <th>2</th>\n",
       "      <td>65.0</td>\n",
       "      <td>0</td>\n",
       "      <td>146</td>\n",
       "      <td>0</td>\n",
       "      <td>20</td>\n",
       "      <td>0</td>\n",
       "      <td>162000.00</td>\n",
       "      <td>1.3</td>\n",
       "      <td>129</td>\n",
       "      <td>1</td>\n",
       "      <td>1</td>\n",
       "      <td>7</td>\n",
       "      <td>1</td>\n",
       "    </tr>\n",
       "    <tr>\n",
       "      <th>3</th>\n",
       "      <td>50.0</td>\n",
       "      <td>1</td>\n",
       "      <td>111</td>\n",
       "      <td>0</td>\n",
       "      <td>20</td>\n",
       "      <td>0</td>\n",
       "      <td>210000.00</td>\n",
       "      <td>1.9</td>\n",
       "      <td>137</td>\n",
       "      <td>1</td>\n",
       "      <td>0</td>\n",
       "      <td>7</td>\n",
       "      <td>1</td>\n",
       "    </tr>\n",
       "    <tr>\n",
       "      <th>4</th>\n",
       "      <td>65.0</td>\n",
       "      <td>1</td>\n",
       "      <td>160</td>\n",
       "      <td>1</td>\n",
       "      <td>20</td>\n",
       "      <td>0</td>\n",
       "      <td>327000.00</td>\n",
       "      <td>2.7</td>\n",
       "      <td>116</td>\n",
       "      <td>0</td>\n",
       "      <td>0</td>\n",
       "      <td>8</td>\n",
       "      <td>1</td>\n",
       "    </tr>\n",
       "    <tr>\n",
       "      <th>...</th>\n",
       "      <td>...</td>\n",
       "      <td>...</td>\n",
       "      <td>...</td>\n",
       "      <td>...</td>\n",
       "      <td>...</td>\n",
       "      <td>...</td>\n",
       "      <td>...</td>\n",
       "      <td>...</td>\n",
       "      <td>...</td>\n",
       "      <td>...</td>\n",
       "      <td>...</td>\n",
       "      <td>...</td>\n",
       "      <td>...</td>\n",
       "    </tr>\n",
       "    <tr>\n",
       "      <th>294</th>\n",
       "      <td>62.0</td>\n",
       "      <td>0</td>\n",
       "      <td>61</td>\n",
       "      <td>1</td>\n",
       "      <td>38</td>\n",
       "      <td>1</td>\n",
       "      <td>155000.00</td>\n",
       "      <td>1.1</td>\n",
       "      <td>143</td>\n",
       "      <td>1</td>\n",
       "      <td>1</td>\n",
       "      <td>270</td>\n",
       "      <td>0</td>\n",
       "    </tr>\n",
       "    <tr>\n",
       "      <th>295</th>\n",
       "      <td>55.0</td>\n",
       "      <td>0</td>\n",
       "      <td>1820</td>\n",
       "      <td>0</td>\n",
       "      <td>38</td>\n",
       "      <td>0</td>\n",
       "      <td>270000.00</td>\n",
       "      <td>1.2</td>\n",
       "      <td>139</td>\n",
       "      <td>0</td>\n",
       "      <td>0</td>\n",
       "      <td>271</td>\n",
       "      <td>0</td>\n",
       "    </tr>\n",
       "    <tr>\n",
       "      <th>296</th>\n",
       "      <td>45.0</td>\n",
       "      <td>0</td>\n",
       "      <td>2060</td>\n",
       "      <td>1</td>\n",
       "      <td>60</td>\n",
       "      <td>0</td>\n",
       "      <td>742000.00</td>\n",
       "      <td>0.8</td>\n",
       "      <td>138</td>\n",
       "      <td>0</td>\n",
       "      <td>0</td>\n",
       "      <td>278</td>\n",
       "      <td>0</td>\n",
       "    </tr>\n",
       "    <tr>\n",
       "      <th>297</th>\n",
       "      <td>45.0</td>\n",
       "      <td>0</td>\n",
       "      <td>2413</td>\n",
       "      <td>0</td>\n",
       "      <td>38</td>\n",
       "      <td>0</td>\n",
       "      <td>140000.00</td>\n",
       "      <td>1.4</td>\n",
       "      <td>140</td>\n",
       "      <td>1</td>\n",
       "      <td>1</td>\n",
       "      <td>280</td>\n",
       "      <td>0</td>\n",
       "    </tr>\n",
       "    <tr>\n",
       "      <th>298</th>\n",
       "      <td>50.0</td>\n",
       "      <td>0</td>\n",
       "      <td>196</td>\n",
       "      <td>0</td>\n",
       "      <td>45</td>\n",
       "      <td>0</td>\n",
       "      <td>395000.00</td>\n",
       "      <td>1.6</td>\n",
       "      <td>136</td>\n",
       "      <td>1</td>\n",
       "      <td>1</td>\n",
       "      <td>285</td>\n",
       "      <td>0</td>\n",
       "    </tr>\n",
       "  </tbody>\n",
       "</table>\n",
       "<p>299 rows × 13 columns</p>\n",
       "</div>"
      ],
      "text/plain": [
       "      age  anaemia  creatinine_phosphokinase  diabetes  ejection_fraction  \\\n",
       "0    75.0        0                       582         0                 20   \n",
       "1    55.0        0                      7861         0                 38   \n",
       "2    65.0        0                       146         0                 20   \n",
       "3    50.0        1                       111         0                 20   \n",
       "4    65.0        1                       160         1                 20   \n",
       "..    ...      ...                       ...       ...                ...   \n",
       "294  62.0        0                        61         1                 38   \n",
       "295  55.0        0                      1820         0                 38   \n",
       "296  45.0        0                      2060         1                 60   \n",
       "297  45.0        0                      2413         0                 38   \n",
       "298  50.0        0                       196         0                 45   \n",
       "\n",
       "     high_blood_pressure  platelets  serum_creatinine  serum_sodium  sex  \\\n",
       "0                      1  265000.00               1.9           130    1   \n",
       "1                      0  263358.03               1.1           136    1   \n",
       "2                      0  162000.00               1.3           129    1   \n",
       "3                      0  210000.00               1.9           137    1   \n",
       "4                      0  327000.00               2.7           116    0   \n",
       "..                   ...        ...               ...           ...  ...   \n",
       "294                    1  155000.00               1.1           143    1   \n",
       "295                    0  270000.00               1.2           139    0   \n",
       "296                    0  742000.00               0.8           138    0   \n",
       "297                    0  140000.00               1.4           140    1   \n",
       "298                    0  395000.00               1.6           136    1   \n",
       "\n",
       "     smoking  time  DEATH_EVENT  \n",
       "0          0     4            1  \n",
       "1          0     6            1  \n",
       "2          1     7            1  \n",
       "3          0     7            1  \n",
       "4          0     8            1  \n",
       "..       ...   ...          ...  \n",
       "294        1   270            0  \n",
       "295        0   271            0  \n",
       "296        0   278            0  \n",
       "297        1   280            0  \n",
       "298        1   285            0  \n",
       "\n",
       "[299 rows x 13 columns]"
      ]
     },
     "execution_count": 2,
     "metadata": {},
     "output_type": "execute_result"
    }
   ],
   "source": [
    "df = pd.read_csv(\"heart_failure_clinical_records_dataset.csv\")\n",
    "df"
   ]
  },
  {
   "cell_type": "markdown",
   "metadata": {},
   "source": [
    "Dataset ini terdiri dari 299 baris dan 13 kolom yang terdiri atas:\n",
    "1. age - umur pasien\n",
    "2. anaemia - apakah ada pengurangan hemoglobin (0: No, 1: Yes)\n",
    "3. creatinine_phosphokinase - level enzim CPK dalam mcg/L\n",
    "4. diabetes - apakah pasien punya riwayat diabetes (0: No, 1: Yes)\n",
    "5. ejection_fraction - persentase darah yang meninggalkan jantung dalam persentasi di setiap kontraksi jantung\n",
    "6. high_blood_pressure - apakah pasien punya darah tinggi (0: No, 1: Yes)\n",
    "7. platelets - jumlah platelet di darah dalam kiloplatelets/mL\n",
    "8. serum_creatinine - level serum creatinine di darah dalam mg/dL\n",
    "9. serum_sodium - level serum sodium di darah dalam mEq/L\n",
    "10. sex - apakah pasien pria atau wanita (Male: 1, Female: 0)\n",
    "11. smoking - apakah pasien merokok (0: No, 1: Yes)\n",
    "12. time - waktu dalam hari untuk follow-up\n",
    "13. DEATH_EVENT - apakah pasien sudah meninggal saat waktu follow-up (0: No, 1: Yes)"
   ]
  },
  {
   "cell_type": "markdown",
   "metadata": {},
   "source": [
    "# Background Analysis"
   ]
  },
  {
   "cell_type": "markdown",
   "metadata": {},
   "source": [
    "Penyakit kardiovaskular merupakan salah satu penyebab kematian nomor satu secara global. Penyakit ini telah merenggut kurang lebih 17,9 juta nyawa setiap tahunnya atau dapat dikatakan 31% dari seluruh kematian di dunia.\n",
    "\n",
    "Dalam dataset ini terdapat 12 fitur yang dapat dimanfaatkan untuk melakukan prediksi terhadap kematian akibat gagal jantung. Sebagian besar penyakit kardiovaskular dpaat dicegah dengan mengatasi faktor risiko perilaku seperti penggunaan rokok. Dalam hal ini, orang dengan penyakit kardiovaskular atau memiliki risiko terhadap jenis penyakit tersebut memerlukan deteksi dan penanganan secara dini. Oleh karena itu, dilakukan pemodelan dengan menggunakan machine learning untuk dapat memprediksi penyakit kardiovaskular."
   ]
  },
  {
   "cell_type": "markdown",
   "metadata": {},
   "source": [
    "# Data Information"
   ]
  },
  {
   "cell_type": "code",
   "execution_count": 3,
   "metadata": {},
   "outputs": [
    {
     "name": "stdout",
     "output_type": "stream",
     "text": [
      "<class 'pandas.core.frame.DataFrame'>\n",
      "RangeIndex: 299 entries, 0 to 298\n",
      "Data columns (total 13 columns):\n",
      " #   Column                    Non-Null Count  Dtype  \n",
      "---  ------                    --------------  -----  \n",
      " 0   age                       299 non-null    float64\n",
      " 1   anaemia                   299 non-null    int64  \n",
      " 2   creatinine_phosphokinase  299 non-null    int64  \n",
      " 3   diabetes                  299 non-null    int64  \n",
      " 4   ejection_fraction         299 non-null    int64  \n",
      " 5   high_blood_pressure       299 non-null    int64  \n",
      " 6   platelets                 299 non-null    float64\n",
      " 7   serum_creatinine          299 non-null    float64\n",
      " 8   serum_sodium              299 non-null    int64  \n",
      " 9   sex                       299 non-null    int64  \n",
      " 10  smoking                   299 non-null    int64  \n",
      " 11  time                      299 non-null    int64  \n",
      " 12  DEATH_EVENT               299 non-null    int64  \n",
      "dtypes: float64(3), int64(10)\n",
      "memory usage: 30.5 KB\n"
     ]
    }
   ],
   "source": [
    "df.info()"
   ]
  },
  {
   "cell_type": "markdown",
   "metadata": {},
   "source": [
    "Berdasarkan informasi di atas dapat dilihat bahwa tiap kolom telah memiliki tipe data yang sesuai"
   ]
  },
  {
   "cell_type": "markdown",
   "metadata": {},
   "source": [
    "# Check Duplicated Data"
   ]
  },
  {
   "cell_type": "code",
   "execution_count": 4,
   "metadata": {},
   "outputs": [
    {
     "data": {
      "text/plain": [
       "0"
      ]
     },
     "execution_count": 4,
     "metadata": {},
     "output_type": "execute_result"
    }
   ],
   "source": [
    "df.duplicated().sum()"
   ]
  },
  {
   "cell_type": "markdown",
   "metadata": {},
   "source": [
    "Berdasarkan pengecekan di atas, tidak ada data yang duplikat"
   ]
  },
  {
   "cell_type": "markdown",
   "metadata": {},
   "source": [
    "# Check Missing Values"
   ]
  },
  {
   "cell_type": "code",
   "execution_count": 5,
   "metadata": {},
   "outputs": [
    {
     "name": "stdout",
     "output_type": "stream",
     "text": [
      "Nilai unik dalam kolom:  AGE\n",
      "[75.    55.    65.    50.    90.    60.    80.    62.    45.    49.\n",
      " 82.    87.    70.    48.    68.    53.    95.    58.    94.    85.\n",
      " 69.    72.    51.    57.    42.    41.    67.    79.    59.    44.\n",
      " 63.    86.    66.    43.    46.    61.    81.    52.    64.    40.\n",
      " 60.667 73.    77.    78.    54.    47.    56.   ]\n",
      "Nilai unik dalam kolom:  ANAEMIA\n",
      "[0 1]\n",
      "Nilai unik dalam kolom:  CREATININE_PHOSPHOKINASE\n",
      "[ 582 7861  146  111  160   47  246  315  157  123   81  231  981  168\n",
      "   80  379  149  125   52  128  220   63  148  112  122   60   70   23\n",
      "  249  159   94  855 2656  235  124  571  127  588 1380  553  129  577\n",
      "   91 3964   69  260  371   75  607  789  364 7702  318  109   68  250\n",
      "  110  161  113 5882  224   92  102  203  336   76   55  280   78   84\n",
      "  115   66  897  154  144  133  514   59  156   61  305  898 5209   53\n",
      "  328  748 1876  936  292  369  143  754  400   96  737  358  200  248\n",
      "  270 1808 1082  719  193 4540  646  281 1548  805  291  482  943  185\n",
      "  132 1610 2261  233   30 1846  335   58  910   72  130 2334 2442  776\n",
      "  196  835 3966  171  198   95 1419  478  176  395   99  145  104 1896\n",
      "  151  244   62  121  418  167 1211 1767  308   97   64  101  212 2281\n",
      "  972  131  135 1202  427 1021  118   86  675   57 2794   56  211  166\n",
      "   93  707  119  232  720  180   90 1185 2017  624  207 2522  572  245\n",
      "   88  446  191  326  655  258  298 1199  213  257  618 1051 2695 1688\n",
      "   54  170  253  892  337  615  320  190  103 1820 2060 2413]\n",
      "Nilai unik dalam kolom:  DIABETES\n",
      "[0 1]\n",
      "Nilai unik dalam kolom:  EJECTION_FRACTION\n",
      "[20 38 40 15 60 65 35 25 30 50 14 55 45 62 80 17 70]\n",
      "Nilai unik dalam kolom:  HIGH_BLOOD_PRESSURE\n",
      "[1 0]\n",
      "Nilai unik dalam kolom:  PLATELETS\n",
      "[265000.   263358.03 162000.   210000.   327000.   204000.   127000.\n",
      " 454000.   388000.   368000.   253000.   136000.   276000.   427000.\n",
      "  47000.   262000.   166000.   237000.    87000.   297000.   289000.\n",
      " 149000.   196000.   284000.   153000.   200000.   360000.   319000.\n",
      " 302000.   188000.   228000.   226000.   321000.   305000.   329000.\n",
      " 185000.   218000.   194000.   310000.   271000.   451000.   140000.\n",
      " 395000.   418000.   351000.   255000.   461000.   223000.   216000.\n",
      " 254000.   390000.   385000.   119000.   213000.   274000.   244000.\n",
      " 497000.   374000.   122000.   243000.   266000.   317000.   283000.\n",
      " 324000.   293000.   172000.   406000.   173000.   304000.   235000.\n",
      " 181000.   249000.   219000.   318000.   221000.   298000.   286000.\n",
      " 621000.   263000.   850000.   306000.   252000.   328000.   164000.\n",
      " 507000.   203000.   217000.   300000.   267000.   227000.   250000.\n",
      " 295000.   231000.   211000.   348000.   229000.   338000.   242000.\n",
      " 225000.   184000.   277000.   362000.   174000.   448000.    75000.\n",
      " 334000.   192000.   220000.    70000.   270000.   325000.   176000.\n",
      " 189000.   281000.   337000.   105000.   132000.   279000.   303000.\n",
      " 224000.   389000.   365000.   201000.   275000.   350000.   309000.\n",
      " 260000.   160000.   126000.   259000.    73000.   377000.   212000.\n",
      " 186000.   268000.   147000.   481000.   290000.   358000.   151000.\n",
      " 371000.   130000.   504000.   141000.    62000.   330000.   248000.\n",
      " 257000.   533000.   264000.   282000.   314000.   246000.   301000.\n",
      " 404000.   236000.   294000.   233000.   308000.   198000.   208000.\n",
      " 133000.   222000.   215000.   150000.   422000.    25100.   232000.\n",
      " 241000.    51000.   336000.   543000.   382000.   179000.   155000.\n",
      " 742000.  ]\n",
      "Nilai unik dalam kolom:  SERUM_CREATININE\n",
      "[1.9  1.1  1.3  2.7  2.1  1.2  1.5  9.4  4.   0.9  1.   0.8  1.6  1.83\n",
      " 5.8  3.   3.5  2.3  0.6  4.4  1.4  6.8  2.2  2.   1.18 2.9  0.7  1.7\n",
      " 2.5  1.8  3.2  0.75 3.7  3.4  6.1  2.4  9.   5.   0.5  3.8 ]\n",
      "Nilai unik dalam kolom:  SERUM_SODIUM\n",
      "[130 136 129 137 116 132 131 138 133 140 127 121 135 134 144 128 145 142\n",
      " 139 146 141 143 126 124 113 125 148]\n",
      "Nilai unik dalam kolom:  SEX\n",
      "[1 0]\n",
      "Nilai unik dalam kolom:  SMOKING\n",
      "[0 1]\n",
      "Nilai unik dalam kolom:  TIME\n",
      "[  4   6   7   8  10  11  12  13  14  15  16  20  22  23  24  26  27  28\n",
      "  29  30  31  32  33  35  38  40  41  42  43  44  45  50  54  55  59  60\n",
      "  61  63  64  65  66  67  68  71  72  73  74  75  76  77  78  79  80  82\n",
      "  83  85  86  87  88  90  91  94  95  96  97 100 104 105 106 107 108 109\n",
      " 110 111 112 113 115 117 118 119 120 121 123 126 129 130 134 135 140 145\n",
      " 146 147 148 150 154 162 170 171 172 174 175 180 185 186 187 188 192 193\n",
      " 194 195 196 197 198 200 201 205 206 207 208 209 210 211 212 213 214 215\n",
      " 216 220 230 231 233 235 237 240 241 244 245 246 247 250 256 257 258 270\n",
      " 271 278 280 285]\n",
      "Nilai unik dalam kolom:  DEATH_EVENT\n",
      "[1 0]\n"
     ]
    }
   ],
   "source": [
    "for col in df:\n",
    "    print(\"Nilai unik dalam kolom: \", col.upper())\n",
    "    print(df[col].unique())"
   ]
  },
  {
   "cell_type": "markdown",
   "metadata": {},
   "source": [
    "Berdasarkan pengecekan nilai unique di setiap kolom tidak terdapat data yang bernilai aneh"
   ]
  },
  {
   "cell_type": "code",
   "execution_count": 6,
   "metadata": {},
   "outputs": [
    {
     "data": {
      "text/plain": [
       "age                         0\n",
       "anaemia                     0\n",
       "creatinine_phosphokinase    0\n",
       "diabetes                    0\n",
       "ejection_fraction           0\n",
       "high_blood_pressure         0\n",
       "platelets                   0\n",
       "serum_creatinine            0\n",
       "serum_sodium                0\n",
       "sex                         0\n",
       "smoking                     0\n",
       "time                        0\n",
       "DEATH_EVENT                 0\n",
       "dtype: int64"
      ]
     },
     "execution_count": 6,
     "metadata": {},
     "output_type": "execute_result"
    }
   ],
   "source": [
    "df.isnull().sum()"
   ]
  },
  {
   "cell_type": "markdown",
   "metadata": {},
   "source": [
    "Dari pengecekan di atas tidak terdapat missing values"
   ]
  },
  {
   "cell_type": "markdown",
   "metadata": {},
   "source": [
    "# Descriptive Statistics"
   ]
  },
  {
   "cell_type": "code",
   "execution_count": 7,
   "metadata": {},
   "outputs": [
    {
     "data": {
      "text/html": [
       "<div>\n",
       "<style scoped>\n",
       "    .dataframe tbody tr th:only-of-type {\n",
       "        vertical-align: middle;\n",
       "    }\n",
       "\n",
       "    .dataframe tbody tr th {\n",
       "        vertical-align: top;\n",
       "    }\n",
       "\n",
       "    .dataframe thead th {\n",
       "        text-align: right;\n",
       "    }\n",
       "</style>\n",
       "<table border=\"1\" class=\"dataframe\">\n",
       "  <thead>\n",
       "    <tr style=\"text-align: right;\">\n",
       "      <th></th>\n",
       "      <th>age</th>\n",
       "      <th>anaemia</th>\n",
       "      <th>creatinine_phosphokinase</th>\n",
       "      <th>diabetes</th>\n",
       "      <th>ejection_fraction</th>\n",
       "      <th>high_blood_pressure</th>\n",
       "      <th>platelets</th>\n",
       "      <th>serum_creatinine</th>\n",
       "      <th>serum_sodium</th>\n",
       "      <th>sex</th>\n",
       "      <th>smoking</th>\n",
       "      <th>time</th>\n",
       "      <th>DEATH_EVENT</th>\n",
       "    </tr>\n",
       "  </thead>\n",
       "  <tbody>\n",
       "    <tr>\n",
       "      <th>count</th>\n",
       "      <td>299.000000</td>\n",
       "      <td>299.000000</td>\n",
       "      <td>299.000000</td>\n",
       "      <td>299.000000</td>\n",
       "      <td>299.000000</td>\n",
       "      <td>299.000000</td>\n",
       "      <td>299.000000</td>\n",
       "      <td>299.00000</td>\n",
       "      <td>299.000000</td>\n",
       "      <td>299.000000</td>\n",
       "      <td>299.00000</td>\n",
       "      <td>299.000000</td>\n",
       "      <td>299.00000</td>\n",
       "    </tr>\n",
       "    <tr>\n",
       "      <th>mean</th>\n",
       "      <td>60.833893</td>\n",
       "      <td>0.431438</td>\n",
       "      <td>581.839465</td>\n",
       "      <td>0.418060</td>\n",
       "      <td>38.083612</td>\n",
       "      <td>0.351171</td>\n",
       "      <td>263358.029264</td>\n",
       "      <td>1.39388</td>\n",
       "      <td>136.625418</td>\n",
       "      <td>0.648829</td>\n",
       "      <td>0.32107</td>\n",
       "      <td>130.260870</td>\n",
       "      <td>0.32107</td>\n",
       "    </tr>\n",
       "    <tr>\n",
       "      <th>std</th>\n",
       "      <td>11.894809</td>\n",
       "      <td>0.496107</td>\n",
       "      <td>970.287881</td>\n",
       "      <td>0.494067</td>\n",
       "      <td>11.834841</td>\n",
       "      <td>0.478136</td>\n",
       "      <td>97804.236869</td>\n",
       "      <td>1.03451</td>\n",
       "      <td>4.412477</td>\n",
       "      <td>0.478136</td>\n",
       "      <td>0.46767</td>\n",
       "      <td>77.614208</td>\n",
       "      <td>0.46767</td>\n",
       "    </tr>\n",
       "    <tr>\n",
       "      <th>min</th>\n",
       "      <td>40.000000</td>\n",
       "      <td>0.000000</td>\n",
       "      <td>23.000000</td>\n",
       "      <td>0.000000</td>\n",
       "      <td>14.000000</td>\n",
       "      <td>0.000000</td>\n",
       "      <td>25100.000000</td>\n",
       "      <td>0.50000</td>\n",
       "      <td>113.000000</td>\n",
       "      <td>0.000000</td>\n",
       "      <td>0.00000</td>\n",
       "      <td>4.000000</td>\n",
       "      <td>0.00000</td>\n",
       "    </tr>\n",
       "    <tr>\n",
       "      <th>25%</th>\n",
       "      <td>51.000000</td>\n",
       "      <td>0.000000</td>\n",
       "      <td>116.500000</td>\n",
       "      <td>0.000000</td>\n",
       "      <td>30.000000</td>\n",
       "      <td>0.000000</td>\n",
       "      <td>212500.000000</td>\n",
       "      <td>0.90000</td>\n",
       "      <td>134.000000</td>\n",
       "      <td>0.000000</td>\n",
       "      <td>0.00000</td>\n",
       "      <td>73.000000</td>\n",
       "      <td>0.00000</td>\n",
       "    </tr>\n",
       "    <tr>\n",
       "      <th>50%</th>\n",
       "      <td>60.000000</td>\n",
       "      <td>0.000000</td>\n",
       "      <td>250.000000</td>\n",
       "      <td>0.000000</td>\n",
       "      <td>38.000000</td>\n",
       "      <td>0.000000</td>\n",
       "      <td>262000.000000</td>\n",
       "      <td>1.10000</td>\n",
       "      <td>137.000000</td>\n",
       "      <td>1.000000</td>\n",
       "      <td>0.00000</td>\n",
       "      <td>115.000000</td>\n",
       "      <td>0.00000</td>\n",
       "    </tr>\n",
       "    <tr>\n",
       "      <th>75%</th>\n",
       "      <td>70.000000</td>\n",
       "      <td>1.000000</td>\n",
       "      <td>582.000000</td>\n",
       "      <td>1.000000</td>\n",
       "      <td>45.000000</td>\n",
       "      <td>1.000000</td>\n",
       "      <td>303500.000000</td>\n",
       "      <td>1.40000</td>\n",
       "      <td>140.000000</td>\n",
       "      <td>1.000000</td>\n",
       "      <td>1.00000</td>\n",
       "      <td>203.000000</td>\n",
       "      <td>1.00000</td>\n",
       "    </tr>\n",
       "    <tr>\n",
       "      <th>max</th>\n",
       "      <td>95.000000</td>\n",
       "      <td>1.000000</td>\n",
       "      <td>7861.000000</td>\n",
       "      <td>1.000000</td>\n",
       "      <td>80.000000</td>\n",
       "      <td>1.000000</td>\n",
       "      <td>850000.000000</td>\n",
       "      <td>9.40000</td>\n",
       "      <td>148.000000</td>\n",
       "      <td>1.000000</td>\n",
       "      <td>1.00000</td>\n",
       "      <td>285.000000</td>\n",
       "      <td>1.00000</td>\n",
       "    </tr>\n",
       "  </tbody>\n",
       "</table>\n",
       "</div>"
      ],
      "text/plain": [
       "              age     anaemia  creatinine_phosphokinase    diabetes  \\\n",
       "count  299.000000  299.000000                299.000000  299.000000   \n",
       "mean    60.833893    0.431438                581.839465    0.418060   \n",
       "std     11.894809    0.496107                970.287881    0.494067   \n",
       "min     40.000000    0.000000                 23.000000    0.000000   \n",
       "25%     51.000000    0.000000                116.500000    0.000000   \n",
       "50%     60.000000    0.000000                250.000000    0.000000   \n",
       "75%     70.000000    1.000000                582.000000    1.000000   \n",
       "max     95.000000    1.000000               7861.000000    1.000000   \n",
       "\n",
       "       ejection_fraction  high_blood_pressure      platelets  \\\n",
       "count         299.000000           299.000000     299.000000   \n",
       "mean           38.083612             0.351171  263358.029264   \n",
       "std            11.834841             0.478136   97804.236869   \n",
       "min            14.000000             0.000000   25100.000000   \n",
       "25%            30.000000             0.000000  212500.000000   \n",
       "50%            38.000000             0.000000  262000.000000   \n",
       "75%            45.000000             1.000000  303500.000000   \n",
       "max            80.000000             1.000000  850000.000000   \n",
       "\n",
       "       serum_creatinine  serum_sodium         sex    smoking        time  \\\n",
       "count         299.00000    299.000000  299.000000  299.00000  299.000000   \n",
       "mean            1.39388    136.625418    0.648829    0.32107  130.260870   \n",
       "std             1.03451      4.412477    0.478136    0.46767   77.614208   \n",
       "min             0.50000    113.000000    0.000000    0.00000    4.000000   \n",
       "25%             0.90000    134.000000    0.000000    0.00000   73.000000   \n",
       "50%             1.10000    137.000000    1.000000    0.00000  115.000000   \n",
       "75%             1.40000    140.000000    1.000000    1.00000  203.000000   \n",
       "max             9.40000    148.000000    1.000000    1.00000  285.000000   \n",
       "\n",
       "       DEATH_EVENT  \n",
       "count    299.00000  \n",
       "mean       0.32107  \n",
       "std        0.46767  \n",
       "min        0.00000  \n",
       "25%        0.00000  \n",
       "50%        0.00000  \n",
       "75%        1.00000  \n",
       "max        1.00000  "
      ]
     },
     "execution_count": 7,
     "metadata": {},
     "output_type": "execute_result"
    }
   ],
   "source": [
    "df.describe()"
   ]
  },
  {
   "cell_type": "markdown",
   "metadata": {},
   "source": [
    "- Rata-rata umur pasien yang mengidap penyakit jantung adalah 60.8 tahun. Pasien penyakit jantung yang paling muda berumur 40 tahun, sedangkan yang paling tua berumur 95 tahun. \n",
    "- Rata-rata level enzim CPK pasien adalah sebesar 581.84 mcg/L. Level enzim CPK pasien yang paling rendah bernilai sebesar 23 mcg/L. Sementara itu, level enzim CPK yang paling tinggi berada di angka 7861 mcg/L.\n",
    "- Rata-rata persentase darah yang meninggalkan jantung di setiap kontraksi jantung pada pasien adalah sebesar 38.08%. Persentase darah yang meninggalkan jantung di setiap kontraksi jantung pada pasien yang paling rendah adalah sebesar 14%, sedangkan yang paling tinggi bernilai sebesar 80%.\n",
    "- Rata-rata jumlah platelet di darah pasien adalah sebesar 263358.029264 kiloplatelets/mL. Jumlah platelet di daerah pasien yang paling rendah adalah sebesar 25100 kiloplatelets/ml. Sementara itu, jumlah platelet yang paling tinggi adalh sebesar 850000.\n",
    "- Rata-rata level serum creatinine di dalam darah pasien penyakit jantung adalah sebesar 1.39 mg/dL. Jumlah serum creatinine di dalam darah pasien yang paling rendah adalah sebesar 0.5, sedangkan yang paling tinggi adalah sebesar 9.4.\n",
    "- Rata-rata serum sodium di dalam darah pasien penyakit jantung adalah sebesar 136.62 mEq/L. Jumlah serum sodium yang paling rendah di dalam daerah pasien adalah sebesar 113 mEq/L. Sedangkan, jumlah serum sodium yang paling tinggi adalah sebesar 148 mEq/L.\n",
    "- Rata-rata waktu follow up pasien penyakit jantung adalah sebesar 130.26 hari. Waktu paling cepat untuk follow up pasien penyakit jantung adalah dalam 4 hari. Sementara itu, waktu follow up pasien penyakit jantung yang paling lama adalah dalam 285 hari."
   ]
  },
  {
   "cell_type": "markdown",
   "metadata": {},
   "source": [
    "# Exploratory Data Analysis"
   ]
  },
  {
   "cell_type": "markdown",
   "metadata": {},
   "source": [
    "## Proportion of Smoking Patient, Patient Gender, and Patient who has disease"
   ]
  },
  {
   "cell_type": "code",
   "execution_count": 8,
   "metadata": {},
   "outputs": [
    {
     "data": {
      "image/png": "[encoded data removed]",
      "text/plain": [
       "<Figure size 1440x1080 with 6 Axes>"
      ]
     },
     "metadata": {},
     "output_type": "display_data"
    }
   ],
   "source": [
    "fig = plt.figure(figsize=(20, 15))\n",
    "fig.subplots_adjust(hspace=.1, wspace=.1)\n",
    "\n",
    "ax = fig.add_subplot(3,2,1)\n",
    "df.sex.value_counts().plot(kind='pie',autopct='%.2f')\n",
    "plt.ylabel('')\n",
    "ax.set_title('Patient Gender')\n",
    "\n",
    "ax = fig.add_subplot(3,2,2)\n",
    "df.DEATH_EVENT.value_counts().plot(kind='pie',autopct='%.2f')\n",
    "plt.ylabel('')\n",
    "ax.set_title('Did the patient die during follow-up?')\n",
    "\n",
    "ax = fig.add_subplot(3,2,3)\n",
    "df.smoking.value_counts().plot(kind='pie',autopct='%.2f')\n",
    "plt.ylabel('')\n",
    "ax.set_title('Does the Patient Smoke?')\n",
    "\n",
    "ax = fig.add_subplot(3,2,4)\n",
    "df.high_blood_pressure.value_counts().plot(kind='pie',autopct='%.2f')\n",
    "plt.ylabel('')\n",
    "ax.set_title('Does the Patient has High Blood Pressure?')\n",
    "\n",
    "ax = fig.add_subplot(3,2,5)\n",
    "df.diabetes.value_counts().plot(kind='pie',autopct='%.2f')\n",
    "plt.ylabel('')\n",
    "ax.set_title('Does the Patient has Diabetes?')\n",
    "\n",
    "ax = fig.add_subplot(3,2,6)\n",
    "df.anaemia.value_counts().plot(kind='pie',autopct='%.2f')\n",
    "plt.ylabel('')\n",
    "ax.set_title('Does the Patient has Anaemia?')\n",
    "\n",
    "plt.show()"
   ]
  },
  {
   "cell_type": "markdown",
   "metadata": {},
   "source": [
    "Berdasarkan pie chart di atas dapat ditarik beberapa insight: \n",
    "- Pasien penyakit jantung sebagian besar berjenis kelamin laki-laki dengan persentase sebesar 64.88%\n",
    "- Sebagian besar pasien penyakit jantung tidak memiliki memiliki riwayat merokok dengan persentase sebesar 67.89%\n",
    "- Pasien penyakit jantung yang memiliki riwayat diabetes memiliki persentase yang lebih kecil (41.81%) daripada pasien penyakit jantung yang tidak memiliki riwayat diabetes (58.19%)\n",
    "- Pasien penyakit jantung yang sudah meninggal saat waktu follow-up proporsinya cukup kecil, yaitu sebesar 32.11%\n",
    "- Sebagian besar pasien penyakit jantung tidak memiliki penyakit darah tinggi, dengan persentase sebesar 64.88%\n",
    "- Pasien penyakit jantung yang mengalami pengurangan hemoglobin persentasenya bernilai sebesar 43.14%."
   ]
  },
  {
   "cell_type": "markdown",
   "metadata": {},
   "source": [
    "## Proportion of Age"
   ]
  },
  {
   "cell_type": "code",
   "execution_count": 9,
   "metadata": {},
   "outputs": [],
   "source": [
    "def age_category(age):\n",
    "    if age <= 40:\n",
    "        return \"0-40\"\n",
    "    elif age > 40 and age <= 50:\n",
    "        return \"40-50\"\n",
    "    elif age > 50 and age <= 60:\n",
    "        return \"50-60\"\n",
    "    elif age > 60:\n",
    "        return \"60+\"\n",
    "    \n",
    "df['age category'] = df['age'].apply(age_category)"
   ]
  },
  {
   "cell_type": "code",
   "execution_count": 10,
   "metadata": {},
   "outputs": [
    {
     "data": {
      "image/png": "[encoded data removed]",
      "text/plain": [
       "<Figure size 432x288 with 1 Axes>"
      ]
     },
     "metadata": {},
     "output_type": "display_data"
    }
   ],
   "source": [
    "label = ['60+','50-60','40-50','0-40']\n",
    "\n",
    "plt.pie(df['age category'].value_counts(), labels = label, autopct='%1.1f%%', pctdistance=0.5)\n",
    "\n",
    "center_circle = plt.Circle((0,0),0.70, fc='white')\n",
    "\n",
    "fig = plt.gcf()\n",
    "\n",
    "fig.gca().add_artist(center_circle)\n",
    "\n",
    "plt.title(\"Proportion of Ages Category\")\n",
    "\n",
    "plt.show()"
   ]
  },
  {
   "cell_type": "markdown",
   "metadata": {},
   "source": [
    "45.8% pasien penyakit jantung berasal dari orang-orang yang tergolong pada kelompok umur 60+ atau dapat dikatakan sebagian besar pasien penyakit jantung merupakan lansia"
   ]
  },
  {
   "cell_type": "markdown",
   "metadata": {},
   "source": [
    "## Scatter Plot of Age vs Creatinine Phosphokinase, Ejection Fraction, Platelets, Serum Creatinine, Serum Sodium"
   ]
  },
  {
   "cell_type": "code",
   "execution_count": 11,
   "metadata": {},
   "outputs": [
    {
     "data": {
      "image/png": "[encoded data removed]",
      "text/plain": [
       "<Figure size 1440x1080 with 5 Axes>"
      ]
     },
     "metadata": {
      "needs_background": "light"
     },
     "output_type": "display_data"
    }
   ],
   "source": [
    "fig = plt.figure(figsize=(20, 15))\n",
    "fig.subplots_adjust(hspace=.5, wspace=.5)\n",
    "\n",
    "ax = fig.add_subplot(3,2,1)\n",
    "plt.scatter(df.age,df.creatinine_phosphokinase)\n",
    "plt.ylabel('creatinine_phosphokinase')\n",
    "plt.xlabel('age')\n",
    "ax.set_title(\"Scatter Plot of Age vs Creatinine Phosphokinase\", fontsize=10)\n",
    "\n",
    "ax = fig.add_subplot(3,2,2)\n",
    "plt.scatter(df.age,df.ejection_fraction)\n",
    "plt.ylabel('ejection_fraction')\n",
    "plt.xlabel('age')\n",
    "ax.set_title(\"Scatter Plot of Age vs Ejection Fraction\", fontsize=10)\n",
    "\n",
    "ax = fig.add_subplot(3,2,3)\n",
    "plt.scatter(df.age,df.platelets)\n",
    "plt.ylabel('platelets')\n",
    "plt.xlabel('age')\n",
    "ax.set_title(\"Scatter Plot of Age vs Platelets\", fontsize=10)\n",
    "\n",
    "ax = fig.add_subplot(3,2,4)\n",
    "plt.scatter( df.age,df.serum_creatinine)\n",
    "plt.ylabel('serum_creatinine')\n",
    "plt.xlabel('age')\n",
    "ax.set_title(\"Scatter Plot of Age vs Serum Creatinine\", fontsize=10)\n",
    "\n",
    "ax = fig.add_subplot(3,2,5)\n",
    "plt.scatter( df.age,df.serum_sodium)\n",
    "plt.ylabel('serum_sodium')\n",
    "plt.xlabel('age')\n",
    "ax.set_title(\"Scatter Plot of Age vs Serum Sodium\", fontsize=10)\n",
    "\n",
    "plt.show()"
   ]
  },
  {
   "cell_type": "markdown",
   "metadata": {},
   "source": [
    "Tidak terdapat hubungan linear antara umur dengan creatine phospokinase, serum creatinine, ejection fraction, platelets, dan serum sodium."
   ]
  },
  {
   "cell_type": "markdown",
   "metadata": {},
   "source": [
    "## Diseases Trend based on Ages"
   ]
  },
  {
   "cell_type": "code",
   "execution_count": 12,
   "metadata": {},
   "outputs": [
    {
     "data": {
      "image/png": "[encoded data removed]",
      "text/plain": [
       "<Figure size 1440x432 with 1 Axes>"
      ]
     },
     "metadata": {
      "needs_background": "light"
     },
     "output_type": "display_data"
    },
    {
     "data": {
      "image/png": "[encoded data removed]",
      "text/plain": [
       "<Figure size 1440x432 with 1 Axes>"
      ]
     },
     "metadata": {
      "needs_background": "light"
     },
     "output_type": "display_data"
    },
    {
     "data": {
      "image/png": "[encoded data removed]",
      "text/plain": [
       "<Figure size 1440x432 with 1 Axes>"
      ]
     },
     "metadata": {
      "needs_background": "light"
     },
     "output_type": "display_data"
    }
   ],
   "source": [
    "pd.crosstab(df.age,df.diabetes).plot(kind=\"line\",figsize=(20,6),color= ['blue','red'])\n",
    "plt.title('Diabetes Frequency for Ages')\n",
    "plt.xlabel('Age')\n",
    "plt.ylabel('Frequency')\n",
    "\n",
    "pd.crosstab(df.age,df.high_blood_pressure).plot(kind=\"line\",figsize=(20,6),color= ['blue','red'])\n",
    "plt.title('High Blood Pressure Frequency for Ages')\n",
    "plt.xlabel('Age')\n",
    "plt.ylabel('Frequency')\n",
    "\n",
    "pd.crosstab(df.age,df.anaemia).plot(kind=\"line\",figsize=(20,6),color= ['blue','red'])\n",
    "plt.title('Anaemia for Ages')\n",
    "plt.xlabel('Age')\n",
    "plt.ylabel('Frequency')\n",
    "\n",
    "plt.show()"
   ]
  },
  {
   "cell_type": "markdown",
   "metadata": {},
   "source": [
    "Dari line chart di atas dapat ditarik beberapa insight:\n",
    "- Pasien penyakit jantung yang memiliki penyakit diabetes paling banyak adalah pasien yang berusia 60 tahun\n",
    "- Pasien penyakit jantung yang memiliki tekanan darah tinggi paling banyak adalah pasien yang berusia 70 tahun\n",
    "- Pasien penyakit jantung yang memiliki penyakit anemia (kekurangan darah) paling banyak adalah pasien yang berusia 60 tahun"
   ]
  },
  {
   "cell_type": "markdown",
   "metadata": {},
   "source": [
    "## Age Category vs Death Event"
   ]
  },
  {
   "cell_type": "code",
   "execution_count": 13,
   "metadata": {},
   "outputs": [],
   "source": [
    "df6gr = df[['age category','DEATH_EVENT']].groupby(['age category', 'DEATH_EVENT']).agg({'DEATH_EVENT': 'count'})"
   ]
  },
  {
   "cell_type": "code",
   "execution_count": 14,
   "metadata": {
    "scrolled": true
   },
   "outputs": [
    {
     "data": {
      "image/png": "[encoded data removed]",
      "text/plain": [
       "<Figure size 432x288 with 1 Axes>"
      ]
     },
     "metadata": {
      "needs_background": "light"
     },
     "output_type": "display_data"
    }
   ],
   "source": [
    "df6gr.unstack().plot(kind='bar')\n",
    "plt.legend(['DEATH_EVENT 0','DEATH_EVENT 1'])\n",
    "plt.title('Age Category vs Death Event')\n",
    "plt.show()"
   ]
  },
  {
   "cell_type": "markdown",
   "metadata": {},
   "source": [
    "Pasien yang paling banyak meninggal ketika follow up adalah pasien yang berusia 60 tahun ke atas"
   ]
  },
  {
   "cell_type": "markdown",
   "metadata": {},
   "source": [
    "## Distribution of Numerical Column"
   ]
  },
  {
   "cell_type": "code",
   "execution_count": 15,
   "metadata": {},
   "outputs": [
    {
     "data": {
      "image/png": "[encoded data removed]",
      "text/plain": [
       "<Figure size 1440x936 with 7 Axes>"
      ]
     },
     "metadata": {
      "needs_background": "light"
     },
     "output_type": "display_data"
    }
   ],
   "source": [
    "numerical = ['age', 'creatinine_phosphokinase', 'ejection_fraction', 'platelets', 'serum_creatinine', 'serum_sodium', 'time']\n",
    "\n",
    "fig = plt.figure(figsize=(20,13))\n",
    "for i in range(len(numerical)):\n",
    "    plt.subplot(3,3,i+1)\n",
    "    sns.distplot(df[numerical[i]])"
   ]
  },
  {
   "cell_type": "markdown",
   "metadata": {},
   "source": [
    "Berdasarkan visualisasi di atas dapat ditarik beberapa insight:\n",
    "- Distribusi dari umur pasien tidak tergolong symmetric\n",
    "- Distribusi dari creatinine phospokinase tergolong right skewed\n",
    "- Distribusi dari ejection fraction tidak tergolong symmetric\n",
    "- Distribusi dari platelets tidak tergolong symmetric\n",
    "- Distribusi dari serum_creatinine tergolong right skewed\n",
    "- Distribusi dari serum_sodium tergolong left skewed\n",
    "- Distribusi dari time tergolong bimodal"
   ]
  },
  {
   "cell_type": "markdown",
   "metadata": {},
   "source": [
    "$H_0$ : **`Umur pasien berdistribusi normal`** <br>\n",
    "$H_1$ : **`Umur pasien tidak berdistribusi normal`** <br>\n",
    "\n",
    "$H_0$ : **`creatinine_phosphokinase berdistribusi normal`** <br>\n",
    "$H_1$ : **`creatinine_phosphokinase tidak berdistribusi normal`** <br>\n",
    "\n",
    "$H_0$ : **`ejection fraction berdistribusi normal`** <br>\n",
    "$H_1$ : **`ejection fraction tidak berdistribusi normal`** <br>\n",
    "\n",
    "$H_0$ : **`platelets berdistribusi normal`** <br>\n",
    "$H_1$ : **`platelets tidak berdistribusi normal`** <br>\n",
    "\n",
    "$H_0$ : **`serum_creatinine berdistribusi normal`** <br>\n",
    "$H_1$ : **`serum_creatinine tidak berdistribusi normal`** <br>\n",
    "\n",
    "$H_0$ : **`serum sodium berdistribusi normal`** <br>\n",
    "$H_1$ : **`serum sodium tidak berdistribusi normal`** <br>\n",
    "\n",
    "$H_0$ : **`waktu follow-up berdistribusi normal`** <br>\n",
    "$H_1$ : **`waktu follow-up tidak berdistribusi normal`** <br>"
   ]
  },
  {
   "cell_type": "code",
   "execution_count": 16,
   "metadata": {},
   "outputs": [
    {
     "name": "stdout",
     "output_type": "stream",
     "text": [
      "p-value from the test Anderson-Darling test below 0.05 generally means non-normal: 0.0003170792205080348\n",
      "Null hypothesis ditolak dan umur pasien tidak berdistribusi normal\n"
     ]
    }
   ],
   "source": [
    "p_value = normal_ad(df['age'])[1]\n",
    "print('p-value from the test Anderson-Darling test below 0.05 generally means non-normal:', p_value)\n",
    "\n",
    "if p_value < 0.05:\n",
    "    print('Null hypothesis ditolak dan umur pasien tidak berdistribusi normal')\n",
    "else:\n",
    "    print('Null hypothesis tidak ditolak dan umur pasien berdistribusi normal')"
   ]
  },
  {
   "cell_type": "code",
   "execution_count": 17,
   "metadata": {},
   "outputs": [
    {
     "name": "stdout",
     "output_type": "stream",
     "text": [
      "p-value from the test Anderson-Darling test below 0.05 generally means non-normal: 0.0\n",
      "Null hypothesis ditolak dan creatinine_phosphokinase tidak berdistribusi normal\n"
     ]
    }
   ],
   "source": [
    "p_value = normal_ad(df['creatinine_phosphokinase'])[1]\n",
    "print('p-value from the test Anderson-Darling test below 0.05 generally means non-normal:', p_value)\n",
    "\n",
    "if p_value < 0.05:\n",
    "    print('Null hypothesis ditolak dan creatinine_phosphokinase tidak berdistribusi normal')\n",
    "else:\n",
    "    print('Null hypothesis tidak ditolak dan creatinine_phosphokinase berdistribusi normal')"
   ]
  },
  {
   "cell_type": "code",
   "execution_count": 18,
   "metadata": {},
   "outputs": [
    {
     "name": "stdout",
     "output_type": "stream",
     "text": [
      "p-value from the test Anderson-Darling test below 0.05 generally means non-normal: 2.5897795854533962e-14\n",
      "Null hypothesis ditolak dan ejection fraction tidak berdistribusi normal\n"
     ]
    }
   ],
   "source": [
    "p_value = normal_ad(df['ejection_fraction'])[1]\n",
    "print('p-value from the test Anderson-Darling test below 0.05 generally means non-normal:', p_value)\n",
    "\n",
    "if p_value < 0.05:\n",
    "    print('Null hypothesis ditolak dan ejection fraction tidak berdistribusi normal')\n",
    "else:\n",
    "    print('Null hypothesis tidak ditolak dan ejection fraction berdistribusi normal')"
   ]
  },
  {
   "cell_type": "code",
   "execution_count": 19,
   "metadata": {},
   "outputs": [
    {
     "name": "stdout",
     "output_type": "stream",
     "text": [
      "p-value from the test Anderson-Darling test below 0.05 generally means non-normal: 2.3057959513658265e-12\n",
      "Null hypothesis ditolak dan platelets tidak berdistribusi normal\n"
     ]
    }
   ],
   "source": [
    "p_value = normal_ad(df['platelets'])[1]\n",
    "print('p-value from the test Anderson-Darling test below 0.05 generally means non-normal:', p_value)\n",
    "\n",
    "if p_value < 0.05:\n",
    "    print('Null hypothesis ditolak dan platelets tidak berdistribusi normal')\n",
    "else:\n",
    "    print('Null hypothesis tidak ditolak dan platelets berdistribusi normal')"
   ]
  },
  {
   "cell_type": "code",
   "execution_count": 20,
   "metadata": {},
   "outputs": [
    {
     "name": "stdout",
     "output_type": "stream",
     "text": [
      "p-value from the test Anderson-Darling test below 0.05 generally means non-normal: 0.0\n",
      "Null hypothesis ditolak dan serum_creatinine tidak berdistribusi normal\n"
     ]
    }
   ],
   "source": [
    "p_value = normal_ad(df['serum_creatinine'])[1]\n",
    "print('p-value from the test Anderson-Darling test below 0.05 generally means non-normal:', p_value)\n",
    "\n",
    "if p_value < 0.05:\n",
    "    print('Null hypothesis ditolak dan serum_creatinine tidak berdistribusi normal')\n",
    "else:\n",
    "    print('Null hypothesis tidak ditolak dan serum_creatinine berdistribusi normal')"
   ]
  },
  {
   "cell_type": "code",
   "execution_count": 21,
   "metadata": {},
   "outputs": [
    {
     "name": "stdout",
     "output_type": "stream",
     "text": [
      "p-value from the test Anderson-Darling test below 0.05 generally means non-normal: 8.902300260147212e-08\n",
      "Null hypothesis ditolak dan serum sodium tidak berdistribusi normal\n"
     ]
    }
   ],
   "source": [
    "p_value = normal_ad(df['serum_sodium'])[1]\n",
    "print('p-value from the test Anderson-Darling test below 0.05 generally means non-normal:', p_value)\n",
    "\n",
    "if p_value < 0.05:\n",
    "    print('Null hypothesis ditolak dan serum sodium tidak berdistribusi normal')\n",
    "else:\n",
    "    print('Null hypothesis tidak ditolak dan serum sodium berdistribusi normal')"
   ]
  },
  {
   "cell_type": "code",
   "execution_count": 22,
   "metadata": {},
   "outputs": [
    {
     "name": "stdout",
     "output_type": "stream",
     "text": [
      "p-value from the test Anderson-Darling test below 0.05 generally means non-normal: 2.5589893746791596e-12\n",
      "Null hypothesis ditolak dan waktu follow-up tidak berdistribusi normal\n"
     ]
    }
   ],
   "source": [
    "p_value = normal_ad(df['time'])[1]\n",
    "print('p-value from the test Anderson-Darling test below 0.05 generally means non-normal:', p_value)\n",
    "\n",
    "if p_value < 0.05:\n",
    "    print('Null hypothesis ditolak dan waktu follow-up tidak berdistribusi normal')\n",
    "else:\n",
    "    print('Null hypothesis tidak ditolak dan waktu follow-up berdistribusi normal')"
   ]
  },
  {
   "cell_type": "markdown",
   "metadata": {},
   "source": [
    "## Death Event vs Anemia, Diabetes, High Blood Pressure, Smoking, and Sex"
   ]
  },
  {
   "cell_type": "code",
   "execution_count": 23,
   "metadata": {},
   "outputs": [],
   "source": [
    "df1gr = df[['anaemia', 'DEATH_EVENT']].groupby(['anaemia', 'DEATH_EVENT']).agg({'DEATH_EVENT': 'count'})\n",
    "df2gr = df[['diabetes', 'DEATH_EVENT']].groupby(['diabetes', 'DEATH_EVENT']).agg({'DEATH_EVENT': 'count'})\n",
    "df3gr = df[['high_blood_pressure', 'DEATH_EVENT']].groupby(['high_blood_pressure', 'DEATH_EVENT']).agg({'DEATH_EVENT': 'count'})\n",
    "df4gr = df[['smoking', 'DEATH_EVENT']].groupby(['smoking', 'DEATH_EVENT']).agg({'DEATH_EVENT': 'count'})\n",
    "df5gr = df[['sex', 'DEATH_EVENT']].groupby(['sex', 'DEATH_EVENT']).agg({'DEATH_EVENT': 'count'})"
   ]
  },
  {
   "cell_type": "code",
   "execution_count": 24,
   "metadata": {
    "scrolled": false
   },
   "outputs": [
    {
     "data": {
      "image/png": "[encoded data removed]",
      "text/plain": [
       "<Figure size 432x288 with 1 Axes>"
      ]
     },
     "metadata": {
      "needs_background": "light"
     },
     "output_type": "display_data"
    },
    {
     "data": {
      "image/png": "[encoded data removed]",
      "text/plain": [
       "<Figure size 432x288 with 1 Axes>"
      ]
     },
     "metadata": {
      "needs_background": "light"
     },
     "output_type": "display_data"
    },
    {
     "data": {
      "image/png": "[encoded data removed]",
      "text/plain": [
       "<Figure size 432x288 with 1 Axes>"
      ]
     },
     "metadata": {
      "needs_background": "light"
     },
     "output_type": "display_data"
    },
    {
     "data": {
      "image/png": "[encoded data removed]",
      "text/plain": [
       "<Figure size 432x288 with 1 Axes>"
      ]
     },
     "metadata": {
      "needs_background": "light"
     },
     "output_type": "display_data"
    },
    {
     "data": {
      "image/png": "[encoded data removed]",
      "text/plain": [
       "<Figure size 432x288 with 1 Axes>"
      ]
     },
     "metadata": {
      "needs_background": "light"
     },
     "output_type": "display_data"
    }
   ],
   "source": [
    "df1gr.unstack().plot(kind='bar')\n",
    "plt.legend(['DEATH_EVENT 0','DEATH_EVENT 1'])\n",
    "plt.title('Death Event vs Anaemia')\n",
    "\n",
    "df2gr.unstack().plot(kind='bar')\n",
    "plt.legend(['DEATH_EVENT 0','DEATH_EVENT 1'])\n",
    "plt.title('Death Event vs Diabetes')\n",
    "\n",
    "df3gr.unstack().plot(kind='bar')\n",
    "plt.legend(['DEATH_EVENT 0','DEATH_EVENT 1'])\n",
    "plt.title('Death Event vs High Blood Pressure')\n",
    "\n",
    "df4gr.unstack().plot(kind='bar')\n",
    "plt.legend(['DEATH_EVENT 0','DEATH_EVENT 1'])\n",
    "plt.title('Death Event vs Smoking')\n",
    "\n",
    "df5gr.unstack().plot(kind='bar')\n",
    "plt.legend(['DEATH_EVENT 0','DEATH_EVENT 1'])\n",
    "plt.title('Death Event vs Sex')\n",
    "plt.show()"
   ]
  },
  {
   "cell_type": "markdown",
   "metadata": {},
   "source": [
    "Dari bar chart di atas dapat ditarik beberapa insight:\n",
    "- Pasien dengan jenis kelamin laki-laki lebih banyak yang meninggal ketika follow up daripada pasien dengan jenis kelamin wanita\n",
    "- Pasien yang tidak merokok lebih banyak yang meninggal daripada pasien yang merokok\n",
    "- Pasien yang tidak memiliki darah tinggi lebih banyak yang meninggal daripada pasien yang memiliki darah tinggi \n",
    "- Pasien yang tidak memiliki riwayat diabetes lebih banyak yang meninggal daripada pasien yang memiliki riwayat diabetes\n",
    "- Pasien yang tidak memiliki riwayat anemia lebih banyak yang meninggal daripada pasien yang memiliki riwayat anemia"
   ]
  },
  {
   "cell_type": "markdown",
   "metadata": {},
   "source": [
    "# Data preprocessing"
   ]
  },
  {
   "cell_type": "markdown",
   "metadata": {},
   "source": [
    "## Remove Additional Column (Age Category)"
   ]
  },
  {
   "cell_type": "code",
   "execution_count": 25,
   "metadata": {},
   "outputs": [],
   "source": [
    "df.drop(['age category'], axis=1, inplace=True)"
   ]
  },
  {
   "cell_type": "markdown",
   "metadata": {},
   "source": [
    "## Split Data"
   ]
  },
  {
   "cell_type": "markdown",
   "metadata": {},
   "source": [
    "Pada splitting data, kami membagi data menjadi testing dengan proporsi sebesar 20% dan training sebesar 80%"
   ]
  },
  {
   "cell_type": "code",
   "execution_count": 26,
   "metadata": {},
   "outputs": [],
   "source": [
    "train, test = train_test_split(df, test_size=0.2, random_state=11)\n",
    "train_index = train.index\n",
    "test_index = test.index"
   ]
  },
  {
   "cell_type": "code",
   "execution_count": 27,
   "metadata": {},
   "outputs": [
    {
     "data": {
      "text/html": [
       "<div>\n",
       "<style scoped>\n",
       "    .dataframe tbody tr th:only-of-type {\n",
       "        vertical-align: middle;\n",
       "    }\n",
       "\n",
       "    .dataframe tbody tr th {\n",
       "        vertical-align: top;\n",
       "    }\n",
       "\n",
       "    .dataframe thead th {\n",
       "        text-align: right;\n",
       "    }\n",
       "</style>\n",
       "<table border=\"1\" class=\"dataframe\">\n",
       "  <thead>\n",
       "    <tr style=\"text-align: right;\">\n",
       "      <th></th>\n",
       "      <th>age</th>\n",
       "      <th>anaemia</th>\n",
       "      <th>creatinine_phosphokinase</th>\n",
       "      <th>diabetes</th>\n",
       "      <th>ejection_fraction</th>\n",
       "      <th>high_blood_pressure</th>\n",
       "      <th>platelets</th>\n",
       "      <th>serum_creatinine</th>\n",
       "      <th>serum_sodium</th>\n",
       "      <th>sex</th>\n",
       "      <th>smoking</th>\n",
       "      <th>time</th>\n",
       "      <th>DEATH_EVENT</th>\n",
       "    </tr>\n",
       "  </thead>\n",
       "  <tbody>\n",
       "    <tr>\n",
       "      <th>113</th>\n",
       "      <td>70.0</td>\n",
       "      <td>1</td>\n",
       "      <td>143</td>\n",
       "      <td>0</td>\n",
       "      <td>60</td>\n",
       "      <td>0</td>\n",
       "      <td>351000.0</td>\n",
       "      <td>1.3</td>\n",
       "      <td>137</td>\n",
       "      <td>0</td>\n",
       "      <td>0</td>\n",
       "      <td>90</td>\n",
       "      <td>1</td>\n",
       "    </tr>\n",
       "    <tr>\n",
       "      <th>16</th>\n",
       "      <td>87.0</td>\n",
       "      <td>1</td>\n",
       "      <td>149</td>\n",
       "      <td>0</td>\n",
       "      <td>38</td>\n",
       "      <td>0</td>\n",
       "      <td>262000.0</td>\n",
       "      <td>0.9</td>\n",
       "      <td>140</td>\n",
       "      <td>1</td>\n",
       "      <td>0</td>\n",
       "      <td>14</td>\n",
       "      <td>1</td>\n",
       "    </tr>\n",
       "    <tr>\n",
       "      <th>60</th>\n",
       "      <td>45.0</td>\n",
       "      <td>0</td>\n",
       "      <td>7702</td>\n",
       "      <td>1</td>\n",
       "      <td>25</td>\n",
       "      <td>1</td>\n",
       "      <td>390000.0</td>\n",
       "      <td>1.0</td>\n",
       "      <td>139</td>\n",
       "      <td>1</td>\n",
       "      <td>0</td>\n",
       "      <td>60</td>\n",
       "      <td>1</td>\n",
       "    </tr>\n",
       "    <tr>\n",
       "      <th>228</th>\n",
       "      <td>65.0</td>\n",
       "      <td>0</td>\n",
       "      <td>56</td>\n",
       "      <td>0</td>\n",
       "      <td>25</td>\n",
       "      <td>0</td>\n",
       "      <td>237000.0</td>\n",
       "      <td>5.0</td>\n",
       "      <td>130</td>\n",
       "      <td>0</td>\n",
       "      <td>0</td>\n",
       "      <td>207</td>\n",
       "      <td>0</td>\n",
       "    </tr>\n",
       "    <tr>\n",
       "      <th>130</th>\n",
       "      <td>53.0</td>\n",
       "      <td>1</td>\n",
       "      <td>1808</td>\n",
       "      <td>0</td>\n",
       "      <td>60</td>\n",
       "      <td>1</td>\n",
       "      <td>249000.0</td>\n",
       "      <td>0.7</td>\n",
       "      <td>138</td>\n",
       "      <td>1</td>\n",
       "      <td>1</td>\n",
       "      <td>106</td>\n",
       "      <td>0</td>\n",
       "    </tr>\n",
       "    <tr>\n",
       "      <th>...</th>\n",
       "      <td>...</td>\n",
       "      <td>...</td>\n",
       "      <td>...</td>\n",
       "      <td>...</td>\n",
       "      <td>...</td>\n",
       "      <td>...</td>\n",
       "      <td>...</td>\n",
       "      <td>...</td>\n",
       "      <td>...</td>\n",
       "      <td>...</td>\n",
       "      <td>...</td>\n",
       "      <td>...</td>\n",
       "      <td>...</td>\n",
       "    </tr>\n",
       "    <tr>\n",
       "      <th>161</th>\n",
       "      <td>45.0</td>\n",
       "      <td>1</td>\n",
       "      <td>130</td>\n",
       "      <td>0</td>\n",
       "      <td>35</td>\n",
       "      <td>0</td>\n",
       "      <td>174000.0</td>\n",
       "      <td>0.8</td>\n",
       "      <td>139</td>\n",
       "      <td>1</td>\n",
       "      <td>1</td>\n",
       "      <td>121</td>\n",
       "      <td>0</td>\n",
       "    </tr>\n",
       "    <tr>\n",
       "      <th>269</th>\n",
       "      <td>40.0</td>\n",
       "      <td>0</td>\n",
       "      <td>582</td>\n",
       "      <td>1</td>\n",
       "      <td>35</td>\n",
       "      <td>0</td>\n",
       "      <td>222000.0</td>\n",
       "      <td>1.0</td>\n",
       "      <td>132</td>\n",
       "      <td>1</td>\n",
       "      <td>0</td>\n",
       "      <td>244</td>\n",
       "      <td>0</td>\n",
       "    </tr>\n",
       "    <tr>\n",
       "      <th>91</th>\n",
       "      <td>60.0</td>\n",
       "      <td>0</td>\n",
       "      <td>897</td>\n",
       "      <td>1</td>\n",
       "      <td>45</td>\n",
       "      <td>0</td>\n",
       "      <td>297000.0</td>\n",
       "      <td>1.0</td>\n",
       "      <td>133</td>\n",
       "      <td>1</td>\n",
       "      <td>0</td>\n",
       "      <td>80</td>\n",
       "      <td>0</td>\n",
       "    </tr>\n",
       "    <tr>\n",
       "      <th>80</th>\n",
       "      <td>70.0</td>\n",
       "      <td>0</td>\n",
       "      <td>69</td>\n",
       "      <td>0</td>\n",
       "      <td>40</td>\n",
       "      <td>0</td>\n",
       "      <td>293000.0</td>\n",
       "      <td>1.7</td>\n",
       "      <td>136</td>\n",
       "      <td>0</td>\n",
       "      <td>0</td>\n",
       "      <td>75</td>\n",
       "      <td>0</td>\n",
       "    </tr>\n",
       "    <tr>\n",
       "      <th>191</th>\n",
       "      <td>64.0</td>\n",
       "      <td>1</td>\n",
       "      <td>62</td>\n",
       "      <td>0</td>\n",
       "      <td>60</td>\n",
       "      <td>0</td>\n",
       "      <td>309000.0</td>\n",
       "      <td>1.5</td>\n",
       "      <td>135</td>\n",
       "      <td>0</td>\n",
       "      <td>0</td>\n",
       "      <td>174</td>\n",
       "      <td>0</td>\n",
       "    </tr>\n",
       "  </tbody>\n",
       "</table>\n",
       "<p>239 rows × 13 columns</p>\n",
       "</div>"
      ],
      "text/plain": [
       "      age  anaemia  creatinine_phosphokinase  diabetes  ejection_fraction  \\\n",
       "113  70.0        1                       143         0                 60   \n",
       "16   87.0        1                       149         0                 38   \n",
       "60   45.0        0                      7702         1                 25   \n",
       "228  65.0        0                        56         0                 25   \n",
       "130  53.0        1                      1808         0                 60   \n",
       "..    ...      ...                       ...       ...                ...   \n",
       "161  45.0        1                       130         0                 35   \n",
       "269  40.0        0                       582         1                 35   \n",
       "91   60.0        0                       897         1                 45   \n",
       "80   70.0        0                        69         0                 40   \n",
       "191  64.0        1                        62         0                 60   \n",
       "\n",
       "     high_blood_pressure  platelets  serum_creatinine  serum_sodium  sex  \\\n",
       "113                    0   351000.0               1.3           137    0   \n",
       "16                     0   262000.0               0.9           140    1   \n",
       "60                     1   390000.0               1.0           139    1   \n",
       "228                    0   237000.0               5.0           130    0   \n",
       "130                    1   249000.0               0.7           138    1   \n",
       "..                   ...        ...               ...           ...  ...   \n",
       "161                    0   174000.0               0.8           139    1   \n",
       "269                    0   222000.0               1.0           132    1   \n",
       "91                     0   297000.0               1.0           133    1   \n",
       "80                     0   293000.0               1.7           136    0   \n",
       "191                    0   309000.0               1.5           135    0   \n",
       "\n",
       "     smoking  time  DEATH_EVENT  \n",
       "113        0    90            1  \n",
       "16         0    14            1  \n",
       "60         0    60            1  \n",
       "228        0   207            0  \n",
       "130        1   106            0  \n",
       "..       ...   ...          ...  \n",
       "161        1   121            0  \n",
       "269        0   244            0  \n",
       "91         0    80            0  \n",
       "80         0    75            0  \n",
       "191        0   174            0  \n",
       "\n",
       "[239 rows x 13 columns]"
      ]
     },
     "execution_count": 27,
     "metadata": {},
     "output_type": "execute_result"
    }
   ],
   "source": [
    "train"
   ]
  },
  {
   "cell_type": "code",
   "execution_count": 28,
   "metadata": {},
   "outputs": [],
   "source": [
    "y_train = train[['DEATH_EVENT']]\n",
    "X_train = train.drop(['DEATH_EVENT'], axis=1)"
   ]
  },
  {
   "cell_type": "code",
   "execution_count": 29,
   "metadata": {},
   "outputs": [],
   "source": [
    "y_test = test[['DEATH_EVENT']]\n",
    "X_test = test.drop(['DEATH_EVENT'], axis=1)"
   ]
  },
  {
   "cell_type": "markdown",
   "metadata": {},
   "source": [
    "# Modelling with Random Forest"
   ]
  },
  {
   "cell_type": "markdown",
   "metadata": {},
   "source": [
    "## Model Fitting"
   ]
  },
  {
   "cell_type": "code",
   "execution_count": 30,
   "metadata": {},
   "outputs": [],
   "source": [
    "rf = RandomForestClassifier(max_features = 0.5, max_depth =5, random_state=1)\n",
    "rf.fit(X_train, y_train)\n",
    "y_pred = rf.predict(X_test)"
   ]
  },
  {
   "cell_type": "markdown",
   "metadata": {},
   "source": [
    "## Model Evaluation"
   ]
  },
  {
   "cell_type": "markdown",
   "metadata": {},
   "source": [
    "### Testing Data"
   ]
  },
  {
   "cell_type": "code",
   "execution_count": 31,
   "metadata": {},
   "outputs": [
    {
     "name": "stdout",
     "output_type": "stream",
     "text": [
      "Accuracy: 0.8666666666666667\n"
     ]
    }
   ],
   "source": [
    "print('Accuracy:', metrics.accuracy_score(y_test, y_pred))"
   ]
  },
  {
   "cell_type": "code",
   "execution_count": 32,
   "metadata": {},
   "outputs": [
    {
     "name": "stdout",
     "output_type": "stream",
     "text": [
      "              precision    recall  f1-score   support\n",
      "\n",
      "           0       0.93      0.88      0.90        43\n",
      "           1       0.74      0.82      0.78        17\n",
      "\n",
      "    accuracy                           0.87        60\n",
      "   macro avg       0.83      0.85      0.84        60\n",
      "weighted avg       0.87      0.87      0.87        60\n",
      "\n"
     ]
    }
   ],
   "source": [
    "print(classification_report(y_test, y_pred))"
   ]
  },
  {
   "cell_type": "code",
   "execution_count": 33,
   "metadata": {},
   "outputs": [
    {
     "data": {
      "image/png": "[encoded data removed]",
      "text/plain": [
       "<Figure size 576x576 with 1 Axes>"
      ]
     },
     "metadata": {
      "needs_background": "light"
     },
     "output_type": "display_data"
    }
   ],
   "source": [
    "cm = confusion_matrix(y_test, y_pred)\n",
    "fig, ax = plt.subplots(figsize=(8,8))\n",
    "ax.imshow(cm)\n",
    "ax.grid(False)\n",
    "ax.xaxis.set(ticks=(0,1), ticklabels=('Positive','Negative'))\n",
    "ax.yaxis.set(ticks=(0,1), ticklabels=('Positive','Negative'))\n",
    "ax.set_ylim(1.5,-0.5)\n",
    "\n",
    "for i in range(2):\n",
    "    for j in range(2):\n",
    "        ax.text(j,i, cm[i,j], ha='center',va='center',color='red')\n",
    "\n",
    "plt.show()"
   ]
  },
  {
   "cell_type": "markdown",
   "metadata": {},
   "source": [
    "Berdasarkan confusion matrix di atas dapat dilihat bahwa prediksi True Positive dan True Negative lebih banyak dari False Positive dan False Negative. Oleh karena itu, dapat dikatakan pemodelan ini sudah cukup baik"
   ]
  },
  {
   "cell_type": "markdown",
   "metadata": {},
   "source": [
    "### Training Data"
   ]
  },
  {
   "cell_type": "code",
   "execution_count": 34,
   "metadata": {},
   "outputs": [],
   "source": [
    "y_pred1 = rf.predict(X_train)"
   ]
  },
  {
   "cell_type": "code",
   "execution_count": 35,
   "metadata": {},
   "outputs": [
    {
     "name": "stdout",
     "output_type": "stream",
     "text": [
      "Accuracy: 0.9414225941422594\n"
     ]
    }
   ],
   "source": [
    "print('Accuracy:', metrics.accuracy_score(y_train, y_pred1))"
   ]
  },
  {
   "cell_type": "code",
   "execution_count": 36,
   "metadata": {},
   "outputs": [
    {
     "name": "stdout",
     "output_type": "stream",
     "text": [
      "              precision    recall  f1-score   support\n",
      "\n",
      "           0       0.93      0.98      0.96       160\n",
      "           1       0.96      0.86      0.91        79\n",
      "\n",
      "    accuracy                           0.94       239\n",
      "   macro avg       0.95      0.92      0.93       239\n",
      "weighted avg       0.94      0.94      0.94       239\n",
      "\n"
     ]
    }
   ],
   "source": [
    "print(classification_report(y_train, y_pred1))"
   ]
  },
  {
   "cell_type": "code",
   "execution_count": 37,
   "metadata": {},
   "outputs": [
    {
     "data": {
      "image/png": "[encoded data removed]",
      "text/plain": [
       "<Figure size 576x576 with 1 Axes>"
      ]
     },
     "metadata": {
      "needs_background": "light"
     },
     "output_type": "display_data"
    }
   ],
   "source": [
    "cm = confusion_matrix(y_train, y_pred1)\n",
    "fig, ax = plt.subplots(figsize=(8,8))\n",
    "ax.imshow(cm)\n",
    "ax.grid(False)\n",
    "ax.xaxis.set(ticks=(0,1), ticklabels=('Positive','Negative'))\n",
    "ax.yaxis.set(ticks=(0,1), ticklabels=('Positive','Negative'))\n",
    "ax.set_ylim(1.5,-0.5)\n",
    "\n",
    "for i in range(2):\n",
    "    for j in range(2):\n",
    "        ax.text(j,i, cm[i,j], ha='center',va='center',color='red')\n",
    "\n",
    "plt.show()"
   ]
  },
  {
   "cell_type": "markdown",
   "metadata": {},
   "source": [
    "Berdasarkan confusion matrix di atas dapat dilihat bahwa prediksi True Positive dan True Negative lebih banyak dari False Positive dan False Negative. Oleh karena itu, dapat dikatakan pemodelan ini sudah cukup baik"
   ]
  },
  {
   "cell_type": "markdown",
   "metadata": {},
   "source": [
    "# Comparison between Testing and Training Data"
   ]
  },
  {
   "cell_type": "code",
   "execution_count": 38,
   "metadata": {},
   "outputs": [
    {
     "data": {
      "text/html": [
       "<div>\n",
       "<style scoped>\n",
       "    .dataframe tbody tr th:only-of-type {\n",
       "        vertical-align: middle;\n",
       "    }\n",
       "\n",
       "    .dataframe tbody tr th {\n",
       "        vertical-align: top;\n",
       "    }\n",
       "\n",
       "    .dataframe thead th {\n",
       "        text-align: right;\n",
       "    }\n",
       "</style>\n",
       "<table border=\"1\" class=\"dataframe\">\n",
       "  <thead>\n",
       "    <tr style=\"text-align: right;\">\n",
       "      <th></th>\n",
       "      <th>Keterangan</th>\n",
       "      <th>Accuracy</th>\n",
       "    </tr>\n",
       "  </thead>\n",
       "  <tbody>\n",
       "    <tr>\n",
       "      <th>0</th>\n",
       "      <td>Training Data</td>\n",
       "      <td>0.941423</td>\n",
       "    </tr>\n",
       "    <tr>\n",
       "      <th>1</th>\n",
       "      <td>Testing Data</td>\n",
       "      <td>0.866667</td>\n",
       "    </tr>\n",
       "  </tbody>\n",
       "</table>\n",
       "</div>"
      ],
      "text/plain": [
       "      Keterangan  Accuracy\n",
       "0  Training Data  0.941423\n",
       "1   Testing Data  0.866667"
      ]
     },
     "execution_count": 38,
     "metadata": {},
     "output_type": "execute_result"
    }
   ],
   "source": [
    "compared = pd.DataFrame({'Keterangan':['Training Data','Testing Data'],'Accuracy':[metrics.accuracy_score(y_train, y_pred1),  metrics.accuracy_score(y_test, y_pred)]})\n",
    "compared"
   ]
  },
  {
   "cell_type": "markdown",
   "metadata": {},
   "source": [
    "Berdasarkan perbandingan di atas dapat dikatakan bahwa model random forest untuk prediksi dataset heart failure tergolong overfitting karena training data memiliki akurasi yang lebih tinggi daripada testing data"
   ]
  },
  {
   "cell_type": "markdown",
   "metadata": {},
   "source": [
    "# Modelling with  Ada Boost"
   ]
  },
  {
   "cell_type": "code",
   "execution_count": 39,
   "metadata": {},
   "outputs": [],
   "source": [
    "ab = AdaBoostClassifier(random_state=1)\n",
    "ab.fit(X_train, y_train)\n",
    "y_pred2 = ab.predict(X_train)"
   ]
  },
  {
   "cell_type": "markdown",
   "metadata": {},
   "source": [
    "## Model Evaluation"
   ]
  },
  {
   "cell_type": "markdown",
   "metadata": {},
   "source": [
    "### Training Data"
   ]
  },
  {
   "cell_type": "code",
   "execution_count": 40,
   "metadata": {},
   "outputs": [
    {
     "name": "stdout",
     "output_type": "stream",
     "text": [
      "Accuracy: 0.9581589958158996\n"
     ]
    }
   ],
   "source": [
    "print('Accuracy:', metrics.accuracy_score(y_train, y_pred2))"
   ]
  },
  {
   "cell_type": "code",
   "execution_count": 41,
   "metadata": {},
   "outputs": [
    {
     "name": "stdout",
     "output_type": "stream",
     "text": [
      "              precision    recall  f1-score   support\n",
      "\n",
      "           0       0.96      0.97      0.97       160\n",
      "           1       0.95      0.92      0.94        79\n",
      "\n",
      "    accuracy                           0.96       239\n",
      "   macro avg       0.96      0.95      0.95       239\n",
      "weighted avg       0.96      0.96      0.96       239\n",
      "\n"
     ]
    }
   ],
   "source": [
    "print(classification_report(y_train, y_pred2))"
   ]
  },
  {
   "cell_type": "code",
   "execution_count": 42,
   "metadata": {},
   "outputs": [
    {
     "data": {
      "image/png": "[encoded data removed]",
      "text/plain": [
       "<Figure size 576x576 with 1 Axes>"
      ]
     },
     "metadata": {
      "needs_background": "light"
     },
     "output_type": "display_data"
    }
   ],
   "source": [
    "cm = confusion_matrix(y_train, y_pred2)\n",
    "fig, ax = plt.subplots(figsize=(8,8))\n",
    "ax.imshow(cm)\n",
    "ax.grid(False)\n",
    "ax.xaxis.set(ticks=(0,1), ticklabels=('Positive','Negative'))\n",
    "ax.yaxis.set(ticks=(0,1), ticklabels=('Positive','Negative'))\n",
    "ax.set_ylim(1.5,-0.5)\n",
    "\n",
    "for i in range(2):\n",
    "    for j in range(2):\n",
    "        ax.text(j,i, cm[i,j], ha='center',va='center',color='red')\n",
    "\n",
    "plt.show()"
   ]
  },
  {
   "cell_type": "markdown",
   "metadata": {},
   "source": [
    "Berdasarkan confusion matrix di atas dapat dilihat bahwa prediksi True Positive dan True Negative lebih banyak dari False Positive dan False Negative. Oleh karena itu, dapat dikatakan pemodelan ini sudah cukup baik"
   ]
  },
  {
   "cell_type": "markdown",
   "metadata": {},
   "source": [
    "### Testing Data"
   ]
  },
  {
   "cell_type": "code",
   "execution_count": 43,
   "metadata": {},
   "outputs": [],
   "source": [
    "y_pred3 = ab.predict(X_test)"
   ]
  },
  {
   "cell_type": "code",
   "execution_count": 44,
   "metadata": {},
   "outputs": [
    {
     "name": "stdout",
     "output_type": "stream",
     "text": [
      "Accuracy: 0.7666666666666667\n"
     ]
    }
   ],
   "source": [
    "print('Accuracy:', metrics.accuracy_score(y_test, y_pred3))"
   ]
  },
  {
   "cell_type": "code",
   "execution_count": 45,
   "metadata": {},
   "outputs": [
    {
     "name": "stdout",
     "output_type": "stream",
     "text": [
      "              precision    recall  f1-score   support\n",
      "\n",
      "           0       0.87      0.79      0.83        43\n",
      "           1       0.57      0.71      0.63        17\n",
      "\n",
      "    accuracy                           0.77        60\n",
      "   macro avg       0.72      0.75      0.73        60\n",
      "weighted avg       0.79      0.77      0.77        60\n",
      "\n"
     ]
    }
   ],
   "source": [
    "print(classification_report(y_test, y_pred3))"
   ]
  },
  {
   "cell_type": "code",
   "execution_count": 46,
   "metadata": {},
   "outputs": [
    {
     "data": {
      "image/png": "[encoded data removed]",
      "text/plain": [
       "<Figure size 576x576 with 1 Axes>"
      ]
     },
     "metadata": {
      "needs_background": "light"
     },
     "output_type": "display_data"
    }
   ],
   "source": [
    "cm = confusion_matrix(y_test, y_pred3)\n",
    "fig, ax = plt.subplots(figsize=(8,8))\n",
    "ax.imshow(cm)\n",
    "ax.grid(False)\n",
    "ax.xaxis.set(ticks=(0,1), ticklabels=('Positive','Negative'))\n",
    "ax.yaxis.set(ticks=(0,1), ticklabels=('Positive','Negative'))\n",
    "ax.set_ylim(1.5,-0.5)\n",
    "\n",
    "for i in range(2):\n",
    "    for j in range(2):\n",
    "        ax.text(j,i, cm[i,j], ha='center',va='center',color='red')\n",
    "\n",
    "plt.show()"
   ]
  },
  {
   "cell_type": "markdown",
   "metadata": {},
   "source": [
    "Berdasarkan confusion matrix di atas dapat dilihat bahwa prediksi True Positive dan True Negative lebih banyak dari False Positive dan False Negative. Oleh karena itu, dapat dikatakan pemodelan ini sudah cukup baik"
   ]
  },
  {
   "cell_type": "markdown",
   "metadata": {},
   "source": [
    "# Comparison between Testing and Training Data"
   ]
  },
  {
   "cell_type": "code",
   "execution_count": 47,
   "metadata": {},
   "outputs": [
    {
     "data": {
      "text/html": [
       "<div>\n",
       "<style scoped>\n",
       "    .dataframe tbody tr th:only-of-type {\n",
       "        vertical-align: middle;\n",
       "    }\n",
       "\n",
       "    .dataframe tbody tr th {\n",
       "        vertical-align: top;\n",
       "    }\n",
       "\n",
       "    .dataframe thead th {\n",
       "        text-align: right;\n",
       "    }\n",
       "</style>\n",
       "<table border=\"1\" class=\"dataframe\">\n",
       "  <thead>\n",
       "    <tr style=\"text-align: right;\">\n",
       "      <th></th>\n",
       "      <th>Keterangan</th>\n",
       "      <th>Accuracy</th>\n",
       "    </tr>\n",
       "  </thead>\n",
       "  <tbody>\n",
       "    <tr>\n",
       "      <th>0</th>\n",
       "      <td>Training Data</td>\n",
       "      <td>0.958159</td>\n",
       "    </tr>\n",
       "    <tr>\n",
       "      <th>1</th>\n",
       "      <td>Testing Data</td>\n",
       "      <td>0.766667</td>\n",
       "    </tr>\n",
       "  </tbody>\n",
       "</table>\n",
       "</div>"
      ],
      "text/plain": [
       "      Keterangan  Accuracy\n",
       "0  Training Data  0.958159\n",
       "1   Testing Data  0.766667"
      ]
     },
     "execution_count": 47,
     "metadata": {},
     "output_type": "execute_result"
    }
   ],
   "source": [
    "compared = pd.DataFrame({'Keterangan':['Training Data','Testing Data'],'Accuracy':[metrics.accuracy_score(y_train, y_pred2),  metrics.accuracy_score(y_test, y_pred3)]})\n",
    "compared"
   ]
  },
  {
   "cell_type": "markdown",
   "metadata": {},
   "source": [
    "Berdasarkan perbandingan di atas dapat dikatakan bahwa model AdaBoost untuk prediksi dataset heart failure tergolong overfitting karena training data memiliki akurasi yang lebih tinggi daripada testing data"
   ]
  },
  {
   "cell_type": "markdown",
   "metadata": {},
   "source": [
    "# Comparison Between the Model"
   ]
  },
  {
   "cell_type": "markdown",
   "metadata": {},
   "source": [
    "## Training Data"
   ]
  },
  {
   "cell_type": "code",
   "execution_count": 48,
   "metadata": {},
   "outputs": [
    {
     "data": {
      "text/html": [
       "<div>\n",
       "<style scoped>\n",
       "    .dataframe tbody tr th:only-of-type {\n",
       "        vertical-align: middle;\n",
       "    }\n",
       "\n",
       "    .dataframe tbody tr th {\n",
       "        vertical-align: top;\n",
       "    }\n",
       "\n",
       "    .dataframe thead th {\n",
       "        text-align: right;\n",
       "    }\n",
       "</style>\n",
       "<table border=\"1\" class=\"dataframe\">\n",
       "  <thead>\n",
       "    <tr style=\"text-align: right;\">\n",
       "      <th></th>\n",
       "      <th>Metode</th>\n",
       "      <th>Akurasi</th>\n",
       "    </tr>\n",
       "  </thead>\n",
       "  <tbody>\n",
       "    <tr>\n",
       "      <th>0</th>\n",
       "      <td>Random Forest</td>\n",
       "      <td>0.941423</td>\n",
       "    </tr>\n",
       "    <tr>\n",
       "      <th>1</th>\n",
       "      <td>Ada Boost</td>\n",
       "      <td>0.958159</td>\n",
       "    </tr>\n",
       "  </tbody>\n",
       "</table>\n",
       "</div>"
      ],
      "text/plain": [
       "          Metode   Akurasi\n",
       "0  Random Forest  0.941423\n",
       "1      Ada Boost  0.958159"
      ]
     },
     "execution_count": 48,
     "metadata": {},
     "output_type": "execute_result"
    }
   ],
   "source": [
    "models = ['Random Forest', 'Ada Boost']\n",
    "akurasi_skor_training = {'Metode':models, 'Akurasi':[metrics.accuracy_score(y_train, y_pred1),metrics.accuracy_score(y_train, y_pred2)]}\n",
    "akurasi_skor_training = pd.DataFrame(akurasi_skor_training)\n",
    "akurasi_skor_training"
   ]
  },
  {
   "cell_type": "code",
   "execution_count": 49,
   "metadata": {},
   "outputs": [
    {
     "data": {
      "image/png": "[encoded data removed]",
      "text/plain": [
       "<Figure size 1008x576 with 1 Axes>"
      ]
     },
     "metadata": {
      "needs_background": "light"
     },
     "output_type": "display_data"
    }
   ],
   "source": [
    "plt.subplots(figsize=(14, 8))\n",
    "plt.bar(akurasi_skor_training['Metode'], akurasi_skor_training['Akurasi'])\n",
    "plt.title(\"Perbandingan Akurasi untuk Training Data\")\n",
    "plt.ylabel(\"Akurasi\")\n",
    "plt.xlabel(\"Metode\")\n",
    "plt.show()"
   ]
  },
  {
   "cell_type": "markdown",
   "metadata": {},
   "source": [
    "Ada Boost memiliki akurasi yang lebih tinggi daripada Random Forest untuk data training"
   ]
  },
  {
   "cell_type": "markdown",
   "metadata": {},
   "source": [
    "## Testing Data"
   ]
  },
  {
   "cell_type": "code",
   "execution_count": 50,
   "metadata": {},
   "outputs": [
    {
     "data": {
      "text/html": [
       "<div>\n",
       "<style scoped>\n",
       "    .dataframe tbody tr th:only-of-type {\n",
       "        vertical-align: middle;\n",
       "    }\n",
       "\n",
       "    .dataframe tbody tr th {\n",
       "        vertical-align: top;\n",
       "    }\n",
       "\n",
       "    .dataframe thead th {\n",
       "        text-align: right;\n",
       "    }\n",
       "</style>\n",
       "<table border=\"1\" class=\"dataframe\">\n",
       "  <thead>\n",
       "    <tr style=\"text-align: right;\">\n",
       "      <th></th>\n",
       "      <th>Metode</th>\n",
       "      <th>Akurasi</th>\n",
       "    </tr>\n",
       "  </thead>\n",
       "  <tbody>\n",
       "    <tr>\n",
       "      <th>0</th>\n",
       "      <td>Random Forest</td>\n",
       "      <td>0.866667</td>\n",
       "    </tr>\n",
       "    <tr>\n",
       "      <th>1</th>\n",
       "      <td>Ada Boost</td>\n",
       "      <td>0.766667</td>\n",
       "    </tr>\n",
       "  </tbody>\n",
       "</table>\n",
       "</div>"
      ],
      "text/plain": [
       "          Metode   Akurasi\n",
       "0  Random Forest  0.866667\n",
       "1      Ada Boost  0.766667"
      ]
     },
     "execution_count": 50,
     "metadata": {},
     "output_type": "execute_result"
    }
   ],
   "source": [
    "models = ['Random Forest', 'Ada Boost']\n",
    "akurasi_skor_testing = {'Metode':models, 'Akurasi':[metrics.accuracy_score(y_test, y_pred),metrics.accuracy_score(y_test, y_pred3)]}\n",
    "akurasi_skor_testing = pd.DataFrame(akurasi_skor_testing)\n",
    "akurasi_skor_testing"
   ]
  },
  {
   "cell_type": "code",
   "execution_count": 51,
   "metadata": {},
   "outputs": [
    {
     "data": {
      "image/png": "[encoded data removed]",
      "text/plain": [
       "<Figure size 1008x576 with 1 Axes>"
      ]
     },
     "metadata": {
      "needs_background": "light"
     },
     "output_type": "display_data"
    }
   ],
   "source": [
    "plt.subplots(figsize=(14, 8))\n",
    "plt.bar(akurasi_skor_testing['Metode'], akurasi_skor_testing['Akurasi'])\n",
    "plt.title(\"Perbandingan Akurasi untuk Testing Data\")\n",
    "plt.ylabel(\"Akurasi\")\n",
    "plt.xlabel(\"Metode\")\n",
    "plt.show()"
   ]
  },
  {
   "cell_type": "markdown",
   "metadata": {},
   "source": [
    "Random Forest memiliki akurasi yang lebih tinggi daripada Ada Boost untuk data testing"
   ]
  },
  {
   "cell_type": "markdown",
   "metadata": {},
   "source": [
    "# Conclusion"
   ]
  },
  {
   "cell_type": "markdown",
   "metadata": {},
   "source": [
    "Berdasarkan analisis yang telah dilakukan dapat ditarik beberapa kesimpulan:\n",
    "- Rata-rata waktu follow up pasien penyakit jantung adalah sebesar 130.26 hari. Waktu paling cepat untuk follow up pasien penyakit jantung adalah dalam 4 hari. Sementara itu, waktu follow up pasien penyakit jantung yang paling lama adalah dalam 285 hari.\n",
    "- Rata-rata umur pasien yang mengidap penyakit jantung adalah 60.8 tahun. Pasien penyakit jantung yang paling muda berumur 40 tahun, sedangkan yang paling tua berumur 95 tahun.\n",
    "- Pasien penyakit jantung sebagian besar berjenis kelamin laki-laki dengan persentase sebesar 64.88%\n",
    "- Sebagian besar pasien penyakit jantung tidak memiliki memiliki riwayat merokok dengan persentase sebesar 67.89%\n",
    "- Sebagian besar pasien penyakit jantung tidak memiliki memiliki riwayat diabetes dengan persentase sebesar 58.19%\n",
    "- Pasien penyakit jantung yang sudah meninggal saat waktu follow-up proporsinya cukup kecil, yaitu sebesar 32.11%\n",
    "- Sebagian besar pasien penyakit jantung tidak memiliki penyakit darah tinggi, dengan persentase sebesar 64.88%\n",
    "- Pasien penyakit jantung yang mengalami pengurangan hemoglobin persentasenya bernilai sebesar 43.14%.\n",
    "- 45.8% pasien penyakit jantung berasal dari orang-orang yang tergolong pada kelompok umur 60+ \n",
    "- Pasien penyakit jantung yang memiliki penyakit diabetes paling banyak adalah pasien yang berusia 60 tahun\n",
    "- Pasien penyakit jantung yang memiliki tekanan darah tinggi paling banyak adalah pasien yang berusia 70 tahun\n",
    "- Pasien penyakit jantung yang memiliki penyakit anemia (kekurangan darah) paling banyak adalah pasien yang berusia 60 tahun\n",
    "- Pasien yang paling banyak meninggal ketika follow up adalah pasien yang berusia 60 tahun ke atas\n",
    "- Pasien dengan jenis kelamin laki-laki lebih banyak yang meninggal ketika follow up daripada pasien dengan jenis kelamin wanita\n",
    "- Pasien yang tidak merokok lebih banyak yang meninggal daripada pasien yang merokok\n",
    "- Pasien yang tidak memiliki darah tinggi lebih banyak yang meninggal daripada pasien yang memiliki darah tinggi \n",
    "- Pasien yang tidak memiliki riwayat diabetes lebih banyak yang meninggal daripada pasien yang memiliki riwayat diabetes\n",
    "- Pasien yang tidak memiliki riwayat anemia lebih banyak yang meninggal daripada pasien yang memiliki riwayat anemia\n",
    "- Model terbaik untuk heart failure prediction adalah Random Forest karena memiliki akurasi testing yang lebih tinggi daripada Ada Boost"
   ]
  },
  {
   "cell_type": "markdown",
   "metadata": {},
   "source": [
    "# Deployment"
   ]
  },
  {
   "cell_type": "code",
   "execution_count": 52,
   "metadata": {},
   "outputs": [],
   "source": [
    "import pickle\n",
    "\n",
    "with open(\"randomforest.pkl\",\"wb\") as f:\n",
    "    pickle.dump(rf,f)"
   ]
  },
  {
   "cell_type": "code",
   "execution_count": 53,
   "metadata": {},
   "outputs": [
    {
     "data": {
      "text/plain": [
       "Pipeline(steps=[('randomforestclassifier',\n",
       "                 RandomForestClassifier(max_depth=5, max_features=0.5,\n",
       "                                        random_state=1))])"
      ]
     },
     "execution_count": 53,
     "metadata": {},
     "output_type": "execute_result"
    }
   ],
   "source": [
    "#buat pipeline\n",
    "from sklearn.pipeline import make_pipeline\n",
    "\n",
    "pipe = make_pipeline(\n",
    "    RandomForestClassifier(max_features = 0.5, max_depth =5, random_state=1)\n",
    ")\n",
    "\n",
    "pipe.fit(X_train, y_train)"
   ]
  },
  {
   "cell_type": "code",
   "execution_count": 54,
   "metadata": {},
   "outputs": [],
   "source": [
    "with open(\"pipeline.pkl\",\"wb\") as f:\n",
    "    pickle.dump(pipe,f)"
   ]
  },
  {
   "cell_type": "code",
   "execution_count": 55,
   "metadata": {},
   "outputs": [
    {
     "name": "stdout",
     "output_type": "stream",
     "text": [
      "              precision    recall  f1-score   support\n",
      "\n",
      "           0       0.93      0.88      0.90        43\n",
      "           1       0.74      0.82      0.78        17\n",
      "\n",
      "    accuracy                           0.87        60\n",
      "   macro avg       0.83      0.85      0.84        60\n",
      "weighted avg       0.87      0.87      0.87        60\n",
      "\n"
     ]
    }
   ],
   "source": [
    "y_pred = pipe.predict(X_test)\n",
    "print(classification_report(y_test,y_pred))"
   ]
  },
  {
   "cell_type": "code",
   "execution_count": 56,
   "metadata": {},
   "outputs": [
    {
     "data": {
      "text/html": [
       "<div>\n",
       "<style scoped>\n",
       "    .dataframe tbody tr th:only-of-type {\n",
       "        vertical-align: middle;\n",
       "    }\n",
       "\n",
       "    .dataframe tbody tr th {\n",
       "        vertical-align: top;\n",
       "    }\n",
       "\n",
       "    .dataframe thead th {\n",
       "        text-align: right;\n",
       "    }\n",
       "</style>\n",
       "<table border=\"1\" class=\"dataframe\">\n",
       "  <thead>\n",
       "    <tr style=\"text-align: right;\">\n",
       "      <th></th>\n",
       "      <th>age</th>\n",
       "      <th>anaemia</th>\n",
       "      <th>creatinine_phosphokinase</th>\n",
       "      <th>diabetes</th>\n",
       "      <th>ejection_fraction</th>\n",
       "      <th>high_blood_pressure</th>\n",
       "      <th>platelets</th>\n",
       "      <th>serum_creatinine</th>\n",
       "      <th>serum_sodium</th>\n",
       "      <th>sex</th>\n",
       "      <th>smoking</th>\n",
       "      <th>time</th>\n",
       "    </tr>\n",
       "  </thead>\n",
       "  <tbody>\n",
       "    <tr>\n",
       "      <th>69</th>\n",
       "      <td>65.0</td>\n",
       "      <td>0</td>\n",
       "      <td>113</td>\n",
       "      <td>1</td>\n",
       "      <td>25</td>\n",
       "      <td>0</td>\n",
       "      <td>497000.00</td>\n",
       "      <td>1.83</td>\n",
       "      <td>135</td>\n",
       "      <td>1</td>\n",
       "      <td>0</td>\n",
       "      <td>67</td>\n",
       "    </tr>\n",
       "    <tr>\n",
       "      <th>77</th>\n",
       "      <td>42.0</td>\n",
       "      <td>0</td>\n",
       "      <td>102</td>\n",
       "      <td>1</td>\n",
       "      <td>40</td>\n",
       "      <td>0</td>\n",
       "      <td>237000.00</td>\n",
       "      <td>1.20</td>\n",
       "      <td>140</td>\n",
       "      <td>1</td>\n",
       "      <td>0</td>\n",
       "      <td>74</td>\n",
       "    </tr>\n",
       "    <tr>\n",
       "      <th>278</th>\n",
       "      <td>50.0</td>\n",
       "      <td>1</td>\n",
       "      <td>1051</td>\n",
       "      <td>1</td>\n",
       "      <td>30</td>\n",
       "      <td>0</td>\n",
       "      <td>232000.00</td>\n",
       "      <td>0.70</td>\n",
       "      <td>136</td>\n",
       "      <td>0</td>\n",
       "      <td>0</td>\n",
       "      <td>246</td>\n",
       "    </tr>\n",
       "    <tr>\n",
       "      <th>254</th>\n",
       "      <td>53.0</td>\n",
       "      <td>1</td>\n",
       "      <td>446</td>\n",
       "      <td>0</td>\n",
       "      <td>60</td>\n",
       "      <td>1</td>\n",
       "      <td>263358.03</td>\n",
       "      <td>1.00</td>\n",
       "      <td>139</td>\n",
       "      <td>1</td>\n",
       "      <td>0</td>\n",
       "      <td>215</td>\n",
       "    </tr>\n",
       "    <tr>\n",
       "      <th>260</th>\n",
       "      <td>55.0</td>\n",
       "      <td>0</td>\n",
       "      <td>66</td>\n",
       "      <td>0</td>\n",
       "      <td>40</td>\n",
       "      <td>0</td>\n",
       "      <td>203000.00</td>\n",
       "      <td>1.00</td>\n",
       "      <td>138</td>\n",
       "      <td>1</td>\n",
       "      <td>0</td>\n",
       "      <td>233</td>\n",
       "    </tr>\n",
       "    <tr>\n",
       "      <th>53</th>\n",
       "      <td>70.0</td>\n",
       "      <td>1</td>\n",
       "      <td>69</td>\n",
       "      <td>1</td>\n",
       "      <td>50</td>\n",
       "      <td>1</td>\n",
       "      <td>351000.00</td>\n",
       "      <td>1.00</td>\n",
       "      <td>134</td>\n",
       "      <td>0</td>\n",
       "      <td>0</td>\n",
       "      <td>44</td>\n",
       "    </tr>\n",
       "    <tr>\n",
       "      <th>12</th>\n",
       "      <td>45.0</td>\n",
       "      <td>1</td>\n",
       "      <td>981</td>\n",
       "      <td>0</td>\n",
       "      <td>30</td>\n",
       "      <td>0</td>\n",
       "      <td>136000.00</td>\n",
       "      <td>1.10</td>\n",
       "      <td>137</td>\n",
       "      <td>1</td>\n",
       "      <td>0</td>\n",
       "      <td>11</td>\n",
       "    </tr>\n",
       "    <tr>\n",
       "      <th>179</th>\n",
       "      <td>55.0</td>\n",
       "      <td>0</td>\n",
       "      <td>835</td>\n",
       "      <td>0</td>\n",
       "      <td>40</td>\n",
       "      <td>0</td>\n",
       "      <td>279000.00</td>\n",
       "      <td>0.70</td>\n",
       "      <td>140</td>\n",
       "      <td>1</td>\n",
       "      <td>1</td>\n",
       "      <td>147</td>\n",
       "    </tr>\n",
       "    <tr>\n",
       "      <th>97</th>\n",
       "      <td>70.0</td>\n",
       "      <td>1</td>\n",
       "      <td>59</td>\n",
       "      <td>0</td>\n",
       "      <td>60</td>\n",
       "      <td>0</td>\n",
       "      <td>255000.00</td>\n",
       "      <td>1.10</td>\n",
       "      <td>136</td>\n",
       "      <td>0</td>\n",
       "      <td>0</td>\n",
       "      <td>85</td>\n",
       "    </tr>\n",
       "    <tr>\n",
       "      <th>86</th>\n",
       "      <td>55.0</td>\n",
       "      <td>0</td>\n",
       "      <td>47</td>\n",
       "      <td>0</td>\n",
       "      <td>35</td>\n",
       "      <td>1</td>\n",
       "      <td>173000.00</td>\n",
       "      <td>1.10</td>\n",
       "      <td>137</td>\n",
       "      <td>1</td>\n",
       "      <td>0</td>\n",
       "      <td>79</td>\n",
       "    </tr>\n",
       "    <tr>\n",
       "      <th>235</th>\n",
       "      <td>77.0</td>\n",
       "      <td>1</td>\n",
       "      <td>109</td>\n",
       "      <td>0</td>\n",
       "      <td>50</td>\n",
       "      <td>1</td>\n",
       "      <td>406000.00</td>\n",
       "      <td>1.10</td>\n",
       "      <td>137</td>\n",
       "      <td>1</td>\n",
       "      <td>0</td>\n",
       "      <td>209</td>\n",
       "    </tr>\n",
       "    <tr>\n",
       "      <th>233</th>\n",
       "      <td>53.0</td>\n",
       "      <td>1</td>\n",
       "      <td>707</td>\n",
       "      <td>0</td>\n",
       "      <td>38</td>\n",
       "      <td>0</td>\n",
       "      <td>330000.00</td>\n",
       "      <td>1.40</td>\n",
       "      <td>137</td>\n",
       "      <td>1</td>\n",
       "      <td>1</td>\n",
       "      <td>209</td>\n",
       "    </tr>\n",
       "    <tr>\n",
       "      <th>146</th>\n",
       "      <td>52.0</td>\n",
       "      <td>0</td>\n",
       "      <td>132</td>\n",
       "      <td>0</td>\n",
       "      <td>30</td>\n",
       "      <td>0</td>\n",
       "      <td>218000.00</td>\n",
       "      <td>0.70</td>\n",
       "      <td>136</td>\n",
       "      <td>1</td>\n",
       "      <td>1</td>\n",
       "      <td>112</td>\n",
       "    </tr>\n",
       "    <tr>\n",
       "      <th>237</th>\n",
       "      <td>70.0</td>\n",
       "      <td>0</td>\n",
       "      <td>232</td>\n",
       "      <td>0</td>\n",
       "      <td>30</td>\n",
       "      <td>0</td>\n",
       "      <td>173000.00</td>\n",
       "      <td>1.20</td>\n",
       "      <td>132</td>\n",
       "      <td>1</td>\n",
       "      <td>0</td>\n",
       "      <td>210</td>\n",
       "    </tr>\n",
       "    <tr>\n",
       "      <th>121</th>\n",
       "      <td>66.0</td>\n",
       "      <td>1</td>\n",
       "      <td>68</td>\n",
       "      <td>1</td>\n",
       "      <td>38</td>\n",
       "      <td>1</td>\n",
       "      <td>162000.00</td>\n",
       "      <td>1.00</td>\n",
       "      <td>136</td>\n",
       "      <td>0</td>\n",
       "      <td>0</td>\n",
       "      <td>95</td>\n",
       "    </tr>\n",
       "    <tr>\n",
       "      <th>224</th>\n",
       "      <td>58.0</td>\n",
       "      <td>0</td>\n",
       "      <td>582</td>\n",
       "      <td>1</td>\n",
       "      <td>25</td>\n",
       "      <td>0</td>\n",
       "      <td>504000.00</td>\n",
       "      <td>1.00</td>\n",
       "      <td>138</td>\n",
       "      <td>1</td>\n",
       "      <td>0</td>\n",
       "      <td>205</td>\n",
       "    </tr>\n",
       "    <tr>\n",
       "      <th>61</th>\n",
       "      <td>50.0</td>\n",
       "      <td>0</td>\n",
       "      <td>318</td>\n",
       "      <td>0</td>\n",
       "      <td>40</td>\n",
       "      <td>1</td>\n",
       "      <td>216000.00</td>\n",
       "      <td>2.30</td>\n",
       "      <td>131</td>\n",
       "      <td>0</td>\n",
       "      <td>0</td>\n",
       "      <td>60</td>\n",
       "    </tr>\n",
       "    <tr>\n",
       "      <th>229</th>\n",
       "      <td>72.0</td>\n",
       "      <td>0</td>\n",
       "      <td>211</td>\n",
       "      <td>0</td>\n",
       "      <td>25</td>\n",
       "      <td>0</td>\n",
       "      <td>274000.00</td>\n",
       "      <td>1.20</td>\n",
       "      <td>134</td>\n",
       "      <td>0</td>\n",
       "      <td>0</td>\n",
       "      <td>207</td>\n",
       "    </tr>\n",
       "    <tr>\n",
       "      <th>252</th>\n",
       "      <td>50.0</td>\n",
       "      <td>0</td>\n",
       "      <td>245</td>\n",
       "      <td>0</td>\n",
       "      <td>45</td>\n",
       "      <td>1</td>\n",
       "      <td>274000.00</td>\n",
       "      <td>1.00</td>\n",
       "      <td>133</td>\n",
       "      <td>1</td>\n",
       "      <td>0</td>\n",
       "      <td>215</td>\n",
       "    </tr>\n",
       "    <tr>\n",
       "      <th>2</th>\n",
       "      <td>65.0</td>\n",
       "      <td>0</td>\n",
       "      <td>146</td>\n",
       "      <td>0</td>\n",
       "      <td>20</td>\n",
       "      <td>0</td>\n",
       "      <td>162000.00</td>\n",
       "      <td>1.30</td>\n",
       "      <td>129</td>\n",
       "      <td>1</td>\n",
       "      <td>1</td>\n",
       "      <td>7</td>\n",
       "    </tr>\n",
       "    <tr>\n",
       "      <th>88</th>\n",
       "      <td>44.0</td>\n",
       "      <td>0</td>\n",
       "      <td>84</td>\n",
       "      <td>1</td>\n",
       "      <td>40</td>\n",
       "      <td>1</td>\n",
       "      <td>235000.00</td>\n",
       "      <td>0.70</td>\n",
       "      <td>139</td>\n",
       "      <td>1</td>\n",
       "      <td>0</td>\n",
       "      <td>79</td>\n",
       "    </tr>\n",
       "    <tr>\n",
       "      <th>116</th>\n",
       "      <td>60.0</td>\n",
       "      <td>1</td>\n",
       "      <td>96</td>\n",
       "      <td>1</td>\n",
       "      <td>60</td>\n",
       "      <td>1</td>\n",
       "      <td>271000.00</td>\n",
       "      <td>0.70</td>\n",
       "      <td>136</td>\n",
       "      <td>0</td>\n",
       "      <td>0</td>\n",
       "      <td>94</td>\n",
       "    </tr>\n",
       "    <tr>\n",
       "      <th>39</th>\n",
       "      <td>60.0</td>\n",
       "      <td>0</td>\n",
       "      <td>235</td>\n",
       "      <td>1</td>\n",
       "      <td>38</td>\n",
       "      <td>0</td>\n",
       "      <td>329000.00</td>\n",
       "      <td>3.00</td>\n",
       "      <td>142</td>\n",
       "      <td>0</td>\n",
       "      <td>0</td>\n",
       "      <td>30</td>\n",
       "    </tr>\n",
       "    <tr>\n",
       "      <th>11</th>\n",
       "      <td>62.0</td>\n",
       "      <td>0</td>\n",
       "      <td>231</td>\n",
       "      <td>0</td>\n",
       "      <td>25</td>\n",
       "      <td>1</td>\n",
       "      <td>253000.00</td>\n",
       "      <td>0.90</td>\n",
       "      <td>140</td>\n",
       "      <td>1</td>\n",
       "      <td>1</td>\n",
       "      <td>10</td>\n",
       "    </tr>\n",
       "    <tr>\n",
       "      <th>115</th>\n",
       "      <td>58.0</td>\n",
       "      <td>1</td>\n",
       "      <td>400</td>\n",
       "      <td>0</td>\n",
       "      <td>40</td>\n",
       "      <td>0</td>\n",
       "      <td>164000.00</td>\n",
       "      <td>1.00</td>\n",
       "      <td>139</td>\n",
       "      <td>0</td>\n",
       "      <td>0</td>\n",
       "      <td>91</td>\n",
       "    </tr>\n",
       "    <tr>\n",
       "      <th>189</th>\n",
       "      <td>40.0</td>\n",
       "      <td>0</td>\n",
       "      <td>244</td>\n",
       "      <td>0</td>\n",
       "      <td>45</td>\n",
       "      <td>1</td>\n",
       "      <td>275000.00</td>\n",
       "      <td>0.90</td>\n",
       "      <td>140</td>\n",
       "      <td>0</td>\n",
       "      <td>0</td>\n",
       "      <td>174</td>\n",
       "    </tr>\n",
       "    <tr>\n",
       "      <th>151</th>\n",
       "      <td>62.0</td>\n",
       "      <td>0</td>\n",
       "      <td>30</td>\n",
       "      <td>1</td>\n",
       "      <td>60</td>\n",
       "      <td>1</td>\n",
       "      <td>244000.00</td>\n",
       "      <td>0.90</td>\n",
       "      <td>139</td>\n",
       "      <td>1</td>\n",
       "      <td>0</td>\n",
       "      <td>117</td>\n",
       "    </tr>\n",
       "    <tr>\n",
       "      <th>139</th>\n",
       "      <td>50.0</td>\n",
       "      <td>0</td>\n",
       "      <td>1548</td>\n",
       "      <td>0</td>\n",
       "      <td>30</td>\n",
       "      <td>1</td>\n",
       "      <td>211000.00</td>\n",
       "      <td>0.80</td>\n",
       "      <td>138</td>\n",
       "      <td>1</td>\n",
       "      <td>0</td>\n",
       "      <td>108</td>\n",
       "    </tr>\n",
       "    <tr>\n",
       "      <th>230</th>\n",
       "      <td>60.0</td>\n",
       "      <td>0</td>\n",
       "      <td>166</td>\n",
       "      <td>0</td>\n",
       "      <td>30</td>\n",
       "      <td>0</td>\n",
       "      <td>62000.00</td>\n",
       "      <td>1.70</td>\n",
       "      <td>127</td>\n",
       "      <td>0</td>\n",
       "      <td>0</td>\n",
       "      <td>207</td>\n",
       "    </tr>\n",
       "    <tr>\n",
       "      <th>128</th>\n",
       "      <td>61.0</td>\n",
       "      <td>0</td>\n",
       "      <td>248</td>\n",
       "      <td>0</td>\n",
       "      <td>30</td>\n",
       "      <td>1</td>\n",
       "      <td>267000.00</td>\n",
       "      <td>0.70</td>\n",
       "      <td>136</td>\n",
       "      <td>1</td>\n",
       "      <td>1</td>\n",
       "      <td>104</td>\n",
       "    </tr>\n",
       "    <tr>\n",
       "      <th>14</th>\n",
       "      <td>49.0</td>\n",
       "      <td>1</td>\n",
       "      <td>80</td>\n",
       "      <td>0</td>\n",
       "      <td>30</td>\n",
       "      <td>1</td>\n",
       "      <td>427000.00</td>\n",
       "      <td>1.00</td>\n",
       "      <td>138</td>\n",
       "      <td>0</td>\n",
       "      <td>0</td>\n",
       "      <td>12</td>\n",
       "    </tr>\n",
       "    <tr>\n",
       "      <th>54</th>\n",
       "      <td>60.0</td>\n",
       "      <td>1</td>\n",
       "      <td>260</td>\n",
       "      <td>1</td>\n",
       "      <td>38</td>\n",
       "      <td>0</td>\n",
       "      <td>255000.00</td>\n",
       "      <td>2.20</td>\n",
       "      <td>132</td>\n",
       "      <td>0</td>\n",
       "      <td>1</td>\n",
       "      <td>45</td>\n",
       "    </tr>\n",
       "    <tr>\n",
       "      <th>25</th>\n",
       "      <td>80.0</td>\n",
       "      <td>0</td>\n",
       "      <td>148</td>\n",
       "      <td>1</td>\n",
       "      <td>38</td>\n",
       "      <td>0</td>\n",
       "      <td>149000.00</td>\n",
       "      <td>1.90</td>\n",
       "      <td>144</td>\n",
       "      <td>1</td>\n",
       "      <td>1</td>\n",
       "      <td>23</td>\n",
       "    </tr>\n",
       "    <tr>\n",
       "      <th>154</th>\n",
       "      <td>65.0</td>\n",
       "      <td>1</td>\n",
       "      <td>335</td>\n",
       "      <td>0</td>\n",
       "      <td>35</td>\n",
       "      <td>1</td>\n",
       "      <td>235000.00</td>\n",
       "      <td>0.80</td>\n",
       "      <td>136</td>\n",
       "      <td>0</td>\n",
       "      <td>0</td>\n",
       "      <td>120</td>\n",
       "    </tr>\n",
       "    <tr>\n",
       "      <th>216</th>\n",
       "      <td>70.0</td>\n",
       "      <td>0</td>\n",
       "      <td>1202</td>\n",
       "      <td>0</td>\n",
       "      <td>50</td>\n",
       "      <td>1</td>\n",
       "      <td>358000.00</td>\n",
       "      <td>0.90</td>\n",
       "      <td>141</td>\n",
       "      <td>0</td>\n",
       "      <td>0</td>\n",
       "      <td>196</td>\n",
       "    </tr>\n",
       "    <tr>\n",
       "      <th>70</th>\n",
       "      <td>41.0</td>\n",
       "      <td>0</td>\n",
       "      <td>148</td>\n",
       "      <td>0</td>\n",
       "      <td>40</td>\n",
       "      <td>0</td>\n",
       "      <td>374000.00</td>\n",
       "      <td>0.80</td>\n",
       "      <td>140</td>\n",
       "      <td>1</td>\n",
       "      <td>1</td>\n",
       "      <td>68</td>\n",
       "    </tr>\n",
       "    <tr>\n",
       "      <th>102</th>\n",
       "      <td>80.0</td>\n",
       "      <td>0</td>\n",
       "      <td>898</td>\n",
       "      <td>0</td>\n",
       "      <td>25</td>\n",
       "      <td>0</td>\n",
       "      <td>149000.00</td>\n",
       "      <td>1.10</td>\n",
       "      <td>144</td>\n",
       "      <td>1</td>\n",
       "      <td>1</td>\n",
       "      <td>87</td>\n",
       "    </tr>\n",
       "    <tr>\n",
       "      <th>62</th>\n",
       "      <td>55.0</td>\n",
       "      <td>0</td>\n",
       "      <td>109</td>\n",
       "      <td>0</td>\n",
       "      <td>35</td>\n",
       "      <td>0</td>\n",
       "      <td>254000.00</td>\n",
       "      <td>1.10</td>\n",
       "      <td>139</td>\n",
       "      <td>1</td>\n",
       "      <td>1</td>\n",
       "      <td>60</td>\n",
       "    </tr>\n",
       "    <tr>\n",
       "      <th>103</th>\n",
       "      <td>42.0</td>\n",
       "      <td>0</td>\n",
       "      <td>5209</td>\n",
       "      <td>0</td>\n",
       "      <td>30</td>\n",
       "      <td>0</td>\n",
       "      <td>226000.00</td>\n",
       "      <td>1.00</td>\n",
       "      <td>140</td>\n",
       "      <td>1</td>\n",
       "      <td>1</td>\n",
       "      <td>87</td>\n",
       "    </tr>\n",
       "    <tr>\n",
       "      <th>158</th>\n",
       "      <td>85.0</td>\n",
       "      <td>1</td>\n",
       "      <td>910</td>\n",
       "      <td>0</td>\n",
       "      <td>50</td>\n",
       "      <td>0</td>\n",
       "      <td>235000.00</td>\n",
       "      <td>1.30</td>\n",
       "      <td>134</td>\n",
       "      <td>1</td>\n",
       "      <td>0</td>\n",
       "      <td>121</td>\n",
       "    </tr>\n",
       "    <tr>\n",
       "      <th>150</th>\n",
       "      <td>72.0</td>\n",
       "      <td>0</td>\n",
       "      <td>233</td>\n",
       "      <td>0</td>\n",
       "      <td>45</td>\n",
       "      <td>1</td>\n",
       "      <td>235000.00</td>\n",
       "      <td>2.50</td>\n",
       "      <td>135</td>\n",
       "      <td>0</td>\n",
       "      <td>0</td>\n",
       "      <td>115</td>\n",
       "    </tr>\n",
       "    <tr>\n",
       "      <th>214</th>\n",
       "      <td>65.0</td>\n",
       "      <td>1</td>\n",
       "      <td>135</td>\n",
       "      <td>0</td>\n",
       "      <td>35</td>\n",
       "      <td>1</td>\n",
       "      <td>290000.00</td>\n",
       "      <td>0.80</td>\n",
       "      <td>134</td>\n",
       "      <td>1</td>\n",
       "      <td>0</td>\n",
       "      <td>194</td>\n",
       "    </tr>\n",
       "    <tr>\n",
       "      <th>275</th>\n",
       "      <td>45.0</td>\n",
       "      <td>0</td>\n",
       "      <td>582</td>\n",
       "      <td>0</td>\n",
       "      <td>38</td>\n",
       "      <td>1</td>\n",
       "      <td>422000.00</td>\n",
       "      <td>0.80</td>\n",
       "      <td>137</td>\n",
       "      <td>0</td>\n",
       "      <td>0</td>\n",
       "      <td>245</td>\n",
       "    </tr>\n",
       "    <tr>\n",
       "      <th>135</th>\n",
       "      <td>75.0</td>\n",
       "      <td>0</td>\n",
       "      <td>582</td>\n",
       "      <td>0</td>\n",
       "      <td>40</td>\n",
       "      <td>0</td>\n",
       "      <td>263358.03</td>\n",
       "      <td>1.18</td>\n",
       "      <td>137</td>\n",
       "      <td>1</td>\n",
       "      <td>0</td>\n",
       "      <td>107</td>\n",
       "    </tr>\n",
       "    <tr>\n",
       "      <th>293</th>\n",
       "      <td>63.0</td>\n",
       "      <td>1</td>\n",
       "      <td>103</td>\n",
       "      <td>1</td>\n",
       "      <td>35</td>\n",
       "      <td>0</td>\n",
       "      <td>179000.00</td>\n",
       "      <td>0.90</td>\n",
       "      <td>136</td>\n",
       "      <td>1</td>\n",
       "      <td>1</td>\n",
       "      <td>270</td>\n",
       "    </tr>\n",
       "    <tr>\n",
       "      <th>241</th>\n",
       "      <td>65.0</td>\n",
       "      <td>0</td>\n",
       "      <td>582</td>\n",
       "      <td>1</td>\n",
       "      <td>30</td>\n",
       "      <td>0</td>\n",
       "      <td>249000.00</td>\n",
       "      <td>1.30</td>\n",
       "      <td>136</td>\n",
       "      <td>1</td>\n",
       "      <td>1</td>\n",
       "      <td>212</td>\n",
       "    </tr>\n",
       "    <tr>\n",
       "      <th>182</th>\n",
       "      <td>65.0</td>\n",
       "      <td>0</td>\n",
       "      <td>395</td>\n",
       "      <td>1</td>\n",
       "      <td>25</td>\n",
       "      <td>0</td>\n",
       "      <td>265000.00</td>\n",
       "      <td>1.20</td>\n",
       "      <td>136</td>\n",
       "      <td>1</td>\n",
       "      <td>1</td>\n",
       "      <td>154</td>\n",
       "    </tr>\n",
       "    <tr>\n",
       "      <th>200</th>\n",
       "      <td>63.0</td>\n",
       "      <td>1</td>\n",
       "      <td>1767</td>\n",
       "      <td>0</td>\n",
       "      <td>45</td>\n",
       "      <td>0</td>\n",
       "      <td>73000.00</td>\n",
       "      <td>0.70</td>\n",
       "      <td>137</td>\n",
       "      <td>1</td>\n",
       "      <td>0</td>\n",
       "      <td>186</td>\n",
       "    </tr>\n",
       "    <tr>\n",
       "      <th>44</th>\n",
       "      <td>60.0</td>\n",
       "      <td>1</td>\n",
       "      <td>588</td>\n",
       "      <td>1</td>\n",
       "      <td>60</td>\n",
       "      <td>0</td>\n",
       "      <td>194000.00</td>\n",
       "      <td>1.10</td>\n",
       "      <td>142</td>\n",
       "      <td>0</td>\n",
       "      <td>0</td>\n",
       "      <td>33</td>\n",
       "    </tr>\n",
       "    <tr>\n",
       "      <th>173</th>\n",
       "      <td>50.0</td>\n",
       "      <td>1</td>\n",
       "      <td>115</td>\n",
       "      <td>0</td>\n",
       "      <td>20</td>\n",
       "      <td>0</td>\n",
       "      <td>189000.00</td>\n",
       "      <td>0.80</td>\n",
       "      <td>139</td>\n",
       "      <td>1</td>\n",
       "      <td>0</td>\n",
       "      <td>146</td>\n",
       "    </tr>\n",
       "    <tr>\n",
       "      <th>126</th>\n",
       "      <td>46.0</td>\n",
       "      <td>0</td>\n",
       "      <td>168</td>\n",
       "      <td>1</td>\n",
       "      <td>17</td>\n",
       "      <td>1</td>\n",
       "      <td>271000.00</td>\n",
       "      <td>2.10</td>\n",
       "      <td>124</td>\n",
       "      <td>0</td>\n",
       "      <td>0</td>\n",
       "      <td>100</td>\n",
       "    </tr>\n",
       "    <tr>\n",
       "      <th>155</th>\n",
       "      <td>60.0</td>\n",
       "      <td>1</td>\n",
       "      <td>231</td>\n",
       "      <td>1</td>\n",
       "      <td>25</td>\n",
       "      <td>0</td>\n",
       "      <td>194000.00</td>\n",
       "      <td>1.70</td>\n",
       "      <td>140</td>\n",
       "      <td>1</td>\n",
       "      <td>0</td>\n",
       "      <td>120</td>\n",
       "    </tr>\n",
       "    <tr>\n",
       "      <th>273</th>\n",
       "      <td>42.0</td>\n",
       "      <td>0</td>\n",
       "      <td>64</td>\n",
       "      <td>0</td>\n",
       "      <td>40</td>\n",
       "      <td>0</td>\n",
       "      <td>189000.00</td>\n",
       "      <td>0.70</td>\n",
       "      <td>140</td>\n",
       "      <td>1</td>\n",
       "      <td>0</td>\n",
       "      <td>245</td>\n",
       "    </tr>\n",
       "    <tr>\n",
       "      <th>250</th>\n",
       "      <td>50.0</td>\n",
       "      <td>0</td>\n",
       "      <td>2522</td>\n",
       "      <td>0</td>\n",
       "      <td>30</td>\n",
       "      <td>1</td>\n",
       "      <td>404000.00</td>\n",
       "      <td>0.50</td>\n",
       "      <td>139</td>\n",
       "      <td>0</td>\n",
       "      <td>0</td>\n",
       "      <td>214</td>\n",
       "    </tr>\n",
       "    <tr>\n",
       "      <th>123</th>\n",
       "      <td>60.0</td>\n",
       "      <td>1</td>\n",
       "      <td>582</td>\n",
       "      <td>0</td>\n",
       "      <td>30</td>\n",
       "      <td>1</td>\n",
       "      <td>127000.00</td>\n",
       "      <td>0.90</td>\n",
       "      <td>145</td>\n",
       "      <td>0</td>\n",
       "      <td>0</td>\n",
       "      <td>95</td>\n",
       "    </tr>\n",
       "    <tr>\n",
       "      <th>52</th>\n",
       "      <td>60.0</td>\n",
       "      <td>0</td>\n",
       "      <td>3964</td>\n",
       "      <td>1</td>\n",
       "      <td>62</td>\n",
       "      <td>0</td>\n",
       "      <td>263358.03</td>\n",
       "      <td>6.80</td>\n",
       "      <td>146</td>\n",
       "      <td>0</td>\n",
       "      <td>0</td>\n",
       "      <td>43</td>\n",
       "    </tr>\n",
       "    <tr>\n",
       "      <th>208</th>\n",
       "      <td>60.0</td>\n",
       "      <td>1</td>\n",
       "      <td>2281</td>\n",
       "      <td>1</td>\n",
       "      <td>40</td>\n",
       "      <td>0</td>\n",
       "      <td>283000.00</td>\n",
       "      <td>1.00</td>\n",
       "      <td>141</td>\n",
       "      <td>0</td>\n",
       "      <td>0</td>\n",
       "      <td>187</td>\n",
       "    </tr>\n",
       "    <tr>\n",
       "      <th>22</th>\n",
       "      <td>68.0</td>\n",
       "      <td>1</td>\n",
       "      <td>220</td>\n",
       "      <td>0</td>\n",
       "      <td>35</td>\n",
       "      <td>1</td>\n",
       "      <td>289000.00</td>\n",
       "      <td>0.90</td>\n",
       "      <td>140</td>\n",
       "      <td>1</td>\n",
       "      <td>1</td>\n",
       "      <td>20</td>\n",
       "    </tr>\n",
       "    <tr>\n",
       "      <th>256</th>\n",
       "      <td>65.0</td>\n",
       "      <td>0</td>\n",
       "      <td>326</td>\n",
       "      <td>0</td>\n",
       "      <td>38</td>\n",
       "      <td>0</td>\n",
       "      <td>294000.00</td>\n",
       "      <td>1.70</td>\n",
       "      <td>139</td>\n",
       "      <td>0</td>\n",
       "      <td>0</td>\n",
       "      <td>220</td>\n",
       "    </tr>\n",
       "    <tr>\n",
       "      <th>41</th>\n",
       "      <td>50.0</td>\n",
       "      <td>0</td>\n",
       "      <td>124</td>\n",
       "      <td>1</td>\n",
       "      <td>30</td>\n",
       "      <td>1</td>\n",
       "      <td>153000.00</td>\n",
       "      <td>1.20</td>\n",
       "      <td>136</td>\n",
       "      <td>0</td>\n",
       "      <td>1</td>\n",
       "      <td>32</td>\n",
       "    </tr>\n",
       "  </tbody>\n",
       "</table>\n",
       "</div>"
      ],
      "text/plain": [
       "      age  anaemia  creatinine_phosphokinase  diabetes  ejection_fraction  \\\n",
       "69   65.0        0                       113         1                 25   \n",
       "77   42.0        0                       102         1                 40   \n",
       "278  50.0        1                      1051         1                 30   \n",
       "254  53.0        1                       446         0                 60   \n",
       "260  55.0        0                        66         0                 40   \n",
       "53   70.0        1                        69         1                 50   \n",
       "12   45.0        1                       981         0                 30   \n",
       "179  55.0        0                       835         0                 40   \n",
       "97   70.0        1                        59         0                 60   \n",
       "86   55.0        0                        47         0                 35   \n",
       "235  77.0        1                       109         0                 50   \n",
       "233  53.0        1                       707         0                 38   \n",
       "146  52.0        0                       132         0                 30   \n",
       "237  70.0        0                       232         0                 30   \n",
       "121  66.0        1                        68         1                 38   \n",
       "224  58.0        0                       582         1                 25   \n",
       "61   50.0        0                       318         0                 40   \n",
       "229  72.0        0                       211         0                 25   \n",
       "252  50.0        0                       245         0                 45   \n",
       "2    65.0        0                       146         0                 20   \n",
       "88   44.0        0                        84         1                 40   \n",
       "116  60.0        1                        96         1                 60   \n",
       "39   60.0        0                       235         1                 38   \n",
       "11   62.0        0                       231         0                 25   \n",
       "115  58.0        1                       400         0                 40   \n",
       "189  40.0        0                       244         0                 45   \n",
       "151  62.0        0                        30         1                 60   \n",
       "139  50.0        0                      1548         0                 30   \n",
       "230  60.0        0                       166         0                 30   \n",
       "128  61.0        0                       248         0                 30   \n",
       "14   49.0        1                        80         0                 30   \n",
       "54   60.0        1                       260         1                 38   \n",
       "25   80.0        0                       148         1                 38   \n",
       "154  65.0        1                       335         0                 35   \n",
       "216  70.0        0                      1202         0                 50   \n",
       "70   41.0        0                       148         0                 40   \n",
       "102  80.0        0                       898         0                 25   \n",
       "62   55.0        0                       109         0                 35   \n",
       "103  42.0        0                      5209         0                 30   \n",
       "158  85.0        1                       910         0                 50   \n",
       "150  72.0        0                       233         0                 45   \n",
       "214  65.0        1                       135         0                 35   \n",
       "275  45.0        0                       582         0                 38   \n",
       "135  75.0        0                       582         0                 40   \n",
       "293  63.0        1                       103         1                 35   \n",
       "241  65.0        0                       582         1                 30   \n",
       "182  65.0        0                       395         1                 25   \n",
       "200  63.0        1                      1767         0                 45   \n",
       "44   60.0        1                       588         1                 60   \n",
       "173  50.0        1                       115         0                 20   \n",
       "126  46.0        0                       168         1                 17   \n",
       "155  60.0        1                       231         1                 25   \n",
       "273  42.0        0                        64         0                 40   \n",
       "250  50.0        0                      2522         0                 30   \n",
       "123  60.0        1                       582         0                 30   \n",
       "52   60.0        0                      3964         1                 62   \n",
       "208  60.0        1                      2281         1                 40   \n",
       "22   68.0        1                       220         0                 35   \n",
       "256  65.0        0                       326         0                 38   \n",
       "41   50.0        0                       124         1                 30   \n",
       "\n",
       "     high_blood_pressure  platelets  serum_creatinine  serum_sodium  sex  \\\n",
       "69                     0  497000.00              1.83           135    1   \n",
       "77                     0  237000.00              1.20           140    1   \n",
       "278                    0  232000.00              0.70           136    0   \n",
       "254                    1  263358.03              1.00           139    1   \n",
       "260                    0  203000.00              1.00           138    1   \n",
       "53                     1  351000.00              1.00           134    0   \n",
       "12                     0  136000.00              1.10           137    1   \n",
       "179                    0  279000.00              0.70           140    1   \n",
       "97                     0  255000.00              1.10           136    0   \n",
       "86                     1  173000.00              1.10           137    1   \n",
       "235                    1  406000.00              1.10           137    1   \n",
       "233                    0  330000.00              1.40           137    1   \n",
       "146                    0  218000.00              0.70           136    1   \n",
       "237                    0  173000.00              1.20           132    1   \n",
       "121                    1  162000.00              1.00           136    0   \n",
       "224                    0  504000.00              1.00           138    1   \n",
       "61                     1  216000.00              2.30           131    0   \n",
       "229                    0  274000.00              1.20           134    0   \n",
       "252                    1  274000.00              1.00           133    1   \n",
       "2                      0  162000.00              1.30           129    1   \n",
       "88                     1  235000.00              0.70           139    1   \n",
       "116                    1  271000.00              0.70           136    0   \n",
       "39                     0  329000.00              3.00           142    0   \n",
       "11                     1  253000.00              0.90           140    1   \n",
       "115                    0  164000.00              1.00           139    0   \n",
       "189                    1  275000.00              0.90           140    0   \n",
       "151                    1  244000.00              0.90           139    1   \n",
       "139                    1  211000.00              0.80           138    1   \n",
       "230                    0   62000.00              1.70           127    0   \n",
       "128                    1  267000.00              0.70           136    1   \n",
       "14                     1  427000.00              1.00           138    0   \n",
       "54                     0  255000.00              2.20           132    0   \n",
       "25                     0  149000.00              1.90           144    1   \n",
       "154                    1  235000.00              0.80           136    0   \n",
       "216                    1  358000.00              0.90           141    0   \n",
       "70                     0  374000.00              0.80           140    1   \n",
       "102                    0  149000.00              1.10           144    1   \n",
       "62                     0  254000.00              1.10           139    1   \n",
       "103                    0  226000.00              1.00           140    1   \n",
       "158                    0  235000.00              1.30           134    1   \n",
       "150                    1  235000.00              2.50           135    0   \n",
       "214                    1  290000.00              0.80           134    1   \n",
       "275                    1  422000.00              0.80           137    0   \n",
       "135                    0  263358.03              1.18           137    1   \n",
       "293                    0  179000.00              0.90           136    1   \n",
       "241                    0  249000.00              1.30           136    1   \n",
       "182                    0  265000.00              1.20           136    1   \n",
       "200                    0   73000.00              0.70           137    1   \n",
       "44                     0  194000.00              1.10           142    0   \n",
       "173                    0  189000.00              0.80           139    1   \n",
       "126                    1  271000.00              2.10           124    0   \n",
       "155                    0  194000.00              1.70           140    1   \n",
       "273                    0  189000.00              0.70           140    1   \n",
       "250                    1  404000.00              0.50           139    0   \n",
       "123                    1  127000.00              0.90           145    0   \n",
       "52                     0  263358.03              6.80           146    0   \n",
       "208                    0  283000.00              1.00           141    0   \n",
       "22                     1  289000.00              0.90           140    1   \n",
       "256                    0  294000.00              1.70           139    0   \n",
       "41                     1  153000.00              1.20           136    0   \n",
       "\n",
       "     smoking  time  \n",
       "69         0    67  \n",
       "77         0    74  \n",
       "278        0   246  \n",
       "254        0   215  \n",
       "260        0   233  \n",
       "53         0    44  \n",
       "12         0    11  \n",
       "179        1   147  \n",
       "97         0    85  \n",
       "86         0    79  \n",
       "235        0   209  \n",
       "233        1   209  \n",
       "146        1   112  \n",
       "237        0   210  \n",
       "121        0    95  \n",
       "224        0   205  \n",
       "61         0    60  \n",
       "229        0   207  \n",
       "252        0   215  \n",
       "2          1     7  \n",
       "88         0    79  \n",
       "116        0    94  \n",
       "39         0    30  \n",
       "11         1    10  \n",
       "115        0    91  \n",
       "189        0   174  \n",
       "151        0   117  \n",
       "139        0   108  \n",
       "230        0   207  \n",
       "128        1   104  \n",
       "14         0    12  \n",
       "54         1    45  \n",
       "25         1    23  \n",
       "154        0   120  \n",
       "216        0   196  \n",
       "70         1    68  \n",
       "102        1    87  \n",
       "62         1    60  \n",
       "103        1    87  \n",
       "158        0   121  \n",
       "150        0   115  \n",
       "214        0   194  \n",
       "275        0   245  \n",
       "135        0   107  \n",
       "293        1   270  \n",
       "241        1   212  \n",
       "182        1   154  \n",
       "200        0   186  \n",
       "44         0    33  \n",
       "173        0   146  \n",
       "126        0   100  \n",
       "155        0   120  \n",
       "273        0   245  \n",
       "250        0   214  \n",
       "123        0    95  \n",
       "52         0    43  \n",
       "208        0   187  \n",
       "22         1    20  \n",
       "256        0   220  \n",
       "41         1    32  "
      ]
     },
     "execution_count": 56,
     "metadata": {},
     "output_type": "execute_result"
    }
   ],
   "source": [
    "X_test"
   ]
  },
  {
   "cell_type": "code",
   "execution_count": 57,
   "metadata": {},
   "outputs": [
    {
     "data": {
      "text/plain": [
       "Index(['age', 'anaemia', 'creatinine_phosphokinase', 'diabetes',\n",
       "       'ejection_fraction', 'high_blood_pressure', 'platelets',\n",
       "       'serum_creatinine', 'serum_sodium', 'sex', 'smoking', 'time'],\n",
       "      dtype='object')"
      ]
     },
     "execution_count": 57,
     "metadata": {},
     "output_type": "execute_result"
    }
   ],
   "source": [
    "X_test.columns"
   ]
  },
  {
   "cell_type": "code",
   "execution_count": null,
   "metadata": {},
   "outputs": [],
   "source": []
  }
 ],
 "metadata": {
  "kernelspec": {
   "display_name": "Python 3 (ipykernel)",
   "language": "python",
   "name": "python3"
  },
  "language_info": {
   "codemirror_mode": {
    "name": "ipython",
    "version": 3
   },
   "file_extension": ".py",
   "mimetype": "text/x-python",
   "name": "python",
   "nbconvert_exporter": "python",
   "pygments_lexer": "ipython3",
   "version": "3.7.13"
  },
  "vscode": {
   "interpreter": {
    "hash": "a077222d77dfe082b8f1dd562ad70e458ac2ab76993a0b248ab0476e32e9e8dd"
   }
  }
 },
 "nbformat": 4,
 "nbformat_minor": 2
}
